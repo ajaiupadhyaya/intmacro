{
 "cells": [
  {
   "cell_type": "code",
   "execution_count": null,
   "id": "b4d6c73d",
   "metadata": {
    "tags": [
     "thebe-init",
     "thebe-init",
     "hide-input"
    ]
   },
   "outputs": [],
   "source": [
    ":tags: [thebe-init]\n",
    "from ipywidgets import interact, widgets\n",
    "interact(lambda x: x**2, x=widgets.IntSlider(min=0, max=10));"
   ]
  },
  {
   "cell_type": "code",
   "execution_count": 1,
   "id": "5a3e4da5",
   "metadata": {
    "tags": [
     "thebe-init",
     "hide-input"
    ]
   },
   "outputs": [
    {
     "data": {
      "application/vnd.jupyter.widget-view+json": {
       "model_id": "8525f05c8c6846469f3a9cf77ea6eb73",
       "version_major": 2,
       "version_minor": 0
      },
      "text/plain": [
       "interactive(children=(FloatSlider(value=2.0, description='P₀ Tacos', max=5.0, min=1.0, step=0.5), FloatSlider(…"
      ]
     },
     "metadata": {},
     "output_type": "display_data"
    }
   ],
   "source": [
    "import matplotlib.pyplot as plt\n",
    "from ipywidgets import interact, FloatSlider\n",
    "\n",
    "def chain_gdp(p_taco_0=2, p_tab_0=500, q_taco_0=100, q_tab_0=4,\n",
    "              p_taco_1=3, p_tab_1=400, q_taco_1=130, q_tab_1=6):\n",
    "\n",
    "    # GDPs by formula\n",
    "    nom_0 = p_taco_0*q_taco_0 + p_tab_0*q_tab_0\n",
    "    nom_1 = p_taco_1*q_taco_1 + p_tab_1*q_tab_1\n",
    "\n",
    "    laspeyres = (p_taco_0*q_taco_1 + p_tab_0*q_tab_1) / nom_0\n",
    "    paasche = nom_1 / (p_taco_1*q_taco_0 + p_tab_1*q_tab_0)\n",
    "    chained = (laspeyres * paasche) ** 0.5\n",
    "\n",
    "    g_lasp = (laspeyres - 1) * 100\n",
    "    g_pa = (paasche - 1) * 100\n",
    "    g_chain = (chained - 1) * 100\n",
    "\n",
    "    # Display table\n",
    "    print(\"📊 Real GDP Growth Comparisons:\")\n",
    "    print(f\"Laspeyres (Base Year Prices): {g_lasp:.2f}%\")\n",
    "    print(f\"Paasche  (Current Year Prices): {g_pa:.2f}%\")\n",
    "    print(f\"Chain-Weighted (Avg): {g_chain:.2f}%\")\n",
    "\n",
    "    # Plot\n",
    "    methods = ['Laspeyres', 'Paasche', 'Chain-Weighted']\n",
    "    values = [g_lasp, g_pa, g_chain]\n",
    "    colors = ['#3498db', '#e67e22', '#2ecc71']\n",
    "\n",
    "    plt.figure(figsize=(7,4))\n",
    "    bars = plt.bar(methods, values, color=colors)\n",
    "    for i, val in enumerate(values):\n",
    "        plt.text(i, val + 0.5, f\"{val:.2f}%\", ha='center')\n",
    "    plt.title(\"GDP Growth by Index Method\")\n",
    "    plt.ylabel(\"Growth Rate (%)\")\n",
    "    plt.axhline(0, color='black', linewidth=0.5)\n",
    "    plt.grid(axis='y', linestyle='--', alpha=0.5)\n",
    "    plt.tight_layout()\n",
    "    plt.show()\n",
    "\n",
    "interact(chain_gdp,\n",
    "         p_taco_0=FloatSlider(value=2, min=1, max=5, step=0.5, description='P₀ Tacos'),\n",
    "         p_tab_0=FloatSlider(value=500, min=100, max=1000, step=50, description='P₀ Tablets'),\n",
    "         q_taco_0=FloatSlider(value=100, min=50, max=200, step=10, description='Q₀ Tacos'),\n",
    "         q_tab_0=FloatSlider(value=4, min=1, max=10, step=1, description='Q₀ Tablets'),\n",
    "         p_taco_1=FloatSlider(value=3, min=1, max=5, step=0.5, description='P₁ Tacos'),\n",
    "         p_tab_1=FloatSlider(value=400, min=100, max=1000, step=50, description='P₁ Tablets'),\n",
    "         q_taco_1=FloatSlider(value=130, min=50, max=200, step=10, description='Q₁ Tacos'),\n",
    "         q_tab_1=FloatSlider(value=6, min=1, max=10, step=1, description='Q₁ Tablets'));"
   ]
  },
  {
   "cell_type": "markdown",
   "id": "960efa5c",
   "metadata": {},
   "source": [
    "# 🧺 Many Goods & Chain-Weighted Real GDP\n",
    "\n",
    "Measuring real GDP growth becomes tricky when:\n",
    "- There are **many goods**\n",
    "- Prices change **at different rates**\n",
    "- Consumption patterns evolve\n",
    "\n",
    "\n",
    "\n",
    "# 🧠 Index Options\n",
    "\n",
    "| Method | Idea | Bias |\n",
    "|--------|------|------|\n",
    "| **Laspeyres** | Base-year prices | Overstates growth |\n",
    "| **Paasche** | Current-year prices | Understates growth |\n",
    "| **Chain-weighted** | Avg of both | Best balance ✅\n",
    "\n",
    "We use these to convert **nominal GDP** into **real GDP**.\n",
    "\n",
    "# 💡 Example\n",
    "\n",
    "Say in Year 0 and Year 1:\n",
    "- Tacos 🍽 rise in quantity and price\n",
    "- Tablets 💻 drop in price but rise in quantity\n",
    "\n",
    "The two indexes may give very **different growth rates** depending on the price base used.\n"
   ]
  }
 ],
 "metadata": {
  "kernelspec": {
   "display_name": "Python (solow-env)",
   "language": "python",
   "name": "solow-env"
  },
  "language_info": {
   "codemirror_mode": {
    "name": "ipython",
    "version": 3
   },
   "file_extension": ".py",
   "mimetype": "text/x-python",
   "name": "python",
   "nbconvert_exporter": "python",
   "pygments_lexer": "ipython3",
   "version": "3.13.3"
  }
 },
 "nbformat": 4,
 "nbformat_minor": 5
}
