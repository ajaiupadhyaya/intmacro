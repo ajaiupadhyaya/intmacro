{
 "cells": [
  {
   "cell_type": "code",
   "execution_count": 1,
   "id": "4c771997",
   "metadata": {
    "tags": [
     "thebe-init",
     "hide-input"
    ]
   },
   "outputs": [
    {
     "data": {
      "application/vnd.jupyter.widget-view+json": {
       "model_id": "c6a0949a654046bdab0e33c4cd3227c0",
       "version_major": 2,
       "version_minor": 0
      },
      "text/plain": [
       "interactive(children=(IntSlider(value=0, description='x', max=10), Output()), _dom_classes=('widget-interact',…"
      ]
     },
     "metadata": {},
     "output_type": "display_data"
    }
   ],
   "source": [
    "from ipywidgets import interact, widgets\n",
    "interact(lambda x: x**2, x=widgets.IntSlider(min=0, max=10));"
   ]
  },
  {
   "cell_type": "markdown",
   "id": "8ff8bebe",
   "metadata": {},
   "source": [
    "# 📈 Scale Effects in the Romer Model\n",
    "\n",
    "A key prediction of the basic Romer model of endogenous growth ($\\dot{A}/A = \\delta_A L_A$) is the presence of **scale effects**. This means that the long-run growth rate of the economy is predicted to be positively related to the *size* (or scale) of the economy, typically measured by the total population or labor force ($L$).\n",
    "\n",
    "This notebook visualizes this relationship."
   ]
  },
  {
   "cell_type": "markdown",
   "id": "7b8ee9a3",
   "metadata": {},
   "source": [
    "# ⚙️ Derivation and Intuition\n",
    "\n",
    "Recall the key equations from the simple Romer model:\n",
    "* Idea Growth Rate: $g_A = \\dot{A}/A = \\delta_A L_A$\n",
    "* Labor Allocation: $L_A = \\omega L$ (where $\\omega$ is the constant fraction of labor in R&D)\n",
    "* Output Per Capita Growth: $g_{Y/L} = g_A$\n",
    "\n",
    "Substituting the labor allocation into the growth rate equation gives:\n",
    "$$ g_A = g_{Y/L} = \\delta_A \\omega L $$\n",
    "\n",
    "**The Scale Effect:** This equation directly implies that the long-run per capita growth rate ($g_{Y/L}$) is proportional to the total labor force ($L$).\n",
    "* **Intuition:** More people ($L$) means more potential researchers ($L_A = \\omega L$). More researchers lead to a faster rate of idea creation ($g_A$), which drives faster growth in output per person ($g_{Y/L}$).\n",
    "\n",
    "**Prediction:** Larger countries (higher $L$) should have permanently higher per capita growth rates than smaller countries, assuming they have the same R&D productivity ($\\delta_A$) and R&D share ($\\omega$)."
   ]
  },
  {
   "cell_type": "markdown",
   "id": "99b24d1d",
   "metadata": {},
   "source": [
    "# 🌍 Empirical Evidence and Model Modifications\n",
    "\n",
    "The strong scale effect predicted by this simple model is **not strongly supported by empirical evidence**. While larger markets might offer some advantages, we don't observe that large countries like China or India consistently grew much faster than smaller developed economies throughout history *solely* because of their size. Growth rates seem more independent of population size in the long run.\n",
    "\n",
    "This has led to modifications of the Romer model, primarily by adjusting the idea production function:\n",
    "\n",
    "* **\"Fishing Out\" / Dilution ($\\phi < 1$):** $\\dot{A} = \\delta_A L_A A^{\\phi}$. If $\\phi < 1$, the exponent on $A$ makes it harder to find new ideas as the stock of knowledge grows. This can lead to a BGP where growth depends on population *growth* ($n$) rather than population *level* ($L$). This is characteristic of \"semi-endogenous\" growth models (like the Jones model).\n",
    "* **Standing on Shoulders ($\\phi > 1$):** If $\\phi > 1$, existing ideas make future research *more* productive, potentially leading to accelerating growth.\n",
    "\n",
    "The simulation below plots the relationship $g_Y = \\delta_A \\omega L$ predicted by the *simple* model, illustrating the scale effect concept."
   ]
  },
  {
   "cell_type": "code",
   "execution_count": 2,
   "id": "c39a7b78",
   "metadata": {
    "tags": [
     "hide-input"
    ]
   },
   "outputs": [
    {
     "data": {
      "application/vnd.jupyter.widget-view+json": {
       "model_id": "a1dc44e2ff1c4609981a1dab27b52039",
       "version_major": 2,
       "version_minor": 0
      },
      "text/plain": [
       "interactive(children=(FloatSlider(value=0.0005, description='R&D Productivity (δA):', layout=Layout(width='95%…"
      ]
     },
     "metadata": {},
     "output_type": "display_data"
    }
   ],
   "source": [
    "# Import necessary libraries\n",
    "import numpy as np\n",
    "import matplotlib.pyplot as plt\n",
    "from ipywidgets import interact, FloatSlider, IntSlider, Layout\n",
    "from IPython.display import display, Markdown\n",
    "import warnings\n",
    "\n",
    "# Optional: Use a specific style\n",
    "try:\n",
    "    plt.style.use('seaborn-v0_8-whitegrid')\n",
    "except IOError:\n",
    "    pass # Use default if style not found\n",
    "\n",
    "def plot_scale_effects(delta_A=0.0005, omega=0.1, min_L=10.0, max_L=1000.0, num_points=30):\n",
    "    \"\"\"\n",
    "    Plots the relationship between population size (L) and the predicted\n",
    "    long-run growth rate (gY = delta_A * omega * L) in the simple Romer model.\n",
    "\n",
    "    Args:\n",
    "        delta_A (float): Productivity of R&D workers.\n",
    "        omega (float): Fraction of labor force in R&D.\n",
    "        min_L (float): Minimum population/labor force size to plot.\n",
    "        max_L (float): Maximum population/labor force size to plot.\n",
    "        num_points (int): Number of points (countries) to simulate along the range.\n",
    "    \"\"\"\n",
    "    # Input validation\n",
    "    num_points = int(num_points)\n",
    "    if num_points < 2: num_points = 2\n",
    "    min_L = max(min_L, 1)\n",
    "    max_L = max(max_L, min_L + 1)\n",
    "    delta_A = max(delta_A, 0)\n",
    "    omega = np.clip(omega, 0.01, 0.99)\n",
    "\n",
    "    # Generate a range of population sizes (L)\n",
    "    L_values = np.linspace(min_L, max_L, num_points)\n",
    "\n",
    "    # Calculate the predicted growth rate for each L\n",
    "    # gY = gA = delta_A * omega * L\n",
    "    gY_values = delta_A * omega * L_values\n",
    "\n",
    "    # --- Plotting ---\n",
    "    fig, axes = plt.subplots(1, 2, figsize=(14, 6))\n",
    "\n",
    "    # Plot 1: Growth Rate vs Population (Linear Scale)\n",
    "    axes[0].plot(L_values, gY_values * 100, marker='o', linestyle='-', color='purple', markersize=6)\n",
    "    axes[0].set_title(\"Scale Effect: Growth Rate vs Population (Linear)\")\n",
    "    axes[0].set_xlabel(\"Population / Labor Force (L)\")\n",
    "    axes[0].set_ylabel(\"Predicted Growth Rate (gY %)\")\n",
    "    axes[0].grid(True, linestyle='--', alpha=0.7)\n",
    "    axes[0].yaxis.set_major_formatter(plt.FuncFormatter(lambda y, _: f'{y:.2f}%'))\n",
    "    axes[0].set_xlim(left=0)\n",
    "    axes[0].set_ylim(bottom=0)\n",
    "\n",
    "    # Plot 2: Growth Rate vs Log Population\n",
    "    log_L_values = np.log(L_values)\n",
    "    axes[1].plot(log_L_values, gY_values * 100, marker='o', linestyle='-', color='teal', markersize=6)\n",
    "    axes[1].set_title(\"Scale Effect: Growth Rate vs Log Population\")\n",
    "    axes[1].set_xlabel(\"Log Population / Labor Force (log L)\")\n",
    "    axes[1].set_ylabel(\"Predicted Growth Rate (gY %)\")\n",
    "    axes[1].grid(True, linestyle='--', alpha=0.7)\n",
    "    axes[1].yaxis.set_major_formatter(plt.FuncFormatter(lambda y, _: f'{y:.2f}%'))\n",
    "    axes[1].set_ylim(bottom=0)\n",
    "\n",
    "\n",
    "    fig.suptitle(f\"Romer Model Scale Effect: gY = δA * ω * L (δA={delta_A:.4f}, ω={omega:.2f})\", fontsize=14, y=1.0)\n",
    "    plt.tight_layout(rect=[0, 0, 1, 0.96])\n",
    "    plt.show()\n",
    "\n",
    "    # --- Display Equation ---\n",
    "    summary_md = f\"\"\"\n",
    "    ### ⚙️ Scale Effect Equation:\n",
    "\n",
    "    In this simple Romer model, the predicted long-run growth rate of output per capita ($g_{{Y/L}}$) is directly proportional to the size of the labor force ($L$):\n",
    "\n",
    "    $$ g_{{Y/L}} = g_A = \\\\delta_A \\\\omega L $$\n",
    "\n",
    "    * This implies larger countries should grow faster, all else equal.\n",
    "    * The plot shows this linear relationship between $L$ and $g_Y$. Plotting against $\\\\log(L)$ shows the accelerating nature on a log scale for $L$.\n",
    "    \"\"\"\n",
    "    display(Markdown(summary_md))\n",
    "\n",
    "\n",
    "# --- Create Interactive Widgets ---\n",
    "style = {'description_width': 'initial'}\n",
    "layout = Layout(width='95%')\n",
    "\n",
    "interact(\n",
    "    plot_scale_effects,\n",
    "    delta_A=FloatSlider(value=0.0005, min=0.0, max=0.005, step=0.0001, description='R&D Productivity (δA):', style=style, layout=layout, readout_format='.4f'),\n",
    "    omega=FloatSlider(value=0.1, min=0.01, max=0.5, step=0.01, description='R&D Share (omega ω):', style=style, layout=layout, readout_format='.2f'),\n",
    "    min_L=FloatSlider(value=10.0, min=1, max=100, step=1, description='Min Population (L):', style=style, layout=layout, readout_format='.0f'),\n",
    "    max_L=FloatSlider(value=1000.0, min=100, max=5000, step=50, description='Max Population (L):', style=style, layout=layout, readout_format='.0f'),\n",
    "    num_points=IntSlider(value=30, min=5, max=100, step=5, description='# Points (Countries):', style=style, layout=layout)\n",
    ");\n"
   ]
  },
  {
   "cell_type": "markdown",
   "id": "73dbf5f3",
   "metadata": {},
   "source": [
    "# 📘 Scale Effects Hypothesis (Romer, GrowthEcon Ch. 7.4)\n",
    "\n",
    "From the Romer model:\n",
    "\\[\n",
    "g_Y = z \\cdot \\omega \\cdot L\n",
    "\\]\n",
    "\n",
    "- More people → more researchers → faster growth\n",
    "- This predicts a **positive relationship** between \\( \\log(L) \\) and \\( g_Y \\)\n",
    "\n",
    "🔑 **Key Insight**:  \n",
    "Scale effects mean large countries should grow faster — but this is debated in modern growth theory.\n",
    "\n",
    "**Sources**:  \n",
    "- GrowthEcon [Ch. 7.4](https://growthecon.com/StudyGuide/romer-scale.html)  \n",
    "- Charles Jones, *Macroeconomics*, Ch. 8"
   ]
  }
 ],
 "metadata": {
  "kernelspec": {
   "display_name": "Python (solow-env)",
   "language": "python",
   "name": "solow-env"
  },
  "language_info": {
   "codemirror_mode": {
    "name": "ipython",
    "version": 3
   },
   "file_extension": ".py",
   "mimetype": "text/x-python",
   "name": "python",
   "nbconvert_exporter": "python",
   "pygments_lexer": "ipython3",
   "version": "3.13.3"
  },
  "tags": [
   "thebe-init"
  ]
 },
 "nbformat": 4,
 "nbformat_minor": 5
}
