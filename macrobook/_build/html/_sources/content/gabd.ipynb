{
 "cells": [
  {
   "cell_type": "code",
   "execution_count": 7,
   "id": "100d49fc",
   "metadata": {
    "tags": [
     "thebe-init",
     "hide-input"
    ]
   },
   "outputs": [
    {
     "data": {
      "application/vnd.jupyter.widget-view+json": {
       "model_id": "1379ef6b71104c9db7795dc3ec64bf1f",
       "version_major": 2,
       "version_minor": 0
      },
      "text/plain": [
       "interactive(children=(IntSlider(value=0, description='x', max=10), Output()), _dom_classes=('widget-interact',…"
      ]
     },
     "metadata": {},
     "output_type": "display_data"
    }
   ],
   "source": [
    "from ipywidgets import interact, widgets\n",
    "interact(lambda x: x**2, x=widgets.IntSlider(min=0, max=10));"
   ]
  },
  {
   "cell_type": "markdown",
   "id": "89983554",
   "metadata": {},
   "source": [
    "# 📊 Growth Accounting: Decomposing Economic Growth\n",
    "\n",
    "Where does economic growth come from? Growth accounting is a technique used to break down the growth rate of total output ($Y$) into contributions from the growth rates of measurable inputs – typically capital ($K$) and labor ($L$) – and a residual component attributed to technological progress or efficiency gains, known as Total Factor Productivity (TFP) growth ($A$).\n",
    "\n",
    "Assuming a Cobb-Douglas production function with constant returns to scale:\n",
    "$$Y = A K^{\\alpha} L^{1 - \\alpha}$$\n",
    "\n",
    "We can take logarithms and differentiate with respect to time (or approximate using discrete changes) to arrive at the growth accounting equation:\n",
    "\n",
    "$$g_Y = \\alpha g_K + (1 - \\alpha) g_L + g_A$$\n",
    "\n",
    "Where:\n",
    "- $g_Y = \\frac{\\dot{Y}}{Y}$ is the growth rate of output.\n",
    "- $g_K = \\frac{\\dot{K}}{K}$ is the growth rate of capital.\n",
    "- $g_L = \\frac{\\dot{L}}{L}$ is the growth rate of labor.\n",
    "- $g_A = \\frac{\\dot{A}}{A}$ is the growth rate of TFP (often called the Solow Residual).\n",
    "- $\\alpha$ is capital's share of income.\n",
    "\n",
    "This equation tells us that output growth ($g_Y$) is a weighted average of the growth rates of capital and labor (weighted by their respective income shares), plus the growth rate of TFP."
   ]
  },
  {
   "cell_type": "markdown",
   "id": "f6920a5f",
   "metadata": {},
   "source": [
    "# ⚙️ Simulation Setup: Growth by Decade\n",
    "\n",
    "This simulation models an economy over several decades (e.g., 1980s, 1990s, 2000s), allowing the growth rates of capital ($g_K$), labor ($g_L$), and TFP ($g_A$) to differ across these periods.\n",
    "\n",
    "1.  **Initialization:** We start with initial levels of $K$, $L$, and $A$ at the beginning of the first decade (e.g., 1980).\n",
    "2.  **Decade-Specific Growth:** For each year within a decade, we apply the constant annual growth rates specified for that decade to calculate the levels of $K$, $L$, and $A$ for the following year.\n",
    "    - $K_{t+1} = K_t (1 + g_{K, \\text{decade}})$\n",
    "    - $L_{t+1} = L_t (1 + g_{L, \\text{decade}})$\n",
    "    - $A_{t+1} = A_t (1 + g_{A, \\text{decade}})$\n",
    "3.  **Output Calculation:** Output ($Y_t$) in each year is calculated using the Cobb-Douglas function with the corresponding levels of $K_t$, $L_t$, and $A_t$.\n",
    "4.  **Growth Accounting Decomposition:** After simulating the levels, we calculate the average annual growth rate of $Y$ within each decade and decompose it into the average contributions from $g_K$, $g_L$, and $g_A$ using the growth accounting equation.\n",
    "\n",
    "The interactive sliders allow you to specify the initial levels and the decade-specific growth rates for $K$, $L$, and $A$."
   ]
  },
  {
   "cell_type": "code",
   "execution_count": null,
   "id": "896cedbb",
   "metadata": {
    "tags": [
     "hide-input"
    ]
   },
   "outputs": [
    {
     "data": {
      "application/vnd.jupyter.widget-view+json": {
       "model_id": "fb1baed57c584ae6868bd5e7d4b836c0",
       "version_major": 2,
       "version_minor": 0
      },
      "text/plain": [
       "interactive(children=(FloatSlider(value=0.33, description='Capital Share α', max=0.6, min=0.2, step=0.01), Flo…"
      ]
     },
     "metadata": {},
     "output_type": "display_data"
    },
    {
     "data": {
      "text/plain": [
       "<function __main__.dynamic_growth_accounting(alpha=0.33, K80=1.0, L80=1.0, A80=1.0, Kg1=0.03, Lg1=0.02, Ag1=0.01, Kg2=0.05, Lg2=0.01, Ag2=0.015, Kg3=0.02, Lg3=0.01, Ag3=0.007)>"
      ]
     },
     "execution_count": 8,
     "metadata": {},
     "output_type": "execute_result"
    }
   ],
   "source": [
    "import numpy as np\n",
    "import matplotlib.pyplot as plt\n",
    "from ipywidgets import interact, FloatSlider\n",
    "\n",
    "def dynamic_growth_accounting(alpha=0.33,\n",
    "                               K80=1.0, L80=1.0, A80=1.0,\n",
    "                               Kg1=0.03, Lg1=0.02, Ag1=0.01,\n",
    "                               Kg2=0.05, Lg2=0.01, Ag2=0.015,\n",
    "                               Kg3=0.02, Lg3=0.01, Ag3=0.007):\n",
    "\n",
    "    decades = ['1980s', '1990s', '2000s']\n",
    "    T = 10  # years per decade\n",
    "    K = [K80]\n",
    "    L = [L80]\n",
    "    A = [A80]\n",
    "    Y = []\n",
    "\n",
    "    growth_data = [(Kg1, Lg1, Ag1), (Kg2, Lg2, Ag2), (Kg3, Lg3, Ag3)]\n",
    "\n",
    "    for Kg, Lg, Ag in growth_data:\n",
    "        for _ in range(T):\n",
    "            K.append(K[-1] * (1 + Kg))\n",
    "            L.append(L[-1] * (1 + Lg))\n",
    "            A.append(A[-1] * (1 + Ag))\n",
    "            Y.append(K[-2]**alpha * (A[-2] * L[-2])**(1 - alpha))\n",
    "\n",
    "    K, L, A = np.array(K[:-1]), np.array(L[:-1]), np.array(A[:-1])\n",
    "    Y = np.array(Y)\n",
    "\n",
    "    # Compute log-level contributions\n",
    "    log_Y = np.log(Y)\n",
    "    contrib_K = alpha * np.log(K)\n",
    "    contrib_L = (1 - alpha) * np.log(L)\n",
    "    contrib_A = log_Y - contrib_K - contrib_L\n",
    "\n",
    "    # Plot\n",
    "    fig, axs = plt.subplots(1, 2, figsize=(14, 5))\n",
    "\n",
    "    axs[0].plot(Y, label='Output Y(t)', color='darkgreen')\n",
    "    axs[0].set_title('Total Output (Level)')\n",
    "    axs[0].set_xlabel('Years Since 1980')\n",
    "    axs[0].grid(True)\n",
    "    axs[0].legend()\n",
    "\n",
    "    axs[1].plot(log_Y, label='log Y', color='black', lw=2)\n",
    "    axs[1].plot(contrib_K, label='Capital Contribution', color='dodgerblue')\n",
    "    axs[1].plot(contrib_L, label='Labor Contribution', color='seagreen')\n",
    "    axs[1].plot(contrib_A, label='TFP Contribution', color='orange')\n",
    "    axs[1].set_title('Log Output and Component Contributions')\n",
    "    axs[1].set_xlabel('Years Since 1980')\n",
    "    axs[1].grid(True)\n",
    "    axs[1].legend()\n",
    "\n",
    "    plt.suptitle(\"Model 7 (Upgraded): Dynamic Growth Accounting by Decade\", fontsize=14)\n",
    "    plt.tight_layout()\n",
    "    plt.show()\n",
    "\n",
    "interact(\n",
    "    dynamic_growth_accounting,\n",
    "    alpha=FloatSlider(value=0.33, min=0.2, max=0.6, step=0.01, description='Capital Share α'),\n",
    "    K80=FloatSlider(value=1.0, min=0.1, max=10.0, step=0.1, description='Init K 1980'),\n",
    "    L80=FloatSlider(value=1.0, min=0.1, max=10.0, step=0.1, description='Init L 1980'),\n",
    "    A80=FloatSlider(value=1.0, min=0.1, max=10.0, step=0.1, description='Init A 1980'),\n",
    "    Kg1=FloatSlider(value=0.03, min=0, max=0.06, step=0.005, description='K Growth 80s'),\n",
    "    Lg1=FloatSlider(value=0.02, min=0, max=0.05, step=0.005, description='L Growth 80s'),\n",
    "    Ag1=FloatSlider(value=0.01, min=0, max=0.03, step=0.001, description='TFP 80s'),\n",
    "    Kg2=FloatSlider(value=0.05, min=0, max=0.06, step=0.005, description='K Growth 90s'),\n",
    "    Lg2=FloatSlider(value=0.01, min=0, max=0.05, step=0.005, description='L Growth 90s'),\n",
    "    Ag2=FloatSlider(value=0.015, min=0, max=0.03, step=0.001, description='TFP 90s'),\n",
    "    Kg3=FloatSlider(value=0.02, min=0, max=0.06, step=0.005, description='K Growth 00s'),\n",
    "    Lg3=FloatSlider(value=0.01, min=0, max=0.05, step=0.005, description='L Growth 00s'),\n",
    "    Ag3=FloatSlider(value=0.007, min=0, max=0.03, step=0.001, description='TFP 00s')\n",
    ")"
   ]
  },
  {
   "cell_type": "markdown",
   "id": "3a45785a",
   "metadata": {},
   "source": [
    "# 🔍 Model 7: Dynamic Growth Accounting by Decade (Revised)\n",
    "\n",
    "This model simulates capital, labor, TFP, and output growth from 1980–2010 in continuous time.\n",
    "\n",
    "Each decade has its own assumed growth rates:\n",
    "\n",
    "- Capital: g_K\n",
    "- Labor: g_L\n",
    "- Productivity: g_A\n",
    "\n",
    "# 📐 Output Function:\n",
    "\\[\n",
    "Y_t = K_t^{\\alpha} (A_t \\cdot L_t)^{1 - \\alpha}\n",
    "\\]\n",
    "\n",
    "# 💡 Insight:\n",
    "Instead of static bars, we now track how capital, labor, and TFP contributions **accumulate over time** in logs — just like growth economists analyze in real data.\n",
    "\n",
    "Use this to:\n",
    "- Model real-world transitions (e.g. East Asia’s growth, post-2008 slowdown)\n",
    "- Show how **TFP can lag** while capital surges\n",
    "- Tie your simulation to **balanced growth theory**"
   ]
  },
  {
   "cell_type": "markdown",
   "id": "37086d49",
   "metadata": {},
   "source": [
    "# 📊 Growth Accounting by Decade\n",
    "\n",
    "This model breaks total output growth across three decades into:\n",
    "\n",
    "- Capital contribution (α × g_K)\n",
    "- Labor contribution ((1 – α) × g_L)\n",
    "- TFP growth (g_A)\n",
    "\n",
    "# Equation:\n",
    "\\[\n",
    "\\frac{\\dot{Y}}{Y} = \\alpha \\frac{\\dot{K}}{K} + (1 - \\alpha) \\frac{\\dot{L}}{L} + \\frac{\\dot{A}}{A}\n",
    "\\]\n",
    "\n",
    "This helps identify:\n",
    "- **Which factor drove growth** in each decade\n",
    "- When **productivity surged or stalled**\n",
    "- How growth transitions over time\n",
    "\n",
    "> Try adjusting TFP in the 2000s to simulate slowing growth."
   ]
  }
 ],
 "metadata": {
  "kernelspec": {
   "display_name": "Python (solow-env)",
   "language": "python",
   "name": "solow-env"
  },
  "language_info": {
   "codemirror_mode": {
    "name": "ipython",
    "version": 3
   },
   "file_extension": ".py",
   "mimetype": "text/x-python",
   "name": "python",
   "nbconvert_exporter": "python",
   "pygments_lexer": "ipython3",
   "version": "3.13.3"
  },
  "tags": [
   "thebe-init"
  ]
 },
 "nbformat": 4,
 "nbformat_minor": 5
}
