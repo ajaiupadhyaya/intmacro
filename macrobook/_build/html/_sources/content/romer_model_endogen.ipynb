{
 "cells": [
  {
   "cell_type": "code",
   "execution_count": null,
   "id": "d999ca5e",
   "metadata": {
    "tags": [
     "thebe-init",
     "hide-input"
    ]
   },
   "outputs": [],
   "source": [
    "from ipywidgets import interact, widgets\n",
    "interact(lambda x: x**2, x=widgets.IntSlider(min=0, max=10));"
   ]
  },
  {
   "cell_type": "code",
   "execution_count": 1,
   "id": "e0372af6",
   "metadata": {
    "tags": [
     "thebe-init",
     "hide-input"
    ]
   },
   "outputs": [
    {
     "data": {
      "application/vnd.jupyter.widget-view+json": {
       "model_id": "e8f39620cf72413981c9832652de8d6e",
       "version_major": 2,
       "version_minor": 0
      },
      "text/plain": [
       "interactive(children=(FloatSlider(value=0.05, description='Idea Productivity z', max=0.2, min=0.01, step=0.005…"
      ]
     },
     "metadata": {},
     "output_type": "display_data"
    },
    {
     "data": {
      "text/plain": [
       "<function __main__.romer_model(z=0.05, L=100, omega=0.2, A0=1.0, T=50)>"
      ]
     },
     "execution_count": 1,
     "metadata": {},
     "output_type": "execute_result"
    }
   ],
   "source": [
    "import numpy as np\n",
    "import matplotlib.pyplot as plt\n",
    "from ipywidgets import interact, FloatSlider\n",
    "\n",
    "def romer_model(z=0.05, L=100, omega=0.2, A0=1.0, T=50):\n",
    "    T = int(T)\n",
    "    A = np.zeros(T)\n",
    "    Y = np.zeros(T)\n",
    "    A[0] = A0\n",
    "\n",
    "    L_A = omega * L\n",
    "    L_Y = (1 - omega) * L\n",
    "\n",
    "    for t in range(1, T):\n",
    "        A[t] = A[t-1] + z * A[t-1] * L_A\n",
    "        Y[t] = A[t] * L_Y\n",
    "\n",
    "    Y[-1] = A[-1] * L_Y\n",
    "    gA = z * L_A\n",
    "\n",
    "    # Plot\n",
    "    fig, ax = plt.subplots(figsize=(10, 6))\n",
    "    ax.plot(range(T), A, label='Knowledge A(t)', color='blue')\n",
    "    ax.plot(range(T), Y, label='Output Y(t)', color='green')\n",
    "    ax.set_title(\"Romer Model: Endogenous Growth\")\n",
    "    ax.set_xlabel(\"Time\")\n",
    "    ax.set_ylabel(\"Level\")\n",
    "    ax.legend()\n",
    "    ax.grid(True)\n",
    "    plt.tight_layout()\n",
    "    plt.show()\n",
    "\n",
    "    print(\"📘 ROMER MODEL RESULTS\")\n",
    "    print(f\"  Final A(T) = {A[-1]:.2f}, Final Y(T) = {Y[-1]:.2f}\")\n",
    "    print(f\"  Long-run growth rate of A and Y: g = z·L_A = {gA:.3f}\")\n",
    "\n",
    "interact(\n",
    "    romer_model,\n",
    "    z=FloatSlider(value=0.05, min=0.01, max=0.2, step=0.005, description='Idea Productivity z'),\n",
    "    L=FloatSlider(value=100, min=10, max=500, step=10, description='Total Labor L'),\n",
    "    omega=FloatSlider(value=0.2, min=0.05, max=0.9, step=0.05, description='R&D Share ω'),\n",
    "    A0=FloatSlider(value=1.0, min=0.5, max=5.0, step=0.1, description='Initial A₀'),\n",
    "    T=FloatSlider(value=50, min=10, max=100, step=5, description='Time Steps', readout_format='.0f')\n",
    ")"
   ]
  },
  {
   "cell_type": "markdown",
   "id": "010b6b4f",
   "metadata": {},
   "source": [
    "# 📘 Romer Model of Endogenous Growth\n",
    "\n",
    "This model shows how **ideas (A)** grow over time from R&D investment:\n",
    "\n",
    "\\[\n",
    "A_{t+1} = A_t + z A_t L_A, \\quad Y_t = A_t L_Y\n",
    "\\]\n",
    "\n",
    "Where:\n",
    "- \\( L_A = \\omega L \\): R&D labor\n",
    "- \\( L_Y = (1 - \\omega)L \\): production labor\n",
    "- \\( z \\): productivity of R&D\n",
    "\n",
    "🔑 Insight: Long-run growth comes from:\n",
    "\\[\n",
    "g_A = z \\cdot \\omega L\n",
    "\\]\n",
    "\n",
    "**More researchers → faster idea growth → faster economic growth**\n",
    "\n",
    "**Sources**:  \n",
    "- GrowthEcon [Ch. 7](https://growthecon.com/StudyGuide/romer.html)  \n",
    "- Charles I. Jones, *Macroeconomics*, Ch. 8"
   ]
  }
 ],
 "metadata": {
  "kernelspec": {
   "display_name": "Python (solow-env)",
   "language": "python",
   "name": "solow-env"
  },
  "language_info": {
   "codemirror_mode": {
    "name": "ipython",
    "version": 3
   },
   "file_extension": ".py",
   "mimetype": "text/x-python",
   "name": "python",
   "nbconvert_exporter": "python",
   "pygments_lexer": "ipython3",
   "version": "3.13.3"
  },
  "tags": [
   "thebe-init"
  ]
 },
 "nbformat": 4,
 "nbformat_minor": 5
}
