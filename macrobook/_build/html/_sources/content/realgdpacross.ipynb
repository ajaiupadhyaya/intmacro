{
 "cells": [
  {
   "cell_type": "code",
   "execution_count": null,
   "id": "987c0f30",
   "metadata": {
    "tags": [
     "thebe-init",
     "thebe-init",
     "hide-input"
    ]
   },
   "outputs": [],
   "source": [
    "from ipywidgets import interact, widgets\n",
    "interact(lambda x: x**2, x=widgets.IntSlider(min=0, max=10));"
   ]
  },
  {
   "cell_type": "code",
   "execution_count": null,
   "id": "26ac9b6c",
   "metadata": {
    "tags": [
     "thebe-init",
     "hide-input"
    ]
   },
   "outputs": [
    {
     "data": {
      "application/vnd.jupyter.widget-view+json": {
       "model_id": "8807c59bbfd942fd9c394874bd04bd34",
       "version_major": 2,
       "version_minor": 0
      },
      "text/plain": [
       "interactive(children=(FloatSlider(value=60000.0, description='US GDP/cap', max=100000.0, min=20000.0, step=500…"
      ]
     },
     "metadata": {},
     "output_type": "display_data"
    }
   ],
   "source": [
    "import matplotlib.pyplot as plt\n",
    "from ipywidgets import interact, FloatSlider\n",
    "import numpy as np\n",
    "\n",
    "def ppp_compare(gdp_us=60000, gdp_india=8000, price_us=1.0, price_india=0.3):\n",
    "    real_us = gdp_us / price_us\n",
    "    real_india = gdp_india / price_india\n",
    "\n",
    "    countries = ['USA', 'India']\n",
    "    nominal = [gdp_us, gdp_india]\n",
    "    ppp = [real_us, real_india]\n",
    "\n",
    "    x = np.arange(len(countries))\n",
    "    width = 0.35\n",
    "\n",
    "    fig, ax = plt.subplots(figsize=(8,5))\n",
    "    bars1 = ax.bar(x - width/2, nominal, width, label='Nominal GDP/capita')\n",
    "    bars2 = ax.bar(x + width/2, ppp, width, label='PPP-adjusted GDP/capita')\n",
    "\n",
    "    ax.set_ylabel('GDP per capita ($)')\n",
    "    ax.set_title('Real GDP Across Countries (PPP vs. Nominal)')\n",
    "    ax.set_xticks(x)\n",
    "    ax.set_xticklabels(countries)\n",
    "    ax.legend()\n",
    "    ax.grid(True, axis='y', linestyle='--', alpha=0.5)\n",
    "\n",
    "    for i in range(len(countries)):\n",
    "        ax.text(x[i] - width/2, nominal[i] + 1000, f\"${nominal[i]:,.0f}\", ha='center')\n",
    "        ax.text(x[i] + width/2, ppp[i] + 1000, f\"${ppp[i]:,.0f}\", ha='center')\n",
    "\n",
    "    plt.tight_layout()\n",
    "    plt.show()\n",
    "\n",
    "interact(ppp_compare,\n",
    "         gdp_us=FloatSlider(value=60000, min=20000, max=100000, step=5000, description='US GDP/cap'),\n",
    "         gdp_india=FloatSlider(value=8000, min=1000, max=20000, step=1000, description='India GDP/cap'),\n",
    "         price_us=FloatSlider(value=1.0, min=0.5, max=1.5, step=0.05, description='US Price Level'),\n",
    "         price_india=FloatSlider(value=0.3, min=0.1, max=1.0, step=0.05, description='India Price Level'));"
   ]
  },
  {
   "cell_type": "markdown",
   "id": "b615b4a3",
   "metadata": {},
   "source": [
    "# 🌍 Real GDP Across Countries\n",
    "\n",
    "Two countries might have:\n",
    "- The same **output**\n",
    "- But very **different prices**\n",
    "\n",
    "So, we adjust GDP using **Purchasing Power Parity (PPP)**:\n",
    "\\[\n",
    "\\text{Real GDP per capita (PPP)} = \\frac{\\text{Nominal GDP}}{\\text{Price Level Index}}\n",
    "\\]\n",
    "\n",
    "\n",
    "# 💡 PPP Explained\n",
    "If a burger costs:\n",
    "- $1 in India\n",
    "- $4 in the US  \n",
    "...then $1 in India **buys 4x more stuff**.\n",
    "\n",
    "So, $1 of GDP in India = $4 of PPP-adjusted GDP in the US\n",
    "\n",
    "\n",
    "# 🔍 Why This Matters\n",
    "Without PPP, we understate how much people in low-price countries can buy.  \n",
    "**Living standards ≠ dollar GDP.**\n",
    "\n",
    "This is crucial for comparing:\n",
    "- China vs. US\n",
    "- India vs. Mexico"
   ]
  }
 ],
 "metadata": {
  "kernelspec": {
   "display_name": "Python (solow-env)",
   "language": "python",
   "name": "solow-env"
  },
  "language_info": {
   "codemirror_mode": {
    "name": "ipython",
    "version": 3
   },
   "file_extension": ".py",
   "mimetype": "text/x-python",
   "name": "python",
   "nbconvert_exporter": "python",
   "pygments_lexer": "ipython3",
   "version": "3.13.3"
  }
 },
 "nbformat": 4,
 "nbformat_minor": 5
}
