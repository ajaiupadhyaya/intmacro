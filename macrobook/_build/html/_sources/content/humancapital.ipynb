{
 "cells": [
  {
   "cell_type": "code",
   "execution_count": 1,
   "id": "70c31049",
   "metadata": {
    "tags": [
     "thebe-init",
     "hide-input"
    ]
   },
   "outputs": [
    {
     "data": {
      "application/vnd.jupyter.widget-view+json": {
       "model_id": "5103cd0065e041e6a693159284d75009",
       "version_major": 2,
       "version_minor": 0
      },
      "text/plain": [
       "interactive(children=(IntSlider(value=0, description='x', max=10), Output()), _dom_classes=('widget-interact',…"
      ]
     },
     "metadata": {},
     "output_type": "display_data"
    }
   ],
   "source": [
    "from ipywidgets import interact, widgets\n",
    "interact(lambda x: x**2, x=widgets.IntSlider(min=0, max=10));"
   ]
  },
  {
   "cell_type": "markdown",
   "id": "26a58367",
   "metadata": {},
   "source": [
    "# 📚 Solow Growth Model with Technological Progress\n",
    "\n",
    "The Solow growth model is a fundamental framework for understanding long-run economic growth. It explains how capital accumulation, labor force growth, and technological progress interact to determine the level and growth rate of output per worker.\n",
    "\n",
    "This simulation focuses on the core Solow model incorporating **labor-augmenting technological progress** ($A$). The production function is typically assumed to be Cobb-Douglas with constant returns to scale:\n",
    "\n",
    "$$Y = K^{\\alpha} (AL)^{1 - \\alpha}$$\n",
    "\n",
    "- $Y$: Total output\n",
    "- $K$: Physical capital stock\n",
    "- $L$: Labor force\n",
    "- $A$: Level of technology (labor-augmenting or TFP, depending on interpretation)\n",
    "- $\\alpha$: Capital's share of income ($0 < \\alpha < 1$)\n",
    "\n",
    "The term $AL$ is often called **effective labor**, representing the labor force adjusted for its productivity level due to technology $A$.\n",
    "*(Note: While the original notebook mentioned human capital $H$, this simulation uses the standard $AL$ framework. $H$ can be thought of as implicitly included within $A$ or as augmenting $L$ similarly to $A$. A separate dynamic model is needed to track $H$ accumulation explicitly).*"
   ]
  },
  {
   "cell_type": "markdown",
   "id": "75757cb9",
   "metadata": {},
   "source": [
    "# ⚙️ Dynamics in Intensive Form (Per Effective Worker)\n",
    "\n",
    "To analyze the model's dynamics and convergence to a steady state, we express it in terms of quantities **per effective worker**. Let:\n",
    "- $k = K / (AL)$: Capital per effective worker\n",
    "- $y = Y / (AL)$: Output per effective worker\n",
    "\n",
    "Substituting into the production function gives:\n",
    "$$y = \\frac{K^{\\alpha} (AL)^{1 - \\alpha}}{AL} = \\left(\\frac{K}{AL}\\right)^{\\alpha} = k^{\\alpha}$$\n",
    "\n",
    "The fundamental dynamic equation describing how capital per effective worker ($k$) evolves over time is:\n",
    "\n",
    "$$\\dot{k} = s k^{\\alpha} - (\\delta + n + g) k$$\n",
    "or in discrete time (as used in the simulation):\n",
    "$$k_{t+1} - k_t \\approx s k_t^{\\alpha} - (\\delta + n + g) k_t$$\n",
    "\n",
    "Where:\n",
    "- $s$: Savings rate (fraction of output invested)\n",
    "- $\\delta$: Depreciation rate of capital\n",
    "- $n$: Growth rate of the labor force ($L$)\n",
    "- $g$: Growth rate of technology ($A$)\n",
    "\n",
    "The term $s k^{\\alpha}$ represents investment per effective worker (saving equals investment), and $(\\delta + n + g) k$ represents the \"breakeven investment\" needed to keep $k$ constant despite depreciation ($\\delta$), growth in effective labor due to population growth ($n$), and growth in effective labor due to technological progress ($g$)."
   ]
  },
  {
   "cell_type": "markdown",
   "id": "bfbc9c92",
   "metadata": {},
   "source": [
    "# ⚖️ Steady State & Simulation\n",
    "\n",
    "The economy converges to a **steady state** where capital per effective worker ($k$) is constant ($\\dot{k} = 0$). This occurs when actual investment equals breakeven investment:\n",
    "\n",
    "$$s (k^*)^{\\alpha} = (\\delta + n + g) k^*$$\n",
    "\n",
    "Solving for the steady-state capital per effective worker ($k^*$):\n",
    "\n",
    "$$k^* = \\left( \\frac{s}{\\delta + n + g} \\right)^{\\frac{1}{1-\\alpha}}$$\n",
    "\n",
    "The corresponding steady-state output per effective worker ($y^*$) is:\n",
    "\n",
    "$$y^* = (k^*)^{\\alpha} = \\left( \\frac{s}{\\delta + n + g} \\right)^{\\frac{\\alpha}{1-\\alpha}}$$\n",
    "\n",
    "**Key Implications:**\n",
    "\n",
    "* In the steady state, $k$ and $y$ are constant.\n",
    "* Output per *worker* ($Y/L = y \\times A$) grows at the rate $g$ (rate of technological progress).\n",
    "* Total output ($Y = y \\times A \\times L$) grows at the rate $n+g$.\n",
    "\n",
    "The simulation below plots the time path of capital per effective worker ($k_t$) and output per effective worker ($y_t$) as they converge towards their steady-state values ($k^*, y^*$). Adjust the parameters to see how they affect the steady-state levels and the convergence speed."
   ]
  },
  {
   "cell_type": "code",
   "execution_count": 2,
   "id": "7cebc994",
   "metadata": {
    "tags": [
     "hide-input"
    ]
   },
   "outputs": [
    {
     "name": "stderr",
     "output_type": "stream",
     "text": [
      "<>:128: SyntaxWarning: invalid escape sequence '\\*'\n",
      "<>:126: SyntaxWarning: invalid escape sequence '\\*'\n",
      "<>:128: SyntaxWarning: invalid escape sequence '\\*'\n",
      "<>:126: SyntaxWarning: invalid escape sequence '\\*'\n",
      "/var/folders/kz/cc2y6j3953z1bgkfgj5xk9yc0000gn/T/ipykernel_86667/3654325098.py:128: SyntaxWarning: invalid escape sequence '\\*'\n",
      "  \n",
      "/var/folders/kz/cc2y6j3953z1bgkfgj5xk9yc0000gn/T/ipykernel_86667/3654325098.py:126: SyntaxWarning: invalid escape sequence '\\*'\n",
      "  display(Markdown(steady_state_md))\n"
     ]
    },
    {
     "data": {
      "application/vnd.jupyter.widget-view+json": {
       "model_id": "20dc68ec74624207a6faee6433380acd",
       "version_major": 2,
       "version_minor": 0
      },
      "text/plain": [
       "interactive(children=(FloatSlider(value=0.25, description='Savings Rate (s):', max=0.6, min=0.05, step=0.01, s…"
      ]
     },
     "metadata": {},
     "output_type": "display_data"
    }
   ],
   "source": [
    "# Import necessary libraries\n",
    "import numpy as np\n",
    "import matplotlib.pyplot as plt\n",
    "from ipywidgets import interact, FloatSlider, IntSlider # Use IntSlider for T\n",
    "from IPython.display import display, Markdown\n",
    "import warnings\n",
    "\n",
    "# Optional: Use a specific style\n",
    "try:\n",
    "    plt.style.use('seaborn-v0_8-whitegrid')\n",
    "except IOError:\n",
    "    pass # Use default if style not found\n",
    "\n",
    "def solow_model_simulation(s=0.2, delta=0.05, alpha=0.33, n=0.01, g=0.02, k0=1.0, T=100):\n",
    "    \"\"\"\n",
    "    Simulates the Solow Growth Model in intensive form (per effective worker).\n",
    "    Y = K^alpha * (AL)^(1-alpha) => y = k^alpha\n",
    "    k_dot = s*k^alpha - (delta + n + g) * k\n",
    "\n",
    "    Args:\n",
    "        s (float): Savings rate.\n",
    "        delta (float): Depreciation rate.\n",
    "        alpha (float): Capital share (output elasticity of capital).\n",
    "        n (float): Population / Labor force growth rate.\n",
    "        g (float): Technological progress growth rate (labor-augmenting).\n",
    "        k0 (float): Initial capital per effective worker (K/AL).\n",
    "        T (int): Time Horizon (number of periods).\n",
    "    \"\"\"\n",
    "    # Ensure T is an integer\n",
    "    T = int(T)\n",
    "    if T < 5: T = 5\n",
    "\n",
    "    # Input validation\n",
    "    alpha = np.clip(alpha, 0.01, 0.99)\n",
    "    s = np.clip(s, 0.01, 0.99)\n",
    "    delta = max(delta, 0)\n",
    "    n = max(n, 0) # Assuming non-negative growth rates usually\n",
    "    g = max(g, 0)\n",
    "    k0 = max(k0, 0.01) # Start k slightly above zero\n",
    "\n",
    "    # Calculate steady state\n",
    "    break_even_rate = delta + n + g\n",
    "    if break_even_rate <= 0: # Avoid division by zero or invalid exponent\n",
    "        k_star = np.inf # Or handle as error / very large number\n",
    "        y_star = np.inf\n",
    "    else:\n",
    "        # k_star = (s / break_even_rate)**(1 / (1 - alpha))\n",
    "        # Calculate safely to avoid potential overflow with large exponents\n",
    "        exponent = 1.0 / (1.0 - alpha)\n",
    "        base = s / break_even_rate\n",
    "        if base <= 0:\n",
    "             k_star = 0.0 # If s=0 or break_even_rate is huge\n",
    "        else:\n",
    "             # Use log-exp trick for potentially large exponents\n",
    "             log_k_star = exponent * np.log(base)\n",
    "             # Set a reasonable upper bound to prevent extreme values in plots\n",
    "             log_k_star = min(log_k_star, 20) # Corresponds to k_star ~ 5e8\n",
    "             k_star = np.exp(log_k_star)\n",
    "\n",
    "        y_star = k_star**alpha if k_star > 0 else 0.0\n",
    "\n",
    "\n",
    "    # --- Simulation ---\n",
    "    k = np.zeros(T)\n",
    "    k[0] = k0\n",
    "    for t in range(T - 1):\n",
    "        investment = s * k[t]**alpha\n",
    "        break_even_investment = break_even_rate * k[t]\n",
    "        # Change in k = investment - break_even_investment\n",
    "        delta_k = investment - break_even_investment\n",
    "        k[t+1] = k[t] + delta_k\n",
    "        # Ensure k doesn't go below a small positive value\n",
    "        k[t+1] = max(k[t+1], 1e-9)\n",
    "\n",
    "    # Calculate output per effective worker\n",
    "    y = k**alpha\n",
    "\n",
    "    # --- Plotting ---\n",
    "    fig, axes = plt.subplots(1, 2, figsize=(14, 6))\n",
    "    time = np.arange(T)\n",
    "\n",
    "    # Plot 1: Capital per Effective Worker (k)\n",
    "    axes[0].plot(time, k, label='k(t)', color='navy', lw=2)\n",
    "    if np.isfinite(k_star):\n",
    "        axes[0].axhline(k_star, color='red', linestyle='--', label=f'Steady State k* ≈ {k_star:.2f}')\n",
    "    axes[0].set_title(\"Capital per Effective Worker (k = K/AL)\")\n",
    "    axes[0].set_xlabel(\"Time (t)\")\n",
    "    axes[0].set_ylabel(\"k(t)\")\n",
    "    axes[0].legend()\n",
    "    axes[0].grid(True, linestyle='--', alpha=0.7)\n",
    "    # Dynamic Y limits for k plot\n",
    "    k_min = 0\n",
    "    k_max = max(k.max(), k_star if np.isfinite(k_star) else k.max())\n",
    "    axes[0].set_ylim(k_min, k_max * 1.1)\n",
    "    axes[0].set_xlim(0, T-1)\n",
    "\n",
    "\n",
    "    # Plot 2: Output per Effective Worker (y)\n",
    "    axes[1].plot(time, y, label='y(t)', color='forestgreen', lw=2)\n",
    "    if np.isfinite(y_star):\n",
    "        axes[1].axhline(y_star, color='red', linestyle='--', label=f'Steady State y* ≈ {y_star:.2f}')\n",
    "    axes[1].set_title(\"Output per Effective Worker (y = Y/AL)\")\n",
    "    axes[1].set_xlabel(\"Time (t)\")\n",
    "    axes[1].set_ylabel(\"y(t)\")\n",
    "    axes[1].legend()\n",
    "    axes[1].grid(True, linestyle='--', alpha=0.7)\n",
    "    # Dynamic Y limits for y plot\n",
    "    y_min = 0\n",
    "    y_max = max(y.max(), y_star if np.isfinite(y_star) else y.max())\n",
    "    axes[1].set_ylim(y_min, y_max * 1.1)\n",
    "    axes[1].set_xlim(0, T-1)\n",
    "\n",
    "    fig.suptitle(f\"Solow Model Simulation (s={s:.2f}, δ={delta:.2f}, n={n:.2f}, g={g:.2f}, α={alpha:.2f})\", fontsize=14, y=1.0)\n",
    "    plt.tight_layout(rect=[0, 0, 1, 0.96])\n",
    "    plt.show()\n",
    "\n",
    "    # --- Display Steady State Info ---\n",
    "    steady_state_md = f\"\"\"\n",
    "    ### ⚖️ Steady State Values:\n",
    "\n",
    "    * **Capital per Effective Worker (k\\*):** {k_star:.3f}\n",
    "    * **Output per Effective Worker (y\\*):** {y_star:.3f}\n",
    "    * *(Calculated using: $k^* = (s / (\\\\delta + n + g))^{{1/(1-\\\\alpha)}}$ and $y^* = (k^*)^{{\\\\alpha}}$)*\n",
    "    * *(Note: The simulation converges towards these values over time)*\n",
    "    \"\"\"\n",
    "    display(Markdown(steady_state_md))\n",
    "\n",
    "\n",
    "# --- Create Interactive Widgets ---\n",
    "style = {'description_width': 'initial'}\n",
    "interact(\n",
    "    solow_model_simulation,\n",
    "    s=FloatSlider(value=0.25, min=0.05, max=0.6, step=0.01, description='Savings Rate (s):', style=style, readout_format='.2f'),\n",
    "    delta=FloatSlider(value=0.05, min=0.01, max=0.15, step=0.005, description='Depreciation (delta δ):', style=style, readout_format='.3f'),\n",
    "    alpha=FloatSlider(value=0.33, min=0.1, max=0.8, step=0.01, description='Capital Share (alpha α):', style=style, readout_format='.2f'),\n",
    "    n=FloatSlider(value=0.01, min=0.0, max=0.05, step=0.002, description='Pop. Growth (n):', style=style, readout_format='.2%'),\n",
    "    g=FloatSlider(value=0.02, min=0.0, max=0.05, step=0.002, description='Tech Growth (g):', style=style, readout_format='.2%'),\n",
    "    k0=FloatSlider(value=1.0, min=0.1, max=20.0, step=0.1, description='Initial k (k0):', style=style, readout_format='.1f'),\n",
    "    T=IntSlider(value=100, min=20, max=500, step=10, description='Time Periods (T):', style=style)\n",
    ");\n"
   ]
  },
  {
   "cell_type": "markdown",
   "id": "6c845037",
   "metadata": {},
   "source": [
    "# 📚 Solow Model with Human Capital\n",
    "\n",
    "Incorporating **human capital** into the Solow model adds a realistic dimension to labor quality.\n",
    "\n",
    "# 🔍 Equation:\n",
    "\\[\n",
    "Y = K^{\\alpha} (A \\cdot H \\cdot L)^{1 - \\alpha}\n",
    "\\]\n",
    "\n",
    "Where:\n",
    "- \\( H \\): human capital (e.g. schooling, skills)\n",
    "- \\( A \\): productivity\n",
    "- \\( L \\): labor force\n",
    "- \\( K \\): capital\n",
    "\n",
    "> Human capital raises **effective labor** and helps explain **cross-country income differences**.\n",
    "\n",
    "# 📈 Growth Implication:\n",
    "Output grows due to improvements in:\n",
    "- Physical capital (K)\n",
    "- Population (L)\n",
    "- Technology (A)\n",
    "- Human capital (H)\n",
    "\n",
    "Even when \\( A \\) is the same across countries, **differences in H** can explain gaps in output per worker."
   ]
  }
 ],
 "metadata": {
  "kernelspec": {
   "display_name": "Python (solow-env)",
   "language": "python",
   "name": "solow-env"
  },
  "language_info": {
   "codemirror_mode": {
    "name": "ipython",
    "version": 3
   },
   "file_extension": ".py",
   "mimetype": "text/x-python",
   "name": "python",
   "nbconvert_exporter": "python",
   "pygments_lexer": "ipython3",
   "version": "3.13.3"
  },
  "tags": [
   "thebe-init"
  ]
 },
 "nbformat": 4,
 "nbformat_minor": 5
}
