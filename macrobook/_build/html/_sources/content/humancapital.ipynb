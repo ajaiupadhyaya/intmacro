{
 "cells": [
  {
   "cell_type": "code",
   "execution_count": null,
   "id": "70c31049",
   "metadata": {},
   "outputs": [],
   "source": [
    ":tags: [thebe-init]\n",
    "from ipywidgets import interact, widgets\n",
    "interact(lambda x: x**2, x=widgets.IntSlider(min=0, max=10));"
   ]
  },
  {
   "cell_type": "code",
   "execution_count": 1,
   "id": "7cebc994",
   "metadata": {},
   "outputs": [
    {
     "data": {
      "application/vnd.jupyter.widget-view+json": {
       "model_id": "e8c72ed38ff747549731667ee814bc0d",
       "version_major": 2,
       "version_minor": 0
      },
      "text/plain": [
       "interactive(children=(FloatSlider(value=0.2, description='Savings Rate (s)', max=0.6, min=0.05, step=0.01), Fl…"
      ]
     },
     "metadata": {},
     "output_type": "display_data"
    },
    {
     "data": {
      "text/plain": [
       "<function __main__.solow_human_capital(s=0.2, delta=0.05, alpha=0.33, n=0.01, g=0.02, h=1.2, k0=1.0, T=50)>"
      ]
     },
     "execution_count": 1,
     "metadata": {},
     "output_type": "execute_result"
    }
   ],
   "source": [
    "import numpy as np\n",
    "import matplotlib.pyplot as plt\n",
    "from ipywidgets import interact, FloatSlider\n",
    "\n",
    "def solow_human_capital(s=0.2, delta=0.05, alpha=0.33, n=0.01, g=0.02, h=1.2, k0=1.0, T=50):\n",
    "    \"\"\"\n",
    "    Solow Model with Human Capital and exogenous growth in A and L.\n",
    "    \"\"\"\n",
    "    T = int(T)\n",
    "    k = np.zeros(T)\n",
    "    y = np.zeros(T)\n",
    "    A = np.array([(1 + g)**t for t in range(T)])\n",
    "    L = np.array([(1 + n)**t for t in range(T)])\n",
    "    H = h  # constant human capital per worker\n",
    "\n",
    "    k[0] = k0\n",
    "    for t in range(1, T):\n",
    "        y[t-1] = k[t-1]**alpha * (A[t-1] * H)**(1 - alpha)\n",
    "        k[t] = k[t-1] + s * y[t-1] - (delta + n + g) * k[t-1]\n",
    "    y[-1] = k[-1]**alpha * (A[-1] * H)**(1 - alpha)\n",
    "\n",
    "    Y = y * L  # total output in levels\n",
    "\n",
    "    # Plotting\n",
    "    fig, axs = plt.subplots(1, 2, figsize=(13, 5))\n",
    "\n",
    "    axs[0].plot(range(T), k, label='Capital per Effective Worker (k)', color='navy')\n",
    "    axs[0].set_title(\"Capital per Effective Worker\")\n",
    "    axs[0].set_xlabel(\"Time\")\n",
    "    axs[0].set_ylabel(\"k(t)\")\n",
    "    axs[0].grid(True)\n",
    "    axs[0].legend()\n",
    "\n",
    "    axs[1].plot(range(T), Y, label='Total Output Y(t)', color='green')\n",
    "    axs[1].set_title(\"Total Output Over Time\")\n",
    "    axs[1].set_xlabel(\"Time\")\n",
    "    axs[1].set_ylabel(\"Y(t)\")\n",
    "    axs[1].grid(True)\n",
    "    axs[1].legend()\n",
    "\n",
    "    plt.suptitle(\"Model 5: Solow Model with Human Capital\", fontsize=14)\n",
    "    plt.tight_layout()\n",
    "    plt.show()\n",
    "\n",
    "interact(\n",
    "    solow_human_capital,\n",
    "    s=FloatSlider(value=0.2, min=0.05, max=0.6, step=0.01, description='Savings Rate (s)'),\n",
    "    delta=FloatSlider(value=0.05, min=0.01, max=0.1, step=0.01, description='Depreciation (δ)'),\n",
    "    alpha=FloatSlider(value=0.33, min=0.1, max=0.6, step=0.01, description='Capital Share (α)'),\n",
    "    n=FloatSlider(value=0.01, min=0.0, max=0.05, step=0.001, description='Pop. Growth (n)'),\n",
    "    g=FloatSlider(value=0.02, min=0.0, max=0.05, step=0.001, description='Tech Growth (g)'),\n",
    "    h=FloatSlider(value=1.2, min=0.5, max=2.0, step=0.1, description='Human Capital (H)'),\n",
    "    k0=FloatSlider(value=1.0, min=0.1, max=10.0, step=0.1, description='Initial k₀'),\n",
    "    T=FloatSlider(value=50, min=20, max=100, step=1, description='Time Steps')\n",
    ")"
   ]
  },
  {
   "cell_type": "markdown",
   "id": "6c845037",
   "metadata": {},
   "source": [
    "## 📚 Solow Model with Human Capital\n",
    "\n",
    "Incorporating **human capital** into the Solow model adds a realistic dimension to labor quality.\n",
    "\n",
    "### 🔍 Equation:\n",
    "\\[\n",
    "Y = K^{\\alpha} (A \\cdot H \\cdot L)^{1 - \\alpha}\n",
    "\\]\n",
    "\n",
    "Where:\n",
    "- \\( H \\): human capital (e.g. schooling, skills)\n",
    "- \\( A \\): productivity\n",
    "- \\( L \\): labor force\n",
    "- \\( K \\): capital\n",
    "\n",
    "> Human capital raises **effective labor** and helps explain **cross-country income differences**.\n",
    "\n",
    "### 📈 Growth Implication:\n",
    "Output grows due to improvements in:\n",
    "- Physical capital (K)\n",
    "- Population (L)\n",
    "- Technology (A)\n",
    "- Human capital (H)\n",
    "\n",
    "Even when \\( A \\) is the same across countries, **differences in H** can explain gaps in output per worker.\n",
    "\n",
    "---"
   ]
  }
 ],
 "metadata": {
  "kernelspec": {
   "display_name": "Python (solow-env)",
   "language": "python",
   "name": "solow-env"
  },
  "language_info": {
   "codemirror_mode": {
    "name": "ipython",
    "version": 3
   },
   "file_extension": ".py",
   "mimetype": "text/x-python",
   "name": "python",
   "nbconvert_exporter": "python",
   "pygments_lexer": "ipython3",
   "version": "3.13.3"
  }
 },
 "nbformat": 4,
 "nbformat_minor": 5
}
