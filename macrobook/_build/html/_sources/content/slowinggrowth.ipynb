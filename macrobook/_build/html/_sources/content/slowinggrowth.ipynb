{
 "cells": [
  {
   "cell_type": "code",
   "execution_count": null,
   "id": "d456691b",
   "metadata": {
    "tags": [
     "thebe-init",
     "hide-input"
    ]
   },
   "outputs": [],
   "source": [
    ":tags: [thebe-init]\n",
    "from ipywidgets import interact, widgets\n",
    "interact(lambda x: x**2, x=widgets.IntSlider(min=0, max=10));"
   ]
  },
  {
   "cell_type": "code",
   "execution_count": 1,
   "id": "42bed6a3",
   "metadata": {
    "tags": [
     "thebe-init",
     "hide-input"
    ]
   },
   "outputs": [
    {
     "data": {
      "application/vnd.jupyter.widget-view+json": {
       "model_id": "90d9eec3d657496698c68abc4d9633c7",
       "version_major": 2,
       "version_minor": 0
      },
      "text/plain": [
       "interactive(children=(FloatSlider(value=1.0, description='Initial TFP A₀', max=2.0, min=0.5), FloatSlider(valu…"
      ]
     },
     "metadata": {},
     "output_type": "display_data"
    },
    {
     "data": {
      "text/plain": [
       "<function __main__.slowing_growth_model(A0=1.0, g0=0.03, decay=0.01, alpha=0.33, K0=1.0, L0=1.0, T=50)>"
      ]
     },
     "execution_count": 1,
     "metadata": {},
     "output_type": "execute_result"
    }
   ],
   "source": [
    "import numpy as np\n",
    "import matplotlib.pyplot as plt\n",
    "from ipywidgets import interact, FloatSlider\n",
    "\n",
    "# --- Model 9: Slowing Growth Over Time ---\n",
    "def slowing_growth_model(A0=1.0, g0=0.03, decay=0.01, alpha=0.33, K0=1.0, L0=1.0, T=50):\n",
    "    \"\"\"\n",
    "    Simulates slowing growth by letting TFP growth decline over time.\n",
    "    \"\"\"\n",
    "    T = int(T)\n",
    "    A = np.zeros(T)\n",
    "    A[0] = A0\n",
    "    K = np.zeros(T)\n",
    "    K[0] = K0\n",
    "    L = np.full(T, L0)\n",
    "    Y = np.zeros(T)\n",
    "\n",
    "    for t in range(1, T):\n",
    "        g_t = max(0, g0 - decay * t)  # slowing TFP growth\n",
    "        A[t] = A[t - 1] * (1 + g_t)\n",
    "        output = A[t - 1] * K[t - 1]**alpha * L[t - 1]**(1 - alpha)\n",
    "        K[t] = K[t - 1] + 0.2 * output - 0.05 * K[t - 1]\n",
    "        Y[t] = A[t] * K[t]**alpha * L[t]**(1 - alpha)\n",
    "\n",
    "    Y[0] = A[0] * K[0]**alpha * L[0]**(1 - alpha)\n",
    "\n",
    "    # Plotting\n",
    "    fig, axs = plt.subplots(1, 2, figsize=(14, 5))\n",
    "\n",
    "    axs[0].plot(A, label='TFP A(t)', color='orange')\n",
    "    axs[0].set_title(\"Declining TFP Over Time\")\n",
    "    axs[0].set_xlabel(\"Years\")\n",
    "    axs[0].set_ylabel(\"TFP Level\")\n",
    "    axs[0].grid(True)\n",
    "    axs[0].legend()\n",
    "\n",
    "    axs[1].plot(Y, label='Output Y(t)', color='darkgreen')\n",
    "    axs[1].set_title(\"Output Over Time with Slowing Growth\")\n",
    "    axs[1].set_xlabel(\"Years\")\n",
    "    axs[1].set_ylabel(\"Y(t)\")\n",
    "    axs[1].grid(True)\n",
    "    axs[1].legend()\n",
    "\n",
    "    plt.suptitle(\"Model 9: Slowing Growth in the 21st Century\", fontsize=14)\n",
    "    plt.tight_layout()\n",
    "    plt.show()\n",
    "\n",
    "interact(\n",
    "    slowing_growth_model,\n",
    "    A0=FloatSlider(value=1.0, min=0.5, max=2.0, step=0.1, description='Initial TFP A₀'),\n",
    "    g0=FloatSlider(value=0.03, min=0.0, max=0.1, step=0.001, description='Initial TFP Growth g₀'),\n",
    "    decay=FloatSlider(value=0.01, min=0.0, max=0.05, step=0.001, description='TFP Decay Rate'),\n",
    "    alpha=FloatSlider(value=0.33, min=0.1, max=0.6, step=0.01, description='Capital Share α'),\n",
    "    K0=FloatSlider(value=1.0, min=0.1, max=10.0, step=0.1, description='Initial Capital K₀'),\n",
    "    L0=FloatSlider(value=1.0, min=0.1, max=10.0, step=0.1, description='Labor (L)'),\n",
    "    T=FloatSlider(value=50, min=20, max=100, step=1, description='Years')\n",
    ")"
   ]
  },
  {
   "cell_type": "markdown",
   "id": "e37b15ee",
   "metadata": {},
   "source": [
    "# 📉 Model 9: Slowing Growth in the 21st Century\n",
    "\n",
    "This model simulates how declining TFP growth over time can cause a **slowdown in output**.\n",
    "\n",
    "# Equation:\n",
    "\n",
    "$begin:math:display$\n",
    "Y_t = A_t \\\\cdot K_t^{\\\\alpha} \\\\cdot L_t^{1 - \\\\alpha}, \\\\quad \\\\text{where } A_{t+1} = A_t (1 + g_t)\n",
    "$end:math:display$\n",
    "\n",
    "- $begin:math:text$ g_t = g_0 - \\\\text{decay} \\\\cdot t $end:math:text$\n",
    "- This captures the **decline in idea productivity**, **saturation of innovation**, or **structural stagnation**.\n",
    "\n",
    "> Use this to visualize concerns about long-run growth deceleration and secular stagnation.\n",
    "\n",
    "\n",
    "Ready to review or revisit any model? Or shall we begin **site-wide integration / beautification / deployment prep**?"
   ]
  }
 ],
 "metadata": {
  "kernelspec": {
   "display_name": "Python (solow-env)",
   "language": "python",
   "name": "solow-env"
  },
  "language_info": {
   "codemirror_mode": {
    "name": "ipython",
    "version": 3
   },
   "file_extension": ".py",
   "mimetype": "text/x-python",
   "name": "python",
   "nbconvert_exporter": "python",
   "pygments_lexer": "ipython3",
   "version": "3.13.3"
  }
 },
 "nbformat": 4,
 "nbformat_minor": 5
}
