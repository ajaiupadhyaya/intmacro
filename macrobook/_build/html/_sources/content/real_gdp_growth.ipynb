{
 "cells": [
  {
   "cell_type": "code",
   "execution_count": 1,
   "id": "5954bf7a",
   "metadata": {
    "tags": [
     "thebe-init",
     "hide-input"
    ]
   },
   "outputs": [
    {
     "data": {
      "application/vnd.jupyter.widget-view+json": {
       "model_id": "75c887fc4bb044f28146d8b8fe01a99c",
       "version_major": 2,
       "version_minor": 0
      },
      "text/plain": [
       "interactive(children=(IntSlider(value=0, description='x', max=10), Output()), _dom_classes=('widget-interact',…"
      ]
     },
     "metadata": {},
     "output_type": "display_data"
    }
   ],
   "source": [
    "from ipywidgets import interact, widgets\n",
    "interact(lambda x: x**2, x=widgets.IntSlider(min=0, max=10));"
   ]
  },
  {
   "cell_type": "markdown",
   "id": "b3ca5009",
   "metadata": {},
   "source": [
    "# 🛒 Measuring Real GDP with Changing Prices & Quantities\n",
    "\n",
    "When comparing economic output between two periods (Year 0 and Year 1), we need to account for changes in both the **quantities** produced and the **prices** at which they are sold.\n",
    "\n",
    "* **Nominal GDP** reflects the total value using the prices prevailing *in each year*.\n",
    "* **Real GDP** aims to measure the change in output using *constant prices* from a chosen **base year**.\n",
    "\n",
    "This simulation calculates Nominal and Real GDP for a simple two-good economy (e.g., Tacos and Tablets) where both prices and quantities can change, using Year 0 as the fixed base year for calculating Real GDP."
   ]
  },
  {
   "cell_type": "markdown",
   "id": "7094e9e3",
   "metadata": {},
   "source": [
    "# 🔢 Calculations (Base Year = Year 0)\n",
    "\n",
    "Let $P_{i,t}$ and $Q_{i,t}$ be the price and quantity of good $i$ (1=Good 1, 2=Good 2) in year $t$ (0 or 1).\n",
    "\n",
    "1.  **Nominal GDP:** Value using current prices and quantities for each year.\n",
    "    * Nominal GDP$_0 = P_{1,0} Q_{1,0} + P_{2,0} Q_{2,0}$\n",
    "    * Nominal GDP$_1 = P_{1,1} Q_{1,1} + P_{2,1} Q_{2,1}$\n",
    "\n",
    "2.  **Real GDP (Base Year 0):** Value using current quantities but **Year 0 prices** for both years.\n",
    "    * Real GDP$_0^{\\text{Base 0}} = P_{1,0} Q_{1,0} + P_{2,0} Q_{2,0}$ *(Same as Nominal GDP$_0$)*\n",
    "    * Real GDP$_1^{\\text{Base 0}} = P_{1,0} Q_{1,1} + P_{2,0} Q_{2,1}$\n",
    "\n",
    "3.  **Growth Rates:**\n",
    "    * Nominal Growth Rate ($g_N$) = $(\\frac{\\text{Nominal GDP}_1}{\\text{Nominal GDP}_0} - 1) \\times 100\\%$\n",
    "    * Real Growth Rate ($g_R$) = $(\\frac{\\text{Real GDP}_1^{\\text{Base 0}}}{\\text{Real GDP}_0^{\\text{Base 0}}} - 1) \\times 100\\%$\n",
    "\n",
    "4.  **GDP Deflator:** An index measuring the price level in Year 1 relative to the base Year 0.\n",
    "    * GDP Deflator$_0 = 100$ (by definition)\n",
    "    * GDP Deflator$_1 = \\frac{\\text{Nominal GDP}_1}{\\text{Real GDP}_1^{\\text{Base 0}}} \\times 100$\n",
    "\n",
    "5.  **Inflation Rate ($\\pi$):** The percentage change in the GDP Deflator.\n",
    "    $$ \\pi \\approx \\frac{\\text{Deflator}_1 - \\text{Deflator}_0}{\\text{Deflator}_0} \\times 100\\% = (\\text{Deflator}_1 / 100 - 1) \\times 100\\% $$\n",
    "\n",
    "We expect the relationship $g_N \\approx g_R + \\pi$ to hold approximately. The simulation calculates these values based on the inputs provided."
   ]
  },
  {
   "cell_type": "markdown",
   "id": "525b145b",
   "metadata": {},
   "source": [
    "# 🧮 Calculation: Base-Year Method\n",
    "\n",
    "Let $P_{i,t}$ and $Q_{i,t}$ be the price and quantity of good $i$ in year $t$.\n",
    "\n",
    "---\n",
    "\n",
    "## 📘 Steps to Calculate Real GDP\n",
    "\n",
    "1. **Choose a Base Year:**  \n",
    "   Select one year (e.g., Year 1 in this simulation) whose prices will be used for all calculations of Real GDP.\n",
    "\n",
    "2. **Calculate Nominal GDP:**  \n",
    "   Compute the value of production in each year using that year’s *own* prices.\n",
    "   - $ \\text{Nominal GDP}_{Y1} = P_{\\text{apples}, Y1} \\cdot Q_{\\text{apples}, Y1} + P_{\\text{bananas}, Y1} \\cdot Q_{\\text{bananas}, Y1} $\n",
    "   - $ \\text{Nominal GDP}_{Y2} = P_{\\text{apples}, Y2} \\cdot Q_{\\text{apples}, Y2} + P_{\\text{bananas}, Y2} \\cdot Q_{\\text{bananas}, Y2} $\n",
    "\n",
    "3. **Calculate Real GDP:**  \n",
    "   Use the *base year’s prices* (Year 1 prices here) for all years.\n",
    "   - $ \\text{Real GDP}_{Y1} = P_{\\text{apples}, Y1} \\cdot Q_{\\text{apples}, Y1} + P_{\\text{bananas}, Y1} \\cdot Q_{\\text{bananas}, Y1} $  \n",
    "     *(Note: Real GDP in the base year equals Nominal GDP in the base year)*\n",
    "   - $ \\text{Real GDP}_{Y2} = P_{\\text{apples}, Y1} \\cdot Q_{\\text{apples}, Y2} + P_{\\text{bananas}, Y1} \\cdot Q_{\\text{bananas}, Y2} $\n",
    "\n",
    "4. **Calculate Real GDP Growth Rate:**  \n",
    "   Find the percentage change between the Real GDP values:\n",
    "\n",
    "   $$\n",
    "   g_{\\text{Real}} = \\frac{\\text{Real GDP}_{Y2} - \\text{Real GDP}_{Y1}}{\\text{Real GDP}_{Y1}} \\times 100\\%\n",
    "   $$\n",
    "\n",
    "---\n",
    "\n",
    "## 🧮 GDP Deflator\n",
    "\n",
    "This method also allows us to calculate an implicit price index — the **GDP Deflator** — for Year 2 (relative to the base year, where Y1 = 100):\n",
    "\n",
    "$$\n",
    "\\text{GDP Deflator}_{Y2} = \\frac{\\text{Nominal GDP}_{Y2}}{\\text{Real GDP}_{Y2}} \\times 100\n",
    "$$\n",
    "\n",
    "The inflation rate between Y1 and Y2 is approximately the percentage change in the GDP deflator.\n",
    "\n",
    "> 📌 *Note: This simulation assumes prices remain constant between Y1 and Y2 as set by the sliders, focusing only on quantity changes. A more advanced version would include changing prices to highlight inflation more clearly.*"
   ]
  },
  {
   "cell_type": "code",
   "execution_count": 2,
   "id": "5e5c94c0",
   "metadata": {
    "tags": [
     "hide-input"
    ]
   },
   "outputs": [
    {
     "data": {
      "application/vnd.jupyter.widget-view+json": {
       "model_id": "29408e9b0696415490c5dd7e3d90c28d",
       "version_major": 2,
       "version_minor": 0
      },
      "text/plain": [
       "interactive(children=(FloatSlider(value=2.0, description='P1 (Yr 0):', layout=Layout(width='98%'), max=10.0, m…"
      ]
     },
     "metadata": {},
     "output_type": "display_data"
    }
   ],
   "source": [
    "# Import necessary libraries\n",
    "import numpy as np\n",
    "import matplotlib.pyplot as plt\n",
    "from ipywidgets import interact, FloatSlider, IntSlider, Layout\n",
    "from IPython.display import display, Markdown\n",
    "import warnings\n",
    "\n",
    "# Optional: Use a specific style\n",
    "try:\n",
    "    plt.style.use('seaborn-v0_8-whitegrid')\n",
    "except IOError:\n",
    "    pass # Use default if style not found\n",
    "\n",
    "def compare_nom_real_gdp_two_goods(\n",
    "    # Year 0 (Base Year)\n",
    "    p_good1_0=2.0, q_good1_0=100,\n",
    "    p_good2_0=500.0, q_good2_0=5,\n",
    "    # Year 1\n",
    "    p_good1_1=3.0, q_good1_1=120,\n",
    "    p_good2_1=550.0, q_good2_1=6\n",
    "    ):\n",
    "    \"\"\"\n",
    "    Calculates Nominal GDP, Real GDP (Base Year 0), GDP Deflator,\n",
    "    and growth rates for a two-good economy with changing prices/quantities.\n",
    "\n",
    "    Args:\n",
    "        p_good1_0, q_good1_0: Price and Quantity of Good 1 in Year 0.\n",
    "        p_good2_0, q_good2_0: Price and Quantity of Good 2 in Year 0.\n",
    "        p_good1_1, q_good1_1: Price and Quantity of Good 1 in Year 1.\n",
    "        p_good2_1, q_good2_1: Price and Quantity of Good 2 in Year 1.\n",
    "    \"\"\"\n",
    "    # --- Calculations ---\n",
    "    # Nominal GDP\n",
    "    nom_gdp_0 = (p_good1_0 * q_good1_0) + (p_good2_0 * q_good2_0)\n",
    "    nom_gdp_1 = (p_good1_1 * q_good1_1) + (p_good2_1 * q_good2_1)\n",
    "\n",
    "    # Real GDP (using Year 0 prices as base)\n",
    "    real_gdp_0 = nom_gdp_0 # Real GDP = Nominal GDP in base year\n",
    "    real_gdp_1 = (p_good1_0 * q_good1_1) + (p_good2_0 * q_good2_1)\n",
    "\n",
    "    # Growth Rates (handle division by zero)\n",
    "    g_nominal = np.nan\n",
    "    g_real = np.nan\n",
    "    if nom_gdp_0 > 1e-9:\n",
    "        g_nominal = (nom_gdp_1 / nom_gdp_0 - 1) * 100\n",
    "        g_real = (real_gdp_1 / real_gdp_0 - 1) * 100\n",
    "\n",
    "\n",
    "    # GDP Deflator & Inflation\n",
    "    deflator_0 = 100.0\n",
    "    deflator_1 = np.nan\n",
    "    inflation = np.nan\n",
    "    if real_gdp_1 > 1e-9:\n",
    "        deflator_1 = (nom_gdp_1 / real_gdp_1) * 100\n",
    "        inflation = (deflator_1 / deflator_0 - 1) * 100\n",
    "\n",
    "\n",
    "    # Check approximation: gN approx = gR + inflation\n",
    "    approx_check = g_real + inflation if not (np.isnan(g_real) or np.isnan(inflation)) else np.nan\n",
    "\n",
    "    # --- Plotting ---\n",
    "    years = ['Year 0 (Base)', 'Year 1']\n",
    "    nominal_values = [nom_gdp_0, nom_gdp_1]\n",
    "    real_values = [real_gdp_0, real_gdp_1]\n",
    "\n",
    "    fig, ax = plt.subplots(figsize=(8, 5))\n",
    "    bar_width = 0.35\n",
    "    index = np.arange(len(years))\n",
    "\n",
    "    bars1 = ax.bar(index - bar_width/2, nominal_values, bar_width, label=f'Nominal GDP (Growth={g_nominal:.1f}%)' if not np.isnan(g_nominal) else 'Nominal GDP', color='#ff7f0e', alpha=0.8, edgecolor='black')\n",
    "    bars2 = ax.bar(index + bar_width/2, real_values, bar_width, label=f'Real GDP (Growth={g_real:.1f}%)' if not np.isnan(g_real) else 'Real GDP', color='#1f77b4', alpha=0.8, edgecolor='black')\n",
    "\n",
    "    ax.set_title(\"Nominal vs. Real GDP (Base-Year Method)\")\n",
    "    ax.set_ylabel(\"GDP ($)\")\n",
    "    ax.set_xticks(index)\n",
    "    ax.set_xticklabels(years)\n",
    "    ax.legend()\n",
    "    ax.grid(axis='y', linestyle='--', alpha=0.7)\n",
    "    # Add bar labels\n",
    "    ax.bar_label(bars1, fmt='$%.0f', padding=3, fontsize=9)\n",
    "    ax.bar_label(bars2, fmt='$%.0f', padding=3, fontsize=9)\n",
    "    # Set y-limit to start at 0\n",
    "    ax.set_ylim(bottom=0)\n",
    "\n",
    "    plt.tight_layout()\n",
    "    plt.show()\n",
    "\n",
    "    # --- Display Results ---\n",
    "    # Helper to format NaN\n",
    "    def format_val(val, fmt):\n",
    "        return fmt.format(val) if not np.isnan(val) else \"N/A\"\n",
    "\n",
    "    results_md = f\"\"\"\n",
    "    ### 📊 GDP Calculation Summary (Base Year = Year 0):\n",
    "\n",
    "    **Inputs:**\n",
    "    | Item      | Yr 0 Qty | Yr 0 Price | Yr 1 Qty | Yr 1 Price |\n",
    "    |-----------|----------|------------|----------|------------|\n",
    "    | Good 1    | {q_good1_0}    | ${p_good1_0:.2f}   | {q_good1_1}    | ${p_good1_1:.2f}   |\n",
    "    | Good 2    | {q_good2_0}    | ${p_good2_0:,.2f}  | {q_good2_1}    | ${p_good2_1:,.2f}  |\n",
    "\n",
    "    **Results:**\n",
    "    * **Nominal GDP Year 0:** ${nom_gdp_0:,.2f}$\n",
    "    * **Nominal GDP Year 1:** ${nom_gdp_1:,.2f}$\n",
    "    * **Real GDP Year 0 (Base=Y0):** ${real_gdp_0:,.2f}$\n",
    "    * **Real GDP Year 1 (Base=Y0):** ${real_gdp_1:,.2f}$\n",
    "    * **Nominal Growth Rate (gN):** {format_val(g_nominal, '{:.2f}%')}\n",
    "    * **Real Growth Rate (gR):** **{format_val(g_real, '{:.2f}%')}**\n",
    "    * **GDP Deflator Year 1 (Base=100):** {format_val(deflator_1, '{:.1f}')}\n",
    "    * **Inflation Rate (π ≈ %ΔDeflator):** {format_val(inflation, '{:.2f}%')}\n",
    "    * **Check (gR + π):** {format_val(approx_check, '{:.2f}%')} (Should approx. = gN)\n",
    "    \"\"\"\n",
    "    display(Markdown(results_md))\n",
    "\n",
    "\n",
    "# --- Create Interactive Widgets ---\n",
    "style = {'description_width': '100px'} # Adjust width\n",
    "layout = Layout(width='98%') # Adjust overall width slightly\n",
    "\n",
    "interact(\n",
    "    compare_nom_real_gdp_two_goods,\n",
    "    p_good1_0=FloatSlider(value=2.0, min=0.1, max=10.0, step=0.1, description='P1 (Yr 0):', style=style, layout=layout),\n",
    "    q_good1_0=IntSlider(value=100, min=0, max=500, step=10, description='Q1 (Yr 0):', style=style, layout=layout),\n",
    "    p_good2_0=FloatSlider(value=500.0, min=1, max=2000, step=10, description='P2 (Yr 0):', style=style, layout=layout, readout_format=',.0f'),\n",
    "    q_good2_0=IntSlider(value=5, min=0, max=50, step=1, description='Q2 (Yr 0):', style=style, layout=layout),\n",
    "    p_good1_1=FloatSlider(value=3.0, min=0.1, max=10.0, step=0.1, description='P1 (Yr 1):', style=style, layout=layout),\n",
    "    q_good1_1=IntSlider(value=120, min=0, max=500, step=10, description='Q1 (Yr 1):', style=style, layout=layout),\n",
    "    p_good2_1=FloatSlider(value=550.0, min=1, max=2000, step=10, description='P2 (Yr 1):', style=style, layout=layout, readout_format=',.0f'),\n",
    "    q_good2_1=IntSlider(value=6, min=0, max=50, step=1, description='Q2 (Yr 1):', style=style, layout=layout)\n",
    ");\n"
   ]
  }
 ],
 "metadata": {
  "kernelspec": {
   "display_name": "Python (solow-env)",
   "language": "python",
   "name": "solow-env"
  },
  "language_info": {
   "codemirror_mode": {
    "name": "ipython",
    "version": 3
   },
   "file_extension": ".py",
   "mimetype": "text/x-python",
   "name": "python",
   "nbconvert_exporter": "python",
   "pygments_lexer": "ipython3",
   "version": "3.13.3"
  },
  "tags": [
   "thebe-init"
  ]
 },
 "nbformat": 4,
 "nbformat_minor": 5
}
