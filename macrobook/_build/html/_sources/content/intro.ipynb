{
 "cells": [
  {
   "cell_type": "markdown",
   "id": "ec77e69b",
   "metadata": {},
   "source": [
    "# Econ 3020: Intermediate Macroeconomics 📘\n",
    "\n",
    "## Within this site, you'll find a collection of models I built and readings I found interesting during my time in Econ 3020: Intermediate Macroeconomics!\n",
    "\n",
    "## Navigate the site via the sidebar located on the left hand side of the screen\n",
    "\n",
    "## To run and interact with the models yourself:\n",
    "1) Click on a chapter (eg. Measuring GDP: The expenditure Approach)\n",
    "2) \n",
    "\n",
    "\n",
    "This is an interactive guide to Intermediate Macroeconomics. Start below!\n",
    "Testing"
   ]
  }
 ],
 "metadata": {
  "language_info": {
   "name": "python"
  },
  "tags": [
   "thebe-init"
  ]
 },
 "nbformat": 4,
 "nbformat_minor": 5
}
