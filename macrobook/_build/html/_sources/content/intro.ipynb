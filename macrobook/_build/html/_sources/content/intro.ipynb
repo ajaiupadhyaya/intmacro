{
 "cells": [
  {
   "cell_type": "markdown",
   "id": "ec77e69b",
   "metadata": {},
   "source": [
    "# Welcome to Intermediate Macroeconomics Interactive Book 📘\n",
    "This is an interactive guide to Intermediate Macroeconomics. Start below!\n",
    "Testing"
   ]
  }
 ],
 "metadata": {
  "language_info": {
   "name": "python"
  },
  "tags": [
   "thebe-init"
  ]
 },
 "nbformat": 4,
 "nbformat_minor": 5
}
