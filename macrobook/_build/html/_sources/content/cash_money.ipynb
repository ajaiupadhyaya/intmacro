{
 "cells": [
  {
   "cell_type": "code",
   "execution_count": null,
   "id": "cfb97fc6",
   "metadata": {},
   "outputs": [],
   "source": [
    ":tags: [thebe-init]\n",
    "from ipywidgets import interact, widgets\n",
    "interact(lambda x: x**2, x=widgets.IntSlider(min=0, max=10));"
   ]
  },
  {
   "cell_type": "code",
   "execution_count": 1,
   "id": "3b807d22",
   "metadata": {},
   "outputs": [
    {
     "data": {
      "application/vnd.jupyter.widget-view+json": {
       "model_id": "8a143ebeb8c64f3680eddde2c7b233f3",
       "version_major": 2,
       "version_minor": 0
      },
      "text/plain": [
       "interactive(children=(FloatSlider(value=0.05, description='Money Growth', max=0.15, step=0.01), FloatSlider(va…"
      ]
     },
     "metadata": {},
     "output_type": "display_data"
    }
   ],
   "source": [
    "import matplotlib.pyplot as plt\n",
    "from ipywidgets import interact, FloatSlider\n",
    "\n",
    "def gdp_money_sim(money_growth=0.05, inflation=0.03, T=10):\n",
    "    T = int(T)  # ← FIX HERE\n",
    "    years = list(range(2020, 2020 + T))\n",
    "    nominal = [1000 * (1 + money_growth)**t for t in range(T)]\n",
    "    real = [nominal[t] / (1 + inflation)**t for t in range(T)]\n",
    "\n",
    "    plt.figure(figsize=(10,5))\n",
    "    plt.plot(years, nominal, label='Nominal GDP (Cash)', linewidth=2, color='gold')\n",
    "    plt.plot(years, real, label='Real GDP (Stuff)', linewidth=2, color='seagreen')\n",
    "    plt.fill_between(years, real, nominal, color='lightgray', alpha=0.4, label='Inflation Zone')\n",
    "    \n",
    "    plt.title(\"💵 Nominal vs. Real GDP Over Time\")\n",
    "    plt.xlabel(\"Year\")\n",
    "    plt.ylabel(\"GDP ($)\")\n",
    "    plt.grid(True, linestyle='--', alpha=0.6)\n",
    "    plt.legend()\n",
    "    plt.tight_layout()\n",
    "    plt.show()\n",
    "\n",
    "interact(gdp_money_sim,\n",
    "         money_growth=FloatSlider(value=0.05, min=0, max=0.15, step=0.01, description='Money Growth'),\n",
    "         inflation=FloatSlider(value=0.03, min=0, max=0.15, step=0.01, description='Inflation'),\n",
    "         T=FloatSlider(value=10, min=5, max=30, step=1, description='Years'));"
   ]
  },
  {
   "cell_type": "markdown",
   "id": "412a0eeb",
   "metadata": {},
   "source": [
    "# 💰 Cash Money and GDP\n",
    "\n",
    "More dollars **doesn’t always mean** more goods.\n",
    "\n",
    "When we look at GDP:\n",
    "- **Nominal GDP** = Prices × Quantities\n",
    "- **Real GDP** = **Quantities**, adjusted for inflation\n",
    "\n",
    "---\n",
    "\n",
    "### 🛒 Metaphor:\n",
    "If you go shopping with $50 and buy:\n",
    "- 10 items at $5 each → real GDP = 10\n",
    "\n",
    "Now if prices rise to $10:\n",
    "- With $100, you still only get 10 items → real GDP unchanged\n",
    "\n",
    "But nominal GDP **doubled**.\n",
    "\n",
    "---\n",
    "\n",
    "### 🔍 Key Insight:\n",
    "> **Nominal GDP growth ≠ real growth**  \n",
    "> We strip out inflation to understand **what’s really changing**."
   ]
  }
 ],
 "metadata": {
  "kernelspec": {
   "display_name": "Python (solow-env)",
   "language": "python",
   "name": "solow-env"
  },
  "language_info": {
   "codemirror_mode": {
    "name": "ipython",
    "version": 3
   },
   "file_extension": ".py",
   "mimetype": "text/x-python",
   "name": "python",
   "nbconvert_exporter": "python",
   "pygments_lexer": "ipython3",
   "version": "3.13.3"
  }
 },
 "nbformat": 4,
 "nbformat_minor": 5
}
