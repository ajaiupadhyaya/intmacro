{
 "cells": [
  {
   "cell_type": "code",
   "execution_count": null,
   "id": "e8194441",
   "metadata": {
    "tags": [
     "thebe-init"
    ]
   },
   "outputs": [],
   "source": [
    ":tags: [thebe-init]\n",
    "from ipywidgets import interact, widgets\n",
    "interact(lambda x: x**2, x=widgets.IntSlider(min=0, max=10));"
   ]
  },
  {
   "cell_type": "code",
   "execution_count": null,
   "id": "5f0e518f",
   "metadata": {
    "tags": [
     "thebe-init",
     "hide-input"
    ]
   },
   "outputs": [
    {
     "data": {
      "application/vnd.jupyter.widget-view+json": {
       "model_id": "3507995a88c0429dac9d00c567799fea",
       "version_major": 2,
       "version_minor": 0
      },
      "text/plain": [
       "interactive(children=(FloatSlider(value=15.0, description='Income y₁', max=50.0, step=1.0), FloatSlider(value=…"
      ]
     },
     "metadata": {},
     "output_type": "display_data"
    }
   ],
   "source": [
    "# Vuoksi Macro Lab: Two-Period Consumption (Euler Equation Edition)\n",
    "\n",
    "import numpy as np\n",
    "import matplotlib.pyplot as plt\n",
    "from ipywidgets import interact, FloatSlider, Dropdown\n",
    "\n",
    "plt.rcParams['axes.titlesize'] = 14\n",
    "plt.rcParams['axes.labelsize'] = 12\n",
    "plt.rcParams['legend.fontsize'] = 11\n",
    "plt.rcParams['figure.facecolor'] = 'white'\n",
    "plt.rcParams['axes.grid'] = True\n",
    "\n",
    "# --- Two-Period Consumption with Euler Equation and Utility Map ---\n",
    "def two_period_upgraded(y1=15.0, y2=98.0, r=0.05, beta=1.0, view='Utility Map'):\n",
    "    # Intertemporal budget constraint\n",
    "    PV_income = y1 + y2 / (1 + r)\n",
    "    c1_star = PV_income / (1 + beta)\n",
    "    c2_star = beta * (1 + r) * c1_star\n",
    "\n",
    "    # Euler line\n",
    "    c1_vals = np.linspace(0.1, PV_income, 200)\n",
    "    euler_line = beta * (1 + r) * c1_vals\n",
    "\n",
    "    # Budget line\n",
    "    c2_budget = (PV_income - c1_vals) * (1 + r)\n",
    "\n",
    "    # Plot\n",
    "    plt.figure(figsize=(8, 6))\n",
    "\n",
    "    if view == 'Utility Map':\n",
    "        # Plot indifference curves (log utility)\n",
    "        for u_level in [np.log(c1_star) + np.log(c2_star) - i for i in [0.8, 0.4, 0, -0.4]]:\n",
    "            indiff_c2 = np.exp(u_level - np.log(c1_vals))\n",
    "            plt.plot(c1_vals, indiff_c2, linestyle='--', color='gray', alpha=0.6)\n",
    "\n",
    "    plt.plot(c1_vals, c2_budget, label='Budget Line', color='black')\n",
    "    plt.plot(c1_vals, euler_line, label='Euler Line', color='blue')\n",
    "    plt.scatter(c1_star, c2_star, color='red', s=100, label='Optimal (c₁*, c₂*)')\n",
    "\n",
    "    plt.xlabel(\"Consumption in Period 1 (c₁)\")\n",
    "    plt.ylabel(\"Consumption in Period 2 (c₂)\")\n",
    "    plt.title(\"Two-Period Consumption: Budget, Euler & Utility\")\n",
    "    plt.grid(True)\n",
    "    plt.legend()\n",
    "    plt.tight_layout()\n",
    "    plt.show()\n",
    "\n",
    "    s = y1 - c1_star\n",
    "    print(f\"PV Income = {PV_income:.2f}\")\n",
    "    print(f\"Optimal c₁*: {c1_star:.2f}, c₂*: {c2_star:.2f}\")\n",
    "    print(f\"Savings in Period 1: {s:.2f} → {'Saving' if s > 0 else 'Borrowing'}\")\n",
    "\n",
    "interact(\n",
    "    two_period_upgraded,\n",
    "    y1=FloatSlider(value=15.0, min=0.0, max=50.0, step=1.0, description='Income y₁'),\n",
    "    y2=FloatSlider(value=98.0, min=0.0, max=200.0, step=5.0, description='Income y₂'),\n",
    "    r=FloatSlider(value=0.05, min=0.0, max=0.2, step=0.01, description='Interest Rate r'),\n",
    "    beta=FloatSlider(value=1.0, min=0.1, max=2.0, step=0.1, description='Discount Factor β'),\n",
    "    view=Dropdown(options=['Utility Map', 'Clean View'], value='Utility Map', description='View Mode'),\n",
    ");\n"
   ]
  }
 ],
 "metadata": {
  "kernelspec": {
   "display_name": "Python (solow-env)",
   "language": "python",
   "name": "solow-env"
  },
  "language_info": {
   "codemirror_mode": {
    "name": "ipython",
    "version": 3
   },
   "file_extension": ".py",
   "mimetype": "text/x-python",
   "name": "python",
   "nbconvert_exporter": "python",
   "pygments_lexer": "ipython3",
   "version": "3.13.3"
  }
 },
 "nbformat": 4,
 "nbformat_minor": 5
}
