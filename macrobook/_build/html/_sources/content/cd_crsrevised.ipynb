{
 "cells": [
  {
   "cell_type": "code",
   "execution_count": 1,
   "id": "53437fb8",
   "metadata": {
    "tags": [
     "thebe-init",
     "hide-input"
    ]
   },
   "outputs": [
    {
     "data": {
      "application/vnd.jupyter.widget-view+json": {
       "model_id": "5dd8ffe4337e4902a1393161ccd9a46b",
       "version_major": 2,
       "version_minor": 0
      },
      "text/plain": [
       "interactive(children=(IntSlider(value=0, description='x', max=10), Output()), _dom_classes=('widget-interact',…"
      ]
     },
     "metadata": {},
     "output_type": "display_data"
    }
   ],
   "source": [
    "from ipywidgets import interact, widgets\n",
    "interact(lambda x: x**2, x=widgets.IntSlider(min=0, max=10));"
   ]
  },
  {
   "cell_type": "markdown",
   "id": "eeb7f556",
   "metadata": {},
   "source": [
    "# 📘 Cobb-Douglas Production Function\n",
    "\n",
    "The **Cobb-Douglas production function** is a widely used model in economics to represent the relationship between production inputs (typically capital and labor) and the amount of output produced. It's a cornerstone of growth theory and macroeconomic analysis.\n",
    "\n",
    "This interactive notebook explores the standard form with **constant returns to scale (CRS)**:\n",
    "\n",
    "$$Y = A K^{\\alpha} L^{1 - \\alpha}$$\n",
    "\n",
    "- $Y$: Total output (Real GDP)\n",
    "- $A$: Total Factor Productivity (TFP) - represents technology, efficiency, knowledge.\n",
    "- $K$: Capital input (e.g., machinery, buildings)\n",
    "- $L$: Labor input (e.g., hours worked, number of workers)\n",
    "- $\\alpha$: Output elasticity of capital (the percentage change in output for a 1% change in capital, holding labor constant). It also represents capital's share of total income under perfect competition and constant returns to scale. We assume $0 < \\alpha < 1$.\n",
    "- $(1-\\alpha)$: Output elasticity of labor (labor's share of income).\n",
    "\n",
    "This specific form assumes **Constant Returns to Scale (CRS)**: if you double *both* capital and labor ($K$ and $L$), output ($Y$) will also exactly double."
   ]
  },
  {
   "cell_type": "markdown",
   "id": "c5333f75",
   "metadata": {},
   "source": [
    "# ✨ Key Properties\n",
    "\n",
    "The Cobb-Douglas function with CRS has several important properties:\n",
    "\n",
    "1.  **Positive Marginal Products:** Both capital and labor contribute positively to output. Increasing either input, holding the other constant, increases output.\n",
    "    - Marginal Product of Capital (MPK): $MPK = \\frac{\\partial Y}{\\partial K} = \\alpha A (\\frac{L}{K})^{1-\\alpha} = \\alpha \\frac{Y}{K}$\n",
    "    - Marginal Product of Labor (MPL): $MPL = \\frac{\\partial Y}{\\partial L} = (1-\\alpha) A (\\frac{K}{L})^{\\alpha} = (1-\\alpha) \\frac{Y}{L}$\n",
    "\n",
    "2.  **Diminishing Marginal Products:** While adding more of one input increases output, it does so at a decreasing rate (holding the other input constant). The second derivative is negative.\n",
    "    - $\\frac{\\partial^2 Y}{\\partial K^2} < 0$ and $\\frac{\\partial^2 Y}{\\partial L^2} < 0$.\n",
    "    - This is visualized below by the decreasing slope of the production function curve (Y vs K) and the downward-sloping MPK curve.\n",
    "\n",
    "3.  **Constant Returns to Scale:** As mentioned, scaling *all* inputs by a factor $z$ scales output by the same factor $z$.\n",
    "    - $A (zK)^{\\alpha} (zL)^{1 - \\alpha} = A z^{\\alpha} K^{\\alpha} z^{1 - \\alpha} L^{1 - \\alpha} = z^{\\alpha + 1 - \\alpha} (A K^{\\alpha} L^{1 - \\alpha}) = z Y$\n",
    "\n",
    "4.  **Factor Shares:** The exponents $\\alpha$ and $(1-\\alpha)$ represent the share of total income paid to capital and labor, respectively, assuming factors are paid their marginal products (which occurs in perfectly competitive markets)."
   ]
  },
  {
   "cell_type": "markdown",
   "id": "12944ad3",
   "metadata": {},
   "source": [
    "# 📊 Simulation: Output and Marginal Product of Capital\n",
    "\n",
    "The interactive plot below shows how output ($Y$) changes as capital ($K$) increases, holding labor ($L$) and technology ($A$) constant at specified levels.\n",
    "\n",
    "It also plots the **Marginal Product of Capital (MPK)**, which is the additional output produced by adding one more unit of capital. Notice how the MPK decreases as more capital is added, illustrating the property of diminishing marginal returns to a single factor.\n",
    "\n",
    "Adjust the sliders for Total Factor Productivity ($A$), the capital share ($\\alpha$), and the level of Labor ($L$) to see how they affect both the level of output and the productivity of capital."
   ]
  },
  {
   "cell_type": "markdown",
   "id": "4d1210da",
   "metadata": {},
   "source": [
    "# 🏁 Conclusion\n",
    "\n",
    "The Cobb-Douglas production function provides a simple yet powerful way to model how inputs are transformed into output. Key takeaways from this visualization include:\n",
    "\n",
    "* **Role of Inputs:** Both capital ($K$) and labor ($L$) are essential for production.\n",
    "* **Technology/TFP:** The parameter $A$ acts as a multiplier, shifting the entire production function up or down, representing the overall level of technology or efficiency.\n",
    "* **Diminishing Returns:** Increasing only one input (like $K$, holding $L$ constant) leads to progressively smaller increases in output, reflected in the downward-sloping Marginal Product of Capital (MPK) curve.\n",
    "* **Factor Shares:** The parameter $\\alpha$ determines the relative importance of capital and also its share in national income under competitive conditions. Note that the MPK is always below the Average Product of Capital (APK) when $\\alpha < 1$, and their ratio is constant and equal to $\\alpha$.\n",
    "\n",
    "This function serves as a fundamental building block for more complex macroeconomic models, including the Solow growth model which analyzes capital accumulation and long-run economic growth."
   ]
  },
  {
   "cell_type": "code",
   "execution_count": 2,
   "id": "0d6351e4",
   "metadata": {
    "tags": [
     "hide-input"
    ]
   },
   "outputs": [
    {
     "data": {
      "application/vnd.jupyter.widget-view+json": {
       "model_id": "f327e2832b9b4549bce6a7a17bbd3878",
       "version_major": 2,
       "version_minor": 0
      },
      "text/plain": [
       "interactive(children=(FloatSlider(value=1.0, description='TFP (A):', max=3.0, min=0.5, style=SliderStyle(descr…"
      ]
     },
     "metadata": {},
     "output_type": "display_data"
    }
   ],
   "source": [
    "# Import necessary libraries\n",
    "import numpy as np\n",
    "import matplotlib.pyplot as plt\n",
    "from ipywidgets import interact, FloatSlider, IntSlider # Use IntSlider for L\n",
    "from IPython.display import display, Markdown\n",
    "import warnings\n",
    "\n",
    "# Optional: Use a specific style\n",
    "try:\n",
    "    plt.style.use('seaborn-v0_8-whitegrid')\n",
    "except IOError:\n",
    "    pass # Use default if style not found\n",
    "\n",
    "def cobb_douglas_plotter(A=1.0, alpha=0.33, L=100, K_max=100):\n",
    "    \"\"\"\n",
    "    Calculates and plots the Cobb-Douglas production function (Y vs K)\n",
    "    and the Marginal Product of Capital (MPK vs K) for fixed L.\n",
    "\n",
    "    Args:\n",
    "        A (float): Total Factor Productivity (TFP).\n",
    "        alpha (float): Output elasticity of capital (0 < alpha < 1).\n",
    "        L (int): Labor input (fixed level).\n",
    "        K_max (int): Maximum level of Capital (K) to plot.\n",
    "    \"\"\"\n",
    "    # Input validation\n",
    "    alpha = np.clip(alpha, 0.01, 0.99) # Ensure alpha is within reasonable bounds\n",
    "    K_max = max(K_max, 10)\n",
    "    L = max(L, 1)\n",
    "    A = max(A, 0.1)\n",
    "\n",
    "    # Create an array for Capital input K\n",
    "    # Start K slightly above zero to avoid division by zero in MPK calculation if alpha=1\n",
    "    K = np.linspace(1, K_max, 200)\n",
    "\n",
    "    # Calculate Output (Y) using Cobb-Douglas function\n",
    "    # Y = A * K^alpha * L^(1-alpha)\n",
    "    Y = A * (K**alpha) * (L**(1 - alpha))\n",
    "\n",
    "    # Calculate Marginal Product of Capital (MPK)\n",
    "    # MPK = alpha * A * (L/K)^(1-alpha) = alpha * Y / K\n",
    "    # Avoid division by zero for K near zero if K started at 0\n",
    "    MPK = alpha * Y / K\n",
    "\n",
    "    # Calculate Average Product of Capital (APK)\n",
    "    # APK = Y / K\n",
    "    APK = Y / K\n",
    "\n",
    "    # --- Plotting ---\n",
    "    fig, ax1 = plt.subplots(figsize=(10, 6))\n",
    "\n",
    "    # Plot Output (Y) vs Capital (K) on the primary y-axis (ax1)\n",
    "    color1 = 'royalblue'\n",
    "    ax1.set_xlabel(\"Capital (K)\")\n",
    "    ax1.set_ylabel(\"Output (Y)\", color=color1)\n",
    "    line1 = ax1.plot(K, Y, color=color1, linewidth=2.5, label=f'Output Y = A K^{alpha:.2f} L^{1-alpha:.2f}')\n",
    "    ax1.tick_params(axis='y', labelcolor=color1)\n",
    "    ax1.grid(True, linestyle='--', alpha=0.6)\n",
    "    ax1.set_ylim(bottom=0) # Start Y axis at 0\n",
    "\n",
    "    # Create a secondary y-axis (ax2) sharing the same x-axis for MPK and APK\n",
    "    ax2 = ax1.twinx()\n",
    "    color2 = 'forestgreen'\n",
    "    color3 = 'darkorange'\n",
    "    ax2.set_ylabel(\"Marginal/Average Product\", color=color2) # Label for secondary axis\n",
    "    line2 = ax2.plot(K, MPK, color=color2, linestyle='--', linewidth=2, label=f'MPK = α * Y / K')\n",
    "    line3 = ax2.plot(K, APK, color=color3, linestyle=':', linewidth=2, label=f'APK = Y / K')\n",
    "    ax2.tick_params(axis='y', labelcolor=color2)\n",
    "    ax2.set_ylim(bottom=0) # Start MPK/APK axis at 0\n",
    "\n",
    "    # Combine legends from both axes\n",
    "    lines = line1 + line2 + line3\n",
    "    labels = [l.get_label() for l in lines]\n",
    "    ax1.legend(lines, labels, loc='upper left')\n",
    "\n",
    "    ax1.set_title(f\"Cobb-Douglas: Output, MPK, APK (A={A:.2f}, α={alpha:.2f}, L={L})\")\n",
    "    fig.tight_layout() # Adjust layout to prevent overlap\n",
    "    plt.show()\n",
    "\n",
    "    # --- Display Key Values at K_max/2 ---\n",
    "    mid_index = len(K) // 2\n",
    "    K_mid = K[mid_index]\n",
    "    Y_mid = Y[mid_index]\n",
    "    MPK_mid = MPK[mid_index]\n",
    "    APK_mid = APK[mid_index]\n",
    "\n",
    "    results_md = f\"\"\"\n",
    "    ### 📊 Key Values at K ≈ {K_mid:.1f} (Midpoint):\n",
    "\n",
    "    * **Output (Y):** {Y_mid:.2f}\n",
    "    * **Marginal Product of Capital (MPK):** {MPK_mid:.3f}\n",
    "        * *(Interpretation: Adding one more unit of K at this point increases Y by ≈{MPK_mid:.3f})*\n",
    "    * **Average Product of Capital (APK):** {APK_mid:.3f}\n",
    "        * *(Interpretation: On average, each unit of K produces {APK_mid:.3f} units of Y at this point)*\n",
    "    * **Ratio MPK/APK:** {MPK_mid/APK_mid:.3f} (Note: This ratio equals α)\n",
    "    \"\"\"\n",
    "    display(Markdown(results_md))\n",
    "\n",
    "\n",
    "# --- Create Interactive Widgets ---\n",
    "style = {'description_width': 'initial'} # Allow longer descriptions\n",
    "interact(cobb_douglas_plotter,\n",
    "         A=FloatSlider(value=1.0, min=0.5, max=3.0, step=0.1, description='TFP (A):', style=style),\n",
    "         alpha=FloatSlider(value=0.33, min=0.05, max=0.95, step=0.01, description='Capital Share (alpha α):', style=style),\n",
    "         L=IntSlider(value=100, min=10, max=1000, step=10, description='Labor (L):', style=style),\n",
    "         K_max=IntSlider(value=100, min=20, max=500, step=10, description='Max Capital to Plot (K_max):', style=style)\n",
    "        );\n"
   ]
  },
  {
   "cell_type": "markdown",
   "id": "7cc75090",
   "metadata": {},
   "source": [
    "# 📘 Cobb-Douglas Production Function\n",
    "\n",
    "This interactive notebook presents the **Cobb-Douglas production function** with **constant returns to scale**, using insights from both the *GrowthEcon Study Guide* and Charles I. Jones’s *Intermediate Macroeconomics*. We highlight how **output** depends on **capital** and **labor**, and how the production function's structure allows us to discuss **elasticities**, **cost shares**, and **balanced growth**.\n",
    "\n",
    "The general form of the function is:\n",
    "\n",
    "\\\\[\n",
    "Y = A K^{\\\\alpha} L^{1 - \\\\alpha}\n",
    "\\\\]\n",
    "\n",
    "- \\\\( Y \\\\): output (GDP)  \n",
    "- \\\\( A \\\\): total factor productivity (TFP)  \n",
    "- \\\\( K \\\\): physical capital  \n",
    "- \\\\( L \\\\): labor  \n",
    "- \\\\( \\\\alpha \\\\): output elasticity of capital, where \\\\( 0 < \\\\alpha < 1 \\\\)\n",
    "\n",
    "This model assumes **constant returns to scale**, meaning that doubling both capital and labor results in a doubling of output. It's a powerful framework for understanding economic growth, capital accumulation, and labor productivity."
   ]
  }
 ],
 "metadata": {
  "kernelspec": {
   "display_name": "Python (solow-env)",
   "language": "python",
   "name": "solow-env"
  },
  "language_info": {
   "codemirror_mode": {
    "name": "ipython",
    "version": 3
   },
   "file_extension": ".py",
   "mimetype": "text/x-python",
   "name": "python",
   "nbconvert_exporter": "python",
   "pygments_lexer": "ipython3",
   "version": "3.13.3"
  },
  "tags": [
   "thebe-init"
  ]
 },
 "nbformat": 4,
 "nbformat_minor": 5
}
