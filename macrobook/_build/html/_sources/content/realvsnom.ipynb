{
 "cells": [
  {
   "cell_type": "code",
   "execution_count": 1,
   "id": "f0454ee3",
   "metadata": {
    "tags": [
     "thebe-init",
     "hide-input"
    ]
   },
   "outputs": [
    {
     "data": {
      "application/vnd.jupyter.widget-view+json": {
       "model_id": "72c98f7cdac840d881d184002cf8d827",
       "version_major": 2,
       "version_minor": 0
      },
      "text/plain": [
       "interactive(children=(IntSlider(value=0, description='x', max=10), Output()), _dom_classes=('widget-interact',…"
      ]
     },
     "metadata": {},
     "output_type": "display_data"
    }
   ],
   "source": [
    "from ipywidgets import interact, widgets\n",
    "interact(lambda x: x**2, x=widgets.IntSlider(min=0, max=10));"
   ]
  },
  {
   "cell_type": "markdown",
   "id": "64ba20e6",
   "metadata": {},
   "source": [
    "# 📘 Real vs. Nominal GDP Over Time\n",
    "\n",
    "When tracking economic output over time, it's crucial to differentiate between **Nominal GDP** (measured in current prices) and **Real GDP** (measured in constant base-year prices). Nominal GDP reflects changes in both the quantity of goods produced and their prices, while Real GDP isolates changes in quantity only.\n",
    "\n",
    "This simulation demonstrates how inflation causes Nominal GDP to grow faster than Real GDP, illustrating the importance of adjusting for price changes to understand true economic growth."
   ]
  },
  {
   "cell_type": "markdown",
   "id": "6bde6675",
   "metadata": {},
   "source": [
    "# 🔗 The Relationship: Growth Rates & Deflator\n",
    "\n",
    "1.  **Nominal GDP Growth ($g_N$):** The percentage change in the current-dollar value of output.\n",
    "2.  **Real GDP Growth ($g_R$):** The percentage change in the constant-dollar value of output (quantity changes).\n",
    "3.  **Inflation Rate ($\\pi$):** The percentage change in the overall price level.\n",
    "\n",
    "These three are related by the following approximation (especially accurate for small growth rates):\n",
    "\n",
    "$$ g_N \\approx g_R + \\pi $$\n",
    "Or, more precisely:\n",
    "$$ (1 + g_N) = (1 + g_R) (1 + \\pi) $$\n",
    "\n",
    "**GDP Deflator:** A price index that measures the overall level of prices of all goods and services included in GDP relative to a base year.\n",
    "$$ \\text{GDP Deflator}_t = \\frac{\\text{Nominal GDP}_t}{\\text{Real GDP}_t} \\times 100 $$\n",
    "The inflation rate ($\\pi$) is the percentage change in the GDP Deflator:\n",
    "$$ \\pi_t \\approx \\frac{\\text{Deflator}_t - \\text{Deflator}_{t-1}}{\\text{Deflator}_{t-1}} $$\n",
    "\n",
    "In this simulation:\n",
    "* We specify the constant `real_growth` rate ($g_R$) and the constant `inflation` rate ($\\pi$).\n",
    "* We calculate the path of Real GDP: $Y_{Real, t} = Y_0 (1 + g_R)^t$.\n",
    "* We calculate the path of the GDP Deflator (assuming base year=100): $P_t = 100 (1 + \\pi)^t$.\n",
    "* We calculate Nominal GDP using the relationship: $Y_{Nominal, t} = \\frac{Y_{Real, t} \\times P_t}{100}$.\n",
    "\n",
    "The plot shows the diverging paths of Nominal and Real GDP and the rising GDP Deflator reflecting the assumed inflation."
   ]
  },
  {
   "cell_type": "code",
   "execution_count": 2,
   "id": "b25a80d3",
   "metadata": {
    "tags": [
     "hide-input"
    ]
   },
   "outputs": [
    {
     "data": {
      "application/vnd.jupyter.widget-view+json": {
       "model_id": "36a753803f324b8ebe7177eb3239aa2f",
       "version_major": 2,
       "version_minor": 0
      },
      "text/plain": [
       "interactive(children=(FloatSlider(value=1000.0, description='Base Year GDP ($B):', layout=Layout(width='95%'),…"
      ]
     },
     "metadata": {},
     "output_type": "display_data"
    }
   ],
   "source": [
    "# Import necessary libraries\n",
    "import numpy as np\n",
    "import matplotlib.pyplot as plt\n",
    "from ipywidgets import interact, FloatSlider, IntSlider, Layout\n",
    "from IPython.display import display, Markdown\n",
    "import warnings\n",
    "\n",
    "# Optional: Use a specific style\n",
    "try:\n",
    "    plt.style.use('seaborn-v0_8-whitegrid')\n",
    "except IOError:\n",
    "    pass # Use default if style not found\n",
    "\n",
    "def plot_real_vs_nominal_gdp(\n",
    "    base_gdp=1000.0,\n",
    "    inflation_rate=0.03,\n",
    "    real_growth_rate=0.02,\n",
    "    T=20\n",
    "    ):\n",
    "    \"\"\"\n",
    "    Simulates and plots Nominal GDP, Real GDP, and the GDP Deflator over time.\n",
    "\n",
    "    Args:\n",
    "        base_gdp (float): Initial Real GDP (and Nominal GDP) in the base year (t=0).\n",
    "        inflation_rate (float): Constant annual inflation rate (pi).\n",
    "        real_growth_rate (float): Constant annual real GDP growth rate (gR).\n",
    "        T (int): Time Horizon in years.\n",
    "    \"\"\"\n",
    "    # Ensure T is an integer\n",
    "    T = int(T)\n",
    "    if T < 1: T = 1\n",
    "\n",
    "    # Time array (0 to T)\n",
    "    years_idx = np.arange(T + 1)\n",
    "    start_year = 2024 # Example start year\n",
    "    years_actual = start_year + years_idx\n",
    "\n",
    "    # --- Calculate Paths ---\n",
    "    # Real GDP Path: Y_Real(t) = Y_Base * (1 + gR)^t\n",
    "    real_gdp = base_gdp * (1 + real_growth_rate)**years_idx\n",
    "\n",
    "    # GDP Deflator Path: P(t) = P_Base * (1 + pi)^t (Assume P_Base = 100)\n",
    "    gdp_deflator = 100.0 * (1 + inflation_rate)**years_idx\n",
    "\n",
    "    # Nominal GDP Path: Y_Nominal(t) = Y_Real(t) * P(t) / 100\n",
    "    nominal_gdp = real_gdp * gdp_deflator / 100.0\n",
    "\n",
    "    # Calculate Nominal Growth Rate (approx = gR + inflation)\n",
    "    nominal_growth_rate = (1 + real_growth_rate) * (1 + inflation_rate) - 1\n",
    "\n",
    "    # --- Plotting ---\n",
    "    fig, ax1 = plt.subplots(figsize=(10, 6))\n",
    "\n",
    "    # Plot Nominal and Real GDP on primary axis\n",
    "    color_nom = 'darkorange'\n",
    "    color_real = 'forestgreen'\n",
    "    ax1.plot(years_actual, nominal_gdp, label=f'Nominal GDP (gN ≈ {nominal_growth_rate:.1%})', linewidth=2, color=color_nom, marker='o', markersize=4)\n",
    "    ax1.plot(years_actual, real_gdp, label=f'Real GDP (gR = {real_growth_rate:.1%})', linewidth=2, color=color_real, marker='s', markersize=4)\n",
    "    ax1.fill_between(years_actual, real_gdp, nominal_gdp, color='lightgray', alpha=0.6, label='Inflation Effect')\n",
    "    ax1.set_xlabel('Year')\n",
    "    ax1.set_ylabel('GDP ($ Billions, Example)', color='black')\n",
    "    ax1.tick_params(axis='y', labelcolor='black')\n",
    "    ax1.grid(True, linestyle='--', alpha=0.7)\n",
    "    ax1.set_ylim(bottom=0)\n",
    "    # Format y-axis\n",
    "    ax1.get_yaxis().set_major_formatter(plt.FuncFormatter(lambda x, p: f'{x:,.0f}'))\n",
    "\n",
    "\n",
    "    # Create secondary axis for GDP Deflator\n",
    "    ax2 = ax1.twinx()\n",
    "    color_defl = 'crimson'\n",
    "    ax2.plot(years_actual, gdp_deflator, label=f'GDP Deflator (π = {inflation_rate:.1%})', linewidth=2, color=color_defl, linestyle='--', marker='^', markersize=4)\n",
    "    ax2.set_ylabel(f'GDP Deflator (Base Year = {start_year}, Index=100)', color=color_defl)\n",
    "    ax2.tick_params(axis='y', labelcolor=color_defl)\n",
    "    ax2.set_ylim(bottom=0)\n",
    "\n",
    "    # Combine legends\n",
    "    lines1, labels1 = ax1.get_legend_handles_labels()\n",
    "    lines2, labels2 = ax2.get_legend_handles_labels()\n",
    "    ax1.legend(lines1 + lines2, labels1 + labels2, loc='upper left')\n",
    "\n",
    "    ax1.set_title('Real vs. Nominal GDP and GDP Deflator Over Time')\n",
    "    fig.tight_layout()\n",
    "    plt.show()\n",
    "\n",
    "    # --- Display Summary ---\n",
    "    summary_md = f\"\"\"\n",
    "    ### 📊 Growth Summary:\n",
    "\n",
    "    * **Assumed Real GDP Growth (gR):** {real_growth_rate:.2%} per year\n",
    "    * **Assumed Inflation Rate (π):** {inflation_rate:.2%} per year\n",
    "    * **Resulting Nominal GDP Growth (gN ≈ gR + π):** {nominal_growth_rate:.2%} per year\n",
    "\n",
    "    **Values at Year {years_actual[-1]} (T={T}):**\n",
    "    * **Nominal GDP:** ${nominal_gdp[-1]:,.2f}$\n",
    "    * **Real GDP:** ${real_gdp[-1]:,.2f}$\n",
    "    * **GDP Deflator:** {gdp_deflator[-1]:.1f} (Base Year {start_year}=100)\n",
    "    \"\"\"\n",
    "    display(Markdown(summary_md))\n",
    "\n",
    "\n",
    "# --- Create Interactive Widgets ---\n",
    "style = {'description_width': 'initial'}\n",
    "layout = Layout(width='95%')\n",
    "\n",
    "interact(\n",
    "    plot_real_vs_nominal_gdp,\n",
    "    base_gdp=FloatSlider(value=1000.0, min=100, max=10000, step=100, description='Base Year GDP ($B):', style=style, layout=layout, readout_format=',.0f'),\n",
    "    inflation_rate=FloatSlider(value=0.03, min=-0.02, max=0.10, step=0.005, description='Inflation Rate (π):', style=style, layout=layout, readout_format='.1%'),\n",
    "    real_growth_rate=FloatSlider(value=0.02, min=-0.02, max=0.08, step=0.005, description='Real Growth Rate (gR):', style=style, layout=layout, readout_format='.1%'),\n",
    "    T=IntSlider(value=20, min=5, max=50, step=1, description='Years (T):', style=style, layout=layout)\n",
    ");\n"
   ]
  },
  {
   "cell_type": "markdown",
   "id": "d3396794",
   "metadata": {},
   "source": [
    "# 📘 Real vs. Nominal GDP Over Time\n",
    "\n",
    "GDP can be measured in **current prices** (nominal) or **constant prices** (real).  \n",
    "Real GDP tells us what’s happening to quantities — **not prices**.\n",
    "\n",
    "# 🧠 Nominal vs. Real\n",
    "\n",
    "| Nominal GDP | Real GDP |\n",
    "|-------------|----------|\n",
    "| Current prices | Constant prices |\n",
    "| Includes price changes | Strips out inflation |\n",
    "| Grows faster when prices rise | Shows real output growth |\n",
    "\n",
    "We convert nominal to real using a **GDP deflator**:\n",
    "\\[\n",
    "\\text{Real GDP} = \\frac{\\text{Nominal GDP}}{\\text{Deflator}} \\times 100\n",
    "\\]\n",
    "\n",
    "# 📈 Why This Matters\n",
    "\n",
    "Imagine GDP goes up 10% — but prices rose 10%. Did real output increase?  \n",
    "**No!** All the increase is just inflation. Real GDP stays flat.\n",
    "\n",
    "> Real GDP allows us to **compare across time**, not just see dollar values.\n"
   ]
  }
 ],
 "metadata": {
  "kernelspec": {
   "display_name": "Python (solow-env)",
   "language": "python",
   "name": "solow-env"
  },
  "language_info": {
   "codemirror_mode": {
    "name": "ipython",
    "version": 3
   },
   "file_extension": ".py",
   "mimetype": "text/x-python",
   "name": "python",
   "nbconvert_exporter": "python",
   "pygments_lexer": "ipython3",
   "version": "3.13.3"
  },
  "tags": [
   "thebe-init"
  ]
 },
 "nbformat": 4,
 "nbformat_minor": 5
}
