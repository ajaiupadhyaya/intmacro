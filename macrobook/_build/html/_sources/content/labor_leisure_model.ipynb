{
 "cells": [
  {
   "cell_type": "code",
   "execution_count": 1,
   "id": "09fbdc1c",
   "metadata": {
    "tags": [
     "thebe-init",
     "hide-input"
    ]
   },
   "outputs": [
    {
     "data": {
      "application/vnd.jupyter.widget-view+json": {
       "model_id": "5bbf7221516e497b80ad8da4b3a72ec7",
       "version_major": 2,
       "version_minor": 0
      },
      "text/plain": [
       "interactive(children=(IntSlider(value=0, description='x', max=10), Output()), _dom_classes=('widget-interact',…"
      ]
     },
     "metadata": {},
     "output_type": "display_data"
    }
   ],
   "source": [
    "from ipywidgets import interact, widgets\n",
    "interact(lambda x: x**2, x=widgets.IntSlider(min=0, max=10));"
   ]
  },
  {
   "cell_type": "markdown",
   "id": "41cc5161",
   "metadata": {},
   "source": [
    "# 💼 The Labor-Leisure Choice Model\n",
    "\n",
    "How do individuals decide how much time to spend working versus enjoying leisure? This fundamental microeconomic model analyzes the trade-off between consuming goods (which requires earning income through labor) and enjoying leisure time.\n",
    "\n",
    "Individuals aim to maximize their utility (satisfaction) derived from consumption and leisure, subject to the constraints imposed by time and the market wage rate."
   ]
  },
  {
   "cell_type": "markdown",
   "id": "c561284d",
   "metadata": {},
   "source": [
    "# ⚙️ Model Setup\n",
    "\n",
    "1.  **Time Endowment (T):** Individuals have a fixed amount of total time available (e.g., 24 hours per day), which they allocate between labor ($L$) and leisure ($\\ell$).\n",
    "    $$T = L + \\ell$$\n",
    "\n",
    "2.  **Budget Constraint:** Consumption ($c$) is financed solely by labor income. The amount an individual can consume is equal to their wage rate ($w$) multiplied by the hours they work ($L$). Substituting $L = T - \\ell$:\n",
    "    $$c = w L = w (T - \\ell)$$\n",
    "    This equation represents the **budget line**. Its slope is $-w$, indicating that to gain one more hour of leisure, the individual must give up $w$ units of consumption (the opportunity cost of leisure is the wage).\n",
    "\n",
    "3.  **Preferences (Utility Function):** Individuals derive utility from both consumption ($c$) and leisure ($\\ell$). We often use a utility function to represent these preferences. A common choice is the Cobb-Douglas form (often expressed in logs for convenience):\n",
    "    $$U(c, \\ell) = \\ln(c) + \\theta \\ln(\\ell)$$\n",
    "    - $\\theta$ (theta): A parameter representing the relative preference for leisure compared to consumption. A higher $\\theta$ means the individual values leisure more strongly.\n",
    "\n",
    "**The Goal:** The individual chooses the combination of consumption ($c$) and leisure ($\\ell$) that maximizes their utility $U(c, \\ell)$ while satisfying the budget constraint $c = w(T - \\ell)$."
   ]
  },
  {
   "cell_type": "markdown",
   "id": "a6e1877c",
   "metadata": {},
   "source": [
    "# ✨ Optimal Choice: Tangency Condition\n",
    "\n",
    "The optimal choice occurs where the individual's **indifference curve** (representing combinations of $c$ and $\\ell$ that yield the same level of utility) is just tangent to the **budget line**.\n",
    "\n",
    "At the point of tangency, the slope of the indifference curve equals the slope of the budget line.\n",
    "\n",
    "* **Slope of Indifference Curve:** This is the Marginal Rate of Substitution (MRS), which measures how much consumption the individual is *willing* to give up for one more unit of leisure while keeping utility constant.\n",
    "    $$MRS = \\frac{\\text{Marginal Utility of Leisure}}{\\text{Marginal Utility of Consumption}} = \\frac{\\partial U / \\partial \\ell}{\\partial U / \\partial c}$$\n",
    "    For $U = \\ln(c) + \\theta \\ln(\\ell)$, the marginal utilities are $\\frac{\\partial U}{\\partial \\ell} = \\frac{\\theta}{\\ell}$ and $\\frac{\\partial U}{\\partial c} = \\frac{1}{c}$. So:\n",
    "    $$MRS = \\frac{\\theta / \\ell}{1 / c} = \\frac{\\theta c}{\\ell}$$\n",
    "\n",
    "* **Slope of Budget Line:** This is the negative of the wage rate ($-w$), representing the market rate at which consumption *can* be traded for leisure.\n",
    "\n",
    "**Optimality Condition (Tangency):**\n",
    "$$MRS = w$$\n",
    "$$\\frac{\\theta c}{\\ell} = w$$\n",
    "\n",
    "The simulation below finds the optimal bundle $(c^*, \\ell^*)$ that satisfies both this tangency condition and the budget constraint, and visualizes the budget line and indifference curves."
   ]
  },
  {
   "cell_type": "code",
   "execution_count": 2,
   "id": "e75aa275",
   "metadata": {
    "tags": [
     "hide-input"
    ]
   },
   "outputs": [
    {
     "name": "stderr",
     "output_type": "stream",
     "text": [
      "<>:126: SyntaxWarning: invalid escape sequence '\\*'\n",
      "<>:124: SyntaxWarning: invalid escape sequence '\\*'\n",
      "<>:124: SyntaxWarning: invalid escape sequence '\\*'\n",
      "<>:124: SyntaxWarning: invalid escape sequence '\\*'\n",
      "<>:125: SyntaxWarning: invalid escape sequence '\\*'\n",
      "<>:126: SyntaxWarning: invalid escape sequence '\\*'\n",
      "<>:124: SyntaxWarning: invalid escape sequence '\\*'\n",
      "<>:124: SyntaxWarning: invalid escape sequence '\\*'\n",
      "<>:124: SyntaxWarning: invalid escape sequence '\\*'\n",
      "<>:125: SyntaxWarning: invalid escape sequence '\\*'\n",
      "/var/folders/kz/cc2y6j3953z1bgkfgj5xk9yc0000gn/T/ipykernel_86910/3578401104.py:126: SyntaxWarning: invalid escape sequence '\\*'\n",
      "  \n",
      "/var/folders/kz/cc2y6j3953z1bgkfgj5xk9yc0000gn/T/ipykernel_86910/3578401104.py:124: SyntaxWarning: invalid escape sequence '\\*'\n",
      "  display(Markdown(results_md))\n",
      "/var/folders/kz/cc2y6j3953z1bgkfgj5xk9yc0000gn/T/ipykernel_86910/3578401104.py:124: SyntaxWarning: invalid escape sequence '\\*'\n",
      "  display(Markdown(results_md))\n",
      "/var/folders/kz/cc2y6j3953z1bgkfgj5xk9yc0000gn/T/ipykernel_86910/3578401104.py:124: SyntaxWarning: invalid escape sequence '\\*'\n",
      "  display(Markdown(results_md))\n",
      "/var/folders/kz/cc2y6j3953z1bgkfgj5xk9yc0000gn/T/ipykernel_86910/3578401104.py:125: SyntaxWarning: invalid escape sequence '\\*'\n",
      "  \n"
     ]
    },
    {
     "data": {
      "application/vnd.jupyter.widget-view+json": {
       "model_id": "41c8d522fac94b13bc909b0d70f57f6d",
       "version_major": 2,
       "version_minor": 0
      },
      "text/plain": [
       "interactive(children=(FloatSlider(value=15.0, description='Wage Rate (w):', max=50.0, min=1.0, readout_format=…"
      ]
     },
     "metadata": {},
     "output_type": "display_data"
    }
   ],
   "source": [
    "# Import necessary libraries\n",
    "import numpy as np\n",
    "import matplotlib.pyplot as plt\n",
    "from ipywidgets import interact, FloatSlider, IntSlider # Use IntSlider for T\n",
    "from IPython.display import display, Markdown\n",
    "import warnings\n",
    "\n",
    "# Optional: Use a specific style\n",
    "try:\n",
    "    plt.style.use('seaborn-v0_8-whitegrid')\n",
    "except IOError:\n",
    "    pass # Use default if style not found\n",
    "\n",
    "def labor_leisure_optimizer(w=15.0, T=24, theta=1.0):\n",
    "    \"\"\"\n",
    "    Calculates and plots the optimal labor-leisure choice.\n",
    "\n",
    "    Args:\n",
    "        w (float): Real wage rate.\n",
    "        T (int): Total time endowment.\n",
    "        theta (float): Preference parameter for leisure in U=ln(c) + theta*ln(l).\n",
    "    \"\"\"\n",
    "    # Input validation\n",
    "    T = int(T)\n",
    "    if T <= 0: T = 1\n",
    "    w = max(w, 0.1)\n",
    "    theta = max(theta, 0.01)\n",
    "\n",
    "    # --- Analytical Solution ---\n",
    "    # From MRS = w => theta * c / l = w\n",
    "    # Substitute budget constraint c = w * (T - l):\n",
    "    # theta * w * (T - l) / l = w\n",
    "    # theta * (T - l) = l\n",
    "    # theta * T - theta * l = l\n",
    "    # theta * T = l * (1 + theta)\n",
    "    # Optimal leisure l_star:\n",
    "    l_star = (theta / (1 + theta)) * T\n",
    "    # Ensure leisure doesn't exceed total time or become non-positive\n",
    "    l_star = np.clip(l_star, 1e-6, T - 1e-6)\n",
    "\n",
    "    # Optimal labor L_star:\n",
    "    L_star = T - l_star\n",
    "    # Optimal consumption c_star:\n",
    "    c_star = w * L_star\n",
    "\n",
    "    # --- Calculations for Plotting ---\n",
    "    # Leisure values for plotting curves\n",
    "    l_vals = np.linspace(1e-3, T - 1e-3, 400) # Avoid l=0 or l=T\n",
    "\n",
    "    # Budget line: c = w * (T - l)\n",
    "    c_budget = w * (T - l_vals)\n",
    "\n",
    "    # Utility function\n",
    "    def utility(c, l):\n",
    "        # Use np.log where possible, handle non-positive values\n",
    "        c_safe = np.maximum(c, 1e-9)\n",
    "        l_safe = np.maximum(l, 1e-9)\n",
    "        # Check for non-positive inputs that would lead to -inf\n",
    "        if np.any(c <= 1e-9) or np.any(l <= 1e-9):\n",
    "            # Handle array case: return array with -inf where needed\n",
    "            u_val = np.full_like(c, -np.inf, dtype=float)\n",
    "            valid_mask = (c > 1e-9) & (l > 1e-9)\n",
    "            u_val[valid_mask] = np.log(c_safe[valid_mask]) + theta * np.log(l_safe[valid_mask])\n",
    "            return u_val\n",
    "        else:\n",
    "            # Scalar case\n",
    "            return np.log(c_safe) + theta * np.log(l_safe)\n",
    "\n",
    "\n",
    "    # Utility level at the optimum\n",
    "    U_star = utility(c_star, l_star)\n",
    "\n",
    "    # Indifference curve at the optimum: U_star = ln(c) + theta*ln(l)\n",
    "    # => ln(c) = U_star - theta*ln(l) => c = exp(U_star - theta*ln(l))\n",
    "    with np.errstate(over='ignore'): # Ignore potential overflow for exp\n",
    "        c_indiff_star = np.exp(U_star - theta * np.log(l_vals))\n",
    "\n",
    "    # --- Plotting ---\n",
    "    fig, ax = plt.subplots(figsize=(10, 7))\n",
    "\n",
    "    # Plot Budget Line\n",
    "    ax.plot(l_vals, c_budget, label=f'Budget Line (Slope = -{w:.2f})', color='black', linewidth=2)\n",
    "\n",
    "    # Plot Optimal Indifference Curve\n",
    "    ax.plot(l_vals, c_indiff_star, linestyle='--', color='red', alpha=0.8, label=f'Optimal Indifference Curve (U≈{U_star:.2f})')\n",
    "\n",
    "    # Plot Optimal Point (tangency)\n",
    "    ax.scatter(l_star, c_star, color='red', s=120, zorder=5, label='Optimal Choice (c*, l*)')\n",
    "    ax.annotate(f\"Optimal Point\\n Leisure l* = {l_star:.1f} hrs\\n Labor L* = {L_star:.1f} hrs\\n Cons. c* = {c_star:.1f}\",\n",
    "                xy=(l_star, c_star), xytext=(l_star + 0.05*T, c_star + 0.05*w*T),\n",
    "                arrowprops=dict(arrowstyle='->', connectionstyle='arc3,rad=0.2'),\n",
    "                fontsize=10, bbox=dict(boxstyle='round,pad=0.3', fc='white', alpha=0.7))\n",
    "\n",
    "    # Add text for tangency condition\n",
    "    # MRS = (theta * c) / l\n",
    "    MRS_at_optimum = (theta * c_star) / l_star\n",
    "    ax.text(0.05 * T, 0.9 * w * T, f\"Optimality Check:\\nMRS = θc*/l* = {MRS_at_optimum:.2f}\\nWage w = {w:.2f}\\n(MRS ≈ w: {'✅' if np.isclose(MRS_at_optimum, w) else '❌'})\",\n",
    "            fontsize=10, bbox=dict(boxstyle='round,pad=0.3', fc='lightyellow', ec='gray', alpha=0.8))\n",
    "\n",
    "\n",
    "    ax.set_xlabel(\"Leisure (hours, l)\")\n",
    "    ax.set_ylabel(\"Consumption (units, c)\")\n",
    "    ax.set_title(\"Labor-Leisure Optimal Choice\")\n",
    "    ax.set_xlim(0, T)\n",
    "    ax.set_ylim(0, w * T * 1.1) # Max possible consumption + 10%\n",
    "    ax.legend(loc='upper right')\n",
    "    ax.grid(True, linestyle='--', alpha=0.7)\n",
    "    plt.tight_layout()\n",
    "    plt.show()\n",
    "\n",
    "    # --- Display Results ---\n",
    "    results_md = f\"\"\"\n",
    "    ### 📊 Optimal Choice Results:\n",
    "\n",
    "    * **Optimal Leisure (l\\*):** {l_star:.2f} hours\n",
    "    * **Optimal Labor (L\\* = T - l\\*):** {L_star:.2f} hours\n",
    "    * **Optimal Consumption (c\\* = wL\\*):** {c_star:.2f} units\n",
    "    * **Utility Level at Optimum (U\\*):** {U_star:.3f}\n",
    "    * **Optimality Condition Check:**\n",
    "        * MRS = (θ * c\\*) / l\\* = ({theta:.2f} * {c_star:.2f}) / {l_star:.2f} = **{MRS_at_optimum:.3f}**\n",
    "        * Wage (w) = **{w:.3f}**\n",
    "        * (MRS should equal w at the optimum)\n",
    "    \"\"\"\n",
    "    display(Markdown(results_md))\n",
    "\n",
    "\n",
    "# --- Create Interactive Widgets ---\n",
    "style = {'description_width': 'initial'}\n",
    "interact(\n",
    "    labor_leisure_optimizer,\n",
    "    w=FloatSlider(value=15.0, min=1, max=50, step=1, description='Wage Rate (w):', style=style, readout_format='.1f'),\n",
    "    T=IntSlider(value=24, min=8, max=40, step=1, description='Time Endowment (T hrs):', style=style),\n",
    "    theta=FloatSlider(value=1.0, min=0.1, max=5.0, step=0.1, description='Leisure Preference (theta θ):', style=style, readout_format='.1f'),\n",
    ");\n"
   ]
  }
 ],
 "metadata": {
  "kernelspec": {
   "display_name": "Python (solow-env)",
   "language": "python",
   "name": "solow-env"
  },
  "language_info": {
   "codemirror_mode": {
    "name": "ipython",
    "version": 3
   },
   "file_extension": ".py",
   "mimetype": "text/x-python",
   "name": "python",
   "nbconvert_exporter": "python",
   "pygments_lexer": "ipython3",
   "version": "3.13.3"
  },
  "tags": [
   "thebe-init"
  ]
 },
 "nbformat": 4,
 "nbformat_minor": 5
}
