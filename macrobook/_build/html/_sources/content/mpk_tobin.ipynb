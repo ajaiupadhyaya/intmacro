{
 "cells": [
  {
   "cell_type": "code",
   "execution_count": null,
   "id": "a55863dd",
   "metadata": {},
   "outputs": [],
   "source": [
    ":tags: [thebe-init]\n",
    "from ipywidgets import interact, widgets\n",
    "interact(lambda x: x**2, x=widgets.IntSlider(min=0, max=10));"
   ]
  },
  {
   "cell_type": "code",
   "execution_count": 1,
   "id": "c2cd1c45",
   "metadata": {},
   "outputs": [
    {
     "data": {
      "application/vnd.jupyter.widget-view+json": {
       "model_id": "668558e7a59349a6b8b7a5bee7c59711",
       "version_major": 2,
       "version_minor": 0
      },
      "text/plain": [
       "interactive(children=(FloatSlider(value=1.0, description='TFP (A)', max=3.0, min=0.5), FloatSlider(value=0.3, …"
      ]
     },
     "metadata": {},
     "output_type": "display_data"
    }
   ],
   "source": [
    "import numpy as np\n",
    "import matplotlib.pyplot as plt\n",
    "from ipywidgets import interact, FloatSlider\n",
    "from IPython.display import Markdown, display\n",
    "\n",
    "def investment_model(A=1, alpha=0.3, r=0.04, delta=0.06, K=20):\n",
    "    # MPK\n",
    "    MPK = alpha * A * K**(alpha - 1)\n",
    "    cost = r + delta\n",
    "    q = MPK / cost\n",
    "\n",
    "    # Capital range for plot\n",
    "    K_vals = np.linspace(5, 100, 200)\n",
    "    MPK_vals = alpha * A * K_vals**(alpha - 1)\n",
    "    cost_line = np.ones_like(K_vals) * cost\n",
    "\n",
    "    # Plot MPK curve vs cost\n",
    "    plt.figure(figsize=(8, 5))\n",
    "    plt.plot(K_vals, MPK_vals, label='MPK(K)', color='darkblue', linewidth=2)\n",
    "    plt.axhline(cost, color='firebrick', linestyle='--', label=f'Cost of Capital (r + δ = {cost:.2f})')\n",
    "    plt.axvline(K, color='gray', linestyle=':', label=f'Your K = {K}')\n",
    "    plt.title(\"🏗️ MPK vs Cost of Capital\")\n",
    "    plt.xlabel(\"Capital (K)\")\n",
    "    plt.ylabel(\"Marginal Product of Capital\")\n",
    "    plt.grid(True, linestyle='--', alpha=0.5)\n",
    "    plt.legend()\n",
    "    plt.tight_layout()\n",
    "    plt.show()\n",
    "\n",
    "    # Summary\n",
    "    eq_summary = f\"\"\"\n",
    "### 📊 Live Output Summary\n",
    "\n",
    "- **Your capital (K)** = {K:.2f}  \n",
    "- **MPK** = {MPK:.3f}  \n",
    "- **r + δ** = {cost:.3f}  \n",
    "- **Tobin’s q** = {q:.2f}\n",
    "\n",
    "\"\"\"\n",
    "    if q > 1:\n",
    "        eq_summary += \"**✅ Invest! q > 1 (Capital is valuable)**\"\n",
    "    elif q < 1:\n",
    "        eq_summary += \"**❌ Do not invest. q < 1 (Capital not worth it)**\"\n",
    "    else:\n",
    "        eq_summary += \"**⚖️ Indifferent: q = 1**\"\n",
    "\n",
    "    display(Markdown(eq_summary))\n",
    "\n",
    "interact(investment_model,\n",
    "         A=FloatSlider(value=1, min=0.5, max=3, step=0.1, description='TFP (A)'),\n",
    "         alpha=FloatSlider(value=0.3, min=0.1, max=0.5, step=0.01, description='Capital Share α'),\n",
    "         r=FloatSlider(value=0.04, min=0.0, max=0.1, step=0.01, description='Interest Rate (r)'),\n",
    "         delta=FloatSlider(value=0.06, min=0.0, max=0.1, step=0.01, description='Depreciation (δ)'),\n",
    "         K=FloatSlider(value=20, min=5, max=100, step=1, description='Your Capital (K)'));"
   ]
  },
  {
   "cell_type": "markdown",
   "id": "776479e9",
   "metadata": {},
   "source": [
    "# 🏗️ Investment Theory: MPK, Interest Rates, and Tobin’s q\n",
    "\n",
    "Firms choose capital \\( K \\) to maximize profits.  \n",
    "They invest if the return on capital exceeds its cost.\n",
    "\n",
    "---\n",
    "\n",
    "### 🔑 First-Order Condition:\n",
    "\\[\n",
    "\\text{Marginal Product of Capital (MPK)} = r + \\delta\n",
    "\\]\n",
    "\n",
    "- \\( r \\): real interest rate  \n",
    "- \\( \\delta \\): depreciation rate\n",
    "\n",
    "---\n",
    "\n",
    "### 💡 Intuition:\n",
    "- If \\( MPK > r + \\delta \\): **invest more**\n",
    "- If \\( MPK < r + \\delta \\): **invest less**\n",
    "\n",
    "---\n",
    "\n",
    "### 🧮 Tobin’s q Theory:\n",
    "\\[\n",
    "q = \\frac{\\text{Value of Installed Capital}}{\\text{Replacement Cost}}\n",
    "\\]\n",
    "\n",
    "> If \\( q > 1 \\), the firm invests  \n",
    "> If \\( q < 1 \\), it does not\n",
    "\n",
    "---"
   ]
  }
 ],
 "metadata": {
  "kernelspec": {
   "display_name": "Python (solow-env)",
   "language": "python",
   "name": "solow-env"
  },
  "language_info": {
   "codemirror_mode": {
    "name": "ipython",
    "version": 3
   },
   "file_extension": ".py",
   "mimetype": "text/x-python",
   "name": "python",
   "nbconvert_exporter": "python",
   "pygments_lexer": "ipython3",
   "version": "3.13.3"
  }
 },
 "nbformat": 4,
 "nbformat_minor": 5
}
