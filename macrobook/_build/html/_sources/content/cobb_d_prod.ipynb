{
 "cells": [
  {
   "cell_type": "code",
   "execution_count": null,
   "id": "e529fde0",
   "metadata": {
    "tags": [
     "thebe-init",
     "thebe-init",
     "hide-input"
    ]
   },
   "outputs": [],
   "source": [
    ":tags: [thebe-init]\n",
    "from ipywidgets import interact, widgets\n",
    "interact(lambda x: x**2, x=widgets.IntSlider(min=0, max=10));"
   ]
  },
  {
   "cell_type": "code",
   "execution_count": null,
   "id": "98f0b6db",
   "metadata": {
    "tags": [
     "thebe-init",
     "hide-input"
    ]
   },
   "outputs": [
    {
     "data": {
      "application/vnd.jupyter.widget-view+json": {
       "model_id": "19a75dccb2664c378cdab03bdd85ec81",
       "version_major": 2,
       "version_minor": 0
      },
      "text/plain": [
       "interactive(children=(FloatSlider(value=1.0, description='Ā', max=3.0, min=0.5), FloatSlider(value=100.0, des…"
      ]
     },
     "metadata": {},
     "output_type": "display_data"
    },
    {
     "data": {
      "text/plain": [
       "<function __main__.cobb_douglas_model(A=1.0, K=100, L=100, alpha=0.3, scale=1.0)>"
      ]
     },
     "execution_count": 2,
     "metadata": {},
     "output_type": "execute_result"
    }
   ],
   "source": [
    "# Vuoksi Macro Lab: Cobb-Douglas Production (GrowthEcon Ch. 3, CJ Ch. 4)\n",
    "\n",
    "import numpy as np\n",
    "import matplotlib.pyplot as plt\n",
    "from ipywidgets import interact, FloatSlider\n",
    "\n",
    "plt.rcParams['axes.titlesize'] = 14\n",
    "plt.rcParams['axes.labelsize'] = 12\n",
    "plt.rcParams['legend.fontsize'] = 11\n",
    "plt.rcParams['figure.facecolor'] = 'white'\n",
    "plt.rcParams['axes.grid'] = True\n",
    "\n",
    "# --- Cobb-Douglas Production Function ---\n",
    "def cobb_douglas_model(A=1.0, K=100, L=100, alpha=0.3, scale=1.0):\n",
    "    Y = A * (K ** alpha) * (L ** (1 - alpha))\n",
    "    K_scaled = K * scale\n",
    "    L_scaled = L * scale\n",
    "    Y_scaled = A * (K_scaled ** alpha) * (L_scaled ** (1 - alpha))\n",
    "\n",
    "    k_vals = np.linspace(10, 300, 300)\n",
    "    y_vals = A * (k_vals ** alpha) * (L ** (1 - alpha))\n",
    "\n",
    "    fig, axs = plt.subplots(1, 2, figsize=(14, 5))\n",
    "\n",
    "    # Plot 1: Diminishing returns\n",
    "    axs[0].plot(k_vals, y_vals, label='Y = A·K^α·L^(1−α)', color='steelblue')\n",
    "    axs[0].axvline(K, linestyle='--', color='gray')\n",
    "    axs[0].axhline(Y, linestyle='--', color='gray')\n",
    "    axs[0].scatter(K, Y, color='red')\n",
    "    axs[0].set_title(\"Diminishing Returns to Capital (L fixed)\")\n",
    "    axs[0].set_xlabel(\"Capital (K)\")\n",
    "    axs[0].set_ylabel(\"Output (Y)\")\n",
    "    axs[0].legend()\n",
    "\n",
    "    # Plot 2: CRS scaling\n",
    "    axs[1].bar(['Original', 'Scaled (λK, λL)'], [Y, Y_scaled], color=['steelblue', 'seagreen'])\n",
    "    axs[1].set_title(\"Constant Returns to Scale (CRS)\")\n",
    "    axs[1].set_ylabel(\"Output (Y)\")\n",
    "    axs[1].text(0, Y + 2, f\"{Y:.1f}\", ha='center')\n",
    "    axs[1].text(1, Y_scaled + 2, f\"{Y_scaled:.1f}\", ha='center')\n",
    "\n",
    "    fig.suptitle(\"Cobb-Douglas Production Function\", fontsize=16)\n",
    "    plt.tight_layout()\n",
    "    plt.show()\n",
    "\n",
    "    print(\"\\033[1mOUTPUT RESULTS\\033[0m\")\n",
    "    print(f\"Y = A·K^α·L^(1−α) = {Y:.2f}\")\n",
    "    print(f\"Scaled Output with λ = {scale}: Y_scaled = {Y_scaled:.2f}\")\n",
    "    print(\"CRS: Output scales 1:1 with proportional increases in K and L\")\n",
    "\n",
    "interact(\n",
    "    cobb_douglas_model,\n",
    "    A=FloatSlider(value=1.0, min=0.5, max=3.0, step=0.1, description='Ā'),\n",
    "    K=FloatSlider(value=100, min=10, max=300, step=10, description='K'),\n",
    "    L=FloatSlider(value=100, min=10, max=300, step=10, description='L'),\n",
    "    alpha=FloatSlider(value=0.3, min=0.1, max=0.9, step=0.05, description='α'),\n",
    "    scale=FloatSlider(value=1.0, min=0.5, max=3.0, step=0.1, description='λ (Scale)')\n",
    ")\n"
   ]
  },
  {
   "cell_type": "code",
   "execution_count": 3,
   "id": "3cdbb045",
   "metadata": {
    "tags": [
     "thebe-init",
     "hide-input"
    ]
   },
   "outputs": [
    {
     "name": "stderr",
     "output_type": "stream",
     "text": [
      "<>:42: SyntaxWarning: invalid escape sequence '\\['\n",
      "<>:42: SyntaxWarning: invalid escape sequence '\\['\n",
      "/var/folders/kz/cc2y6j3953z1bgkfgj5xk9yc0000gn/T/ipykernel_11126/2616417955.py:42: SyntaxWarning: invalid escape sequence '\\['\n",
      "  A_bar=FloatSlider(value=1.0, min=0.5, max=2.0, step=0.1, description='Productivity Ā'),\n"
     ]
    },
    {
     "data": {
      "application/vnd.jupyter.widget-view+json": {
       "model_id": "483825906a3b492490a7339bb12e8dcf",
       "version_major": 2,
       "version_minor": 0
      },
      "text/plain": [
       "interactive(children=(FloatSlider(value=1.0, description='Productivity Ā', max=2.0, min=0.5), IntSlider(value…"
      ]
     },
     "metadata": {},
     "output_type": "display_data"
    },
    {
     "data": {
      "text/plain": [
       "<function __main__.cobb_douglas_crs(A_bar=1.0, K=100, L=100, alpha=0.33)>"
      ]
     },
     "execution_count": 3,
     "metadata": {},
     "output_type": "execute_result"
    }
   ],
   "source": [
    "# Cobb-Douglas Production Function — CRS Interactive Simulation\n",
    "\n",
    "import numpy as np\n",
    "import matplotlib.pyplot as plt\n",
    "from ipywidgets import interact, FloatSlider, IntSlider\n",
    "from IPython.display import Markdown, display\n",
    "\n",
    "plt.rcParams['axes.titlesize'] = 15\n",
    "plt.rcParams['axes.labelsize'] = 13\n",
    "plt.rcParams['figure.figsize'] = (8, 5)\n",
    "\n",
    "# --- Cobb-Douglas Production Function with CRS Visualization ---\n",
    "def cobb_douglas_crs(A_bar=1.0, K=100, L=100, alpha=0.33):\n",
    "    Y = A_bar * (K**alpha) * (L**(1 - alpha))\n",
    "    \n",
    "    # Scale up both inputs for CRS test\n",
    "    K2, L2 = 2*K, 2*L\n",
    "    Y2 = A_bar * (K2**alpha) * (L2**(1 - alpha))\n",
    "\n",
    "    fig, ax = plt.subplots()\n",
    "    bars = ax.bar(['Original Y', 'Double Inputs Y'], [Y, Y2], color=['#1f77b4', '#ff7f0e'])\n",
    "    ax.set_title('Cobb-Douglas: Constant Returns to Scale')\n",
    "    ax.set_ylabel('Output (Y)')\n",
    "    ax.bar_label(bars, fmt='%.0f')\n",
    "    ax.grid(axis='y')\n",
    "    plt.tight_layout()\n",
    "    plt.show()\n",
    "\n",
    "    display(Markdown(f\"\"\"\n",
    "**Output (Y):** `${Y:,.0f}`  \n",
    "**Output with Doubled Inputs (2K, 2L):** `${Y2:,.0f}`\n",
    "\n",
    "---\n",
    "**Constant Returns to Scale holds** if:\n",
    "\\[ Y_2 = 2 \\cdot Y_1 \\]\n",
    "With Cobb-Douglas, this always occurs **when**:\n",
    "\\[ \\alpha + (1 - \\alpha) = 1 \\]\n",
    "    \"\"\"))\n",
    "\n",
    "interact(\n",
    "    cobb_douglas_crs,\n",
    "    A_bar=FloatSlider(value=1.0, min=0.5, max=2.0, step=0.1, description='Productivity Ā'),\n",
    "    K=IntSlider(value=100, min=10, max=300, step=10, description='Capital (K)'),\n",
    "    L=IntSlider(value=100, min=10, max=300, step=10, description='Labor (L)'),\n",
    "    alpha=FloatSlider(value=0.33, min=0.2, max=0.5, step=0.01, description='Capital Share α')\n",
    ")\n",
    "\n",
    "\n"
   ]
  },
  {
   "cell_type": "markdown",
   "id": "fa3c4f21",
   "metadata": {},
   "source": [
    "# --- Markdown Theory Summary ---\n",
    "display(Markdown(r'''\n",
    "\n",
    "# 🧠 Cobb-Douglas Production Function (CRS)\n",
    "\n",
    "\\[\n",
    "Y = \\bar{A} \\cdot K^\\alpha \\cdot L^{1 - \\alpha}\n",
    "\\]\n",
    "\n",
    "- $Y$ = Output\n",
    "- $K$ = Capital\n",
    "- $L$ = Labor\n",
    "- $\\bar{A}$ = Total Factor Productivity (TFP)\n",
    "- $\\alpha$ = Capital's share of output (typically ~1/3)\n",
    "\n",
    "# 🔁 Constant Returns to Scale (CRS)\n",
    "\n",
    "If we scale **both** $K$ and $L$ by any factor $\\lambda$:\n",
    "\\[\n",
    "Y' = \\bar{A} \\cdot (\\lambda K)^\\alpha \\cdot (\\lambda L)^{1 - \\alpha} = \\lambda Y\n",
    "\\]\n",
    "\n",
    "Thus, the Cobb-Douglas function exhibits **constant returns to scale**.\n",
    "\n",
    "'''))"
   ]
  },
  {
   "cell_type": "markdown",
   "id": "33f2a7b8",
   "metadata": {},
   "source": [
    "### 📘 Theory Summary\n",
    "\n",
    "The Cobb-Douglas production function:\n",
    "\\[\n",
    "Y = \\bar{A} \\cdot K^\\alpha \\cdot L^{1 - \\alpha}\n",
    "\\]\n",
    "\n",
    "- **Constant Returns to Scale (CRS):**\n",
    "  Scaling both inputs by λ scales output by λ  \n",
    "  (i.e., doubling K and L doubles Y)\n",
    "\n",
    "- **Diminishing Returns to Capital:**\n",
    "  Holding L constant, increases in K result in smaller output gains\n",
    "\n",
    "**Sources**:\n",
    "- GrowthEcon Study Guide [Ch. 3](https://growthecon.com/StudyGuide/production.html)\n",
    "- Charles I. Jones, *Macroeconomics*, Ch. 4"
   ]
  }
 ],
 "metadata": {
  "kernelspec": {
   "display_name": "Python (solow-env)",
   "language": "python",
   "name": "solow-env"
  },
  "language_info": {
   "codemirror_mode": {
    "name": "ipython",
    "version": 3
   },
   "file_extension": ".py",
   "mimetype": "text/x-python",
   "name": "python",
   "nbconvert_exporter": "python",
   "pygments_lexer": "ipython3",
   "version": "3.13.3"
  }
 },
 "nbformat": 4,
 "nbformat_minor": 5
}
