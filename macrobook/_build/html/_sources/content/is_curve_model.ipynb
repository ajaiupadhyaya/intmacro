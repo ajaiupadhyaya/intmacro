{
 "cells": [
  {
   "cell_type": "code",
   "execution_count": 1,
   "id": "f2ee9a8a",
   "metadata": {},
   "outputs": [
    {
     "data": {
      "application/vnd.jupyter.widget-view+json": {
       "model_id": "1e8a9574eb04452ea9fcab5a15fff199",
       "version_major": 2,
       "version_minor": 0
      },
      "text/plain": [
       "interactive(children=(FloatSlider(value=20.0, description='Autonomous C (c₀)', max=50.0, step=1.0), FloatSlide…"
      ]
     },
     "metadata": {},
     "output_type": "display_data"
    }
   ],
   "source": [
    "# Vuoksi Macro Lab: IS Curve (Chef’s Kiss Edition)\n",
    "\n",
    "import numpy as np\n",
    "import matplotlib.pyplot as plt\n",
    "from ipywidgets import interact, FloatSlider, Dropdown\n",
    "\n",
    "plt.rcParams['axes.titlesize'] = 14\n",
    "plt.rcParams['axes.labelsize'] = 12\n",
    "plt.rcParams['legend.fontsize'] = 11\n",
    "plt.rcParams['figure.facecolor'] = 'white'\n",
    "plt.rcParams['axes.grid'] = True\n",
    "\n",
    "# --- IS Curve Function ---\n",
    "def is_curve_upgraded(c0=20, c1=0.7, i0=25, i1=50, G=50, T=30, overlay='None'):\n",
    "    r_vals = np.linspace(0.01, 0.2, 200)\n",
    "    Y_vals = (c0 - c1*T + i0 - i1*r_vals + G) / (1 - c1)\n",
    "\n",
    "    fig, ax = plt.subplots(figsize=(10, 6))\n",
    "    ax.plot(r_vals, Y_vals, label='IS Curve', color='blue')\n",
    "\n",
    "    # Optional overlays for policy shift comparisons\n",
    "    if overlay == 'Higher G':\n",
    "        G2 = G + 20\n",
    "        Y_shift = (c0 - c1*T + i0 - i1*r_vals + G2) / (1 - c1)\n",
    "        ax.plot(r_vals, Y_shift, label='IS w/ ↑G', linestyle='--', color='green')\n",
    "    elif overlay == 'Lower T':\n",
    "        T2 = T - 10\n",
    "        Y_shift = (c0 - c1*T2 + i0 - i1*r_vals + G) / (1 - c1)\n",
    "        ax.plot(r_vals, Y_shift, label='IS w/ ↓T', linestyle='--', color='purple')\n",
    "    elif overlay == 'Investment Collapse':\n",
    "        i0_new = i0 - 15\n",
    "        Y_shift = (c0 - c1*T + i0_new - i1*r_vals + G) / (1 - c1)\n",
    "        ax.plot(r_vals, Y_shift, label='IS w/ ↓I₀', linestyle='--', color='red')\n",
    "\n",
    "    # Annotate equilibrium at r = 5%\n",
    "    r_eq = 0.05\n",
    "    Y_eq = (c0 - c1*T + i0 - i1*r_eq + G) / (1 - c1)\n",
    "    ax.scatter(r_eq, Y_eq, color='black', s=80, zorder=5)\n",
    "    ax.annotate(f\"Equilibrium\\nY = {Y_eq:.1f}\", xy=(r_eq, Y_eq), xytext=(r_eq+0.01, Y_eq+5),\n",
    "                arrowprops=dict(arrowstyle='->'), fontsize=11, bbox=dict(boxstyle='round,pad=0.3', fc='white'))\n",
    "\n",
    "    ax.set_title(\"IS Curve: Interest Rate vs Output\")\n",
    "    ax.set_xlabel(\"Interest Rate (r)\")\n",
    "    ax.set_ylabel(\"Output (Y)\")\n",
    "    ax.legend()\n",
    "    ax.grid(True)\n",
    "    plt.tight_layout()\n",
    "    plt.show()\n",
    "\n",
    "    print(f\"Y(r = 5%) = {Y_eq:.2f}\")\n",
    "\n",
    "interact(\n",
    "    is_curve_upgraded,\n",
    "    c0=FloatSlider(value=20, min=0, max=50, step=1, description='Autonomous C (c₀)'),\n",
    "    c1=FloatSlider(value=0.7, min=0.1, max=0.95, step=0.05, description='MPC (c₁)'),\n",
    "    i0=FloatSlider(value=25, min=0, max=50, step=1, description='Autonomous I (i₀)'),\n",
    "    i1=FloatSlider(value=50, min=10, max=100, step=5, description='r Sensitivity (i₁)'),\n",
    "    G=FloatSlider(value=50, min=0, max=100, step=5, description='Govt Spend (G)'),\n",
    "    T=FloatSlider(value=30, min=0, max=50, step=1, description='Taxes (T)'),\n",
    "    overlay=Dropdown(options=['None', 'Higher G', 'Lower T', 'Investment Collapse'], value='None', description='Overlay Shift'),\n",
    ");\n"
   ]
  }
 ],
 "metadata": {
  "kernelspec": {
   "display_name": "Python (solow-env)",
   "language": "python",
   "name": "solow-env"
  },
  "language_info": {
   "codemirror_mode": {
    "name": "ipython",
    "version": 3
   },
   "file_extension": ".py",
   "mimetype": "text/x-python",
   "name": "python",
   "nbconvert_exporter": "python",
   "pygments_lexer": "ipython3",
   "version": "3.13.3"
  }
 },
 "nbformat": 4,
 "nbformat_minor": 5
}
