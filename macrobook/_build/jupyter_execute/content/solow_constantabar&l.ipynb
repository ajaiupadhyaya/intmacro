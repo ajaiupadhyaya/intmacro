{
 "cells": [
  {
   "cell_type": "code",
   "execution_count": null,
   "id": "a44f92be",
   "metadata": {},
   "outputs": [
    {
     "data": {
      "application/vnd.jupyter.widget-view+json": {
       "model_id": "e5f1060dc4fb4a6e8f5822383d2e7283",
       "version_major": 2,
       "version_minor": 0
      },
      "text/plain": [
       "interactive(children=(FloatSlider(value=1.0, description='Ā', max=3.0, min=0.5), FloatSlider(value=0.3, descr…"
      ]
     },
     "metadata": {},
     "output_type": "display_data"
    },
    {
     "data": {
      "text/plain": [
       "<function __main__.solow_transition(A=1.0, s=0.3, delta=0.05, alpha=0.3, k0=1.0, T=50)>"
      ]
     },
     "execution_count": 1,
     "metadata": {},
     "output_type": "execute_result"
    }
   ],
   "source": [
    "import numpy as np\n",
    "import matplotlib.pyplot as plt\n",
    "from ipywidgets import interact, FloatSlider\n",
    "\n",
    "def solow_transition(A=1.0, s=0.3, delta=0.05, alpha=0.3, k0=1.0, T=50):\n",
    "    T = int(T)\n",
    "    k = np.zeros(T)\n",
    "    y = np.zeros(T)\n",
    "    k[0] = k0\n",
    "\n",
    "    for t in range(1, T):\n",
    "        y[t-1] = A * k[t-1] ** alpha\n",
    "        invest = s * y[t-1]\n",
    "        k[t] = k[t-1] + invest - delta * k[t-1]\n",
    "\n",
    "    y[-1] = A * k[-1] ** alpha\n",
    "\n",
    "    k_star = (s * A / delta) ** (1 / (1 - alpha))\n",
    "    y_star = A * k_star ** alpha\n",
    "\n",
    "    # Plot\n",
    "    fig, ax = plt.subplots(figsize=(10, 6))\n",
    "    ax.plot(range(T), k, label=\"Capital per Worker k(t)\", color='blue')\n",
    "    ax.plot(range(T), y, label=\"Output per Worker y(t)\", color='green')\n",
    "    ax.axhline(k_star, linestyle='--', color='blue', alpha=0.5, label=f\"k* ≈ {k_star:.2f}\")\n",
    "    ax.axhline(y_star, linestyle='--', color='green', alpha=0.5, label=f\"y* ≈ {y_star:.2f}\")\n",
    "    ax.set_title(\"Solow Model Transition (Ā and L Constant)\")\n",
    "    ax.set_xlabel(\"Time\")\n",
    "    ax.set_ylabel(\"Level\")\n",
    "    ax.legend()\n",
    "    ax.grid(True)\n",
    "    plt.tight_layout()\n",
    "    plt.show()\n",
    "\n",
    "    print(\"📘 STEADY STATE\")\n",
    "    print(f\"  k* = {k_star:.4f}\")\n",
    "    print(f\"  y* = {y_star:.4f}\")\n",
    "    print(f\"  Final k(T) = {k[-1]:.4f}, y(T) = {y[-1]:.4f}\")\n",
    "\n",
    "interact(\n",
    "    solow_transition,\n",
    "    A=FloatSlider(value=1.0, min=0.5, max=3.0, step=0.1, description='Ā'),\n",
    "    s=FloatSlider(value=0.3, min=0.05, max=0.9, step=0.01, description='s'),\n",
    "    delta=FloatSlider(value=0.05, min=0.01, max=0.2, step=0.005, description='δ'),\n",
    "    alpha=FloatSlider(value=0.3, min=0.1, max=0.7, step=0.05, description='α'),\n",
    "    k0=FloatSlider(value=1.0, min=0.1, max=10.0, step=0.1, description='k₀'),\n",
    "    T=FloatSlider(value=50, min=10, max=100, step=5, description='T', readout_format='.0f')\n",
    ")"
   ]
  },
  {
   "cell_type": "markdown",
   "id": "6a1e5735",
   "metadata": {},
   "source": [
    "### 📘 Solow Growth Model (No Tech or Pop Growth)\n",
    "\n",
    "We simulate the basic Solow model with:\n",
    "\\[\n",
    "k_{t+1} = k_t + sA k_t^\\alpha - \\delta k_t\n",
    "\\]\n",
    "\n",
    "- Shows how capital and output per worker converge over time\n",
    "- The steady state occurs when investment = depreciation\n",
    "\n",
    "**Key Takeaways:**\n",
    "- Higher savings → higher k*\n",
    "- Higher depreciation → lower k*\n",
    "- Output grows initially but levels off without A or L growth\n",
    "\n",
    "**Sources**:\n",
    "- GrowthEcon [Ch. 5](https://growthecon.com/StudyGuide/solow-model.html)\n",
    "- Charles I. Jones, *Macroeconomics*, Ch. 7"
   ]
  }
 ],
 "metadata": {
  "kernelspec": {
   "display_name": "Python (solow-env)",
   "language": "python",
   "name": "solow-env"
  },
  "language_info": {
   "codemirror_mode": {
    "name": "ipython",
    "version": 3
   },
   "file_extension": ".py",
   "mimetype": "text/x-python",
   "name": "python",
   "nbconvert_exporter": "python",
   "pygments_lexer": "ipython3",
   "version": "3.13.3"
  }
 },
 "nbformat": 4,
 "nbformat_minor": 5
}