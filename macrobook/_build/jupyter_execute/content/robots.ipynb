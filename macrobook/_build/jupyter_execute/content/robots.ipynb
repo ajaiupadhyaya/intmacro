{
 "cells": [
  {
   "cell_type": "code",
   "execution_count": 1,
   "id": "60b2b0e4",
   "metadata": {},
   "outputs": [
    {
     "ename": "SyntaxError",
     "evalue": "invalid syntax (1409200915.py, line 1)",
     "output_type": "error",
     "traceback": [
      "  \u001b[36mCell\u001b[39m\u001b[36m \u001b[39m\u001b[32mIn[1]\u001b[39m\u001b[32m, line 1\u001b[39m\n\u001b[31m    \u001b[39m\u001b[31m:tags: [thebe-init]\u001b[39m\n    ^\n\u001b[31mSyntaxError\u001b[39m\u001b[31m:\u001b[39m invalid syntax\n"
     ]
    }
   ],
   "source": [
    ":tags: [thebe-init]\n",
    "from ipywidgets import interact, widgets\n",
    "interact(lambda x: x**2, x=widgets.IntSlider(min=0, max=10));"
   ]
  },
  {
   "cell_type": "code",
   "execution_count": 1,
   "id": "af5e4874",
   "metadata": {},
   "outputs": [
    {
     "data": {
      "application/vnd.jupyter.widget-view+json": {
       "model_id": "1017eb70d0ea463bb0a382a7ab2e4772",
       "version_major": 2,
       "version_minor": 0
      },
      "text/plain": [
       "interactive(children=(FloatSlider(value=0.5, description='Robot Share β', max=1.0, step=0.05), FloatSlider(val…"
      ]
     },
     "metadata": {},
     "output_type": "display_data"
    },
    {
     "data": {
      "text/plain": [
       "<function __main__.ces_robot_model(beta=0.5, A=1.0, Rg=0.04, Lg=0.01, rho=-1.0, T=30)>"
      ]
     },
     "execution_count": 1,
     "metadata": {},
     "output_type": "execute_result"
    }
   ],
   "source": [
    "import numpy as np\n",
    "import matplotlib.pyplot as plt\n",
    "from ipywidgets import interact, FloatSlider\n",
    "\n",
    "# --- Model 8: Robots vs Labor in CES Production ---\n",
    "def ces_robot_model(beta=0.5, A=1.0, Rg=0.04, Lg=0.01, rho=-1.0, T=30):\n",
    "    \"\"\"\n",
    "    CES production function with robots and labor over time.\n",
    "    \"\"\"\n",
    "    t = np.arange(T)\n",
    "    R = (1 + Rg) ** t  # robot capital stock\n",
    "    L = (1 + Lg) ** t  # labor input\n",
    "\n",
    "    # CES function\n",
    "    inside = beta * R**rho + (1 - beta) * L**rho\n",
    "    Y = A * inside**(1 / rho)\n",
    "\n",
    "    # Plotting\n",
    "    fig, axs = plt.subplots(1, 2, figsize=(13, 5))\n",
    "\n",
    "    axs[0].plot(t, R, label='Robots (R)', color='firebrick')\n",
    "    axs[0].plot(t, L, label='Labor (L)', color='navy')\n",
    "    axs[0].set_title(\"Growth of Robots and Labor\")\n",
    "    axs[0].set_xlabel(\"Years\")\n",
    "    axs[0].set_ylabel(\"Input Quantity\")\n",
    "    axs[0].legend()\n",
    "    axs[0].grid(True)\n",
    "\n",
    "    axs[1].plot(t, Y, label='Output (Y)', color='darkgreen')\n",
    "    axs[1].set_title(\"Output from CES Production\")\n",
    "    axs[1].set_xlabel(\"Years\")\n",
    "    axs[1].set_ylabel(\"Output Y(t)\")\n",
    "    axs[1].legend()\n",
    "    axs[1].grid(True)\n",
    "\n",
    "    plt.suptitle(\"Model 8: Robots and the Future of Work\", fontsize=14)\n",
    "    plt.tight_layout()\n",
    "    plt.show()\n",
    "\n",
    "interact(\n",
    "    ces_robot_model,\n",
    "    beta=FloatSlider(value=0.5, min=0.0, max=1.0, step=0.05, description='Robot Share β'),\n",
    "    A=FloatSlider(value=1.0, min=0.5, max=2.0, step=0.1, description='TFP (A)'),\n",
    "    Rg=FloatSlider(value=0.04, min=0.0, max=0.1, step=0.005, description='Robot Growth'),\n",
    "    Lg=FloatSlider(value=0.01, min=0.0, max=0.05, step=0.005, description='Labor Growth'),\n",
    "    rho=FloatSlider(value=-1.0, min=-3.0, max=0.0, step=0.1, description='Substitutability ρ'),\n",
    "    T=FloatSlider(value=30, min=10, max=100, step=1, description='Years')\n",
    ")"
   ]
  },
  {
   "cell_type": "markdown",
   "id": "440d127e",
   "metadata": {},
   "source": [
    "## 🤖 Model 8: Robots and the Future of Work (CES Production)\n",
    "\n",
    "This model explores the impact of robots on output over time using a CES production function:\n",
    "\n",
    "\\[\n",
    "Y_t = A \\left[ \\beta R_t^{\\rho} + (1 - \\beta) L_t^{\\rho} \\right]^{1/\\rho}\n",
    "\\]\n",
    "\n",
    "- **R** = Robot capital\n",
    "- **L** = Labor input\n",
    "- **β** = Robot's share in production\n",
    "- **ρ** = Degree of substitutability (ρ < 1 = imperfect)\n",
    "\n",
    "### Insights:\n",
    "- High robot growth and substitutability can lead to rising output even with stagnant labor\n",
    "- Labor becomes less important when β is high and ρ approaches 0\n",
    "- Use this to simulate fears of automation replacing work — or augmenting it"
   ]
  }
 ],
 "metadata": {
  "kernelspec": {
   "display_name": "Python (solow-env)",
   "language": "python",
   "name": "solow-env"
  },
  "language_info": {
   "codemirror_mode": {
    "name": "ipython",
    "version": 3
   },
   "file_extension": ".py",
   "mimetype": "text/x-python",
   "name": "python",
   "nbconvert_exporter": "python",
   "pygments_lexer": "ipython3",
   "version": "3.13.3"
  }
 },
 "nbformat": 4,
 "nbformat_minor": 5
}