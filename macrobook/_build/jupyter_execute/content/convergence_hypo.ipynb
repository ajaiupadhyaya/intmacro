{
 "cells": [
  {
   "cell_type": "code",
   "execution_count": 1,
   "id": "3d736d38",
   "metadata": {
    "tags": [
     "thebe-init"
    ]
   },
   "outputs": [
    {
     "ename": "SyntaxError",
     "evalue": "invalid syntax (1409200915.py, line 1)",
     "output_type": "error",
     "traceback": [
      "  \u001b[36mCell\u001b[39m\u001b[36m \u001b[39m\u001b[32mIn[1]\u001b[39m\u001b[32m, line 1\u001b[39m\n\u001b[31m    \u001b[39m\u001b[31m:tags: [thebe-init]\u001b[39m\n    ^\n\u001b[31mSyntaxError\u001b[39m\u001b[31m:\u001b[39m invalid syntax\n"
     ]
    }
   ],
   "source": [
    ":tags: [thebe-init]\n",
    "from ipywidgets import interact, widgets\n",
    "interact(lambda x: x**2, x=widgets.IntSlider(min=0, max=10));"
   ]
  },
  {
   "cell_type": "code",
   "execution_count": null,
   "id": "c59142eb",
   "metadata": {
    "tags": [
     "thebe-init",
     "hide-input"
    ]
   },
   "outputs": [
    {
     "data": {
      "application/vnd.jupyter.widget-view+json": {
       "model_id": "fdd8fbed7c5d4e4ea6f681684c3e7c72",
       "version_major": 2,
       "version_minor": 0
      },
      "text/plain": [
       "interactive(children=(FloatSlider(value=30.0, description='Number of Countries', min=10.0, step=5.0), FloatSli…"
      ]
     },
     "metadata": {},
     "output_type": "display_data"
    },
    {
     "data": {
      "text/plain": [
       "<function __main__.convergence_model(N=30, T=20, growth_noise=0.01, beta_true=-0.02)>"
      ]
     },
     "execution_count": 1,
     "metadata": {},
     "output_type": "execute_result"
    }
   ],
   "source": [
    "import numpy as np\n",
    "import matplotlib.pyplot as plt\n",
    "from ipywidgets import interact, FloatSlider\n",
    "from scipy.stats import linregress\n",
    "\n",
    "def convergence_model(N=30, T=20, growth_noise=0.01, beta_true=-0.02):\n",
    "    np.random.seed(42)\n",
    "    \n",
    "    log_Y0 = np.random.uniform(5.5, 10, N)  # log initial GDP\n",
    "    Y0 = np.exp(log_Y0)\n",
    "    \n",
    "    # Generate average growth based on negative relationship with Y0\n",
    "    g = beta_true * log_Y0 + np.random.normal(0, growth_noise, N)\n",
    "    YT = Y0 * np.exp(g * T)\n",
    "    \n",
    "    # Calculate realized growth rate\n",
    "    g_avg = (np.log(YT) - np.log(Y0)) / T\n",
    "\n",
    "    # Regression\n",
    "    slope, intercept, r_value, p_value, _ = linregress(log_Y0, g_avg)\n",
    "    \n",
    "    # Plot\n",
    "    plt.figure(figsize=(8, 5))\n",
    "    plt.scatter(log_Y0, g_avg, s=60, color='darkorange')\n",
    "    plt.plot(log_Y0, intercept + slope * log_Y0, color='black', linestyle='--', label=f'Regression: slope = {slope:.3f}')\n",
    "    plt.title(\"Convergence Hypothesis\")\n",
    "    plt.xlabel(\"log(Initial GDP/capita)\")\n",
    "    plt.ylabel(\"Avg. Growth Rate\")\n",
    "    plt.grid(True)\n",
    "    plt.legend()\n",
    "    plt.tight_layout()\n",
    "    plt.show()\n",
    "\n",
    "    print(\"📘 CONVERGENCE TEST RESULTS\")\n",
    "    print(f\"  Regression slope: {slope:.4f}\")\n",
    "    print(f\"  R² = {r_value**2:.3f}, p = {p_value:.3g}\")\n",
    "    if slope < 0 and p_value < 0.05:\n",
    "        print(\"✅ Supports convergence hypothesis: poor countries grow faster.\")\n",
    "    else:\n",
    "        print(\"❌ No convergence evidence found in this sample.\")\n",
    "\n",
    "interact(\n",
    "    convergence_model,\n",
    "    N=FloatSlider(value=30, min=10, max=100, step=5, description='Number of Countries'),\n",
    "    T=FloatSlider(value=20, min=5, max=50, step=1, description='Years'),\n",
    "    growth_noise=FloatSlider(value=0.01, min=0.0, max=0.05, step=0.005, description='Noise Level'),\n",
    "    beta_true=FloatSlider(value=-0.02, min=-0.05, max=0.01, step=0.005, description='True Slope β')\n",
    ")"
   ]
  },
  {
   "cell_type": "markdown",
   "id": "5f3f3f35",
   "metadata": {},
   "source": [
    "# 📘 Convergence Hypothesis\n",
    "\n",
    "This model tests if poorer countries grow faster — a key prediction of the Solow model with diminishing returns.\n",
    "\n",
    "We simulate:\n",
    "\\[\n",
    "g = \\frac{1}{T} \\log\\left(\\frac{Y_T}{Y_0}\\right)\n",
    "\\quad \\text{vs.} \\quad \\log(Y_0)\n",
    "\\]\n",
    "\n",
    "- A **negative slope** in the regression suggests **convergence**\n",
    "- A flat or positive slope suggests **divergence**\n",
    "\n",
    "**Sources**:  \n",
    "- GrowthEcon [Ch. 6](https://growthecon.com/StudyGuide/convergence.html)  \n",
    "- Charles Jones, *Macroeconomics*, Ch. 6"
   ]
  }
 ],
 "metadata": {
  "kernelspec": {
   "display_name": "Python (solow-env)",
   "language": "python",
   "name": "solow-env"
  },
  "language_info": {
   "codemirror_mode": {
    "name": "ipython",
    "version": 3
   },
   "file_extension": ".py",
   "mimetype": "text/x-python",
   "name": "python",
   "nbconvert_exporter": "python",
   "pygments_lexer": "ipython3",
   "version": "3.13.3"
  }
 },
 "nbformat": 4,
 "nbformat_minor": 5
}