{
 "cells": [
  {
   "cell_type": "code",
   "execution_count": 1,
   "id": "19ca0708",
   "metadata": {},
   "outputs": [
    {
     "ename": "SyntaxError",
     "evalue": "invalid syntax (1409200915.py, line 1)",
     "output_type": "error",
     "traceback": [
      "  \u001b[36mCell\u001b[39m\u001b[36m \u001b[39m\u001b[32mIn[1]\u001b[39m\u001b[32m, line 1\u001b[39m\n\u001b[31m    \u001b[39m\u001b[31m:tags: [thebe-init]\u001b[39m\n    ^\n\u001b[31mSyntaxError\u001b[39m\u001b[31m:\u001b[39m invalid syntax\n"
     ]
    }
   ],
   "source": [
    ":tags: [thebe-init]\n",
    "from ipywidgets import interact, widgets\n",
    "interact(lambda x: x**2, x=widgets.IntSlider(min=0, max=10));"
   ]
  },
  {
   "cell_type": "code",
   "execution_count": 1,
   "id": "111be5a0",
   "metadata": {},
   "outputs": [
    {
     "data": {
      "application/vnd.jupyter.widget-view+json": {
       "model_id": "0f305fd010ac40cda53a49bb6b15e8c7",
       "version_major": 2,
       "version_minor": 0
      },
      "text/plain": [
       "interactive(children=(FloatSlider(value=2.0, description='Initial Height', max=4.0, min=1.0), FloatSlider(valu…"
      ]
     },
     "metadata": {},
     "output_type": "display_data"
    },
    {
     "data": {
      "text/plain": [
       "<function __main__.plot_growth_illustration(height=2.0, growth_rate=0.5)>"
      ]
     },
     "execution_count": 1,
     "metadata": {},
     "output_type": "execute_result"
    }
   ],
   "source": [
    "# 📈 Foundations of Growth: Introduction to Growth Theory\n",
    "# Interactive notebook for Vuoksi Capital Econ Guide\n",
    "\n",
    "import numpy as np\n",
    "import matplotlib.pyplot as plt\n",
    "from ipywidgets import interact, FloatSlider, VBox, HBox\n",
    "from IPython.display import Markdown\n",
    "\n",
    "# --- 1. Growth Rate vs Level Illustration ---\n",
    "def plot_growth_illustration(height=2.0, growth_rate=0.5):\n",
    "    T = 10\n",
    "    child = [height * (1 + growth_rate)**t for t in range(T)]\n",
    "    adult = [6.0 for _ in range(T)]\n",
    "\n",
    "    plt.figure(figsize=(8, 4))\n",
    "    plt.plot(child, label=\"Child Height (low level, high growth)\", linewidth=2)\n",
    "    plt.plot(adult, label=\"Adult Height (high level, zero growth)\", linestyle='--')\n",
    "    plt.title(\"Growth Rate vs. Level Analogy\")\n",
    "    plt.xlabel(\"Time\")\n",
    "    plt.ylabel(\"Height (feet)\")\n",
    "    plt.legend()\n",
    "    plt.grid(True)\n",
    "    plt.tight_layout()\n",
    "    plt.show()\n",
    "\n",
    "    Markdown(\"\"\"\n",
    "    - A child starts at a lower level but grows quickly\n",
    "    - An adult has a high level, but no growth\n",
    "    - **Growth rate** and **level** are not the same!\n",
    "    \"\"\")\n",
    "\n",
    "interact(plot_growth_illustration,\n",
    "         height=FloatSlider(value=2.0, min=1.0, max=4.0, step=0.1, description=\"Initial Height\"),\n",
    "         growth_rate=FloatSlider(value=0.5, min=0.0, max=1.0, step=0.05, description=\"Growth Rate\"))\n",
    "\n"
   ]
  },
  {
   "cell_type": "markdown",
   "id": "c06bb9e7",
   "metadata": {},
   "source": [
    "# --- 2. Markdown Summary ---\n",
    "Markdown(\"\"\"\n",
    "# 📘 Introduction to Growth Theory\n",
    "\n",
    "Growth theory tries to explain two central things:\n",
    "1. **Why are some countries richer than others?** (GDP per capita levels)\n",
    "2. **Why do some countries grow faster than others?** (GDP per capita growth rates)\n",
    "\n",
    "We distinguish:\n",
    "- **Level** of GDP per capita: how rich a country is now\n",
    "- **Growth rate** of GDP per capita: how fast it’s getting richer\n",
    "\n",
    "💡 These two are **not the same** — and often **negatively correlated**:\n",
    "- Poor countries can grow faster (convergence)\n",
    "- Rich countries often have slow, steady growth\n",
    "\n",
    "🔍 Example:\n",
    "- The US has ~1.8% annual GDP/capita growth for 150+ years\n",
    "- China grew at 5–10% for decades — but only recently became rich\n",
    "\n",
    "---\n",
    "\n",
    "# 📘 Preliminaries: Growth Math, Percent Changes, and Logs\n",
    "\n",
    "We need tools to talk about growth:\n",
    "- **Percent change** is the basis of the growth rate:\n",
    "  \\[ g = \\frac{Y_{t+1} - Y_t}{Y_t} \\]\n",
    "\n",
    "- A **growth rate** is just a percent change written as a decimal:\n",
    "  \\[ g = 0.05 = 5\\% \\]\n",
    "\n",
    "- **Annualized growth rates** give the average yearly rate over many years:\n",
    "  \\[ g_{Y,t\\to s} = \\left(\\frac{Y_s}{Y_t}\\right)^{1/(s-t)} - 1 \\]\n",
    "\n",
    "- Using **logs** makes this easier:\n",
    "  \\[ g \\approx \\frac{\\ln Y_s - \\ln Y_t}{s - t} \\]\n",
    "\n",
    "---\n",
    "\n",
    "# 🧪 Example: GDP Growth Table\n",
    "| Year | Level of GDP | Growth | Growth Rate |\n",
    "|------|---------------|--------|--------------|\n",
    "| 2018 | 100           | –      | –            |\n",
    "| 2019 | 104           | +4     | 4.00%        |\n",
    "| 2020 | 98            | –6     | –5.77%       |\n",
    "| 2021 | 103           | +5     | 5.10%        |\n",
    "| 2022 | 105           | +2     | 1.94%        |\n",
    "| 2023 | 107           | +2     | 1.90%        |\n",
    "| 2024 | 109           | +2     | 1.87%        |\n",
    "\n",
    "Notice how the same growth in **level** results in **declining growth rates** as the base (denominator) increases.\n",
    "\n",
    "---\n",
    "\n",
    "# 📗 Quick Rules of Thumb\n",
    "- \\( \\ln(1 + x) \\approx x \\) when \\( x \\) is small\n",
    "- \\( \\ln(x^a) = a \\ln x \\)\n",
    "- \\( \\frac{d \\ln x}{dx} = \\frac{1}{x} \\)\n",
    "\n",
    "We’ll use logs often in macro to simplify percent change math.\n",
    "\n",
    "---\n",
    "\n",
    "Next: Measuring GDP — the components and flows of income/expenditure.\n",
    "\"\"\")\n"
   ]
  }
 ],
 "metadata": {
  "kernelspec": {
   "display_name": "Python (solow-env)",
   "language": "python",
   "name": "solow-env"
  },
  "language_info": {
   "codemirror_mode": {
    "name": "ipython",
    "version": 3
   },
   "file_extension": ".py",
   "mimetype": "text/x-python",
   "name": "python",
   "nbconvert_exporter": "python",
   "pygments_lexer": "ipython3",
   "version": "3.13.3"
  }
 },
 "nbformat": 4,
 "nbformat_minor": 5
}