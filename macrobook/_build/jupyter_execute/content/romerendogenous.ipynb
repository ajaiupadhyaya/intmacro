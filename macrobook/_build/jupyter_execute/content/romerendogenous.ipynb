{
 "cells": [
  {
   "cell_type": "code",
   "execution_count": 1,
   "id": "62e01934",
   "metadata": {
    "tags": [
     "thebe-init"
    ]
   },
   "outputs": [
    {
     "ename": "SyntaxError",
     "evalue": "invalid syntax (1409200915.py, line 1)",
     "output_type": "error",
     "traceback": [
      "  \u001b[36mCell\u001b[39m\u001b[36m \u001b[39m\u001b[32mIn[1]\u001b[39m\u001b[32m, line 1\u001b[39m\n\u001b[31m    \u001b[39m\u001b[31m:tags: [thebe-init]\u001b[39m\n    ^\n\u001b[31mSyntaxError\u001b[39m\u001b[31m:\u001b[39m invalid syntax\n"
     ]
    }
   ],
   "source": [
    ":tags: [thebe-init]\n",
    "from ipywidgets import interact, widgets\n",
    "interact(lambda x: x**2, x=widgets.IntSlider(min=0, max=10));"
   ]
  },
  {
   "cell_type": "code",
   "execution_count": 1,
   "id": "3b1bacbf",
   "metadata": {
    "tags": [
     "thebe-init",
     "hide-input"
    ]
   },
   "outputs": [
    {
     "data": {
      "application/vnd.jupyter.widget-view+json": {
       "model_id": "920ea5aecfab4848800a410537575202",
       "version_major": 2,
       "version_minor": 0
      },
      "text/plain": [
       "interactive(children=(FloatSlider(value=0.1, description='δ (Idea Productivity)', max=0.5, min=0.01, step=0.01…"
      ]
     },
     "metadata": {},
     "output_type": "display_data"
    }
   ],
   "source": [
    "import numpy as np\n",
    "import matplotlib.pyplot as plt\n",
    "from ipywidgets import interact, FloatSlider\n",
    "\n",
    "def romer_model(delta=0.1, phi=1.0, L=100, l_A=0.2, A0=1, alpha=0.33, T=50):\n",
    "    T = int(T)\n",
    "    A = np.zeros(T)\n",
    "    Y = np.zeros(T)\n",
    "    A[0] = A0\n",
    "    \n",
    "    L_A = l_A * L\n",
    "    L_Y = (1 - l_A) * L\n",
    "    \n",
    "    for t in range(1, T):\n",
    "        A[t] = A[t-1] + delta * L_A * A[t-1]**phi\n",
    "        Y[t] = (A[t] * L_Y)**(1 - alpha)\n",
    "    \n",
    "    fig, axs = plt.subplots(1, 2, figsize=(14, 5))\n",
    "    \n",
    "    axs[0].plot(range(T), A, label='A(t): Knowledge', color='purple')\n",
    "    axs[0].set_title('Growth of Knowledge (A)')\n",
    "    axs[0].set_xlabel('Time')\n",
    "    axs[0].set_ylabel('A(t)')\n",
    "    axs[0].grid(True)\n",
    "\n",
    "    axs[1].plot(range(T), Y, label='Y(t): Output', color='teal')\n",
    "    axs[1].set_title('Output over Time (Y)')\n",
    "    axs[1].set_xlabel('Time')\n",
    "    axs[1].set_ylabel('Y(t)')\n",
    "    axs[1].grid(True)\n",
    "\n",
    "    plt.suptitle(\"📘 Romer Model of Endogenous Growth\", fontsize=14)\n",
    "    plt.tight_layout()\n",
    "    plt.show()\n",
    "\n",
    "interact(romer_model,\n",
    "         delta=FloatSlider(value=0.1, min=0.01, max=0.5, step=0.01, description='δ (Idea Productivity)'),\n",
    "         phi=FloatSlider(value=1.0, min=0.5, max=1.5, step=0.1, description='ϕ (Returns to Ideas)'),\n",
    "         L=FloatSlider(value=100, min=50, max=500, step=10, description='Total Labor (L)'),\n",
    "         l_A=FloatSlider(value=0.2, min=0.01, max=0.5, step=0.01, description='Share to R&D (lₐ)'),\n",
    "         A0=FloatSlider(value=1, min=0.1, max=5, step=0.1, description='Initial A₀'),\n",
    "         alpha=FloatSlider(value=0.33, min=0.2, max=0.6, step=0.01, description='α (K/Y Exponent)'),\n",
    "         T=FloatSlider(value=50, min=10, max=200, step=5, description='Time Steps'));"
   ]
  },
  {
   "cell_type": "markdown",
   "id": "140c060c",
   "metadata": {},
   "source": [
    "# 📘 Romer Model: Ideas, Scale, and Sustained Growth\n",
    "\n",
    "The Romer model explains **long-run growth** via ideas, not just capital:\n",
    "\n",
    "\\[\n",
    "Y = K^\\alpha (A L_Y)^{1 - \\alpha}\n",
    "\\]\n",
    "\\[\n",
    "\\frac{dA}{dt} = \\delta L_A A^\\phi\n",
    "\\]\n",
    "\n",
    "- \\( A \\): stock of knowledge  \n",
    "- \\( L \\): total labor → split into \\( L_A \\) (idea production) and \\( L_Y \\) (goods production)  \n",
    "- \\( \\phi \\): returns to existing ideas (typically = 1)\n",
    "\n",
    "\n",
    "# 💡 Key Features\n",
    "\n",
    "- **Non-rival ideas**: used by everyone without being used up  \n",
    "- **Endogenous growth**: more researchers → more growth  \n",
    "- **Scale effects**: larger \\( L_A \\) → more idea creation\n",
    "\n",
    "\n",
    "# 🔍 Balanced Growth Path\n",
    "\n",
    "If \\( \\phi = 1 \\), we get exponential growth:\n",
    "\n",
    "\\[\n",
    "A(t) = A_0 e^{\\delta L_A t}\n",
    "\\]\n",
    "\\[\n",
    "Y(t) \\propto A(t)\n",
    "\\]\n",
    "\n",
    "# 📈 Policy Implications\n",
    "\n",
    "- Subsidizing R&D raises growth  \n",
    "- Education & population policy affect \\( g \\)"
   ]
  }
 ],
 "metadata": {
  "kernelspec": {
   "display_name": "Python (solow-env)",
   "language": "python",
   "name": "solow-env"
  },
  "language_info": {
   "codemirror_mode": {
    "name": "ipython",
    "version": 3
   },
   "file_extension": ".py",
   "mimetype": "text/x-python",
   "name": "python",
   "nbconvert_exporter": "python",
   "pygments_lexer": "ipython3",
   "version": "3.13.3"
  }
 },
 "nbformat": 4,
 "nbformat_minor": 5
}