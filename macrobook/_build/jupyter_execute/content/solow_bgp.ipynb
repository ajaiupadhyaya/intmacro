{
 "cells": [
  {
   "cell_type": "code",
   "execution_count": 1,
   "id": "ef2f6de3",
   "metadata": {
    "tags": [
     "thebe-init"
    ]
   },
   "outputs": [
    {
     "ename": "SyntaxError",
     "evalue": "invalid syntax (1409200915.py, line 1)",
     "output_type": "error",
     "traceback": [
      "  \u001b[36mCell\u001b[39m\u001b[36m \u001b[39m\u001b[32mIn[1]\u001b[39m\u001b[32m, line 1\u001b[39m\n\u001b[31m    \u001b[39m\u001b[31m:tags: [thebe-init]\u001b[39m\n    ^\n\u001b[31mSyntaxError\u001b[39m\u001b[31m:\u001b[39m invalid syntax\n"
     ]
    }
   ],
   "source": [
    ":tags: [thebe-init]\n",
    "from ipywidgets import interact, widgets\n",
    "interact(lambda x: x**2, x=widgets.IntSlider(min=0, max=10));"
   ]
  },
  {
   "cell_type": "code",
   "execution_count": null,
   "id": "2ffc305a",
   "metadata": {
    "tags": [
     "thebe-init",
     "hide-input"
    ]
   },
   "outputs": [
    {
     "name": "stderr",
     "output_type": "stream",
     "text": [
      "<>:49: SyntaxWarning: invalid escape sequence '\\*'\n",
      "<>:48: SyntaxWarning: invalid escape sequence '\\*'\n",
      "<>:49: SyntaxWarning: invalid escape sequence '\\*'\n",
      "<>:48: SyntaxWarning: invalid escape sequence '\\*'\n",
      "/var/folders/kz/cc2y6j3953z1bgkfgj5xk9yc0000gn/T/ipykernel_11577/539288257.py:49: SyntaxWarning: invalid escape sequence '\\*'\n",
      "  # --- Interactive Widgets ---\n",
      "/var/folders/kz/cc2y6j3953z1bgkfgj5xk9yc0000gn/T/ipykernel_11577/539288257.py:48: SyntaxWarning: invalid escape sequence '\\*'\n",
      "  \n"
     ]
    },
    {
     "data": {
      "application/vnd.jupyter.widget-view+json": {
       "model_id": "2acf390a952b4b088d999ca80d3d53ec",
       "version_major": 2,
       "version_minor": 0
      },
      "text/plain": [
       "interactive(children=(FloatSlider(value=0.2, description='Savings Rate (s)', max=0.6, min=0.05, step=0.01), Fl…"
      ]
     },
     "metadata": {},
     "output_type": "display_data"
    },
    {
     "data": {
      "text/markdown": [
       "\n",
       "\n",
       "### 📘 Solow Balanced Growth Path\n",
       "\n",
       "In the long run, capital per effective worker stabilizes:\n",
       "\\[\n",
       "\\dot{k} = s k^\\alpha - (\\delta + g_A + g_L) k\n",
       "\\]\n",
       "\n",
       "The growth of total output \\( Y \\) continues at rate \\( g_A + g_L \\), even though per effective worker variables stabilize.\n",
       "\n",
       "Steady-state capital per effective worker:\n",
       "\\[\n",
       "k^* = \\left( \\frac{s}{\\delta + g_A + g_L} \\right)^{\\frac{1}{1 - \\alpha}}\n",
       "\\]\n",
       "\n"
      ],
      "text/plain": [
       "<IPython.core.display.Markdown object>"
      ]
     },
     "metadata": {},
     "output_type": "display_data"
    }
   ],
   "source": [
    "# 📈 Solow Model with Population + Technology Growth (Balanced Growth Path)\n",
    "\n",
    "import numpy as np\n",
    "import matplotlib.pyplot as plt\n",
    "from ipywidgets import interact, FloatSlider, IntSlider\n",
    "from IPython.display import display, Markdown\n",
    "\n",
    "plt.rcParams['axes.titlesize'] = 15\n",
    "plt.rcParams['axes.labelsize'] = 12\n",
    "plt.rcParams['figure.figsize'] = (9, 5.5)\n",
    "\n",
    "# --- Solow Balanced Growth Path Simulation ---\n",
    "def solow_balanced_growth(s=0.2, delta=0.05, alpha=0.33, g_A=0.02, g_L=0.01, A0=1.0, k0=0.5, T=60):\n",
    "    g = g_A + g_L\n",
    "    k = np.zeros(T)\n",
    "    y = np.zeros(T)\n",
    "    k[0] = k0\n",
    "\n",
    "    for t in range(1, T):\n",
    "        y[t-1] = k[t-1] ** alpha\n",
    "        investment = s * y[t-1]\n",
    "        effective_depreciation = (delta + g) * k[t-1]\n",
    "        k[t] = k[t-1] + investment - effective_depreciation\n",
    "    y[-1] = k[-1] ** alpha\n",
    "\n",
    "    k_star = (s / (delta + g)) ** (1 / (1 - alpha))\n",
    "    y_star = k_star ** alpha\n",
    "\n",
    "    fig, ax = plt.subplots()\n",
    "    ax.plot(k, label='Capital per Eff. Worker (k)', lw=2)\n",
    "    ax.plot(y, label='Output per Eff. Worker (y)', lw=2)\n",
    "    ax.axhline(k_star, ls=':', color='gray', label='Steady State k*')\n",
    "    ax.axhline(y_star, ls='--', color='gray', label='Steady State y*')\n",
    "    ax.set_title(\"Solow Model: Balanced Growth Path\")\n",
    "    ax.set_xlabel(\"Time\")\n",
    "    ax.set_ylabel(\"Level (per effective worker)\")\n",
    "    ax.grid(True)\n",
    "    ax.legend()\n",
    "    plt.tight_layout()\n",
    "    plt.show()\n",
    "\n",
    "    display(Markdown(f\"\"\"\n",
    "### 🔁 Balanced Growth Dynamics\n",
    "- **Steady-State k\\***: `${k_star:.2f}`\n",
    "- **Steady-State y\\***: `${y_star:.2f}`\n",
    "- Capital per effective worker converges even with growing **A** and **L**.\n",
    "\"\"\"))\n",
    "\n",
    "# --- Interactive Widgets ---\n",
    "interact(\n",
    "    solow_balanced_growth,\n",
    "    s=FloatSlider(value=0.2, min=0.05, max=0.6, step=0.01, description='Savings Rate (s)'),\n",
    "    delta=FloatSlider(value=0.05, min=0.01, max=0.15, step=0.01, description='Depreciation (δ)'),\n",
    "    alpha=FloatSlider(value=0.33, min=0.2, max=0.5, step=0.01, description='Capital Share (α)'),\n",
    "    g_A=FloatSlider(value=0.02, min=0.0, max=0.05, step=0.005, description='Tech Growth (gₐ)'),\n",
    "    g_L=FloatSlider(value=0.01, min=0.0, max=0.05, step=0.005, description='Pop Growth (gₗ)'),\n",
    "    A0=FloatSlider(value=1.0, min=0.5, max=3.0, step=0.1, description='Initial Ā'),\n",
    "    k0=FloatSlider(value=0.5, min=0.1, max=3.0, step=0.1, description='Initial k₀'),\n",
    "    T=IntSlider(value=60, min=30, max=100, step=5, description='Time Steps')\n",
    ")\n",
    "\n",
    "# --- Theory Markdown ---\n",
    "display(Markdown(r'''\n",
    "\n",
    "# 📘 Solow Balanced Growth Path\n",
    "\n",
    "In the long run, capital per effective worker stabilizes:\n",
    "\\[\n",
    "\\dot{k} = s k^\\alpha - (\\delta + g_A + g_L) k\n",
    "\\]\n",
    "\n",
    "The growth of total output \\( Y \\) continues at rate \\( g_A + g_L \\), even though per effective worker variables stabilize.\n",
    "\n",
    "Steady-state capital per effective worker:\n",
    "\\[\n",
    "k^* = \\left( \\frac{s}{\\delta + g_A + g_L} \\right)^{\\frac{1}{1 - \\alpha}}\n",
    "\\]\n",
    "\n",
    "'''))\n"
   ]
  }
 ],
 "metadata": {
  "kernelspec": {
   "display_name": "Python (solow-env)",
   "language": "python",
   "name": "solow-env"
  },
  "language_info": {
   "codemirror_mode": {
    "name": "ipython",
    "version": 3
   },
   "file_extension": ".py",
   "mimetype": "text/x-python",
   "name": "python",
   "nbconvert_exporter": "python",
   "pygments_lexer": "ipython3",
   "version": "3.13.3"
  }
 },
 "nbformat": 4,
 "nbformat_minor": 5
}