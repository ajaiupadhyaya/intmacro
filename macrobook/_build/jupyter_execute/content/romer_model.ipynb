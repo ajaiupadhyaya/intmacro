{
 "cells": [
  {
   "cell_type": "code",
   "execution_count": 1,
   "id": "04f83418",
   "metadata": {
    "tags": [
     "thebe-init",
     "hide-input"
    ]
   },
   "outputs": [
    {
     "ename": "SyntaxError",
     "evalue": "invalid syntax (1409200915.py, line 1)",
     "output_type": "error",
     "traceback": [
      "  \u001b[36mCell\u001b[39m\u001b[36m \u001b[39m\u001b[32mIn[1]\u001b[39m\u001b[32m, line 1\u001b[39m\n\u001b[31m    \u001b[39m\u001b[31m:tags: [thebe-init]\u001b[39m\n    ^\n\u001b[31mSyntaxError\u001b[39m\u001b[31m:\u001b[39m invalid syntax\n"
     ]
    }
   ],
   "source": [
    ":tags: [thebe-init]\n",
    "from ipywidgets import interact, widgets\n",
    "interact(lambda x: x**2, x=widgets.IntSlider(min=0, max=10));"
   ]
  },
  {
   "cell_type": "code",
   "execution_count": 2,
   "id": "bd54ed9d-c1b7-431d-acde-9694f4fae673",
   "metadata": {
    "tags": [
     "thebe-init",
     "hide-input"
    ]
   },
   "outputs": [
    {
     "data": {
      "application/vnd.jupyter.widget-view+json": {
       "model_id": "a20ba20f21ed4d0fb76b150ba0a722ff",
       "version_major": 2,
       "version_minor": 0
      },
      "text/plain": [
       "interactive(children=(FloatSlider(value=0.05, description='Idea Productivity (δ)', max=0.15, min=0.01, step=0.…"
      ]
     },
     "metadata": {},
     "output_type": "display_data"
    }
   ],
   "source": [
    "# Vuoksi Macro Lab: Romer Model (Endogenous Growth, Powell Edition)\n",
    "\n",
    "import numpy as np\n",
    "import matplotlib.pyplot as plt\n",
    "from ipywidgets import interact, FloatSlider, Dropdown\n",
    "\n",
    "plt.rcParams['axes.titlesize'] = 14\n",
    "plt.rcParams['axes.labelsize'] = 12\n",
    "plt.rcParams['legend.fontsize'] = 11\n",
    "plt.rcParams['figure.facecolor'] = 'white'\n",
    "plt.rcParams['axes.grid'] = True\n",
    "\n",
    "# --- Romer Model with Dynamic Growth Paths and Log Visualization ---\n",
    "def romer_upgraded(delta=0.05, L=100, lam=0.2, A0=1.0, T=100, view='Growth Path'):\n",
    "    T = int(T)\n",
    "    L_A = lam * L\n",
    "    L_Y = (1 - lam) * L\n",
    "\n",
    "    A = np.zeros(T)\n",
    "    Y = np.zeros(T)\n",
    "    A[0] = A0\n",
    "    Y[0] = A0 * L_Y\n",
    "\n",
    "    for t in range(1, T):\n",
    "        A[t] = A[t-1] + delta * A[t-1] * L_A\n",
    "        Y[t] = A[t] * L_Y\n",
    "\n",
    "    g_A = delta * L_A\n",
    "    g_Y = g_A  # same growth rate in basic Romer model\n",
    "\n",
    "    fig, ax = plt.subplots(1, 1, figsize=(10, 6))\n",
    "\n",
    "    if view == 'Growth Path':\n",
    "        ax.plot(range(T), A, label='Knowledge A(t)', color='blue')\n",
    "        ax.plot(range(T), Y, label='Output Y(t)', color='green')\n",
    "        ax.set_title(\"Romer Model: Growth Over Time\")\n",
    "        ax.set_ylabel(\"Level\")\n",
    "    else:\n",
    "        ax.plot(range(T), np.log(A), label='log A(t)', color='blue')\n",
    "        ax.plot(range(T), np.log(Y), label='log Y(t)', color='green')\n",
    "        ax.set_title(\"Romer Model: Log-Scale Growth (Exponential Clarity)\")\n",
    "        ax.set_ylabel(\"Log Level\")\n",
    "\n",
    "    ax.set_xlabel(\"Time\")\n",
    "    ax.grid(True)\n",
    "    ax.legend()\n",
    "\n",
    "    plt.suptitle(\"Endogenous Growth via Knowledge Accumulation\", fontsize=14)\n",
    "    plt.tight_layout()\n",
    "    plt.show()\n",
    "\n",
    "    print(f\"Knowledge Growth Rate g_A: {g_A:.3f}\")\n",
    "    print(f\"Output Growth Rate g_Y: {g_Y:.3f}\")\n",
    "    print(f\"Final A(T): {A[-1]:.2f}, Final Y(T): {Y[-1]:.2f}\")\n",
    "\n",
    "interact(\n",
    "    romer_upgraded,\n",
    "    delta=FloatSlider(value=0.05, min=0.01, max=0.15, step=0.005, description='Idea Productivity (δ)'),\n",
    "    L=FloatSlider(value=100, min=10, max=300, step=10, description='Total Labor (L)'),\n",
    "    lam=FloatSlider(value=0.2, min=0.05, max=0.9, step=0.05, description='R&D Share (λ)'),\n",
    "    A0=FloatSlider(value=1.0, min=0.5, max=5.0, step=0.1, description='Initial A₀'),\n",
    "    T=FloatSlider(value=100, min=20, max=300, step=10, description='Time Horizon', readout_format='.0f'),\n",
    "    view=Dropdown(options=['Growth Path', 'Log Scale'], value='Growth Path', description='View Mode'),\n",
    ");\n"
   ]
  },
  {
   "cell_type": "markdown",
   "id": "8298d63b",
   "metadata": {},
   "source": [
    "# 📈 The Romer Growth Model\n",
    "# Ideas, Innovation, and Endogenous Growth\n",
    "\n",
    "In the Romer model, **economic growth** is driven by the creation of new ideas.  \n",
    "Unlike the Solow model, where long-run growth is exogenous, Romer shows how human capital and R&D efforts endogenously determine growth rates.\n",
    "\n",
    "> *\"Ideas are different. They are nonrival and can be used by many people at the same time.\"* – Paul Romer\n",
    "\n",
    "This simulation shows how parameters like the productivity of researchers, the fraction of labor allocated to R&D, and the size of the workforce drive **idea growth** and hence **output per person**."
   ]
  },
  {
   "cell_type": "code",
   "execution_count": 3,
   "id": "7b608944",
   "metadata": {
    "tags": [
     "thebe-init",
     "hide-input"
    ]
   },
   "outputs": [],
   "source": [
    "import numpy as np\n",
    "import matplotlib.pyplot as plt\n",
    "from ipywidgets import interact, FloatSlider, IntSlider\n",
    "import matplotlib.ticker as mtick\n",
    "\n",
    "plt.rcParams['axes.titlesize'] = 16\n",
    "plt.rcParams['axes.labelsize'] = 14\n",
    "plt.rcParams['figure.figsize'] = (10, 6)"
   ]
  },
  {
   "cell_type": "code",
   "execution_count": 4,
   "id": "a5cbaac1",
   "metadata": {
    "tags": [
     "thebe-init",
     "hide-input"
    ]
   },
   "outputs": [],
   "source": [
    "def romer_growth_model(L=100, l=0.2, phi=0.5, A0=1, z=0.05, T=50):\n",
    "    A = [A0]\n",
    "    Y = []\n",
    "\n",
    "    for t in range(T):\n",
    "        A_next = A[-1] * (1 + z * phi * l * L)\n",
    "        A.append(A_next)\n",
    "        Y.append((1 - l) * L * A[-1])  # Output = non-R&D labor × idea stock\n",
    "\n",
    "    t_vals = list(range(T))\n",
    "\n",
    "    fig, ax = plt.subplots()\n",
    "    ax.plot(t_vals, Y, label='Output per Person', color=\"mediumblue\")\n",
    "    ax.plot(t_vals, A[:-1], '--', label='Ideas (A)', color=\"gray\")\n",
    "    ax.set_title('Romer Model: Endogenous Growth Over Time')\n",
    "    ax.set_xlabel('Time (Years)')\n",
    "    ax.set_ylabel('Level')\n",
    "    ax.legend()\n",
    "    ax.grid(True)\n",
    "    ax.yaxis.set_major_formatter(mtick.StrMethodFormatter('{x:,.0f}'))\n",
    "    plt.tight_layout()\n",
    "    plt.show()"
   ]
  },
  {
   "cell_type": "code",
   "execution_count": 5,
   "id": "72bfe8ab",
   "metadata": {
    "tags": [
     "thebe-init",
     "hide-input"
    ]
   },
   "outputs": [
    {
     "data": {
      "application/vnd.jupyter.widget-view+json": {
       "model_id": "c1ddd85b7f0a4dbda53ab4fb8f61f1fe",
       "version_major": 2,
       "version_minor": 0
      },
      "text/plain": [
       "interactive(children=(IntSlider(value=100, description='Labor (L)', max=200, min=50, step=10), FloatSlider(val…"
      ]
     },
     "metadata": {},
     "output_type": "display_data"
    },
    {
     "data": {
      "text/plain": [
       "<function __main__.romer_growth_model(L=100, l=0.2, phi=0.5, A0=1, z=0.05, T=50)>"
      ]
     },
     "execution_count": 5,
     "metadata": {},
     "output_type": "execute_result"
    }
   ],
   "source": [
    "interact(\n",
    "    romer_growth_model,\n",
    "    L=IntSlider(value=100, min=50, max=200, step=10, description='Labor (L)'),\n",
    "    l=FloatSlider(value=0.2, min=0.05, max=0.5, step=0.01, description='R&D share (l)'),\n",
    "    phi=FloatSlider(value=0.5, min=0.1, max=1.0, step=0.05, description='Productivity (φ)'),\n",
    "    A0=FloatSlider(value=1.0, min=0.1, max=5.0, step=0.1, description='Initial A'),\n",
    "    z=FloatSlider(value=0.05, min=0.01, max=0.1, step=0.005, description='Scaling z'),\n",
    "    T=IntSlider(value=50, min=20, max=100, step=5, description='Time Horizon'),\n",
    ")"
   ]
  },
  {
   "cell_type": "markdown",
   "id": "de037637",
   "metadata": {},
   "source": [
    "# 📌 Core Equation\n",
    "\n",
    "The production of new ideas follows:\n",
    "\n",
    "$$\n",
    "\\Delta A = z \\\\cdot \\phi \\\\cdot l \\\\cdot L \\\\cdot A\n",
    "$$\n",
    "\n",
    "This exponential dynamic implies that with **more people working in R&D**, **higher productivity**, or **larger initial knowledge**, growth accelerates.\n",
    "\n",
    "\n",
    "This model shows why **population size** and **research incentives** matter enormously for long-run prosperity.\n",
    "\n",
    "*Explore how different parameters change the pace of innovation and output per person.*"
   ]
  }
 ],
 "metadata": {
  "kernelspec": {
   "display_name": "Python (solow-env)",
   "language": "python",
   "name": "solow-env"
  },
  "language_info": {
   "codemirror_mode": {
    "name": "ipython",
    "version": 3
   },
   "file_extension": ".py",
   "mimetype": "text/x-python",
   "name": "python",
   "nbconvert_exporter": "python",
   "pygments_lexer": "ipython3",
   "version": "3.13.3"
  }
 },
 "nbformat": 4,
 "nbformat_minor": 5
}