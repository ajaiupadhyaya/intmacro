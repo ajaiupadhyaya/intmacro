{
 "cells": [
  {
   "cell_type": "code",
   "execution_count": 1,
   "id": "8ac5ba87",
   "metadata": {
    "tags": [
     "thebe-init",
     "hide-input"
    ]
   },
   "outputs": [
    {
     "ename": "SyntaxError",
     "evalue": "invalid syntax (1409200915.py, line 1)",
     "output_type": "error",
     "traceback": [
      "  \u001b[36mCell\u001b[39m\u001b[36m \u001b[39m\u001b[32mIn[1]\u001b[39m\u001b[32m, line 1\u001b[39m\n\u001b[31m    \u001b[39m\u001b[31m:tags: [thebe-init]\u001b[39m\n    ^\n\u001b[31mSyntaxError\u001b[39m\u001b[31m:\u001b[39m invalid syntax\n"
     ]
    }
   ],
   "source": [
    ":tags: [thebe-init]\n",
    "from ipywidgets import interact, widgets\n",
    "interact(lambda x: x**2, x=widgets.IntSlider(min=0, max=10));"
   ]
  },
  {
   "cell_type": "code",
   "execution_count": 1,
   "id": "273003f9",
   "metadata": {
    "tags": [
     "thebe-init",
     "hide-input"
    ]
   },
   "outputs": [
    {
     "data": {
      "application/vnd.jupyter.widget-view+json": {
       "model_id": "8d2e6558eba04f72a84525f3c6d1f544",
       "version_major": 2,
       "version_minor": 0
      },
      "text/plain": [
       "interactive(children=(FloatSlider(value=2.0, description='πᵉ', max=5.0), FloatSlider(value=2.0, description='π…"
      ]
     },
     "metadata": {},
     "output_type": "display_data"
    }
   ],
   "source": [
    "import numpy as np\n",
    "import matplotlib.pyplot as plt\n",
    "from ipywidgets import interact, FloatSlider\n",
    "\n",
    "def ad_as_shock_sim(pi_e=2.0, pi_star=2.0, Y_bar=100, r_bar=2.0,\n",
    "                    phi_pi=1.5, lamb=0.3, alpha=5,\n",
    "                    shock_type='None', shock_mag=5.0, T=25):\n",
    "\n",
    "    T = int(T)\n",
    "    pi = np.zeros(T)\n",
    "    Y = np.zeros(T)\n",
    "    r = np.zeros(T)\n",
    "\n",
    "    pi[0] = pi_e\n",
    "    Y[0] = Y_bar\n",
    "\n",
    "    eps_AD = np.zeros(T)\n",
    "    eps_AS = np.zeros(T)\n",
    "\n",
    "    # Apply shock in period 2\n",
    "    if shock_type == \"Negative Demand\":\n",
    "        eps_AD[2] = -shock_mag\n",
    "    elif shock_type == \"Positive Supply\":\n",
    "        eps_AS[2] = -shock_mag\n",
    "    elif shock_type == \"Negative Supply\":\n",
    "        eps_AS[2] = shock_mag\n",
    "    elif shock_type == \"Expectations\":\n",
    "        pi[0] += shock_mag\n",
    "\n",
    "    for t in range(1, T):\n",
    "        # Policy rule (Taylor)\n",
    "        r[t] = r_bar + phi_pi * (pi[t-1] - pi_star)\n",
    "\n",
    "        # IS curve with demand shock\n",
    "        Y[t] = Y_bar - alpha * (r[t] - r_bar) + eps_AD[t]\n",
    "\n",
    "        # AS curve with supply shock\n",
    "        pi[t] = pi_e + lamb * (Y[t] - Y_bar) + eps_AS[t]\n",
    "\n",
    "    # Plots\n",
    "    fig, axs = plt.subplots(1, 2, figsize=(13, 5))\n",
    "\n",
    "    axs[0].plot(range(T), Y, label='Output (Y)', color='royalblue')\n",
    "    axs[0].axhline(Y_bar, color='gray', linestyle='--')\n",
    "    axs[0].set_title('Output Over Time')\n",
    "    axs[0].set_xlabel('Time')\n",
    "    axs[0].legend()\n",
    "    axs[0].grid(True)\n",
    "\n",
    "    axs[1].plot(range(T), pi, label='Inflation (π)', color='crimson')\n",
    "    axs[1].axhline(pi_star, color='gray', linestyle='--')\n",
    "    axs[1].set_title('Inflation Over Time')\n",
    "    axs[1].set_xlabel('Time')\n",
    "    axs[1].legend()\n",
    "    axs[1].grid(True)\n",
    "\n",
    "    plt.suptitle(f'💥 AD-AS Shock Simulation: {shock_type}', fontsize=14)\n",
    "    plt.tight_layout()\n",
    "    plt.show()\n",
    "\n",
    "interact(ad_as_shock_sim,\n",
    "         pi_e=FloatSlider(value=2.0, min=0, max=5, step=0.1, description='πᵉ'),\n",
    "         pi_star=FloatSlider(value=2.0, min=0, max=5, step=0.1, description='π*'),\n",
    "         Y_bar=FloatSlider(value=100, min=80, max=120, step=1, description='Ȳ'),\n",
    "         r_bar=FloatSlider(value=2.0, min=0, max=5, step=0.1, description='r̄'),\n",
    "         phi_pi=FloatSlider(value=1.5, min=0.5, max=3.0, step=0.1, description='ϕ_π'),\n",
    "         lamb=FloatSlider(value=0.3, min=0.05, max=1.0, step=0.05, description='λ'),\n",
    "         alpha=FloatSlider(value=5, min=1, max=10, step=1, description='IS Sensitivity α'),\n",
    "         shock_type=['None', 'Negative Demand', 'Positive Supply', 'Negative Supply', 'Expectations'],\n",
    "         shock_mag=FloatSlider(value=5.0, min=0.0, max=10.0, step=0.5, description='Shock Size'),\n",
    "         T=FloatSlider(value=25, min=10, max=50, step=1, description='Periods'));"
   ]
  },
  {
   "cell_type": "markdown",
   "id": "5709fe9f",
   "metadata": {},
   "source": [
    "# 💥 AD-AS Shocks and Dynamic Adjustment\n",
    "\n",
    "This model shows how different macroeconomic **shocks** affect the short-run:\n",
    "\n",
    "\n",
    "\n",
    "# 🧠 Core Equations\n",
    "\n",
    "- **Aggregate Supply (AS):**\n",
    "\\[\n",
    "\\pi_t = \\pi^e + \\lambda (Y_t - \\bar{Y}) + \\varepsilon^{AS}\n",
    "\\]\n",
    "\n",
    "- **IS Curve:**\n",
    "\\[\n",
    "Y_t = \\bar{Y} - \\alpha (r_t - \\bar{r}) + \\varepsilon^{AD}\n",
    "\\]\n",
    "\n",
    "- **Monetary Policy Rule (Taylor):**\n",
    "\\[\n",
    "r_t = \\bar{r} + \\phi_\\pi (\\pi_t - \\pi^*)\n",
    "\\]\n",
    "\n",
    "\n",
    "\n",
    "Each period, the economy reacts, adjusts, and returns to the steady state.\n",
    "\n",
    "We simulate this dynamically over **T periods**."
   ]
  }
 ],
 "metadata": {
  "kernelspec": {
   "display_name": "Python (solow-env)",
   "language": "python",
   "name": "solow-env"
  },
  "language_info": {
   "codemirror_mode": {
    "name": "ipython",
    "version": 3
   },
   "file_extension": ".py",
   "mimetype": "text/x-python",
   "name": "python",
   "nbconvert_exporter": "python",
   "pygments_lexer": "ipython3",
   "version": "3.13.3"
  }
 },
 "nbformat": 4,
 "nbformat_minor": 5
}