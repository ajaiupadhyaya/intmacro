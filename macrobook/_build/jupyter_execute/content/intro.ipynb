{
 "cells": [
  {
   "cell_type": "markdown",
   "id": "ec77e69b",
   "metadata": {},
   "source": [
    "# 📘 Econ 3020: Intermediate Macroeconomics\n",
    "## Helpful Guide to Using This Site\n",
    "\n",
    "---\n",
    "\n",
    "### Welcome!\n",
    "\n",
    "This site contains a collection of interactive models and explanations built from the course material and readings I found most interesting during my time in **Econ 3020: Intermediate Macroeconomics**.\n",
    "\n",
    "Use it to explore, learn, and experiment with the models yourself.\n",
    "\n",
    "### About\n",
    "\n",
    "This project displays my first attempt at building a website, creating economic models, and calling a lot of the libraries used within the models. This took me roughly 100+ hours and I look forward to expanding upon the site and pushing corrections to the models and markdown. \n",
    "\n",
    "### Formulas\n",
    "\n",
    "Due to web limitations, on the site (not on binder or collab) formulas and notation will sometimes appear as plaintext (random symbols and letters). Please visit the desired file on Binder/Collab to view the correct notation/format. \n",
    "\n",
    "AI disclaimer: For the sake of my sanity; I ran the entire project through an agent to find issues and correct bugs. This is an entirely self funded/produced project with the help of agents as this is my first time hosting a website, creating economic models, and calling certain libraries necessary for this project. All code and the models themselves are authored by myself. \n",
    "\n",
    "---\n",
    "\n",
    "## 🧭 How to Navigate\n",
    "\n",
    "- Use the **sidebar** on the left side of the screen to browse topics and chapters.\n",
    "- Each chapter corresponds to a major concept or model studied in Intermediate Macroeconomics.\n",
    "\n",
    "---\n",
    "\n",
    "## 🚀 How to Interact with the Models\n",
    "\n",
    "1. **Click** on any chapter (e.g., *Measuring GDP: The Expenditure Approach*).\n",
    "2. At the top of the page, click the **🚀 Rocket Icon**.\n",
    "3. A dropdown menu will appear offering:\n",
    "   - **Binder** (Recommended)\n",
    "   - **Colab**\n",
    "   - **Live Code**\n",
    "4. Select a service to open the model interactively:\n",
    "   - **Binder**: Opens in a new tab. It will display *\"Launching your Binder...\"* — if it is your first time opening Binder; it is normal for it to take up to 3 min. for it to open the notebook. This varies heavily depending on internet speed, avail. CPU, etc. \n",
    "   - **Colab**: Opens a Google Colab environment with the model loaded.\n",
    "5. **Run the model**:\n",
    "   - In Binder: Click **Run** on each cell.\n",
    "   - In Colab: Click **Runtime** → **Run all**.\n",
    "6. **Binder/Collab**\n",
    "   - Once your on Binder or Collab, you can navigate through different models and experiment with different ideas\n",
    "\n",
    "---\n",
    "\n",
    "## 📜 License\n",
    "\n",
    "All content on this site operates under a **standard MIT License**.\n",
    "\n",
    "Source code and materials are freely available at my [GitHub Repository](https://github.com/ajaiupadhyaya/intmacro).\n",
    "\n",
    "---\n",
    "\n",
    "*Created with ❤️ by Ajai Upadhyaya.*"
   ]
  }
 ],
 "metadata": {
  "language_info": {
   "codemirror_mode": {
    "name": "ipython",
    "version": 3
   },
   "file_extension": ".py",
   "mimetype": "text/x-python",
   "name": "python",
   "nbconvert_exporter": "python",
   "pygments_lexer": "ipython3",
   "version": "3.13.3"
  },
  "tags": [
   "thebe-init"
  ]
 },
 "nbformat": 4,
 "nbformat_minor": 5
}