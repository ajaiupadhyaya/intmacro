{
 "cells": [
  {
   "cell_type": "markdown",
   "id": "ec77e69b",
   "metadata": {},
   "source": [
    "# Welcome to Intermediate Macroeconomics Interactive Book 📘\n",
    "This is an interactive guide to Intermediate Macroeconomics. Start below!\n",
    "Testing"
   ]
  }
 ],
 "metadata": {
  "language_info": {
   "codemirror_mode": {
    "name": "ipython",
    "version": 3
   },
   "file_extension": ".py",
   "mimetype": "text/x-python",
   "name": "python",
   "nbconvert_exporter": "python",
   "pygments_lexer": "ipython3",
   "version": "3.13.3"
  },
  "tags": [
   "thebe-init"
  ]
 },
 "nbformat": 4,
 "nbformat_minor": 5
}