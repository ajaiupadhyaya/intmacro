{
 "cells": [
  {
   "cell_type": "markdown",
   "id": "ec77e69b",
   "metadata": {},
   "source": [
    "# Econ 3020: Intermediate Macroeconomics 📘\n",
    "\n",
    "## Within this site, you'll find a collection of models I built and readings I found interesting during my time in Econ 3020: Intermediate Macroeconomics!\n",
    "\n",
    "## Navigate the site via the sidebar located on the left hand side of the screen\n",
    "\n",
    "## To run and interact with the models yourself:\n",
    "1) Click on a chapter (eg. Measuring GDP: The expenditure Approach)\n",
    "2) \n",
    "\n",
    "\n",
    "This is an interactive guide to Intermediate Macroeconomics. Start below!\n",
    "Testing"
   ]
  }
 ],
 "metadata": {
  "language_info": {
   "codemirror_mode": {
    "name": "ipython",
    "version": 3
   },
   "file_extension": ".py",
   "mimetype": "text/x-python",
   "name": "python",
   "nbconvert_exporter": "python",
   "pygments_lexer": "ipython3",
   "version": "3.13.3"
  },
  "tags": [
   "thebe-init"
  ]
 },
 "nbformat": 4,
 "nbformat_minor": 5
}