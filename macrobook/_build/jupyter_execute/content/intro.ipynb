{
 "cells": [
  {
   "cell_type": "markdown",
   "id": "ec77e69b",
   "metadata": {},
   "source": [
    "# 📘 Econ 3020: Intermediate Macroeconomics\n",
    "## Helpful Guide to Using This Site\n",
    "\n",
    "---\n",
    "\n",
    "### Welcome!\n",
    "\n",
    "This site contains a collection of interactive models and explanations built from the course material and readings I found most interesting during my time in **Econ 3020: Intermediate Macroeconomics**.\n",
    "\n",
    "Use it to explore, learn, and experiment with the models yourself.\n",
    "\n",
    "---\n",
    "\n",
    "## 🧭 How to Navigate\n",
    "\n",
    "- Use the **sidebar** on the left side of the screen to browse topics and chapters.\n",
    "- Each chapter corresponds to a major concept or model studied in Intermediate Macroeconomics.\n",
    "\n",
    "---\n",
    "\n",
    "## 🚀 How to Interact with the Models\n",
    "\n",
    "1. **Click** on any chapter (e.g., *Measuring GDP: The Expenditure Approach*).\n",
    "2. At the top of the page, click the **🚀 Rocket Icon**.\n",
    "3. A dropdown menu will appear offering:\n",
    "   - **Binder** (Recommended)\n",
    "   - **Colab**\n",
    "   - **Live Code**\n",
    "4. Select a service to open the model interactively:\n",
    "   - **Binder**: Opens in a new tab. It will display *\"Launching your Binder...\"* — this can take up to 30 seconds.\n",
    "   - **Colab**: Opens a Google Colab environment with the model loaded.\n",
    "5. **Run the model**:\n",
    "   - In Binder: Click **Run** on each cell.\n",
    "   - In Colab: Click **Runtime** → **Run all**.\n",
    "6. **Binder/Collab**\n",
    "   - Once your on Binder or Collab, you can navigate through different models and \n",
    "\n",
    "---\n",
    "\n",
    "## 📜 License\n",
    "\n",
    "All content on this site operates under a **standard MIT License**.\n",
    "\n",
    "Source code and materials are freely available at my [GitHub Repository](https://github.com/ajaiupadhyaya/intmacro).\n",
    "\n",
    "---\n",
    "\n",
    "*Created with ❤️ by Ajai Upadhyaya.*"
   ]
  }
 ],
 "metadata": {
  "language_info": {
   "codemirror_mode": {
    "name": "ipython",
    "version": 3
   },
   "file_extension": ".py",
   "mimetype": "text/x-python",
   "name": "python",
   "nbconvert_exporter": "python",
   "pygments_lexer": "ipython3",
   "version": "3.13.3"
  },
  "tags": [
   "thebe-init"
  ]
 },
 "nbformat": 4,
 "nbformat_minor": 5
}