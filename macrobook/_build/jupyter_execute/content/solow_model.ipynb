{
 "cells": [
  {
   "cell_type": "code",
   "execution_count": 1,
   "id": "7819a808",
   "metadata": {
    "tags": [
     "thebe-init",
     "hide-input"
    ]
   },
   "outputs": [
    {
     "ename": "SyntaxError",
     "evalue": "invalid syntax (1409200915.py, line 1)",
     "output_type": "error",
     "traceback": [
      "  \u001b[36mCell\u001b[39m\u001b[36m \u001b[39m\u001b[32mIn[1]\u001b[39m\u001b[32m, line 1\u001b[39m\n\u001b[31m    \u001b[39m\u001b[31m:tags: [thebe-init]\u001b[39m\n    ^\n\u001b[31mSyntaxError\u001b[39m\u001b[31m:\u001b[39m invalid syntax\n"
     ]
    }
   ],
   "source": [
    ":tags: [thebe-init]\n",
    "from ipywidgets import interact, widgets\n",
    "interact(lambda x: x**2, x=widgets.IntSlider(min=0, max=10));"
   ]
  },
  {
   "cell_type": "code",
   "execution_count": null,
   "id": "37dd5994-ee8a-4048-9b04-80c3260b38cd",
   "metadata": {
    "tags": [
     "thebe-init",
     "hide-input"
    ]
   },
   "outputs": [
    {
     "data": {
      "application/vnd.jupyter.widget-view+json": {
       "model_id": "9f9446ac2d96461bb771d1959573c78b",
       "version_major": 2,
       "version_minor": 0
      },
      "text/plain": [
       "interactive(children=(FloatSlider(value=0.2, description='Savings Rate (s)', max=0.6, min=0.05, step=0.01), Fl…"
      ]
     },
     "metadata": {},
     "output_type": "display_data"
    },
    {
     "data": {
      "text/plain": [
       "<function __main__.solow_simulation(s=0.2, delta=0.05, g_A=0.02, g_L=0.01, alpha=0.33, T=100, k0=0.5)>"
      ]
     },
     "execution_count": 5,
     "metadata": {},
     "output_type": "execute_result"
    }
   ],
   "source": [
    "# Solow Growth Model — NYT-Style Upgrade\n",
    "\n",
    "import numpy as np\n",
    "import matplotlib.pyplot as plt\n",
    "from ipywidgets import interact, FloatSlider\n",
    "from IPython.display import display, Markdown\n",
    "\n",
    "# --- Model Function ---\n",
    "def solow_simulation(s=0.2, delta=0.05, g_A=0.02, g_L=0.01, alpha=0.33, T=100, k0=0.5):\n",
    "    g = g_A + g_L\n",
    "    k = np.zeros(T)\n",
    "    y = np.zeros(T)\n",
    "    k[0] = k0\n",
    "\n",
    "    for t in range(1, T):\n",
    "        y[t-1] = k[t-1] ** alpha\n",
    "        investment = s * y[t-1]\n",
    "        depreciation = (delta + g) * k[t-1]\n",
    "        k[t] = k[t-1] + investment - depreciation\n",
    "    \n",
    "    y[-1] = k[-1] ** alpha\n",
    "    \n",
    "    # Steady state level of capital per effective worker\n",
    "    k_star = (s / (delta + g)) ** (1 / (1 - alpha))\n",
    "    y_star = k_star ** alpha\n",
    "\n",
    "    # --- Plot ---\n",
    "    fig, ax = plt.subplots(figsize=(10, 5))\n",
    "    ax.plot(k, label=\"Capital per Eff. Worker\", lw=2)\n",
    "    ax.plot(y, label=\"Output per Eff. Worker\", lw=2)\n",
    "    ax.axhline(y_star, color='gray', linestyle='--', label=\"Steady State Output\")\n",
    "    ax.axhline(k_star, color='gray', linestyle=':', label=\"Steady State Capital\")\n",
    "    ax.set_title(\"Solow Growth Model Dynamics\", fontsize=14)\n",
    "    ax.set_xlabel(\"Time\")\n",
    "    ax.set_ylabel(\"Level\")\n",
    "    ax.legend()\n",
    "    ax.grid(True)\n",
    "    plt.tight_layout()\n",
    "    plt.show()\n",
    "\n",
    "# --- Interactive Controls ---\n",
    "interact(\n",
    "    solow_simulation,\n",
    "    s=FloatSlider(value=0.2, min=0.05, max=0.6, step=0.01, description='Savings Rate (s)'),\n",
    "    delta=FloatSlider(value=0.05, min=0.01, max=0.2, step=0.005, description='Depreciation (δ)'),\n",
    "    g_A=FloatSlider(value=0.02, min=0.0, max=0.05, step=0.005, description='Tech Growth (gₐ)'),\n",
    "    g_L=FloatSlider(value=0.01, min=0.0, max=0.05, step=0.005, description='Pop Growth (gₗ)'),\n",
    "    alpha=FloatSlider(value=0.33, min=0.2, max=0.5, step=0.01, description='Capital Share (α)'),\n",
    "    k0=FloatSlider(value=0.5, min=0.1, max=2.0, step=0.1, description='Initial Capital (k₀)')\n",
    ")\n"
   ]
  },
  {
   "cell_type": "markdown",
   "id": "13ad8f97",
   "metadata": {},
   "source": [
    "# --- Model Summary ---\n",
    "\n",
    "# 🧠 Solow Model Equation\n",
    "\n",
    "The **Solow Growth Model** in per effective worker terms is:\n",
    "\n",
    "$$\n",
    "\\dot{k} = s k^\\alpha - (\\delta + g_A + g_L) k\n",
    "$$\n",
    "\n",
    "Where:\n",
    "- $k$ = capital per effective worker  \n",
    "- $s$ = savings rate  \n",
    "- $\\delta$ = depreciation rate  \n",
    "- $g_A$ = growth rate of technology  \n",
    "- $g_L$ = population growth rate  \n",
    "- $\\alpha$ = output elasticity of capital\n",
    "\n",
    "The **steady state** level of $k^*$ satisfies:\n",
    "\n",
    "$$\n",
    "k^* = \\left(\\frac{s}{\\delta + g_A + g_L}\\right)^{\\frac{1}{1 - \\alpha}}\n",
    "$$\n"
   ]
  }
 ],
 "metadata": {
  "kernelspec": {
   "display_name": "Python (solow-env)",
   "language": "python",
   "name": "solow-env"
  },
  "language_info": {
   "codemirror_mode": {
    "name": "ipython",
    "version": 3
   },
   "file_extension": ".py",
   "mimetype": "text/x-python",
   "name": "python",
   "nbconvert_exporter": "python",
   "pygments_lexer": "ipython3",
   "version": "3.13.3"
  }
 },
 "nbformat": 4,
 "nbformat_minor": 5
}