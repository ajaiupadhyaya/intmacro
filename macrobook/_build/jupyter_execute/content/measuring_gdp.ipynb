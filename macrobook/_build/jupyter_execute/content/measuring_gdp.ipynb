{
 "cells": [
  {
   "cell_type": "markdown",
   "id": "b7f8af61",
   "metadata": {},
   "source": [
    "# 📘 Measuring GDP: Expenditure View\n",
    "\n",
    "GDP, or Gross Domestic Product, is the market value of all **final goods and services** produced within a country in a given period.\n",
    "\n",
    "# Expenditure Formula\n",
    "We calculate GDP by adding all spending on final goods:\n",
    "\\[\n",
    "Y = C + I + G + NX\n",
    "\\]\n",
    "- \\( C \\): Consumption (households)\n",
    "- \\( I \\): Investment (business capital, housing)\n",
    "- \\( G \\): Government purchases\n",
    "- \\( NX \\): Net exports = Exports – Imports\n",
    "\n",
    "\n",
    "\n",
    "# 📊 Interpreting GDP\n",
    "- **Nominal GDP**: measured in current prices  \n",
    "- **Real GDP**: adjusted for inflation (we’ll return to this next module)\n",
    "\n",
    "> GDP is a measure of market transactions — it doesn’t include:\n",
    "> - Household labor (e.g., cooking, parenting)\n",
    "> - Underground economy\n",
    "> - Happiness or sustainability\n",
    "\n",
    "\n",
    "\n",
    "# 🔍 Why this matters\n",
    "- Used to compare countries and time periods\n",
    "- Forms the **core variable** in macro models like IS curve, Solow, etc."
   ]
  },
  {
   "cell_type": "code",
   "execution_count": 1,
   "id": "4f78a1a0",
   "metadata": {
    "tags": [
     "thebe-init"
    ]
   },
   "outputs": [
    {
     "ename": "SyntaxError",
     "evalue": "invalid syntax (1409200915.py, line 1)",
     "output_type": "error",
     "traceback": [
      "  \u001b[36mCell\u001b[39m\u001b[36m \u001b[39m\u001b[32mIn[1]\u001b[39m\u001b[32m, line 1\u001b[39m\n\u001b[31m    \u001b[39m\u001b[31m:tags: [thebe-init]\u001b[39m\n    ^\n\u001b[31mSyntaxError\u001b[39m\u001b[31m:\u001b[39m invalid syntax\n"
     ]
    }
   ],
   "source": [
    ":tags: [thebe-init]\n",
    "from ipywidgets import interact, widgets\n",
    "interact(lambda x: x**2, x=widgets.IntSlider(min=0, max=10));"
   ]
  },
  {
   "cell_type": "code",
   "execution_count": 1,
   "id": "c0631bb4",
   "metadata": {
    "tags": [
     "thebe-init",
     "hide-input"
    ]
   },
   "outputs": [
    {
     "data": {
      "application/vnd.jupyter.widget-view+json": {
       "model_id": "50dc9c6392e74e51a82b8b978b3ec13a",
       "version_major": 2,
       "version_minor": 0
      },
      "text/plain": [
       "interactive(children=(FloatSlider(value=2000.0, description='C', max=5000.0, min=500.0, step=100.0), FloatSlid…"
      ]
     },
     "metadata": {},
     "output_type": "display_data"
    }
   ],
   "source": [
    "import matplotlib.pyplot as plt\n",
    "from ipywidgets import interact, FloatSlider\n",
    "import numpy as np\n",
    "\n",
    "def gdp_components(C=2000, I=500, G=1000, NX=-200):\n",
    "    Y = C + I + G + NX\n",
    "    labels = ['Consumption (C)', 'Investment (I)', 'Government (G)', 'Net Exports (NX)']\n",
    "    values = [C, I, G, NX]\n",
    "    \n",
    "    fig, ax = plt.subplots(figsize=(8, 5))\n",
    "    bars = ax.bar(labels, values, color=['#5DADE2', '#48C9B0', '#F5B041', '#A569BD'])\n",
    "    for bar in bars:\n",
    "        yval = bar.get_height()\n",
    "        ax.text(bar.get_x() + bar.get_width()/2.0, yval + 50, f'{yval:.0f}', ha='center', va='bottom')\n",
    "    \n",
    "    ax.set_title(f'Total GDP = {Y:.0f}', fontsize=14)\n",
    "    ax.set_ylabel('Billions of Dollars')\n",
    "    ax.axhline(0, color='gray', linewidth=0.5)\n",
    "    plt.grid(axis='y', linestyle='--', alpha=0.5)\n",
    "    plt.tight_layout()\n",
    "    plt.show()\n",
    "\n",
    "interact(gdp_components,\n",
    "         C=FloatSlider(value=2000, min=500, max=5000, step=100, description='C'),\n",
    "         I=FloatSlider(value=500, min=0, max=2000, step=50, description='I'),\n",
    "         G=FloatSlider(value=1000, min=0, max=3000, step=100, description='G'),\n",
    "         NX=FloatSlider(value=-200, min=-1000, max=1000, step=50, description='NX'));"
   ]
  }
 ],
 "metadata": {
  "kernelspec": {
   "display_name": "Python (solow-env)",
   "language": "python",
   "name": "solow-env"
  },
  "language_info": {
   "codemirror_mode": {
    "name": "ipython",
    "version": 3
   },
   "file_extension": ".py",
   "mimetype": "text/x-python",
   "name": "python",
   "nbconvert_exporter": "python",
   "pygments_lexer": "ipython3",
   "version": "3.13.3"
  }
 },
 "nbformat": 4,
 "nbformat_minor": 5
}