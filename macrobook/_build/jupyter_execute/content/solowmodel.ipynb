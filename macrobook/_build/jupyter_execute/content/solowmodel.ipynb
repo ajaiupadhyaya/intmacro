{
 "cells": [
  {
   "cell_type": "code",
   "execution_count": 1,
   "id": "a208f9a0",
   "metadata": {
    "tags": [
     "thebe-init",
     "hide-input"
    ]
   },
   "outputs": [
    {
     "ename": "SyntaxError",
     "evalue": "invalid syntax (1409200915.py, line 1)",
     "output_type": "error",
     "traceback": [
      "  \u001b[36mCell\u001b[39m\u001b[36m \u001b[39m\u001b[32mIn[1]\u001b[39m\u001b[32m, line 1\u001b[39m\n\u001b[31m    \u001b[39m\u001b[31m:tags: [thebe-init]\u001b[39m\n    ^\n\u001b[31mSyntaxError\u001b[39m\u001b[31m:\u001b[39m invalid syntax\n"
     ]
    }
   ],
   "source": [
    ":tags: [thebe-init]\n",
    "from ipywidgets import interact, widgets\n",
    "interact(lambda x: x**2, x=widgets.IntSlider(min=0, max=10));"
   ]
  },
  {
   "cell_type": "code",
   "execution_count": 1,
   "id": "d4df1bb7",
   "metadata": {
    "tags": [
     "thebe-init",
     "hide-input"
    ]
   },
   "outputs": [
    {
     "data": {
      "application/vnd.jupyter.widget-view+json": {
       "model_id": "cddac7ec8edb4429a2ab20f2e225a1ed",
       "version_major": 2,
       "version_minor": 0
      },
      "text/plain": [
       "interactive(children=(FloatSlider(value=0.2, description='Savings rate (s)', max=0.5, min=0.05, step=0.01), Fl…"
      ]
     },
     "metadata": {},
     "output_type": "display_data"
    }
   ],
   "source": [
    "import numpy as np\n",
    "import matplotlib.pyplot as plt\n",
    "from ipywidgets import interact, FloatSlider\n",
    "\n",
    "def solow_growth_model(s=0.2, delta=0.05, alpha=0.3, n=0.01, g=0.02, k0=0.1, T=100):\n",
    "    T = int(T)\n",
    "    k = np.zeros(T)\n",
    "    y = np.zeros(T)\n",
    "    c = np.zeros(T)\n",
    "    k[0] = k0\n",
    "\n",
    "    for t in range(1, T):\n",
    "        k[t] = k[t-1] + (s * k[t-1]**alpha - (delta + n + g) * k[t-1])\n",
    "        if k[t] < 0: k[t] = 0  # keep it non-negative\n",
    "        y[t] = k[t]**alpha\n",
    "        c[t] = (1 - s) * y[t]\n",
    "\n",
    "    # Steady state capital\n",
    "    k_star = (s / (delta + n + g)) ** (1 / (1 - alpha))\n",
    "    y_star = k_star ** alpha\n",
    "\n",
    "    fig, axs = plt.subplots(1, 2, figsize=(14, 5))\n",
    "\n",
    "    # Phase Diagram\n",
    "    k_grid = np.linspace(0.01, 2*k_star, 200)\n",
    "    dk = s * k_grid**alpha - (delta + n + g) * k_grid\n",
    "    axs[0].plot(k_grid, dk, label='Δk', color='teal')\n",
    "    axs[0].axhline(0, color='gray', linestyle='--')\n",
    "    axs[0].axvline(k_star, color='red', linestyle='--', label='Steady State')\n",
    "    axs[0].set_title(\"Phase Diagram: Δk vs. k\")\n",
    "    axs[0].set_xlabel(\"k (Capital per effective worker)\")\n",
    "    axs[0].set_ylabel(\"Δk\")\n",
    "    axs[0].legend()\n",
    "    axs[0].grid(True)\n",
    "\n",
    "    # Time Series\n",
    "    axs[1].plot(k, label='Capital (k)', color='blue')\n",
    "    axs[1].plot(y, label='Output (y)', color='orange')\n",
    "    axs[1].plot(c, label='Consumption (c)', color='green')\n",
    "    axs[1].set_title(\"Time Path of k(t), y(t), c(t)\")\n",
    "    axs[1].set_xlabel(\"Time\")\n",
    "    axs[1].legend()\n",
    "    axs[1].grid(True)\n",
    "\n",
    "    plt.suptitle(\"Solow Model with Balanced Growth\", fontsize=14)\n",
    "    plt.tight_layout()\n",
    "    plt.show()\n",
    "\n",
    "interact(solow_growth_model,\n",
    "         s=FloatSlider(value=0.2, min=0.05, max=0.5, step=0.01, description='Savings rate (s)'),\n",
    "         delta=FloatSlider(value=0.05, min=0.01, max=0.15, step=0.01, description='Depreciation (δ)'),\n",
    "         alpha=FloatSlider(value=0.3, min=0.1, max=0.6, step=0.05, description='α'),\n",
    "         n=FloatSlider(value=0.01, min=0.0, max=0.05, step=0.005, description='Pop growth (n)'),\n",
    "         g=FloatSlider(value=0.02, min=0.0, max=0.05, step=0.005, description='Tech growth (g)'),\n",
    "         k0=FloatSlider(value=0.1, min=0.01, max=1.0, step=0.01, description='Initial k₀'),\n",
    "         T=FloatSlider(value=100, min=20, max=300, step=10, description='Time Steps'));"
   ]
  },
  {
   "cell_type": "markdown",
   "id": "6b71a3a8",
   "metadata": {},
   "source": [
    "# 🧠 Solow Model with Balanced Growth\n",
    "\n",
    "The Solow model explains long-run output per capita growth using:\n",
    "\n",
    "\\[\n",
    "k_{t+1} = \\frac{s f(k_t)}{(1 + n)(1 + g)} + \\frac{(1 - \\delta)}{(1 + n)(1 + g)} k_t\n",
    "\\]\n",
    "\n",
    "Or in continuous time:\n",
    "\\[\n",
    "\\frac{dk}{dt} = s k^\\alpha - (\\delta + n + g) k\n",
    "\\]\n",
    "\n",
    "\n",
    "# Key Variables\n",
    "- \\( k \\): capital per effective worker\n",
    "- \\( y = f(k) = k^\\alpha \\): output per effective worker\n",
    "- \\( s \\): savings rate  \n",
    "- \\( \\delta \\): depreciation  \n",
    "- \\( n \\): population growth  \n",
    "- \\( g \\): technology growth\n",
    "\n",
    "\n",
    "# Steady State\n",
    "\\[\n",
    "k^* = \\left(\\frac{s}{\\delta + n + g}\\right)^{\\frac{1}{1 - \\alpha}}\n",
    "\\]\n",
    "At the steady state:\n",
    "- \\( k, y \\) per effective worker are **constant**\n",
    "- Real GDP per capita grows at rate \\( g \\)\n"
   ]
  }
 ],
 "metadata": {
  "kernelspec": {
   "display_name": "Python (solow-env)",
   "language": "python",
   "name": "solow-env"
  },
  "language_info": {
   "codemirror_mode": {
    "name": "ipython",
    "version": 3
   },
   "file_extension": ".py",
   "mimetype": "text/x-python",
   "name": "python",
   "nbconvert_exporter": "python",
   "pygments_lexer": "ipython3",
   "version": "3.13.3"
  }
 },
 "nbformat": 4,
 "nbformat_minor": 5
}