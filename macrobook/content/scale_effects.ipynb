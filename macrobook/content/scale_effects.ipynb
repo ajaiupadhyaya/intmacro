{
 "cells": [
  {
   "cell_type": "code",
   "execution_count": null,
   "id": "4c771997",
   "metadata": {
    "tags": [
     "thebe-init",
     "hide-input"
    ]
   },
   "outputs": [],
   "source": [
    "from ipywidgets import interact, widgets\n",
    "interact(lambda x: x**2, x=widgets.IntSlider(min=0, max=10));"
   ]
  },
  {
   "cell_type": "code",
   "execution_count": null,
   "id": "c39a7b78",
   "metadata": {
    "tags": [
     "thebe-init",
     "hide-input"
    ]
   },
   "outputs": [
    {
     "data": {
      "application/vnd.jupyter.widget-view+json": {
       "model_id": "f0609784f8cc46fd8126e95e5fe02739",
       "version_major": 2,
       "version_minor": 0
      },
      "text/plain": [
       "interactive(children=(FloatSlider(value=0.05, description='Idea Productivity z', max=0.2, min=0.01, step=0.005…"
      ]
     },
     "metadata": {},
     "output_type": "display_data"
    },
    {
     "data": {
      "text/plain": [
       "<function __main__.scale_effects(z=0.05, omega=0.2, min_pop=10, max_pop=500, points=20)>"
      ]
     },
     "execution_count": 1,
     "metadata": {},
     "output_type": "execute_result"
    }
   ],
   "source": [
    "import numpy as np\n",
    "import matplotlib.pyplot as plt\n",
    "from ipywidgets import interact, FloatSlider\n",
    "\n",
    "def scale_effects(z=0.05, omega=0.2, min_pop=10, max_pop=500, points=20):\n",
    "    L_values = np.linspace(min_pop, max_pop, points)\n",
    "    g_values = z * omega * L_values\n",
    "    logL = np.log(L_values)\n",
    "\n",
    "    plt.figure(figsize=(8, 5))\n",
    "    plt.scatter(logL, g_values, color='purple', s=60)\n",
    "    plt.plot(logL, g_values, linestyle='--', color='gray')\n",
    "    plt.title(\"Scale Effects: log(Population) vs. Growth Rate\")\n",
    "    plt.xlabel(\"log(Population)\")\n",
    "    plt.ylabel(\"Growth Rate gY = z·ω·L\")\n",
    "    plt.grid(True)\n",
    "    plt.tight_layout()\n",
    "    plt.show()\n",
    "\n",
    "    print(\"📘 SCALE EFFECTS LOGIC\")\n",
    "    print(f\"  gY = z · ω · L → upward-sloping in log(L)\")\n",
    "    print(f\"  This implies: bigger countries = faster growth (all else equal)\")\n",
    "\n",
    "interact(\n",
    "    scale_effects,\n",
    "    z=FloatSlider(value=0.05, min=0.01, max=0.2, step=0.005, description='Idea Productivity z'),\n",
    "    omega=FloatSlider(value=0.2, min=0.05, max=0.9, step=0.05, description='R&D Share ω'),\n",
    "    min_pop=FloatSlider(value=10, min=1, max=100, step=5, description='Min Population'),\n",
    "    max_pop=FloatSlider(value=500, min=100, max=1000, step=50, description='Max Population'),\n",
    "    points=FloatSlider(value=20, min=5, max=100, step=5, description='# Countries')\n",
    ")"
   ]
  },
  {
   "cell_type": "markdown",
   "id": "73dbf5f3",
   "metadata": {},
   "source": [
    "# 📘 Scale Effects Hypothesis (Romer, GrowthEcon Ch. 7.4)\n",
    "\n",
    "From the Romer model:\n",
    "\\[\n",
    "g_Y = z \\cdot \\omega \\cdot L\n",
    "\\]\n",
    "\n",
    "- More people → more researchers → faster growth\n",
    "- This predicts a **positive relationship** between \\( \\log(L) \\) and \\( g_Y \\)\n",
    "\n",
    "🔑 **Key Insight**:  \n",
    "Scale effects mean large countries should grow faster — but this is debated in modern growth theory.\n",
    "\n",
    "**Sources**:  \n",
    "- GrowthEcon [Ch. 7.4](https://growthecon.com/StudyGuide/romer-scale.html)  \n",
    "- Charles Jones, *Macroeconomics*, Ch. 8"
   ]
  }
 ],
 "metadata": {
  "kernelspec": {
   "display_name": "Python (solow-env)",
   "language": "python",
   "name": "solow-env"
  },
  "language_info": {
   "codemirror_mode": {
    "name": "ipython",
    "version": 3
   },
   "file_extension": ".py",
   "mimetype": "text/x-python",
   "name": "python",
   "nbconvert_exporter": "python",
   "pygments_lexer": "ipython3",
   "version": "3.13.3"
  },
  "tags": [
   "thebe-init"
  ]
 },
 "nbformat": 4,
 "nbformat_minor": 5
}
