{
 "cells": [
  {
   "cell_type": "code",
   "execution_count": null,
   "id": "65a9d06b",
   "metadata": {},
   "outputs": [],
   "source": [
    "```{code-cell} ipython3\n",
    ":tags: [thebe-init]\n",
    "from ipywidgets import interact, widgets"
   ]
  },
  {
   "cell_type": "code",
   "execution_count": null,
   "id": "70b6df98",
   "metadata": {},
   "outputs": [
    {
     "data": {
      "application/vnd.jupyter.widget-view+json": {
       "model_id": "b26dc32065ab42e69f8b75c60262cee4",
       "version_major": 2,
       "version_minor": 0
      },
      "text/plain": [
       "interactive(children=(FloatSlider(value=0.3, description='Capital Share α', max=0.7, min=0.1, step=0.05), Floa…"
      ]
     },
     "metadata": {},
     "output_type": "display_data"
    }
   ],
   "source": [
    "# Vuoksi Macro Lab: Growth Accounting Decomposition (GrowthEcon Ch. 6, CJ Ch. 6)\n",
    "\n",
    "import numpy as np\n",
    "import matplotlib.pyplot as plt\n",
    "from ipywidgets import interact, FloatSlider\n",
    "\n",
    "plt.rcParams['axes.titlesize'] = 14\n",
    "plt.rcParams['axes.labelsize'] = 12\n",
    "plt.rcParams['legend.fontsize'] = 11\n",
    "plt.rcParams['figure.facecolor'] = 'white'\n",
    "plt.rcParams['axes.grid'] = True\n",
    "\n",
    "# --- Growth Accounting Function ---\n",
    "def growth_accounting(alpha=0.3, gA=0.02, gK=0.04, gL=0.01):\n",
    "    gY = gA + alpha * gK + (1 - alpha) * gL\n",
    "    components = ['TFP (gA)', 'Capital (α·gK)', 'Labor ((1−α)·gL)']\n",
    "    values = [gA, alpha * gK, (1 - alpha) * gL]\n",
    "    colors = ['steelblue', 'seagreen', 'goldenrod']\n",
    "\n",
    "    plt.figure(figsize=(8, 5))\n",
    "    plt.bar(components, values, color=colors)\n",
    "    plt.axhline(gY, linestyle='--', color='black', label=f'Total Growth gY = {gY:.3f}')\n",
    "    plt.ylabel(\"Growth Rate\")\n",
    "    plt.title(\"Growth Accounting Decomposition\")\n",
    "    plt.legend()\n",
    "\n",
    "    for i, v in enumerate(values):\n",
    "        plt.text(i, v + 0.001, f\"{v:.3f}\", ha='center', fontsize=11)\n",
    "\n",
    "    plt.tight_layout()\n",
    "    plt.show()\n",
    "\n",
    "    print(\"\\033[1mGROWTH DECOMPOSITION\\033[0m\")\n",
    "    print(f\"gY = gA + α·gK + (1−α)·gL\")\n",
    "    print(f\"gY = {gA:.3f} + {alpha:.2f}·{gK:.3f} + {1 - alpha:.2f}·{gL:.3f} = {gY:.3f}\")\n",
    "\n",
    "interact(\n",
    "    growth_accounting,\n",
    "    alpha=FloatSlider(value=0.3, min=0.1, max=0.7, step=0.05, description='Capital Share α'),\n",
    "    gA=FloatSlider(value=0.02, min=0.0, max=0.1, step=0.005, description='TFP Growth gA'),\n",
    "    gK=FloatSlider(value=0.04, min=0.0, max=0.2, step=0.01, description='Capital Growth gK'),\n",
    "    gL=FloatSlider(value=0.01, min=0.0, max=0.1, step=0.005, description='Labor Growth gL')\n",
    ");\n"
   ]
  },
  {
   "cell_type": "markdown",
   "id": "96e19090",
   "metadata": {},
   "source": [
    "### 📘 Theory Summary\n",
    "\n",
    "The growth accounting equation:\n",
    "\\[\n",
    "g_Y = g_A + \\alpha \\cdot g_K + (1 - \\alpha) \\cdot g_L\n",
    "\\]\n",
    "\n",
    "- **gA**: Total Factor Productivity growth (technology)\n",
    "- **gK**: Capital stock growth\n",
    "- **gL**: Labor force growth\n",
    "- **α**: Capital share in output\n",
    "\n",
    "Use this model to explore whether a country’s growth is driven by:\n",
    "- TFP (innovation)\n",
    "- Capital deepening\n",
    "- Labor expansion\n",
    "\n",
    "**Sources**:\n",
    "- GrowthEcon Study Guide [Ch. 6](https://growthecon.com/StudyGuide/growth-accounting.html)\n",
    "- Charles I. Jones, *Macroeconomics*, Ch. 6"
   ]
  }
 ],
 "metadata": {
  "kernelspec": {
   "display_name": "Python (solow-env)",
   "language": "python",
   "name": "solow-env"
  },
  "language_info": {
   "codemirror_mode": {
    "name": "ipython",
    "version": 3
   },
   "file_extension": ".py",
   "mimetype": "text/x-python",
   "name": "python",
   "nbconvert_exporter": "python",
   "pygments_lexer": "ipython3",
   "version": "3.13.3"
  }
 },
 "nbformat": 4,
 "nbformat_minor": 5
}
