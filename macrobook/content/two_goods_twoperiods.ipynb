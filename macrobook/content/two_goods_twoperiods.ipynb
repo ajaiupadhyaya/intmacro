{
 "cells": [
  {
   "cell_type": "code",
   "execution_count": null,
   "id": "c8705558",
   "metadata": {
    "tags": [
     "thebe-init",
     "thebe-init",
     "hide-input"
    ]
   },
   "outputs": [],
   "source": [
    ":tags: [thebe-init]\n",
    "from ipywidgets import interact, widgets\n",
    "interact(lambda x: x**2, x=widgets.IntSlider(min=0, max=10));"
   ]
  },
  {
   "cell_type": "code",
   "execution_count": null,
   "id": "39da90eb",
   "metadata": {
    "tags": [
     "thebe-init",
     "hide-input"
    ]
   },
   "outputs": [
    {
     "data": {
      "application/vnd.jupyter.widget-view+json": {
       "model_id": "1ed2df2ccdff4a08bb0edac98951f936",
       "version_major": 2,
       "version_minor": 0
      },
      "text/plain": [
       "interactive(children=(FloatSlider(value=2.0, description='P₀ Tacos', max=5.0, min=1.0), FloatSlider(value=500.…"
      ]
     },
     "metadata": {},
     "output_type": "display_data"
    }
   ],
   "source": [
    "import matplotlib.pyplot as plt\n",
    "from ipywidgets import interact, FloatSlider\n",
    "\n",
    "def two_good_growth(p_taco_0=2.0, p_tablet_0=500, \n",
    "                    p_taco_1=3.0, p_tablet_1=550,\n",
    "                    q_taco_0=100, q_tablet_0=5, \n",
    "                    q_taco_1=120, q_tablet_1=6):\n",
    "\n",
    "    # GDPs\n",
    "    nom_0 = p_taco_0 * q_taco_0 + p_tablet_0 * q_tablet_0\n",
    "    nom_1 = p_taco_1 * q_taco_1 + p_tablet_1 * q_tablet_1\n",
    "    real_1 = p_taco_0 * q_taco_1 + p_tablet_0 * q_tablet_1\n",
    "\n",
    "    g_real = (real_1 - nom_0) / nom_0\n",
    "\n",
    "    print(\"📊 GDP Calculations\")\n",
    "    print(f\"Year 0 Nominal GDP: ${nom_0:,.2f}\")\n",
    "    print(f\"Year 1 Nominal GDP: ${nom_1:,.2f}\")\n",
    "    print(f\"Year 1 Real GDP (base year prices): ${real_1:,.2f}\")\n",
    "    print(f\"➡️ Real GDP Growth: {g_real * 100:.2f}%\")\n",
    "\n",
    "    # Bar chart\n",
    "    labels = ['Year 0 Nominal', 'Year 1 Nominal', 'Year 1 Real']\n",
    "    values = [nom_0, nom_1, real_1]\n",
    "    colors = ['#5DADE2', '#F5B041', '#58D68D']\n",
    "\n",
    "    plt.figure(figsize=(7,4))\n",
    "    plt.bar(labels, values, color=colors)\n",
    "    for i, v in enumerate(values):\n",
    "        plt.text(i, v + 50, f\"${v:,.0f}\", ha='center')\n",
    "    plt.title(\"Two Goods GDP Comparison\")\n",
    "    plt.ylabel(\"Total GDP ($)\")\n",
    "    plt.grid(axis='y', linestyle='--', alpha=0.5)\n",
    "    plt.tight_layout()\n",
    "    plt.show()\n",
    "\n",
    "interact(two_good_growth,\n",
    "         p_taco_0=FloatSlider(value=2.0, min=1.0, max=5.0, step=0.1, description='P₀ Tacos'),\n",
    "         p_tablet_0=FloatSlider(value=500, min=100, max=1000, step=50, description='P₀ Tablets'),\n",
    "         p_taco_1=FloatSlider(value=3.0, min=1.0, max=6.0, step=0.1, description='P₁ Tacos'),\n",
    "         p_tablet_1=FloatSlider(value=550, min=100, max=1100, step=50, description='P₁ Tablets'),\n",
    "         q_taco_0=FloatSlider(value=100, min=50, max=200, step=10, description='Q₀ Tacos'),\n",
    "         q_tablet_0=FloatSlider(value=5, min=1, max=10, step=1, description='Q₀ Tablets'),\n",
    "         q_taco_1=FloatSlider(value=120, min=50, max=200, step=10, description='Q₁ Tacos'),\n",
    "         q_tablet_1=FloatSlider(value=6, min=1, max=10, step=1, description='Q₁ Tablets'));"
   ]
  },
  {
   "cell_type": "markdown",
   "id": "68b3ef5d",
   "metadata": {},
   "source": [
    "# 🛒 Two Goods, Two Time Periods\n",
    "\n",
    "When measuring real GDP growth, we need to separate:\n",
    "- **Changes in quantities** from\n",
    "- **Changes in prices**\n",
    "\n",
    "Let’s use a simple economy with two goods:  \n",
    "- 🌮 Tacos  \n",
    "- 📱 Tablets\n",
    "\n",
    "# 🔢 Real vs. Nominal GDP\n",
    "\n",
    "We compute:\n",
    "- **Nominal GDP**: current prices × current quantities\n",
    "- **Real GDP**: current quantities × base-year prices\n",
    "\n",
    "\\[\n",
    "\\text{Nominal GDP}_t = P_{t}^{\\text{taco}} \\cdot Q_{t}^{\\text{taco}} + P_{t}^{\\text{tablet}} \\cdot Q_{t}^{\\text{tablet}}\n",
    "\\]\n",
    "\n",
    "\\[\n",
    "\\text{Real GDP}_t = P_{0}^{\\text{taco}} \\cdot Q_{t}^{\\text{taco}} + P_{0}^{\\text{tablet}} \\cdot Q_{t}^{\\text{tablet}}\n",
    "\\]\n",
    "\n",
    "> This shows **growth in real output** while holding prices constant.\n",
    "\n",
    "# 💡 Why It Matters\n",
    "\n",
    "If prices double and output stays the same, **nominal GDP doubles** — but **real GDP does not**.  \n",
    "We care about real GDP to understand **true growth** in standard of living."
   ]
  }
 ],
 "metadata": {
  "kernelspec": {
   "display_name": "Python (solow-env)",
   "language": "python",
   "name": "solow-env"
  },
  "language_info": {
   "codemirror_mode": {
    "name": "ipython",
    "version": 3
   },
   "file_extension": ".py",
   "mimetype": "text/x-python",
   "name": "python",
   "nbconvert_exporter": "python",
   "pygments_lexer": "ipython3",
   "version": "3.13.3"
  }
 },
 "nbformat": 4,
 "nbformat_minor": 5
}
