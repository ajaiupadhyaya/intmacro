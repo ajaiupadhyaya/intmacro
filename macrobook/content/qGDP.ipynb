{
 "cells": [
  {
   "cell_type": "code",
   "execution_count": null,
   "id": "069bfb16",
   "metadata": {
    "tags": [
     "thebe-init",
     "thebe-init",
     "hide-input"
    ]
   },
   "outputs": [],
   "source": [
    "from ipywidgets import interact, widgets\n",
    "interact(lambda x: x**2, x=widgets.IntSlider(min=0, max=10));"
   ]
  },
  {
   "cell_type": "code",
   "execution_count": 1,
   "id": "bb9e4180",
   "metadata": {
    "tags": [
     "thebe-init",
     "hide-input"
    ]
   },
   "outputs": [
    {
     "data": {
      "application/vnd.jupyter.widget-view+json": {
       "model_id": "3d2a58e7f83d48b6beea9cee930b9d0a",
       "version_major": 2,
       "version_minor": 0
      },
      "text/plain": [
       "interactive(children=(FloatSlider(value=5000.0, description='Q1 GDP', max=6000.0, min=4000.0, step=100.0), Flo…"
      ]
     },
     "metadata": {},
     "output_type": "display_data"
    }
   ],
   "source": [
    "import matplotlib.pyplot as plt\n",
    "from ipywidgets import interact, FloatSlider\n",
    "import numpy as np\n",
    "\n",
    "def quarterly_growth_sim(q1=5000, q2=5100, q3=5200, q4=5300):\n",
    "    gdp = [q1, q2, q3, q4]\n",
    "    labels = ['Q1', 'Q2', 'Q3', 'Q4']\n",
    "    q_growth = []\n",
    "    a_growth = []\n",
    "\n",
    "    for i in range(1, 4):\n",
    "        g_q = (gdp[i] - gdp[i-1]) / gdp[i-1]\n",
    "        g_a = (1 + g_q)**4 - 1\n",
    "        q_growth.append(g_q * 100)\n",
    "        a_growth.append(g_a * 100)\n",
    "\n",
    "    # Pad first quarter with NaN\n",
    "    q_growth = [np.nan] + q_growth\n",
    "    a_growth = [np.nan] + a_growth\n",
    "\n",
    "    fig, ax1 = plt.subplots(figsize=(9,5))\n",
    "    \n",
    "    ax1.bar(labels, gdp, alpha=0.6, color='lightblue', label='GDP Level')\n",
    "    ax1.set_ylabel('GDP ($B)')\n",
    "    ax1.set_ylim(0, max(gdp) * 1.1)\n",
    "\n",
    "    ax2 = ax1.twinx()\n",
    "    ax2.plot(labels, a_growth, marker='o', color='darkgreen', label='Annualized Growth', linewidth=2)\n",
    "    ax2.set_ylabel('Growth Rate (%)')\n",
    "    ax2.set_ylim(0, max(a_growth[1:] + [5]) * 1.5)\n",
    "\n",
    "    ax1.set_title('📈 Quarterly GDP vs. Annualized Growth')\n",
    "    ax1.grid(True, axis='y', linestyle='--', alpha=0.5)\n",
    "\n",
    "    fig.tight_layout()\n",
    "    fig.legend(loc='upper left', bbox_to_anchor=(0.1, 0.9))\n",
    "    plt.show()\n",
    "\n",
    "interact(quarterly_growth_sim,\n",
    "         q1=FloatSlider(value=5000, min=4000, max=6000, step=100, description='Q1 GDP'),\n",
    "         q2=FloatSlider(value=5100, min=4000, max=6000, step=100, description='Q2 GDP'),\n",
    "         q3=FloatSlider(value=5200, min=4000, max=6000, step=100, description='Q3 GDP'),\n",
    "         q4=FloatSlider(value=5300, min=4000, max=6000, step=100, description='Q4 GDP'));"
   ]
  },
  {
   "cell_type": "markdown",
   "id": "1f39d6b7",
   "metadata": {},
   "source": [
    "# 🗓️ Quarterly GDP and Growth Rates\n",
    "\n",
    "Most countries report GDP **quarterly**.\n",
    "\n",
    "But there's a twist:\n",
    "- A 1% increase this quarter → **4.06% annualized** growth!\n",
    "\\[\n",
    "g_{\\text{annual}} = (1 + g_{\\text{quarter}})^4 - 1\n",
    "\\]\n",
    "\n",
    "\n",
    "# 🔄 Seasonal Adjustment\n",
    "\n",
    "Some quarters always have more spending:\n",
    "- 🎄 Q4 = holiday boom\n",
    "- 🏖️ Q2 = summer tourism\n",
    "\n",
    "We use **seasonal adjustment** to smooth the series.\n",
    "\n",
    "\n",
    "# 📊 How Growth is Reported\n",
    "\n",
    "| Quarter | GDP ($B) | Quarterly Growth | Annualized Growth |\n",
    "|---------|----------|------------------|-------------------|\n",
    "| Q1      | 5,000    | —                | —                 |\n",
    "| Q2      | 5,100    | 2.00%            | 8.24%             |\n",
    "| Q3      | 5,200    | 1.96%            | 8.16%             |\n",
    "\n",
    "> Watch out: **small quarterly changes** look huge when annualized!"
   ]
  }
 ],
 "metadata": {
  "kernelspec": {
   "display_name": "Python (solow-env)",
   "language": "python",
   "name": "solow-env"
  },
  "language_info": {
   "codemirror_mode": {
    "name": "ipython",
    "version": 3
   },
   "file_extension": ".py",
   "mimetype": "text/x-python",
   "name": "python",
   "nbconvert_exporter": "python",
   "pygments_lexer": "ipython3",
   "version": "3.13.3"
  }
 },
 "nbformat": 4,
 "nbformat_minor": 5
}
