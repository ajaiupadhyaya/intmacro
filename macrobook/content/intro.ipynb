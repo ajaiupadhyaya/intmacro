{
 "cells": [
  {
   "cell_type": "markdown",
   "id": "ec77e69b",
   "metadata": {},
   "source": [
    "# Econ 3020: Intermediate Macroeconomics 📘\n",
    "\n",
    "## Within this site, you'll find a collection of models I built off of course material and readings I found interesting during my time in Econ 3020: Intermediate Macroeconomics!\n",
    "\n",
    "## Navigate the site via the sidebar located on the left hand side of the screen\n",
    "\n",
    "## To run and interact with the models yourself:\n",
    "1) Click on a chapter (eg. Measuring GDP: The expenditure Approach)\n",
    "2) The model is present on the page but to interact and observe, click the ROCKET\n",
    "\n",
    "\n",
    "This is an interactive guide to Intermediate Macroeconomics. Start below!\n",
    "Testing\n",
    "\n",
    "This site and all content within operates under a standard MIT license. I encourage "
   ]
  }
 ],
 "metadata": {
  "language_info": {
   "name": "python"
  },
  "tags": [
   "thebe-init"
  ]
 },
 "nbformat": 4,
 "nbformat_minor": 5
}
