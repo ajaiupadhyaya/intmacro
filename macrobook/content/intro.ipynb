{
 "cells": [
  {
   "cell_type": "markdown",
   "id": "ec77e69b",
   "metadata": {},
   "source": [
    "# Welcome to Vuoksi Macro Book 📘\n",
    "This is an interactive guide to Intermediate Macroeconomics. Start below!\n",
    "Testing"
   ]
  }
 ],
 "metadata": {
  "language_info": {
   "name": "python"
  }
 },
 "nbformat": 4,
 "nbformat_minor": 5
}
