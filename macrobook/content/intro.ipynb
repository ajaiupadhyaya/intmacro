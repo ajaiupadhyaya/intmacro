# Welcome to the Intermediate Macroeconomics Project 🚀

This site contains interactive, intuitive, and visually-rich models based on Charles I. Jones's textbook and UVA Econ 3020.

👇 Start exploring the models in the sidebar!

