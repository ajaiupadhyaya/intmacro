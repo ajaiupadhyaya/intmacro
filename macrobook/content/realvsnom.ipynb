{
 "cells": [
  {
   "cell_type": "code",
   "execution_count": null,
   "id": "f0454ee3",
   "metadata": {},
   "outputs": [],
   "source": [
    "```{code-cell} ipython3\n",
    ":tags: [thebe-init]\n",
    "from ipywidgets import interact, widgets"
   ]
  },
  {
   "cell_type": "code",
   "execution_count": 1,
   "id": "b25a80d3",
   "metadata": {},
   "outputs": [
    {
     "data": {
      "application/vnd.jupyter.widget-view+json": {
       "model_id": "0000b588e85140a0addee79d3b9abee1",
       "version_major": 2,
       "version_minor": 0
      },
      "text/plain": [
       "interactive(children=(FloatSlider(value=1000.0, description='Base GDP', max=5000.0, min=500.0, step=100.0), Fl…"
      ]
     },
     "metadata": {},
     "output_type": "display_data"
    }
   ],
   "source": [
    "import numpy as np\n",
    "import matplotlib.pyplot as plt\n",
    "from ipywidgets import interact, FloatSlider\n",
    "\n",
    "def plot_gdp_comparison(base_gdp=1000, inflation=0.03, real_growth=0.02):\n",
    "    T = 20\n",
    "    years = np.arange(2020, 2020 + T)\n",
    "    \n",
    "    nominal = [base_gdp * ((1 + real_growth + inflation)**t) for t in range(T)]\n",
    "    real = [base_gdp * ((1 + real_growth)**t) for t in range(T)]\n",
    "    \n",
    "    plt.figure(figsize=(9, 5))\n",
    "    plt.plot(years, nominal, label='Nominal GDP (includes inflation)', linewidth=2)\n",
    "    plt.plot(years, real, label='Real GDP (adjusted for inflation)', linewidth=2)\n",
    "    plt.fill_between(years, real, nominal, color='lightgray', alpha=0.3, label='Inflation Effect')\n",
    "    plt.title('Real vs. Nominal GDP Over Time')\n",
    "    plt.xlabel('Year')\n",
    "    plt.ylabel('GDP (Billions)')\n",
    "    plt.legend()\n",
    "    plt.grid(True)\n",
    "    plt.tight_layout()\n",
    "    plt.show()\n",
    "\n",
    "interact(plot_gdp_comparison,\n",
    "         base_gdp=FloatSlider(value=1000, min=500, max=5000, step=100, description='Base GDP'),\n",
    "         inflation=FloatSlider(value=0.03, min=0.00, max=0.10, step=0.01, description='Inflation'),\n",
    "         real_growth=FloatSlider(value=0.02, min=0.00, max=0.06, step=0.01, description='Real Growth'));"
   ]
  },
  {
   "cell_type": "markdown",
   "id": "d3396794",
   "metadata": {},
   "source": [
    "# 📘 Real vs. Nominal GDP Over Time\n",
    "\n",
    "GDP can be measured in **current prices** (nominal) or **constant prices** (real).  \n",
    "Real GDP tells us what’s happening to quantities — **not prices**.\n",
    "\n",
    "---\n",
    "\n",
    "### 🧠 Nominal vs. Real\n",
    "\n",
    "| Nominal GDP | Real GDP |\n",
    "|-------------|----------|\n",
    "| Current prices | Constant prices |\n",
    "| Includes price changes | Strips out inflation |\n",
    "| Grows faster when prices rise | Shows real output growth |\n",
    "\n",
    "We convert nominal to real using a **GDP deflator**:\n",
    "\\[\n",
    "\\text{Real GDP} = \\frac{\\text{Nominal GDP}}{\\text{Deflator}} \\times 100\n",
    "\\]\n",
    "\n",
    "---\n",
    "\n",
    "### 📈 Why This Matters\n",
    "\n",
    "Imagine GDP goes up 10% — but prices rose 10%. Did real output increase?  \n",
    "**No!** All the increase is just inflation. Real GDP stays flat.\n",
    "\n",
    "> Real GDP allows us to **compare across time**, not just see dollar values.\n",
    "\n",
    "---"
   ]
  }
 ],
 "metadata": {
  "kernelspec": {
   "display_name": "Python (solow-env)",
   "language": "python",
   "name": "solow-env"
  },
  "language_info": {
   "codemirror_mode": {
    "name": "ipython",
    "version": 3
   },
   "file_extension": ".py",
   "mimetype": "text/x-python",
   "name": "python",
   "nbconvert_exporter": "python",
   "pygments_lexer": "ipython3",
   "version": "3.13.3"
  }
 },
 "nbformat": 4,
 "nbformat_minor": 5
}
