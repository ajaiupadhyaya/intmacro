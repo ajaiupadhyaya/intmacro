{
 "cells": [
  {
   "cell_type": "code",
   "execution_count": null,
   "id": "b0a53b0e",
   "metadata": {
    "tags": [
     "thebe-init",
     "hide-input"
    ]
   },
   "outputs": [],
   "source": [
    ":tags: [thebe-init]\n",
    "from ipywidgets import interact, widgets\n",
    "interact(lambda x: x**2, x=widgets.IntSlider(min=0, max=10));"
   ]
  },
  {
   "cell_type": "code",
   "execution_count": null,
   "id": "48b99248",
   "metadata": {
    "tags": [
     "thebe-init",
     "hide-input"
    ]
   },
   "outputs": [
    {
     "name": "stderr",
     "output_type": "stream",
     "text": [
      "<>:53: SyntaxWarning: invalid escape sequence '\\['\n",
      "<>:53: SyntaxWarning: invalid escape sequence '\\['\n",
      "/var/folders/kz/cc2y6j3953z1bgkfgj5xk9yc0000gn/T/ipykernel_16192/312328248.py:53: SyntaxWarning: invalid escape sequence '\\['\n",
      "  interact(\n"
     ]
    },
    {
     "data": {
      "application/vnd.jupyter.widget-view+json": {
       "model_id": "5088147ba31442ccb9e1d0229bf2a24c",
       "version_major": 2,
       "version_minor": 0
      },
      "text/plain": [
       "interactive(children=(FloatSlider(value=1.0, description='TFP (Ā)', max=2.0, min=0.5), FloatSlider(value=0.2,…"
      ]
     },
     "metadata": {},
     "output_type": "display_data"
    },
    {
     "data": {
      "text/markdown": [
       "\n",
       "\n",
       "### 🧠 Solow Transition Logic (No Growth)\n",
       "\n",
       "We hold:\n",
       "- Total Factor Productivity \\( \\bar{A} \\) constant\n",
       "- Labor \\( L \\) constant\n",
       "- Capital accumulates until:  \n",
       "\\[\n",
       "\\text{Investment} = \\text{Depreciation}\n",
       "\\]\n",
       "\n",
       "**Equation:**\n",
       "\\[\n",
       "\\dot{k} = s A \\cdot k^\\alpha - \\delta k\n",
       "\\]\n",
       "\n",
       "Convergence occurs gradually toward \\( k^* \\).\n"
      ],
      "text/plain": [
       "<IPython.core.display.Markdown object>"
      ]
     },
     "metadata": {},
     "output_type": "display_data"
    }
   ],
   "source": [
    "# 📈 Solow Transition with Constant L and Ā\n",
    "\n",
    "import numpy as np\n",
    "import matplotlib.pyplot as plt\n",
    "from ipywidgets import interact, FloatSlider, IntSlider\n",
    "from IPython.display import display, Markdown\n",
    "\n",
    "plt.rcParams['axes.titlesize'] = 15\n",
    "plt.rcParams['axes.labelsize'] = 12\n",
    "plt.rcParams['figure.figsize'] = (8.5, 5)\n",
    "\n",
    "# --- Solow Transition Dynamics ---\n",
    "def solow_transition(A_bar=1.0, s=0.2, delta=0.05, alpha=0.33, k0=0.5, T=60):\n",
    "    k = np.zeros(T)\n",
    "    y = np.zeros(T)\n",
    "    k[0] = k0\n",
    "\n",
    "    for t in range(1, T):\n",
    "        y[t-1] = A_bar * k[t-1] ** alpha\n",
    "        investment = s * y[t-1]\n",
    "        depreciation = delta * k[t-1]\n",
    "        k[t] = k[t-1] + investment - depreciation\n",
    "    y[-1] = A_bar * k[-1] ** alpha\n",
    "\n",
    "    k_star = (s * A_bar / delta) ** (1 / (1 - alpha))\n",
    "    y_star = A_bar * k_star ** alpha\n",
    "\n",
    "    fig, ax = plt.subplots()\n",
    "    ax.plot(k, label='Capital per Worker (k)', lw=2)\n",
    "    ax.plot(y, label='Output per Worker (y)', lw=2)\n",
    "    ax.axhline(y_star, ls='--', color='gray', label='Steady State Output')\n",
    "    ax.axhline(k_star, ls=':', color='gray', label='Steady State Capital')\n",
    "    ax.set_title(\"Solow Transition: Capital Accumulation over Time\")\n",
    "    ax.set_xlabel(\"Time\")\n",
    "    ax.set_ylabel(\"Level\")\n",
    "    ax.grid(True)\n",
    "    ax.legend()\n",
    "    plt.tight_layout()\n",
    "    plt.show()\n",
    "\n",
    "    display(Markdown(f\"\"\"\n",
    "### 📌 Transition Summary\n",
    "- **Steady-State Capital:** `${k_star:,.2f}`\n",
    "- **Steady-State Output:** `${y_star:,.2f}`\n",
    "\n",
    "Capital accumulates until investment equals depreciation:\n",
    "\\[ s A \\cdot k^\\alpha = \\delta k \\Rightarrow k^* \\]\n",
    "\n",
    "This version holds **technology (Ā)** and **labor (L)** constant.\n",
    "\"\"\"))\n",
    "\n",
    "# --- Sliders ---\n",
    "interact(\n",
    "    solow_transition,\n",
    "    A_bar=FloatSlider(value=1.0, min=0.5, max=2.0, step=0.1, description='TFP (Ā)'),\n",
    "    s=FloatSlider(value=0.2, min=0.05, max=0.5, step=0.01, description='Savings Rate'),\n",
    "    delta=FloatSlider(value=0.05, min=0.01, max=0.2, step=0.01, description='Depreciation'),\n",
    "    alpha=FloatSlider(value=0.33, min=0.2, max=0.5, step=0.01, description='Capital Share α'),\n",
    "    k0=FloatSlider(value=0.5, min=0.1, max=5.0, step=0.1, description='Initial Capital'),\n",
    "    T=IntSlider(value=60, min=20, max=100, step=5, description='Time Horizon')\n",
    ")\n",
    "\n",
    "# --- Markdown Summary ---\n",
    "display(Markdown(r'''\n",
    "\n",
    "# 🧠 Solow Transition Logic (No Growth)\n",
    "\n",
    "We hold:\n",
    "- Total Factor Productivity \\( \\bar{A} \\) constant\n",
    "- Labor \\( L \\) constant\n",
    "- Capital accumulates until:  \n",
    "\\[\n",
    "\\text{Investment} = \\text{Depreciation}\n",
    "\\]\n",
    "\n",
    "**Equation:**\n",
    "\\[\n",
    "\\dot{k} = s A \\cdot k^\\alpha - \\delta k\n",
    "\\]\n",
    "\n",
    "Convergence occurs gradually toward \\( k^* \\).\n",
    "'''))\n"
   ]
  }
 ],
 "metadata": {
  "kernelspec": {
   "display_name": "Python (solow-env)",
   "language": "python",
   "name": "solow-env"
  },
  "language_info": {
   "codemirror_mode": {
    "name": "ipython",
    "version": 3
   },
   "file_extension": ".py",
   "mimetype": "text/x-python",
   "name": "python",
   "nbconvert_exporter": "python",
   "pygments_lexer": "ipython3",
   "version": "3.13.3"
  }
 },
 "nbformat": 4,
 "nbformat_minor": 5
}
