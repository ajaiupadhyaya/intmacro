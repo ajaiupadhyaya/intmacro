{
 "cells": [
  {
   "cell_type": "code",
   "execution_count": 19,
   "id": "5c563e9d",
   "metadata": {
    "tags": [
     "thebe-init",
     "hide-input"
    ]
   },
   "outputs": [
    {
     "data": {
      "application/vnd.jupyter.widget-view+json": {
       "model_id": "dffbb831304a4522a354a865f5d770fe",
       "version_major": 2,
       "version_minor": 0
      },
      "text/plain": [
       "interactive(children=(IntSlider(value=0, description='x', max=10), Output()), _dom_classes=('widget-interact',…"
      ]
     },
     "metadata": {},
     "output_type": "display_data"
    }
   ],
   "source": [
    "from ipywidgets import interact, widgets\n",
    "interact(lambda x: x**2, x=widgets.IntSlider(min=0, max=10));"
   ]
  },
  {
   "cell_type": "code",
   "execution_count": 20,
   "id": "3bc8e46c",
   "metadata": {
    "tags": [
     "hide-input"
    ]
   },
   "outputs": [
    {
     "data": {
      "application/vnd.jupyter.widget-view+json": {
       "model_id": "c2ed7eabbc4a4811aa7c14efd61ca02d",
       "version_major": 2,
       "version_minor": 0
      },
      "text/plain": [
       "interactive(children=(FloatSlider(value=100.0, description='Income $y_1$', max=200.0, step=10.0), FloatSlider(…"
      ]
     },
     "metadata": {},
     "output_type": "display_data"
    },
    {
     "data": {
      "text/plain": [
       "<function __main__.plot_two_period(y1=100, y2=100, r=0.05, compare=False)>"
      ]
     },
     "execution_count": 20,
     "metadata": {},
     "output_type": "execute_result"
    }
   ],
   "source": [
    "import numpy as np\n",
    "import matplotlib.pyplot as plt\n",
    "from ipywidgets import interact, FloatSlider, Checkbox\n",
    "from IPython.display import display, Markdown\n",
    "\n",
    "def two_period_utility(c1, c2):\n",
    "    return np.log(c1) + np.log(c2)\n",
    "\n",
    "def plot_two_period(y1=100, y2=100, r=0.05, compare=False):\n",
    "    plt.figure(figsize=(8, 6))\n",
    "    plt.grid(True, linestyle='--', alpha=0.3)\n",
    "\n",
    "    # Budget line\n",
    "    c1_max = y1 + y2 / (1 + r)\n",
    "    c2_max = (1 + r) * y1 + y2\n",
    "    c1_bc = np.linspace(0.01, c1_max, 100)\n",
    "    c2_bc = (1 + r) * (y1 - c1_bc) + y2\n",
    "    plt.plot(c1_bc, c2_bc, label=f\"Budget Constraint (r = {r:.2f})\", color='black', linewidth=2)\n",
    "\n",
    "    # Optimal consumption point\n",
    "    c1_star = (y1 + y2 / (1 + r)) / (1 + 1 / (1 + r))\n",
    "    c2_star = (1 + r) * c1_star\n",
    "    U_star = two_period_utility(c1_star, c2_star)\n",
    "\n",
    "    # Indifference curve through optimal point\n",
    "    c1_vals = np.linspace(0.01, c1_max + 10, 300)\n",
    "    u_curve = np.exp(U_star - np.log(c1_vals))\n",
    "    plt.plot(c1_vals, u_curve, linestyle='--', color='crimson', label=\"Optimal Indifference Curve\")\n",
    "\n",
    "    # Mark optimal bundle\n",
    "    plt.scatter(c1_star, c2_star, color='crimson', s=60, zorder=5)\n",
    "    plt.text(c1_star + 1, c2_star, f\"U = {U_star:.2f}\", fontsize=9)\n",
    "\n",
    "    # Comparative statics\n",
    "    if compare:\n",
    "        for r_cmp in [0.01, 0.10, 0.20]:\n",
    "            if abs(r_cmp - r) < 0.01:\n",
    "                continue\n",
    "            c1_cmp = (y1 + y2 / (1 + r_cmp)) / (1 + 1 / (1 + r_cmp))\n",
    "            c2_cmp = (1 + r_cmp) * c1_cmp\n",
    "            U_cmp = two_period_utility(c1_cmp, c2_cmp)\n",
    "            plt.scatter(c1_cmp, c2_cmp, label=f\"r = {r_cmp:.2f}\", alpha=0.6)\n",
    "            plt.plot(c1_vals, np.exp(U_cmp - np.log(c1_vals)), linestyle=':', alpha=0.3)\n",
    "\n",
    "    # Finalize plot\n",
    "    plt.xlabel(\"Consumption Today ($c_1$)\")\n",
    "    plt.ylabel(\"Consumption Tomorrow ($c_2$)\")\n",
    "    plt.title(\"Two-Period Consumption Model: Euler Equation & Intertemporal Choice\")\n",
    "    plt.xlim(0, c1_max + 10)\n",
    "    plt.ylim(0, c2_max + 10)\n",
    "    plt.legend()\n",
    "    plt.tight_layout()\n",
    "    plt.show()\n",
    "\n",
    "    # Display live equations\n",
    "    eq = rf\"\"\"\n",
    "    ### 📘 Intertemporal Budget & Euler Conditions\n",
    "\n",
    "    - Budget Constraint:\n",
    "      $c_1 + \\frac{{c_2}}{{1 + r}} = {y1:.0f} + \\frac{{{y2:.0f}}}{{1 + {r:.2f}}} = {y1 + y2 / (1 + r):.2f}$\n",
    "\n",
    "    - Optimal Bundle:\n",
    "      $c_1^* = {c1_star:.2f},\\quad c_2^* = {c2_star:.2f}$\n",
    "\n",
    "    - Euler Equation:\n",
    "      $\\frac{{1}}{{c_1^*}} = (1 + r) \\cdot \\frac{{1}}{{c_2^*}} \\Rightarrow$\n",
    "      {1/c1_star:.3f} = {(1 + r) * (1/c2_star):.3f} ✅\n",
    "    \"\"\"\n",
    "    display(Markdown(eq))\n",
    "\n",
    "interact(plot_two_period,\n",
    "         y1=FloatSlider(value=100, min=0, max=200, step=10, description='Income $y_1$'),\n",
    "         y2=FloatSlider(value=100, min=0, max=200, step=10, description='Income $y_2$'),\n",
    "         r=FloatSlider(value=0.05, min=0.0, max=0.3, step=0.01, description='Interest Rate $r$'),\n",
    "         compare=Checkbox(value=False, description=\"Compare with other $r$\"))\n"
   ]
  },
  {
   "cell_type": "markdown",
   "id": "be3efafc",
   "metadata": {},
   "source": [
    "## 🧠 Economic Intuition\n",
    "\n",
    "In this interactive model, we explore a **two-period consumption** problem where a rational agent chooses how much to consume today versus tomorrow.\n",
    "\n",
    "### 🎯 Objective\n",
    "Maximize lifetime utility:\n",
    "\n",
    "$$\n",
    "U(c_1, c_2) = \\log(c_1) + \\log(c_2)\n",
    "$$\n",
    "\n",
    "subject to the **intertemporal budget constraint**:\n",
    "\n",
    "$$\n",
    "c_1 + \\frac{c_2}{1 + r} = y_1 + \\frac{y_2}{1 + r}\n",
    "$$\n",
    "\n",
    "---\n",
    "\n",
    "## ⚙️ Euler Equation\n",
    "\n",
    "The first-order condition from this constrained optimization problem gives us the **Euler Equation**:\n",
    "\n",
    "$$\n",
    "\\frac{1}{c_1} = (1 + r) \\cdot \\frac{1}{c_2}\n",
    "\\quad \\Rightarrow \\quad \\frac{c_2}{c_1} = (1 + r)\n",
    "$$\n",
    "\n",
    "This condition describes the **optimal trade-off** between present and future consumption. The slope of the utility indifference curve matches the slope of the budget line.\n",
    "\n",
    "---\n",
    "\n",
    "## 📊 Comparative Statics\n",
    "\n",
    "- As $r$ increases, **future consumption becomes more attractive**, so optimal consumption shifts toward $c_2$.\n",
    "- If $r = 0$, the consumer smooths consumption: $c_1 = c_2$.\n",
    "- When the **real interest rate rises**, the consumer responds by:\n",
    "  - Saving more today (lower $c_1$)\n",
    "  - Consuming more tomorrow (higher $c_2$)\n",
    "\n",
    "---\n",
    "\n",
    "## 🔍 What to Watch For\n",
    "\n",
    "- Budget lines shift with changes in income $y_1$ or $y_2$.\n",
    "- Indifference curves demonstrate the substitution and income effects of interest rate changes.\n",
    "- Euler condition helps verify if the consumer is behaving optimally.\n",
    "\n"
   ]
  }
 ],
 "metadata": {
  "kernelspec": {
   "display_name": "Python (solow-env)",
   "language": "python",
   "name": "solow-env"
  },
  "language_info": {
   "codemirror_mode": {
    "name": "ipython",
    "version": 3
   },
   "file_extension": ".py",
   "mimetype": "text/x-python",
   "name": "python",
   "nbconvert_exporter": "python",
   "pygments_lexer": "ipython3",
   "version": "3.13.3"
  },
  "tags": [
   "thebe-init"
  ]
 },
 "nbformat": 4,
 "nbformat_minor": 5
}
