{
 "cells": [
  {
   "cell_type": "markdown",
   "id": "d4a7b630",
   "metadata": {},
   "source": [
    "# ⏳ Trading Off Today for Tomorrow: The Core of Intertemporal Choice\n",
    "\n",
    "How do we decide how much to spend now versus save for the future? This fundamental question lies at the heart of numerous macroeconomic phenomena, from individual saving decisions and responses to interest rate changes, to national consumption patterns and the effects of fiscal policy.\n",
    "\n",
    "The two-period consumption model provides the foundational framework for understanding this crucial trade-off. We'll explore how a rational, forward-looking individual allocates resources across their lifetime to maximize well-being, given their income stream and the market interest rate."
   ]
  },
  {
   "cell_type": "markdown",
   "id": "8294ee6e",
   "metadata": {},
   "source": [
    "# 🔑 The Intertemporal Budget Constraint: What's Affordable?\n",
    "\n",
    "The lifetime budget constraint dictates the combinations of consumption today ($c_1$) and consumption tomorrow ($c_2$) that the individual can afford given their income today ($y_1$), income tomorrow ($y_2$), and the real interest rate ($r$):\n",
    "\n",
    "$$c_1 + \\frac{c_2}{1 + r} = y_1 + \\frac{y_2}{1 + r} \\equiv W$$\n",
    "\n",
    "This equation states that the *present value* of lifetime consumption must equal the *present value* of lifetime income (also known as lifetime wealth, $W$).\n",
    "\n",
    "* **Left Side:** Consumption today ($c_1$) plus consumption tomorrow ($c_2$) discounted back to today's value using the real interest rate $r$.\n",
    "* **Right Side:** Income today ($y_1$) plus income tomorrow ($y_2$) discounted back to today's value.\n",
    "* **The Trade-off:** The budget line can be rearranged as $c_2 = (1+r)W - (1+r)c_1$. Its slope in the ($c_1, c_2$) space is $-(1+r)$. This represents the *market rate of transformation*: for every unit of $c_1$ you give up today, you can get $(1+r)$ units of $c_2$ tomorrow by saving (or vice-versa by borrowing). It's the relative price of consumption today in terms of consumption tomorrow."
   ]
  },
  {
   "cell_type": "markdown",
   "id": "d512248a",
   "metadata": {},
   "source": [
    "# 😊 Preferences: Balancing Present and Future Happiness\n",
    "\n",
    "The agent aims to maximize their lifetime utility, which depends on consumption in both periods. We often assume a utility function that exhibits diminishing marginal utility – each extra unit of consumption adds less happiness than the previous one. A common and simple functional form is the logarithmic utility function, potentially with a discount factor $\\beta$ weighting future utility:\n",
    "\n",
    "$$U(c_1, c_2) = \\log(c_1) + \\beta \\log(c_2)$$\n",
    "\n",
    "(Note: For simplicity in this visualization, we'll assume the discount factor $\\beta=1$, meaning the agent values future utility just as much as present utility, aside from the market interest rate effect).\n",
    "\n",
    "* **Indifference Curves:** These curves map out combinations of ($c_1, c_2$) that yield the same level of total utility for the agent. They are typically convex to the origin (bowed inwards), reflecting the preference for *consumption smoothing* – agents generally prefer a stable consumption path over large swings between periods."
   ]
  },
  {
   "cell_type": "markdown",
   "id": "27e89cf9",
   "metadata": {},
   "source": [
    "# ⚖️ The Euler Equation: The Optimal Balancing Act\n",
    "\n",
    "To maximize utility subject to the budget constraint, the agent chooses $c_1$ and $c_2$ such that the *marginal rate of substitution* (MRS) between $c_1$ and $c_2$ equals the relative price (the slope of the budget line). This optimality condition is captured by the Euler Equation:\n",
    "\n",
    "$$\\frac{u'(c_1)}{\\beta u'(c_2)} = (1 + r)$$\n",
    "\n",
    "Where $u'(c)$ is the marginal utility of consumption.\n",
    "\n",
    "* **Intuition:** The left side is the MRS – the rate at which the agent is *willing* to trade off $c_2$ for $c_1$ based on their preferences. The right side is the rate at which the market *allows* them to trade off $c_2$ for $c_1$. At the optimum, these two rates must be equal.\n",
    "    * If $MRS > 1+r$, the agent values today's consumption (at the margin) more than the market cost. They should consume *more* today (increase $c_1$, which decreases $u'(c_1)$ due to diminishing marginal utility) and less tomorrow until equality holds.\n",
    "    * If $MRS < 1+r$, the agent values future consumption more relative to the market cost. They should consume *less* today (save more) until equality holds.\n",
    "\n",
    "* **With Log Utility and $\\beta=1$:** The marginal utility $u'(c) = 1/c$. The Euler equation becomes:\n",
    "    $$\\frac{1/c_1}{1/c_2} = (1+r) \\quad \\Rightarrow \\quad \\frac{c_2}{c_1} = (1+r)$$\n",
    "    This yields a simple and intuitive result: with log utility and $\\beta=1$, the optimal growth rate of consumption ($c_2/c_1$) exactly equals the gross real interest rate $(1+r)$."
   ]
  },
  {
   "cell_type": "code",
   "execution_count": 3,
   "id": "5c563e9d",
   "metadata": {
    "tags": [
     "thebe-init",
     "hide-input"
    ]
   },
   "outputs": [
    {
     "data": {
      "application/vnd.jupyter.widget-view+json": {
       "model_id": "0ede6f6f945d48599576d14e8f326d77",
       "version_major": 2,
       "version_minor": 0
      },
      "text/plain": [
       "interactive(children=(IntSlider(value=0, description='x', max=10), Output()), _dom_classes=('widget-interact',…"
      ]
     },
     "metadata": {},
     "output_type": "display_data"
    }
   ],
   "source": [
    "from ipywidgets import interact, widgets\n",
    "interact(lambda x: x**2, x=widgets.IntSlider(min=0, max=10));"
   ]
  },
  {
   "cell_type": "code",
   "execution_count": 4,
   "id": "3bc8e46c",
   "metadata": {
    "tags": [
     "hide-input"
    ]
   },
   "outputs": [
    {
     "data": {
      "application/vnd.jupyter.widget-view+json": {
       "model_id": "ee76a65b63774be496bd0a37914773a4",
       "version_major": 2,
       "version_minor": 0
      },
      "text/plain": [
       "interactive(children=(FloatSlider(value=100.0, description='Income Today (y₁)', max=250.0, step=10.0), FloatSl…"
      ]
     },
     "metadata": {},
     "output_type": "display_data"
    },
    {
     "data": {
      "text/plain": [
       "<function __main__.plot_two_period_log(y1=100, y2=100, r=0.05, beta=1.0, compare=False)>"
      ]
     },
     "execution_count": 4,
     "metadata": {},
     "output_type": "execute_result"
    }
   ],
   "source": [
    "# Import necessary libraries\n",
    "import numpy as np\n",
    "import matplotlib.pyplot as plt\n",
    "import seaborn as sns  \n",
    "from ipywidgets import interact, FloatSlider, Checkbox\n",
    "from IPython.display import display, Markdown\n",
    "import matplotlib\n",
    "\n",
    "# Set Seaborn theme\n",
    "sns.set_theme(style=\"whitegrid\", context=\"notebook\")\n",
    "\n",
    "#stylings\n",
    "plt.rcParams.update({\n",
    "    \"axes.edgecolor\": \"#333333\",\n",
    "    \"axes.labelcolor\": \"#333333\",\n",
    "    \"axes.titlesize\": 14,\n",
    "    \"axes.titleweight\": \"bold\",\n",
    "    \"axes.labelsize\": 12,\n",
    "    \"figure.facecolor\": \"#f9f9f9\",\n",
    "    \"grid.color\": \"#d9d9d9\",\n",
    "    \"xtick.color\": \"#444444\",\n",
    "    \"ytick.color\": \"#444444\",\n",
    "    \"font.family\": \"DejaVu Sans\",\n",
    "})\n",
    "\n",
    "# Set font (optional good measure)\n",
    "matplotlib.rcParams['font.family'] = 'DejaVu Sans'\n",
    "matplotlib.rcParams['axes.unicode_minus'] = False\n",
    "\n",
    "# Utility function\n",
    "def two_period_utility_log(c1, c2, beta=1.0):\n",
    "    epsilon = 1e-9\n",
    "    c1 = max(c1, epsilon)\n",
    "    c2 = max(c2, epsilon)\n",
    "    if c1 <= 0 or c2 <= 0:\n",
    "        return -np.inf\n",
    "    return np.log(c1) + beta * np.log(c2)\n",
    "\n",
    "# Main Plotting Function\n",
    "def plot_two_period_log(y1=100, y2=100, r=0.05, beta=1.0, compare=False):\n",
    "    fig, ax = plt.subplots(figsize=(8, 7))\n",
    "    epsilon = 1e-9\n",
    "\n",
    "    y1 = max(y1, 0)\n",
    "    y2 = max(y2, 0)\n",
    "    r = max(r, -0.99)\n",
    "    beta = max(beta, epsilon)\n",
    "\n",
    "    W = y1 + y2 / (1 + r) if abs(1 + r) >= epsilon else np.inf\n",
    "    if W == np.inf or (1 + beta) < epsilon:\n",
    "        c1_star = epsilon\n",
    "        c2_star = epsilon\n",
    "    else:\n",
    "        c1_star = W / (1 + beta)\n",
    "        c2_star = beta * (1 + r) * c1_star\n",
    "\n",
    "    c1_star = max(c1_star, epsilon)\n",
    "    c2_star = max(c2_star, epsilon)\n",
    "    U_star = two_period_utility_log(c1_star, c2_star, beta)\n",
    "    saving = y1 - c1_star\n",
    "\n",
    "    c1_max_plot = max(W, y1, c1_star, epsilon) * 1.2\n",
    "    c2_max_plot = max((1 + r) * W, y2, c2_star, epsilon) * 1.2\n",
    "\n",
    "    # Budget constraint\n",
    "    if abs(1 + r) < epsilon:\n",
    "        ax.axvline(y1, color='black', linestyle='-')\n",
    "    else:\n",
    "        c1_bc = np.linspace(epsilon, c1_max_plot, 300)\n",
    "        c2_bc = (1 + r) * (W - c1_bc)\n",
    "        ax.plot(c1_bc[c2_bc >= 0], c2_bc[c2_bc >= 0], label=f\"Budget Line (r={r:.2f})\", color='black', linewidth=2)\n",
    "\n",
    "    # Indifference curve\n",
    "    c1_vals = np.linspace(epsilon, c1_max_plot, 300)\n",
    "    if beta > epsilon and U_star > -np.inf:\n",
    "        with np.errstate(divide='ignore', invalid='ignore'):\n",
    "            u_curve = np.exp((U_star - np.log(c1_vals)) / beta)\n",
    "        ax.plot(c1_vals[(u_curve > 0) & (u_curve < c2_max_plot)], u_curve[(u_curve > 0) & (u_curve < c2_max_plot)],\n",
    "                linestyle='--', color='crimson', label=\"Indifference Curve\")\n",
    "\n",
    "    # Plot Optimal\n",
    "    ax.scatter(c1_star, c2_star, color='crimson', s=100, label=\"Optimal (c1*, c2*)\")\n",
    "    ax.scatter(y1, y2, color='green', marker='X', s=100, label=\"Endowment (y1, y2)\")\n",
    "\n",
    "    # Saving/Borrowing Arrow\n",
    "    if abs(saving) > epsilon * 100:\n",
    "        ax.arrow(y1, y2, c1_star - y1, c2_star - y2,\n",
    "                 color='blue', linestyle=':', length_includes_head=True,\n",
    "                 head_width=0.03 * c1_max_plot, head_length=0.03 * c2_max_plot, alpha=0.7)\n",
    "\n",
    "    # Compare if asked\n",
    "    if compare:\n",
    "        for r_cmp in [r * 0.5, r * 1.5, r * 2.0]:\n",
    "            if r_cmp <= -1 or abs(r_cmp - r) < 0.01:\n",
    "                continue\n",
    "            W_cmp = y1 + y2 / (1 + r_cmp)\n",
    "            if W_cmp == np.inf or (1 + beta) < epsilon:\n",
    "                continue\n",
    "            c1_cmp = W_cmp / (1 + beta)\n",
    "            c2_cmp = beta * (1 + r_cmp) * c1_cmp\n",
    "            ax.scatter(c1_cmp, c2_cmp, alpha=0.5, marker='o', s=60, label=f\"Optimal if r={r_cmp:.2f}\")\n",
    "\n",
    "    # Formatting\n",
    "    ax.set_xlabel(\"Consumption Today (c1)\")\n",
    "    ax.set_ylabel(\"Consumption Tomorrow (c2)\")\n",
    "    ax.set_xlim(0, c1_max_plot)\n",
    "    ax.set_ylim(0, c2_max_plot)\n",
    "    ax.set_title(f\"Two-Period Consumption Model (β={beta:.2f})\", fontsize=16)\n",
    "    ax.legend(fontsize='small')\n",
    "    sns.despine()\n",
    "    plt.tight_layout()\n",
    "    plt.show()\n",
    "\n",
    "    # Markdown Summary\n",
    "    saving_status = \"Saver\" if saving > epsilon else (\"Borrower\" if saving < -epsilon else \"Neither\")\n",
    "    euler_lhs = 1/c1_star if c1_star > epsilon else np.inf\n",
    "    euler_rhs = beta * (1 + r) * (1/c2_star if c2_star > epsilon else np.inf)\n",
    "    euler_check = \"✅\" if np.isclose(euler_lhs, euler_rhs, rtol=1e-3) else \"❌\"\n",
    "\n",
    "    results_md = rf\"\"\"\n",
    "    ### 📊 Live Results\n",
    "\n",
    "    * **Lifetime Wealth (W):** ${y1:.1f} + \\frac{{{y2:.1f}}}{{1 + {r:.2f}}} = {W:.2f}$\n",
    "    * **Optimal Bundle:** $(c_1^*, c_2^*) = ({c1_star:.2f}, {c2_star:.2f})$\n",
    "    * **Resulting Utility:** $U^* = {U_star:.3f}$\n",
    "    * **Saving Decision:** $s = y_1 - c_1^* = {y1:.1f} - {c1_star:.2f} = {saving:.2f}$ ({saving_status})\n",
    "    * **Euler Equation Check:** $\\frac{{1}}{{c_1^*}} \\approx \\beta (1+r) \\frac{{1}}{{c_2^*}}$ {euler_check}\n",
    "    \"\"\"\n",
    "    display(Markdown(results_md))\n",
    "\n",
    "# Interact\n",
    "interact(\n",
    "    plot_two_period_log,\n",
    "    y1=FloatSlider(min=0, max=250, step=10, value=100, description='Income Today (y₁)'),\n",
    "    y2=FloatSlider(min=0, max=250, step=10, value=100, description='Income Future (y₂)'),\n",
    "    r=FloatSlider(min=-0.5, max=0.5, step=0.01, value=0.05, description='Interest Rate (r)'),\n",
    "    beta=FloatSlider(min=0.8, max=1.2, step=0.01, value=1.0, description='Discount Factor (β)'),\n",
    "    compare=Checkbox(value=False, description=\"Compare Rates\")\n",
    ")"
   ]
  },
  {
   "cell_type": "markdown",
   "id": "93302bdb",
   "metadata": {},
   "source": [
    "# 🎢 What Happens When the Interest Rate (r) Changes?\n",
    "\n",
    "Changes in the interest rate $r$ rotate the budget constraint around the **endowment point ($y_1, y_2$)**. A higher interest rate makes the budget line steeper ($slope = -(1+r)$). This change influences the optimal consumption choice through two main channels:\n",
    "\n",
    "1.  **Substitution Effect:** A higher $r$ increases the reward for saving (or the cost of borrowing). Future consumption ($c_2$) becomes relatively cheaper compared to present consumption ($c_1$). This effect *always* pushes the agent to substitute *away* from $c_1$ and *towards* $c_2$ (i.e., save more or borrow less).\n",
    "\n",
    "2.  **Income Effect:** The impact on perceived lifetime wealth depends on whether the agent is a net saver or borrower initially:\n",
    "    * If the agent is a **saver** ($y_1 > c_1^*$), a higher $r$ increases the return on their savings, making them feel wealthier. This positive income effect tends to increase demand for both $c_1$ and $c_2$ (assuming both are normal goods).\n",
    "    * If the agent is a **borrower** ($y_1 < c_1^*$), a higher $r$ increases the cost of their borrowing, making them feel poorer. This negative income effect tends to decrease demand for both $c_1$ and $c_2$.\n",
    "\n",
    "* **Overall Impact:**\n",
    "    * For **savers**, the effect on $c_1$ is ambiguous: the substitution effect decreases $c_1$, while the income effect increases it. The effect on $c_2$ is unambiguously positive (both effects push towards more $c_2$).\n",
    "    * For **borrowers**, the effect on $c_1$ is unambiguously negative (both substitution and income effects push towards less $c_1$). The effect on $c_2$ is ambiguous (substitution effect increases $c_2$, income effect decreases it).\n",
    "\n",
    "*(Note: With the specific case of log utility used here, the optimal consumption $c_1 = W/(1+\\beta)$ depends on $r$ only through its effect on wealth $W$. Use the interactive plot above and toggle the 'Compare' checkbox to observe how the optimal point shifts as $r$ changes!)*"
   ]
  },
  {
   "cell_type": "markdown",
   "id": "f400577d",
   "metadata": {},
   "source": [
    "# 🏁 Conclusion\n",
    "\n",
    "The two-period model, despite its simplicity, provides powerful insights into the fundamental trade-offs involved in intertemporal decision-making. The interplay between preferences (captured by the utility function and discount factor $\\beta$), opportunities (defined by the budget constraint and interest rate $r$), and income patterns ($y_1, y_2$) determines optimal consumption smoothing and saving behavior. The Euler equation emerges as the key condition ensuring that the marginal value of consuming today is appropriately balanced against the marginal value of saving and consuming tomorrow."
   ]
  },
  {
   "cell_type": "markdown",
   "id": "be3efafc",
   "metadata": {},
   "source": [
    "## 🧠 Economic Intuition\n",
    "\n",
    "In this interactive model, we explore a **two-period consumption** problem where a rational agent chooses how much to consume today versus tomorrow.\n",
    "\n",
    "### 🎯 Objective\n",
    "Maximize lifetime utility:\n",
    "\n",
    "$$\n",
    "U(c_1, c_2) = \\log(c_1) + \\log(c_2)\n",
    "$$\n",
    "\n",
    "subject to the **intertemporal budget constraint**:\n",
    "\n",
    "$$\n",
    "c_1 + \\frac{c_2}{1 + r} = y_1 + \\frac{y_2}{1 + r}\n",
    "$$\n",
    "\n",
    "---\n",
    "\n",
    "## ⚙️ Euler Equation\n",
    "\n",
    "The first-order condition from this constrained optimization problem gives us the **Euler Equation**:\n",
    "\n",
    "$$\n",
    "\\frac{1}{c_1} = (1 + r) \\cdot \\frac{1}{c_2}\n",
    "\\quad \\Rightarrow \\quad \\frac{c_2}{c_1} = (1 + r)\n",
    "$$\n",
    "\n",
    "This condition describes the **optimal trade-off** between present and future consumption. The slope of the utility indifference curve matches the slope of the budget line.\n",
    "\n",
    "---\n",
    "\n",
    "## 📊 Comparative Statics\n",
    "\n",
    "- As $r$ increases, **future consumption becomes more attractive**, so optimal consumption shifts toward $c_2$.\n",
    "- If $r = 0$, the consumer smooths consumption: $c_1 = c_2$.\n",
    "- When the **real interest rate rises**, the consumer responds by:\n",
    "  - Saving more today (lower $c_1$)\n",
    "  - Consuming more tomorrow (higher $c_2$)\n",
    "\n",
    "---\n",
    "\n",
    "## 🔍 What to Watch For\n",
    "\n",
    "- Budget lines shift with changes in income $y_1$ or $y_2$.\n",
    "- Indifference curves demonstrate the substitution and income effects of interest rate changes.\n",
    "- Euler condition helps verify if the consumer is behaving optimally.\n",
    "\n"
   ]
  }
 ],
 "metadata": {
  "kernelspec": {
   "display_name": "Python (intmacro)",
   "language": "python",
   "name": "intmacro-venv"
  },
  "language_info": {
   "codemirror_mode": {
    "name": "ipython",
    "version": 3
   },
   "file_extension": ".py",
   "mimetype": "text/x-python",
   "name": "python",
   "nbconvert_exporter": "python",
   "pygments_lexer": "ipython3",
   "version": "3.13.3"
  },
  "tags": [
   "thebe-init"
  ]
 },
 "nbformat": 4,
 "nbformat_minor": 5
}
