{
 "cells": [
  {
   "cell_type": "code",
   "execution_count": null,
   "id": "814f2142",
   "metadata": {
    "tags": [
     "thebe-init"
    ]
   },
   "outputs": [],
   "source": [
    ":tags: [thebe-init]\n",
    "from ipywidgets import interact, widgets\n",
    "interact(lambda x: x**2, x=widgets.IntSlider(min=0, max=10));"
   ]
  },
  {
   "cell_type": "code",
   "execution_count": 1,
   "id": "9d0e5ed6",
   "metadata": {
    "tags": [
     "thebe-init",
     "hide-input"
    ]
   },
   "outputs": [
    {
     "data": {
      "application/vnd.jupyter.widget-view+json": {
       "model_id": "9bba1650cced4568ac0c2c33b2e4e315",
       "version_major": 2,
       "version_minor": 0
      },
      "text/plain": [
       "interactive(children=(FloatSlider(value=0.3, description='Savings Rate (s)', max=0.9, min=0.05, step=0.01), Fl…"
      ]
     },
     "metadata": {},
     "output_type": "display_data"
    },
    {
     "data": {
      "text/plain": [
       "<function __main__.solow_growth_n_g(s=0.3, delta=0.05, alpha=0.3, n=0.01, g=0.02, k0=1.0, T=50)>"
      ]
     },
     "execution_count": 1,
     "metadata": {},
     "output_type": "execute_result"
    }
   ],
   "source": [
    "import numpy as np\n",
    "import matplotlib.pyplot as plt\n",
    "from ipywidgets import interact, FloatSlider\n",
    "\n",
    "def solow_growth_n_g(s=0.3, delta=0.05, alpha=0.3, n=0.01, g=0.02, k0=1.0, T=50):\n",
    "    T = int(T)\n",
    "    k = np.zeros(T)     # capital per effective worker\n",
    "    y = np.zeros(T)     # output per effective worker\n",
    "    k[0] = k0\n",
    "\n",
    "    for t in range(1, T):\n",
    "        y[t-1] = k[t-1] ** alpha\n",
    "        invest = s * y[t-1]\n",
    "        breakeven = (n + g + delta) * k[t-1]\n",
    "        k[t] = k[t-1] + invest - breakeven\n",
    "\n",
    "    y[-1] = k[-1] ** alpha\n",
    "\n",
    "    # Steady state values\n",
    "    k_star = (s / (delta + n + g)) ** (1 / (1 - alpha))\n",
    "    y_star = k_star ** alpha\n",
    "\n",
    "    # Plot\n",
    "    fig, ax = plt.subplots(figsize=(10, 6))\n",
    "    ax.plot(range(T), k, label=\"Capital per Eff. Worker k̃(t)\", color='blue')\n",
    "    ax.plot(range(T), y, label=\"Output per Eff. Worker ỹ(t)\", color='green')\n",
    "    ax.axhline(k_star, linestyle='--', color='blue', alpha=0.5, label=f\"k̃* ≈ {k_star:.2f}\")\n",
    "    ax.axhline(y_star, linestyle='--', color='green', alpha=0.5, label=f\"ỹ* ≈ {y_star:.2f}\")\n",
    "    ax.set_title(\"Solow Model with Population + Tech Growth\")\n",
    "    ax.set_xlabel(\"Time\")\n",
    "    ax.set_ylabel(\"Per Effective Worker\")\n",
    "    ax.legend()\n",
    "    ax.grid(True)\n",
    "    plt.tight_layout()\n",
    "    plt.show()\n",
    "\n",
    "    print(\"📘 STEADY STATE (Per Effective Worker)\")\n",
    "    print(f\"  k̃* = {k_star:.4f}\")\n",
    "    print(f\"  ỹ* = {y_star:.4f}\")\n",
    "    print(f\"  Final k̃(T) = {k[-1]:.4f}, ỹ(T) = {y[-1]:.4f}\")\n",
    "\n",
    "interact(\n",
    "    solow_growth_n_g,\n",
    "    s=FloatSlider(value=0.3, min=0.05, max=0.9, step=0.01, description='Savings Rate (s)'),\n",
    "    delta=FloatSlider(value=0.05, min=0.01, max=0.2, step=0.005, description='Depreciation (δ)'),\n",
    "    alpha=FloatSlider(value=0.3, min=0.1, max=0.7, step=0.05, description='Capital Share (α)'),\n",
    "    n=FloatSlider(value=0.01, min=0.0, max=0.05, step=0.005, description='Population Growth (n)'),\n",
    "    g=FloatSlider(value=0.02, min=0.0, max=0.05, step=0.005, description='Tech Growth (g)'),\n",
    "    k0=FloatSlider(value=1.0, min=0.1, max=10.0, step=0.1, description='Initial k̃₀'),\n",
    "    T=FloatSlider(value=50, min=10, max=100, step=5, description='Time Steps', readout_format='.0f')\n",
    ")"
   ]
  },
  {
   "cell_type": "markdown",
   "id": "aaa21c99",
   "metadata": {},
   "source": [
    "# 📘 Solow Model with Population + Tech Growth\n",
    "\n",
    "We now examine capital and output **per effective worker** \\( \\tilde{k}, \\tilde{y} \\), where:\n",
    "\n",
    "\\[\n",
    "\\tilde{k}_{t+1} = \\tilde{k}_t + s \\cdot \\tilde{k}_t^\\alpha - (\\delta + n + g) \\tilde{k}_t\n",
    "\\]\n",
    "\n",
    "- Economies **converge to a steady state** in per effective worker terms\n",
    "- But aggregate output (Y) grows at rate \\( n + g \\)\n",
    "- Key insight: Long-run growth in living standards driven entirely by **technological progress (g)**\n",
    "\n",
    "**Sources**:  \n",
    "- GrowthEcon [Ch. 6](https://growthecon.com/StudyGuide/solow-advanced.html)  \n",
    "- Charles I. Jones, *Macroeconomics*, Ch. 7"
   ]
  }
 ],
 "metadata": {
  "kernelspec": {
   "display_name": "Python (solow-env)",
   "language": "python",
   "name": "solow-env"
  },
  "language_info": {
   "codemirror_mode": {
    "name": "ipython",
    "version": 3
   },
   "file_extension": ".py",
   "mimetype": "text/x-python",
   "name": "python",
   "nbconvert_exporter": "python",
   "pygments_lexer": "ipython3",
   "version": "3.13.3"
  }
 },
 "nbformat": 4,
 "nbformat_minor": 5
}
