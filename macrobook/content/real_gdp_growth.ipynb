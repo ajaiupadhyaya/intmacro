{
 "cells": [
  {
   "cell_type": "code",
   "execution_count": 1,
   "id": "5954bf7a",
   "metadata": {
    "tags": [
     "thebe-init",
     "hide-input"
    ]
   },
   "outputs": [
    {
     "data": {
      "application/vnd.jupyter.widget-view+json": {
       "model_id": "78db4ef15370477ab1c2b1fe30630109",
       "version_major": 2,
       "version_minor": 0
      },
      "text/plain": [
       "interactive(children=(IntSlider(value=0, description='x', max=10), Output()), _dom_classes=('widget-interact',…"
      ]
     },
     "metadata": {},
     "output_type": "display_data"
    }
   ],
   "source": [
    "from ipywidgets import interact, widgets\n",
    "interact(lambda x: x**2, x=widgets.IntSlider(min=0, max=10));"
   ]
  },
  {
   "cell_type": "markdown",
   "id": "b3ca5009",
   "metadata": {},
   "source": [
    "# 📈 Real vs. Nominal GDP Growth: The Base-Year Method\n",
    "\n",
    "When comparing GDP over time, we need to distinguish between:\n",
    "\n",
    "* **Nominal GDP:** The value of goods and services produced using **current prices**. It can increase due to either higher production *or* higher prices.\n",
    "* **Real GDP:** The value of goods and services produced using **constant prices from a specific base year**. It isolates changes in the *quantity* of production by removing the effect of price changes.\n",
    "\n",
    "This notebook demonstrates how to calculate Real GDP and its growth rate using the **fixed base-year** method for a simple two-good economy (e.g., Apples and Bananas)."
   ]
  },
  {
   "cell_type": "markdown",
   "id": "525b145b",
   "metadata": {},
   "source": [
    "# 🧮 Calculation: Base-Year Method\n",
    "\n",
    "Let $P_{i,t}$ and $Q_{i,t}$ be the price and quantity of good $i$ in year $t$.\n",
    "\n",
    "1.  **Choose a Base Year:** We select one year (e.g., Year 1 in this simulation) whose prices will be used for all calculations of Real GDP.\n",
    "2.  **Calculate Nominal GDP:** Calculate the value of production in each year using that year's *own* prices.\n",
    "    * Nominal GDP$_{Y1} = P_{apples, Y1} Q_{apples, Y1} + P_{bananas, Y1} Q_{bananas, Y1}$\n",
    "    * Nominal GDP$_{Y2} = P_{apples, Y2} Q_{apples, Y2} + P_{bananas, Y2} Q_{bananas, Y2}$\n",
    "3.  **Calculate Real GDP:** Calculate the value of production in each year using the *base year's* prices (Year 1 prices in this example).\n",
    "    * Real GDP$_{Y1}$ (Base=Y1) = $P_{apples, Y1} Q_{apples, Y1} + P_{bananas, Y1} Q_{bananas, Y1}$  *(Note: Real GDP in the base year equals Nominal GDP in the base year)*\n",
    "    * Real GDP$_{Y2}$ (Base=Y1) = $P_{apples, Y1} Q_{apples, Y2} + P_{bananas, Y1} Q_{bananas, Y2}$\n",
    "4.  **Calculate Real GDP Growth Rate:** Find the percentage change between the Real GDP values.\n",
    "    $$ g_{\\text{Real}} = \\frac{\\text{Real GDP}_{Y2} - \\text{Real GDP}_{Y1}}{\\text{Real GDP}_{Y1}} \\times 100\\% $$\n",
    "\n",
    "**GDP Deflator:** This method also allows us to calculate an implicit price index, the GDP Deflator, for Year 2 (relative to the base year Y1=100):\n",
    "$$ \\text{GDP Deflator}_{Y2} = \\frac{\\text{Nominal GDP}_{Y2}}{\\text{Real GDP}_{Y2}} \\times 100 $$\n",
    "The inflation rate between Y1 and Y2 is approximately the percentage change in the GDP deflator.\n",
    "\n",
    "*(Note: This simulation assumes prices are constant between Year 1 and Year 2 as set by the sliders, focusing only on quantity changes. A more complex example would allow prices to change too, making the distinction between Nominal and Real GDP more apparent).*"
   ]
  },
  {
   "cell_type": "code",
   "execution_count": 2,
   "id": "5e5c94c0",
   "metadata": {
    "tags": [
     "hide-input"
    ]
   },
   "outputs": [
    {
     "data": {
      "application/vnd.jupyter.widget-view+json": {
       "model_id": "cfe2cf5fd67c4db28d21ffae3ec44453",
       "version_major": 2,
       "version_minor": 0
      },
      "text/plain": [
       "interactive(children=(IntSlider(value=100, description='Qty Apples (Yr 1):', layout=Layout(width='95%'), max=2…"
      ]
     },
     "metadata": {},
     "output_type": "display_data"
    }
   ],
   "source": [
    "# Import necessary libraries\n",
    "import numpy as np\n",
    "import matplotlib.pyplot as plt\n",
    "from ipywidgets import interact, IntSlider, FloatSlider, Layout\n",
    "from IPython.display import display, Markdown\n",
    "import warnings\n",
    "\n",
    "# Optional: Use a specific style\n",
    "try:\n",
    "    plt.style.use('seaborn-v0_8-whitegrid')\n",
    "except IOError:\n",
    "    pass # Use default if style not found\n",
    "\n",
    "def real_gdp_base_year_calc(\n",
    "    q_apples_y1=100, q_bananas_y1=80,  # Quantities in Year 1 (Base Year)\n",
    "    q_apples_y2=120, q_bananas_y2=100, # Quantities in Year 2\n",
    "    p_apples_base=2.0, p_bananas_base=1.5 # Prices in Year 1 (Base Year)\n",
    "    # Assume prices are constant in this simple version for base-year calculation\n",
    "    ):\n",
    "    \"\"\"\n",
    "    Calculates Nominal and Real GDP (using Year 1 as base) and Real GDP growth.\n",
    "\n",
    "    Args:\n",
    "        q_apples_y1, q_bananas_y1: Quantities of apples and bananas in Year 1.\n",
    "        q_apples_y2, q_bananas_y2: Quantities of apples and bananas in Year 2.\n",
    "        p_apples_base, p_bananas_base: Prices of apples and bananas in Year 1 (Base Year).\n",
    "    \"\"\"\n",
    "    # --- Calculations ---\n",
    "    # Assume prices are constant = base year prices for this simple example\n",
    "    p_apples_y1 = p_apples_base\n",
    "    p_bananas_y1 = p_bananas_base\n",
    "    p_apples_y2 = p_apples_base # In this version, prices don't change\n",
    "    p_bananas_y2 = p_bananas_base # To make Real=Nominal growth clear\n",
    "\n",
    "    # Nominal GDP (using current quantities and current prices)\n",
    "    nominal_gdp_y1 = (q_apples_y1 * p_apples_y1) + (q_bananas_y1 * p_bananas_y1)\n",
    "    nominal_gdp_y2 = (q_apples_y2 * p_apples_y2) + (q_bananas_y2 * p_bananas_y2)\n",
    "\n",
    "    # Real GDP (using current quantities and BASE YEAR prices)\n",
    "    real_gdp_y1 = (q_apples_y1 * p_apples_base) + (q_bananas_y1 * p_bananas_base) # Real=Nominal in Base Year\n",
    "    real_gdp_y2 = (q_apples_y2 * p_apples_base) + (q_bananas_y2 * p_bananas_base)\n",
    "\n",
    "    # Real GDP Growth Rate\n",
    "    if real_gdp_y1 != 0:\n",
    "        real_growth_rate = (real_gdp_y2 - real_gdp_y1) / real_gdp_y1 * 100\n",
    "    else:\n",
    "        real_growth_rate = np.nan\n",
    "\n",
    "    # GDP Deflator (relative to base year = 100)\n",
    "    if real_gdp_y2 != 0:\n",
    "        gdp_deflator_y1 = (nominal_gdp_y1 / real_gdp_y1) * 100 if real_gdp_y1 != 0 else np.nan\n",
    "        gdp_deflator_y2 = (nominal_gdp_y2 / real_gdp_y2) * 100\n",
    "        # Inflation = % change in deflator\n",
    "        if not (np.isnan(gdp_deflator_y1) or gdp_deflator_y1 == 0):\n",
    "             inflation_rate = (gdp_deflator_y2 / gdp_deflator_y1 - 1) * 100\n",
    "        else:\n",
    "             inflation_rate = np.nan\n",
    "    else:\n",
    "        gdp_deflator_y1 = np.nan\n",
    "        gdp_deflator_y2 = np.nan\n",
    "        inflation_rate = np.nan\n",
    "\n",
    "\n",
    "    # --- Plotting ---\n",
    "    years = ['Year 1 (Base)', 'Year 2']\n",
    "    real_gdp_values = [real_gdp_y1, real_gdp_y2]\n",
    "    nominal_gdp_values = [nominal_gdp_y1, nominal_gdp_y2]\n",
    "\n",
    "    fig, ax = plt.subplots(figsize=(8, 5))\n",
    "    bar_width = 0.35\n",
    "    index = np.arange(len(years))\n",
    "\n",
    "    bars1 = ax.bar(index - bar_width/2, nominal_gdp_values, bar_width, label='Nominal GDP', color='#ff7f0e', alpha=0.8, edgecolor='black')\n",
    "    bars2 = ax.bar(index + bar_width/2, real_gdp_values, bar_width, label='Real GDP (Base Yr Prices)', color='#1f77b4', alpha=0.8, edgecolor='black')\n",
    "\n",
    "    ax.set_title(\"Nominal vs. Real GDP (Base-Year Method)\")\n",
    "    ax.set_ylabel(\"GDP ($)\")\n",
    "    ax.set_xticks(index)\n",
    "    ax.set_xticklabels(years)\n",
    "    ax.legend()\n",
    "    ax.grid(axis='y', linestyle='--', alpha=0.7)\n",
    "    # Add bar labels\n",
    "    ax.bar_label(bars1, fmt='$%.0f', padding=3, fontsize=9)\n",
    "    ax.bar_label(bars2, fmt='$%.0f', padding=3, fontsize=9)\n",
    "\n",
    "    plt.tight_layout()\n",
    "    plt.show()\n",
    "\n",
    "    # --- Display Results ---\n",
    "    results_md = f\"\"\"\n",
    "    ### 🧮 Real GDP Calculation (Base Year = Year 1):\n",
    "\n",
    "    **Inputs:**\n",
    "    | Item         | Year 1 Qty | Year 2 Qty | Base Price (Yr 1) |\n",
    "    |--------------|------------|------------|-------------------|\n",
    "    | Apples       | {q_apples_y1}    | {q_apples_y2}    | ${p_apples_base:.2f}       |\n",
    "    | Bananas      | {q_bananas_y1}    | {q_bananas_y2}    | ${p_bananas_base:.2f}       |\n",
    "\n",
    "    **Calculations:**\n",
    "    * **Nominal GDP Year 1:** ${nominal_gdp_y1:,.2f}$\n",
    "    * **Nominal GDP Year 2:** ${nominal_gdp_y2:,.2f}$ *(Using Year 2 Qty & Assumed Yr 2 Prices = Base Prices)*\n",
    "    * **Real GDP Year 1 (Base=Y1):** ${real_gdp_y1:,.2f}$\n",
    "    * **Real GDP Year 2 (Base=Y1):** ${real_gdp_y2:,.2f}$\n",
    "    * **Real GDP Growth Rate:** **{real_growth_rate:.2f}%**\n",
    "    * **GDP Deflator Year 1:** {gdp_deflator_y1:.1f} *(Base Year = 100)*\n",
    "    * **GDP Deflator Year 2:** {gdp_deflator_y2:.1f}\n",
    "    * **Inflation Rate (Deflator % Chg):** {inflation_rate:.2f}% *(Note: Inflation is 0% here as prices were held constant)*\n",
    "\n",
    "    *Real GDP isolates quantity changes by using fixed base-year prices.*\n",
    "    \"\"\"\n",
    "    display(Markdown(results_md))\n",
    "\n",
    "\n",
    "# --- Interactive Sliders ---\n",
    "style = {'description_width': '150px'} # Wider description\n",
    "layout = Layout(width='95%')\n",
    "\n",
    "interact(\n",
    "    real_gdp_base_year_calc,\n",
    "    q_apples_y1=IntSlider(value=100, min=0, max=200, step=10, description='Qty Apples (Yr 1):', style=style, layout=layout),\n",
    "    q_bananas_y1=IntSlider(value=80, min=0, max=200, step=10, description='Qty Bananas (Yr 1):', style=style, layout=layout),\n",
    "    q_apples_y2=IntSlider(value=120, min=0, max=200, step=10, description='Qty Apples (Yr 2):', style=style, layout=layout),\n",
    "    q_bananas_y2=IntSlider(value=100, min=0, max=200, step=10, description='Qty Bananas (Yr 2):', style=style, layout=layout),\n",
    "    p_apples_base=FloatSlider(value=2.0, min=0.5, max=5.0, step=0.1, description='Price Apples (Base Yr):', style=style, layout=layout, readout_format='.2f'),\n",
    "    p_bananas_base=FloatSlider(value=1.5, min=0.5, max=5.0, step=0.1, description='Price Bananas (Base Yr):', style=style, layout=layout, readout_format='.2f')\n",
    ");\n"
   ]
  }
 ],
 "metadata": {
  "kernelspec": {
   "display_name": "Python (solow-env)",
   "language": "python",
   "name": "solow-env"
  },
  "language_info": {
   "codemirror_mode": {
    "name": "ipython",
    "version": 3
   },
   "file_extension": ".py",
   "mimetype": "text/x-python",
   "name": "python",
   "nbconvert_exporter": "python",
   "pygments_lexer": "ipython3",
   "version": "3.13.3"
  },
  "tags": [
   "thebe-init"
  ]
 },
 "nbformat": 4,
 "nbformat_minor": 5
}
