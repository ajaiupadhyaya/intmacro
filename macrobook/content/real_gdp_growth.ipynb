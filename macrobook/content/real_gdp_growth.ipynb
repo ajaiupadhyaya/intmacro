{
 "cells": [
  {
   "cell_type": "code",
   "execution_count": null,
   "id": "5954bf7a",
   "metadata": {
    "tags": [
     "thebe-init",
     "hide-input"
    ]
   },
   "outputs": [],
   "source": [
    ":tags: [thebe-init]\n",
    "from ipywidgets import interact, widgets\n",
    "interact(lambda x: x**2, x=widgets.IntSlider(min=0, max=10));"
   ]
  },
  {
   "cell_type": "code",
   "execution_count": null,
   "id": "5e5c94c0",
   "metadata": {
    "tags": [
     "thebe-init",
     "hide-input"
    ]
   },
   "outputs": [
    {
     "data": {
      "application/vnd.jupyter.widget-view+json": {
       "model_id": "51f4f32e63b0448396d69bd47b36e847",
       "version_major": 2,
       "version_minor": 0
      },
      "text/plain": [
       "interactive(children=(IntSlider(value=100, description='Apples Y1', max=200, min=50, step=10), IntSlider(value…"
      ]
     },
     "metadata": {},
     "output_type": "display_data"
    },
    {
     "data": {
      "text/markdown": [
       "\n",
       "\n",
       "### 📘 Why Real GDP?\n",
       "\n",
       "- **Nominal GDP** can rise due to higher prices even if production stays flat.\n",
       "- **Real GDP** holds prices constant so we can measure changes in actual output.\n",
       "- We typically use base-year or chain-weighted prices.\n",
       "\n",
       "**Formula:**\n",
       "\\[\n",
       "\\text{Real GDP}_{Y2} = \\sum P^{\\text{base}}_i \\cdot Q^{Y2}_i\n",
       "\\]\n",
       "\n"
      ],
      "text/plain": [
       "<IPython.core.display.Markdown object>"
      ]
     },
     "metadata": {},
     "output_type": "display_data"
    }
   ],
   "source": [
    "# 📈 Real GDP Growth – Base Year Comparison\n",
    "\n",
    "import matplotlib.pyplot as plt\n",
    "import numpy as np\n",
    "from ipywidgets import interact, IntSlider, FloatSlider\n",
    "from IPython.display import display, Markdown\n",
    "\n",
    "plt.rcParams['axes.titlesize'] = 15\n",
    "plt.rcParams['axes.labelsize'] = 13\n",
    "plt.rcParams['figure.figsize'] = (8, 5)\n",
    "\n",
    "# --- Real GDP Calculation Example ---\n",
    "def real_gdp_growth(apples_y1=100, bananas_y1=80, \n",
    "                    apples_y2=120, bananas_y2=100, \n",
    "                    price_apples=2.0, price_bananas=1.5):\n",
    "    # Nominal GDP each year\n",
    "    nominal_y1 = apples_y1 * price_apples + bananas_y1 * price_bananas\n",
    "    nominal_y2 = apples_y2 * price_apples + bananas_y2 * price_bananas\n",
    "\n",
    "    # Real GDP uses year 1 prices\n",
    "    real_y1 = nominal_y1\n",
    "    real_y2 = apples_y2 * price_apples + bananas_y2 * price_bananas\n",
    "\n",
    "    growth_rate = 100 * (real_y2 - real_y1) / real_y1\n",
    "\n",
    "    # --- Plot ---\n",
    "    fig, ax = plt.subplots()\n",
    "    bars = ax.bar(['Year 1', 'Year 2'], [real_y1, real_y2], color=['#1f77b4', '#ff7f0e'])\n",
    "    ax.set_title(\"Real GDP Over Time (Base-Year Prices)\")\n",
    "    ax.set_ylabel(\"Real GDP ($)\")\n",
    "    ax.bar_label(bars, fmt='$%.0f')\n",
    "    ax.grid(axis='y')\n",
    "    plt.tight_layout()\n",
    "    plt.show()\n",
    "\n",
    "    display(Markdown(f\"\"\"\n",
    "### 🧮 Base-Year Real GDP Growth\n",
    "- **Year 1 Real GDP:** `${real_y1:,.0f}`\n",
    "- **Year 2 Real GDP:** `${real_y2:,.0f}`\n",
    "- **Growth Rate:** `{growth_rate:.2f}%`\n",
    "\n",
    "We keep prices **fixed at Year 1 levels** to isolate changes in **quantity only**.\n",
    "\"\"\"))\n",
    "\n",
    "# --- Interactive Sliders ---\n",
    "interact(\n",
    "    real_gdp_growth,\n",
    "    apples_y1=IntSlider(value=100, min=50, max=200, step=10, description='Apples Y1'),\n",
    "    bananas_y1=IntSlider(value=80, min=50, max=200, step=10, description='Bananas Y1'),\n",
    "    apples_y2=IntSlider(value=120, min=50, max=200, step=10, description='Apples Y2'),\n",
    "    bananas_y2=IntSlider(value=100, min=50, max=200, step=10, description='Bananas Y2'),\n",
    "    price_apples=FloatSlider(value=2.0, min=0.5, max=5.0, step=0.1, description='Price Apple'),\n",
    "    price_bananas=FloatSlider(value=1.5, min=0.5, max=5.0, step=0.1, description='Price Banana')\n",
    ")\n",
    "\n",
    "# --- Summary ---\n",
    "display(Markdown(r'''\n",
    "\n",
    "# 📘 Why Real GDP?\n",
    "\n",
    "- **Nominal GDP** can rise due to higher prices even if production stays flat.\n",
    "- **Real GDP** holds prices constant so we can measure changes in actual output.\n",
    "- We typically use base-year or chain-weighted prices.\n",
    "\n",
    "**Formula:**\n",
    "\\[\n",
    "\\text{Real GDP}_{Y2} = \\sum P^{\\text{base}}_i \\cdot Q^{Y2}_i\n",
    "\\]\n",
    "\n",
    "'''))"
   ]
  }
 ],
 "metadata": {
  "kernelspec": {
   "display_name": "Python (solow-env)",
   "language": "python",
   "name": "solow-env"
  },
  "language_info": {
   "codemirror_mode": {
    "name": "ipython",
    "version": 3
   },
   "file_extension": ".py",
   "mimetype": "text/x-python",
   "name": "python",
   "nbconvert_exporter": "python",
   "pygments_lexer": "ipython3",
   "version": "3.13.3"
  }
 },
 "nbformat": 4,
 "nbformat_minor": 5
}
