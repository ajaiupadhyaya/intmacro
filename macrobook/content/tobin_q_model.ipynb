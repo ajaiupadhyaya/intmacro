{
 "cells": [
  {
   "cell_type": "code",
   "execution_count": null,
   "id": "17c18387",
   "metadata": {},
   "outputs": [],
   "source": [
    "```{code-cell} ipython3\n",
    ":tags: [thebe-init]\n",
    "from ipywidgets import interact, widgets"
   ]
  },
  {
   "cell_type": "code",
   "execution_count": 1,
   "id": "3c9441c9",
   "metadata": {},
   "outputs": [
    {
     "data": {
      "application/vnd.jupyter.widget-view+json": {
       "model_id": "ab1332ad5ec741df8d6a253f69f09e02",
       "version_major": 2,
       "version_minor": 0
      },
      "text/plain": [
       "interactive(children=(FloatSlider(value=100.0, description='Value (V)', max=150.0, min=50.0, step=5.0), FloatS…"
      ]
     },
     "metadata": {},
     "output_type": "display_data"
    }
   ],
   "source": [
    "import matplotlib.pyplot as plt\n",
    "from ipywidgets import interact, FloatSlider\n",
    "\n",
    "def tobin_q_model(V=100, PK=80):\n",
    "    q = V / PK\n",
    "\n",
    "    # Simple investment response function\n",
    "    if q > 1:\n",
    "        invest = 10 * (q - 1)  # more aggressive when q is high\n",
    "    else:\n",
    "        invest = 0  # no incentive to invest\n",
    "\n",
    "    # Plot\n",
    "    plt.figure(figsize=(6, 4))\n",
    "    plt.axhline(y=1, color='red', linestyle='--', label='q = 1 threshold')\n",
    "    plt.scatter(q, invest, color='green', s=100, label='Firm Decision')\n",
    "    plt.title(\"Tobin's q Investment Response\")\n",
    "    plt.xlabel(\"Tobin's q (V / Pₖ)\")\n",
    "    plt.ylabel(\"Investment Level\")\n",
    "    plt.grid(True)\n",
    "    plt.legend()\n",
    "    plt.tight_layout()\n",
    "    plt.show()\n",
    "\n",
    "    print(f\"Tobin's q = {q:.2f}\")\n",
    "    print(f\"Investment = {invest:.2f} units\")\n",
    "\n",
    "interact(\n",
    "    tobin_q_model,\n",
    "    V=FloatSlider(value=100, min=50, max=150, step=5, description='Value (V)'),\n",
    "    PK=FloatSlider(value=80, min=40, max=120, step=5, description='Cost (Pₖ)'),\n",
    ");"
   ]
  }
 ],
 "metadata": {
  "kernelspec": {
   "display_name": "Python (solow-env)",
   "language": "python",
   "name": "solow-env"
  },
  "language_info": {
   "codemirror_mode": {
    "name": "ipython",
    "version": 3
   },
   "file_extension": ".py",
   "mimetype": "text/x-python",
   "name": "python",
   "nbconvert_exporter": "python",
   "pygments_lexer": "ipython3",
   "version": "3.13.3"
  }
 },
 "nbformat": 4,
 "nbformat_minor": 5
}
