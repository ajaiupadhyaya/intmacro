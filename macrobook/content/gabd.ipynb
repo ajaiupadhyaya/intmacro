{
 "cells": [
  {
   "cell_type": "code",
   "execution_count": null,
   "id": "100d49fc",
   "metadata": {
    "tags": [
     "thebe-init",
     "hide-input"
    ]
   },
   "outputs": [],
   "source": [
    ":tags: [thebe-init]\n",
    "from ipywidgets import interact, widgets\n",
    "interact(lambda x: x**2, x=widgets.IntSlider(min=0, max=10));"
   ]
  },
  {
   "cell_type": "code",
   "execution_count": null,
   "id": "896cedbb",
   "metadata": {
    "tags": [
     "thebe-init",
     "hide-input"
    ]
   },
   "outputs": [
    {
     "data": {
      "application/vnd.jupyter.widget-view+json": {
       "model_id": "0f27357831c34a19953dce1f07d28032",
       "version_major": 2,
       "version_minor": 0
      },
      "text/plain": [
       "interactive(children=(FloatSlider(value=0.33, description='Capital Share α', max=0.6, min=0.2, step=0.01), Flo…"
      ]
     },
     "metadata": {},
     "output_type": "display_data"
    },
    {
     "data": {
      "text/plain": [
       "<function __main__.dynamic_growth_accounting(alpha=0.33, K80=1.0, L80=1.0, A80=1.0, Kg1=0.03, Lg1=0.02, Ag1=0.01, Kg2=0.05, Lg2=0.01, Ag2=0.015, Kg3=0.02, Lg3=0.01, Ag3=0.007)>"
      ]
     },
     "execution_count": 3,
     "metadata": {},
     "output_type": "execute_result"
    }
   ],
   "source": [
    "import numpy as np\n",
    "import matplotlib.pyplot as plt\n",
    "from ipywidgets import interact, FloatSlider\n",
    "\n",
    "def dynamic_growth_accounting(alpha=0.33,\n",
    "                               K80=1.0, L80=1.0, A80=1.0,\n",
    "                               Kg1=0.03, Lg1=0.02, Ag1=0.01,\n",
    "                               Kg2=0.05, Lg2=0.01, Ag2=0.015,\n",
    "                               Kg3=0.02, Lg3=0.01, Ag3=0.007):\n",
    "\n",
    "    decades = ['1980s', '1990s', '2000s']\n",
    "    T = 10  # years per decade\n",
    "    K = [K80]\n",
    "    L = [L80]\n",
    "    A = [A80]\n",
    "    Y = []\n",
    "\n",
    "    growth_data = [(Kg1, Lg1, Ag1), (Kg2, Lg2, Ag2), (Kg3, Lg3, Ag3)]\n",
    "\n",
    "    for Kg, Lg, Ag in growth_data:\n",
    "        for _ in range(T):\n",
    "            K.append(K[-1] * (1 + Kg))\n",
    "            L.append(L[-1] * (1 + Lg))\n",
    "            A.append(A[-1] * (1 + Ag))\n",
    "            Y.append(K[-2]**alpha * (A[-2] * L[-2])**(1 - alpha))\n",
    "\n",
    "    K, L, A = np.array(K[:-1]), np.array(L[:-1]), np.array(A[:-1])\n",
    "    Y = np.array(Y)\n",
    "\n",
    "    # Compute log-level contributions\n",
    "    log_Y = np.log(Y)\n",
    "    contrib_K = alpha * np.log(K)\n",
    "    contrib_L = (1 - alpha) * np.log(L)\n",
    "    contrib_A = log_Y - contrib_K - contrib_L\n",
    "\n",
    "    # Plot\n",
    "    fig, axs = plt.subplots(1, 2, figsize=(14, 5))\n",
    "\n",
    "    axs[0].plot(Y, label='Output Y(t)', color='darkgreen')\n",
    "    axs[0].set_title('Total Output (Level)')\n",
    "    axs[0].set_xlabel('Years Since 1980')\n",
    "    axs[0].grid(True)\n",
    "    axs[0].legend()\n",
    "\n",
    "    axs[1].plot(log_Y, label='log Y', color='black', lw=2)\n",
    "    axs[1].plot(contrib_K, label='Capital Contribution', color='dodgerblue')\n",
    "    axs[1].plot(contrib_L, label='Labor Contribution', color='seagreen')\n",
    "    axs[1].plot(contrib_A, label='TFP Contribution', color='orange')\n",
    "    axs[1].set_title('Log Output and Component Contributions')\n",
    "    axs[1].set_xlabel('Years Since 1980')\n",
    "    axs[1].grid(True)\n",
    "    axs[1].legend()\n",
    "\n",
    "    plt.suptitle(\"Model 7 (Upgraded): Dynamic Growth Accounting by Decade\", fontsize=14)\n",
    "    plt.tight_layout()\n",
    "    plt.show()\n",
    "\n",
    "interact(\n",
    "    dynamic_growth_accounting,\n",
    "    alpha=FloatSlider(value=0.33, min=0.2, max=0.6, step=0.01, description='Capital Share α'),\n",
    "    K80=FloatSlider(value=1.0, min=0.1, max=10.0, step=0.1, description='Init K 1980'),\n",
    "    L80=FloatSlider(value=1.0, min=0.1, max=10.0, step=0.1, description='Init L 1980'),\n",
    "    A80=FloatSlider(value=1.0, min=0.1, max=10.0, step=0.1, description='Init A 1980'),\n",
    "    Kg1=FloatSlider(value=0.03, min=0, max=0.06, step=0.005, description='K Growth 80s'),\n",
    "    Lg1=FloatSlider(value=0.02, min=0, max=0.05, step=0.005, description='L Growth 80s'),\n",
    "    Ag1=FloatSlider(value=0.01, min=0, max=0.03, step=0.001, description='TFP 80s'),\n",
    "    Kg2=FloatSlider(value=0.05, min=0, max=0.06, step=0.005, description='K Growth 90s'),\n",
    "    Lg2=FloatSlider(value=0.01, min=0, max=0.05, step=0.005, description='L Growth 90s'),\n",
    "    Ag2=FloatSlider(value=0.015, min=0, max=0.03, step=0.001, description='TFP 90s'),\n",
    "    Kg3=FloatSlider(value=0.02, min=0, max=0.06, step=0.005, description='K Growth 00s'),\n",
    "    Lg3=FloatSlider(value=0.01, min=0, max=0.05, step=0.005, description='L Growth 00s'),\n",
    "    Ag3=FloatSlider(value=0.007, min=0, max=0.03, step=0.001, description='TFP 00s')\n",
    ")"
   ]
  },
  {
   "cell_type": "markdown",
   "id": "3a45785a",
   "metadata": {},
   "source": [
    "# 🔍 Model 7: Dynamic Growth Accounting by Decade (Revised)\n",
    "\n",
    "This model simulates capital, labor, TFP, and output growth from 1980–2010 in continuous time.\n",
    "\n",
    "Each decade has its own assumed growth rates:\n",
    "\n",
    "- Capital: g_K\n",
    "- Labor: g_L\n",
    "- Productivity: g_A\n",
    "\n",
    "# 📐 Output Function:\n",
    "\\[\n",
    "Y_t = K_t^{\\alpha} (A_t \\cdot L_t)^{1 - \\alpha}\n",
    "\\]\n",
    "\n",
    "# 💡 Insight:\n",
    "Instead of static bars, we now track how capital, labor, and TFP contributions **accumulate over time** in logs — just like growth economists analyze in real data.\n",
    "\n",
    "Use this to:\n",
    "- Model real-world transitions (e.g. East Asia’s growth, post-2008 slowdown)\n",
    "- Show how **TFP can lag** while capital surges\n",
    "- Tie your simulation to **balanced growth theory**"
   ]
  },
  {
   "cell_type": "markdown",
   "id": "37086d49",
   "metadata": {},
   "source": [
    "# 📊 Growth Accounting by Decade\n",
    "\n",
    "This model breaks total output growth across three decades into:\n",
    "\n",
    "- Capital contribution (α × g_K)\n",
    "- Labor contribution ((1 – α) × g_L)\n",
    "- TFP growth (g_A)\n",
    "\n",
    "# Equation:\n",
    "\\[\n",
    "\\frac{\\dot{Y}}{Y} = \\alpha \\frac{\\dot{K}}{K} + (1 - \\alpha) \\frac{\\dot{L}}{L} + \\frac{\\dot{A}}{A}\n",
    "\\]\n",
    "\n",
    "This helps identify:\n",
    "- **Which factor drove growth** in each decade\n",
    "- When **productivity surged or stalled**\n",
    "- How growth transitions over time\n",
    "\n",
    "> Try adjusting TFP in the 2000s to simulate slowing growth."
   ]
  }
 ],
 "metadata": {
  "kernelspec": {
   "display_name": "Python (solow-env)",
   "language": "python",
   "name": "solow-env"
  },
  "language_info": {
   "codemirror_mode": {
    "name": "ipython",
    "version": 3
   },
   "file_extension": ".py",
   "mimetype": "text/x-python",
   "name": "python",
   "nbconvert_exporter": "python",
   "pygments_lexer": "ipython3",
   "version": "3.13.3"
  }
 },
 "nbformat": 4,
 "nbformat_minor": 5
}
