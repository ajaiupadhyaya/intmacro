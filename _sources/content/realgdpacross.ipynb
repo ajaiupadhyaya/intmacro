{
 "cells": [
  {
   "cell_type": "code",
   "execution_count": 1,
   "id": "987c0f30",
   "metadata": {
    "tags": [
     "thebe-init",
     "hide-input"
    ]
   },
   "outputs": [
    {
     "data": {
      "application/vnd.jupyter.widget-view+json": {
       "model_id": "345cdbc16c68453a967f68d304f7792e",
       "version_major": 2,
       "version_minor": 0
      },
      "text/plain": [
       "interactive(children=(IntSlider(value=0, description='x', max=10), Output()), _dom_classes=('widget-interact',…"
      ]
     },
     "metadata": {},
     "output_type": "display_data"
    }
   ],
   "source": [
    "from ipywidgets import interact, widgets\n",
    "interact(lambda x: x**2, x=widgets.IntSlider(min=0, max=10));"
   ]
  },
  {
   "cell_type": "markdown",
   "id": "59e5ed1c",
   "metadata": {},
   "source": [
    "# 🌍 Comparing Real GDP Across Countries: The PPP Adjustment\n",
    "\n",
    "Comparing living standards across countries using GDP per capita requires more than just converting currencies at market exchange rates. Why? Because the **same amount of money buys different amounts of goods and services in different countries** due to variations in price levels.\n",
    "\n",
    "For example, $1 might buy a coffee in one country but only half a coffee in another. Simply comparing GDP converted at the market exchange rate would understate the purchasing power (and thus the real living standard) in the lower-price country."
   ]
  },
  {
   "cell_type": "markdown",
   "id": "8ceb3312",
   "metadata": {},
   "source": [
    "# ⚖️ Purchasing Power Parity (PPP)\n",
    "\n",
    "**Purchasing Power Parity (PPP)** is a theory and a statistical adjustment that aims to equalize the purchasing power of different currencies. It calculates an \"exchange rate\" based on the relative prices of a common basket of goods and services in different countries.\n",
    "\n",
    "**The Idea:** How much money would you need in Country B to buy the same basket of goods and services that $1 buys in Country A (often the US)? This ratio gives the PPP exchange rate.\n",
    "\n",
    "**PPP Adjustment for GDP:** To make meaningful comparisons of real output or living standards, we adjust Nominal GDP per capita using PPP price level indexes:\n",
    "\n",
    "$$ \\text{Real GDP per capita (PPP adjusted)} = \\frac{\\text{Nominal GDP per capita (in local currency or USD)}}{\\text{Price Level Index (relative to base country, e.g., US=1)}} $$\n",
    "\n",
    "Or, more simply, if we have price levels relative to a base (like $P_{US}=1$ and $P_{India}=0.3$):\n",
    "\n",
    "$$ \\text{Real GDP}_{\\text{India}}^{\\text{PPP}} (\\text{in US dollars}) = \\frac{\\text{Nominal GDP}_{\\text{India}} (\\text{in USD})}{P_{\\text{India}}} $$\n",
    "\n",
    "**Interpretation:**\n",
    "* If a country's price level index is *less than 1* (meaning prices are lower than in the US), its PPP-adjusted GDP will be *higher* than its nominal GDP converted at market exchange rates.\n",
    "* If a country's price level index is *greater than 1* (prices are higher than in the US), its PPP-adjusted GDP will be *lower*.\n",
    "\n",
    "PPP adjustment provides a better comparison of the *volume* of goods and services people can actually consume in different countries."
   ]
  },
  {
   "cell_type": "code",
   "execution_count": 2,
   "id": "26ac9b6c",
   "metadata": {
    "tags": [
     "hide-input"
    ]
   },
   "outputs": [
    {
     "data": {
      "application/vnd.jupyter.widget-view+json": {
       "model_id": "c04e906613bf4963b00ddd2487a6c2a7",
       "version_major": 2,
       "version_minor": 0
      },
      "text/plain": [
       "interactive(children=(FloatSlider(value=60000.0, description='Ctry 1 Nom GDP/cap ($):', layout=Layout(width='9…"
      ]
     },
     "metadata": {},
     "output_type": "display_data"
    }
   ],
   "source": [
    "# Import necessary libraries\n",
    "import numpy as np\n",
    "import matplotlib.pyplot as plt\n",
    "from ipywidgets import interact, FloatSlider, Layout\n",
    "from IPython.display import display, Markdown\n",
    "import warnings\n",
    "\n",
    "# Optional: Use a specific style\n",
    "try:\n",
    "    plt.style.use('seaborn-v0_8-whitegrid')\n",
    "except IOError:\n",
    "    pass # Use default if style not found\n",
    "\n",
    "def ppp_gdp_comparison(\n",
    "    gdp_cap_ctry1=60000.0, # e.g., US\n",
    "    gdp_cap_ctry2=8000.0,  # e.g., India\n",
    "    price_level_ctry1=1.0, # Base country, price level = 1\n",
    "    price_level_ctry2=0.3  # Price level relative to base country\n",
    "    ):\n",
    "    \"\"\"\n",
    "    Compares Nominal GDP per capita with PPP-adjusted GDP per capita\n",
    "    for two countries.\n",
    "\n",
    "    Args:\n",
    "        gdp_cap_ctry1 (float): Nominal GDP per capita (e.g., in USD) for Country 1.\n",
    "        gdp_cap_ctry2 (float): Nominal GDP per capita (e.g., in USD) for Country 2.\n",
    "        price_level_ctry1 (float): Price level index for Country 1 (Base=1).\n",
    "        price_level_ctry2 (float): Price level index for Country 2 (relative to Base).\n",
    "    \"\"\"\n",
    "    # Input validation\n",
    "    price_level_ctry1 = max(price_level_ctry1, 1e-6) # Avoid division by zero\n",
    "    price_level_ctry2 = max(price_level_ctry2, 1e-6)\n",
    "\n",
    "    # Calculate PPP-adjusted GDP per capita\n",
    "    # Real (PPP) = Nominal / Price Level Index\n",
    "    ppp_gdp_ctry1 = gdp_cap_ctry1 / price_level_ctry1\n",
    "    ppp_gdp_ctry2 = gdp_cap_ctry2 / price_level_ctry2\n",
    "\n",
    "    # --- Prepare for Plotting ---\n",
    "    countries = ['Country 1 (Base)', 'Country 2']\n",
    "    nominal_gdp = np.array([gdp_cap_ctry1, gdp_cap_ctry2])\n",
    "    ppp_gdp = np.array([ppp_gdp_ctry1, ppp_gdp_ctry2])\n",
    "\n",
    "    # --- Plotting ---\n",
    "    fig, ax = plt.subplots(figsize=(8, 6))\n",
    "    x = np.arange(len(countries)) # Label locations\n",
    "    width = 0.35 # Width of the bars\n",
    "\n",
    "    bars1 = ax.bar(x - width/2, nominal_gdp, width, label='Nominal GDP per capita', color='#ff7f0e', alpha=0.8, edgecolor='black')\n",
    "    bars2 = ax.bar(x + width/2, ppp_gdp, width, label='PPP-Adjusted GDP per capita', color='#1f77b4', alpha=0.8, edgecolor='black')\n",
    "\n",
    "    # Add labels, title, and ticks\n",
    "    ax.set_ylabel('GDP per capita ($)')\n",
    "    ax.set_title('Nominal vs. PPP-Adjusted GDP per Capita Comparison')\n",
    "    ax.set_xticks(x)\n",
    "    ax.set_xticklabels(countries)\n",
    "    ax.legend()\n",
    "    ax.grid(axis='y', linestyle='--', alpha=0.7)\n",
    "    # Format y-axis\n",
    "    ax.get_yaxis().set_major_formatter(plt.FuncFormatter(lambda y, _: f'${y:,.0f}'))\n",
    "\n",
    "    # Add bar labels\n",
    "    ax.bar_label(bars1, fmt='$%.0f', padding=3, fontsize=9)\n",
    "    ax.bar_label(bars2, fmt='$%.0f', padding=3, fontsize=9)\n",
    "\n",
    "    fig.tight_layout()\n",
    "    plt.show()\n",
    "\n",
    "    # --- Display Ratios ---\n",
    "    # Calculate ratios (handle division by zero)\n",
    "    ratio_nominal = gdp_cap_ctry1 / gdp_cap_ctry2 if gdp_cap_ctry2 != 0 else np.inf\n",
    "    ratio_ppp = ppp_gdp_ctry1 / ppp_gdp_ctry2 if ppp_gdp_ctry2 != 0 else np.inf\n",
    "\n",
    "    results_md = f\"\"\"\n",
    "    ### ⚖️ Comparison Summary:\n",
    "\n",
    "    | Measure                     | Country 1 (Base) | Country 2        | Ratio (Ctry 1 / Ctry 2) |\n",
    "    |-----------------------------|-----------------|------------------|-------------------------|\n",
    "    | **Nominal GDP per capita** | ${gdp_cap_ctry1:,.0f}    | ${gdp_cap_ctry2:,.0f}     | {ratio_nominal:.1f} x             |\n",
    "    | **Price Level Index** | {price_level_ctry1:.2f}         | {price_level_ctry2:.2f}          |                         |\n",
    "    | **PPP-Adjusted GDP p.c.** | **${ppp_gdp_ctry1:,.0f}** | **${ppp_gdp_ctry2:,.0f}** | **{ratio_ppp:.1f} x** |\n",
    "\n",
    "    *Note: PPP adjustment typically narrows the income gap between high-price (richer) and low-price (poorer) countries.*\n",
    "    \"\"\"\n",
    "    display(Markdown(results_md))\n",
    "\n",
    "\n",
    "# --- Create Interactive Widgets ---\n",
    "style = {'description_width': 'initial'}\n",
    "layout = Layout(width='95%')\n",
    "\n",
    "interact(ppp_gdp_comparison,\n",
    "         gdp_cap_ctry1=FloatSlider(value=60000.0, min=10000, max=120000, step=1000, description='Ctry 1 Nom GDP/cap ($):', style=style, layout=layout, readout_format=',.0f'),\n",
    "         gdp_cap_ctry2=FloatSlider(value=8000.0, min=500, max=50000, step=500, description='Ctry 2 Nom GDP/cap ($):', style=style, layout=layout, readout_format=',.0f'),\n",
    "         price_level_ctry1=FloatSlider(value=1.0, min=0.8, max=1.5, step=0.01, description='Ctry 1 Price Lvl (Base=1):', style=style, layout=layout, readout_format='.2f', disabled=True), # Keep Base=1\n",
    "         price_level_ctry2=FloatSlider(value=0.3, min=0.1, max=1.5, step=0.01, description='Ctry 2 Price Lvl (Rel Base):', style=style, layout=layout, readout_format='.2f')\n",
    "        );\n"
   ]
  },
  {
   "cell_type": "markdown",
   "id": "b615b4a3",
   "metadata": {},
   "source": [
    "# 🌍 Real GDP Across Countries\n",
    "\n",
    "Two countries might have:\n",
    "- The same **output**\n",
    "- But very **different prices**\n",
    "\n",
    "So, we adjust GDP using **Purchasing Power Parity (PPP)**:\n",
    "\\[\n",
    "\\text{Real GDP per capita (PPP)} = \\frac{\\text{Nominal GDP}}{\\text{Price Level Index}}\n",
    "\\]\n",
    "\n",
    "\n",
    "# 💡 PPP Explained\n",
    "If a burger costs:\n",
    "- $1 in India\n",
    "- $4 in the US  \n",
    "...then $1 in India **buys 4x more stuff**.\n",
    "\n",
    "So, $1 of GDP in India = $4 of PPP-adjusted GDP in the US\n",
    "\n",
    "\n",
    "# 🔍 Why This Matters\n",
    "Without PPP, we understate how much people in low-price countries can buy.  \n",
    "**Living standards ≠ dollar GDP.**\n",
    "\n",
    "This is crucial for comparing:\n",
    "- China vs. US\n",
    "- India vs. Mexico"
   ]
  }
 ],
 "metadata": {
  "kernelspec": {
   "display_name": "Python (solow-env)",
   "language": "python",
   "name": "solow-env"
  },
  "language_info": {
   "codemirror_mode": {
    "name": "ipython",
    "version": 3
   },
   "file_extension": ".py",
   "mimetype": "text/x-python",
   "name": "python",
   "nbconvert_exporter": "python",
   "pygments_lexer": "ipython3",
   "version": "3.13.3"
  },
  "tags": [
   "thebe-init"
  ]
 },
 "nbformat": 4,
 "nbformat_minor": 5
}
