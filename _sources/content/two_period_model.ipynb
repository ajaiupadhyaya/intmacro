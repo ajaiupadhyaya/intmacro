{
 "cells": [
  {
   "cell_type": "code",
   "execution_count": 1,
   "id": "e8194441",
   "metadata": {
    "tags": [
     "thebe-init",
     "hide-input"
    ]
   },
   "outputs": [
    {
     "data": {
      "application/vnd.jupyter.widget-view+json": {
       "model_id": "b43dc499ee784264ac1cbd19d0ea9ce5",
       "version_major": 2,
       "version_minor": 0
      },
      "text/plain": [
       "interactive(children=(IntSlider(value=0, description='x', max=10), Output()), _dom_classes=('widget-interact',…"
      ]
     },
     "metadata": {},
     "output_type": "display_data"
    }
   ],
   "source": [
    "from ipywidgets import interact, widgets\n",
    "interact(lambda x: x**2, x=widgets.IntSlider(min=0, max=10));"
   ]
  },
  {
   "cell_type": "markdown",
   "id": "f4207c0a",
   "metadata": {},
   "source": [
    "# ⏳ The Two-Period Consumption Model\n",
    "\n",
    "How do individuals make decisions about consumption and saving over time? The two-period consumption model provides a fundamental framework for analyzing this **intertemporal choice**.\n",
    "\n",
    "Individuals aim to maximize their lifetime utility by choosing consumption levels in the present (Period 1, $c_1$) and the future (Period 2, $c_2$), subject to their lifetime income and the market interest rate.\n",
    "\n",
    "This simulation visualizes the key components of this choice: the budget constraint, the consumer's preferences (indifference curves), and the optimality condition (Euler equation)."
   ]
  },
  {
   "cell_type": "markdown",
   "id": "a0253d41",
   "metadata": {},
   "source": [
    "# ⚙️ Model Setup: Budget Constraint & Preferences\n",
    "\n",
    "1.  **Intertemporal Budget Constraint (IBC):** This constraint states that the present value of lifetime consumption must equal the present value of lifetime income (wealth, $W$).\n",
    "    $$ c_1 + \\frac{c_2}{1 + r} = y_1 + \\frac{y_2}{1 + r} \\equiv W $$\n",
    "    - $c_1, c_2$: Consumption in period 1 and 2.\n",
    "    - $y_1, y_2$: Income (exogenous endowment) in period 1 and 2.\n",
    "    - $r$: Real interest rate between period 1 and 2.\n",
    "    * The slope of the budget line in the $(c_1, c_2)$ space is $-(1+r)$, representing the market trade-off between present and future consumption.\n",
    "\n",
    "2.  **Preferences (Utility Function):** Individuals derive utility from consumption in both periods. We use a time-separable utility function, often logarithmic, incorporating a discount factor $\\beta$ (beta):\n",
    "    $$ U(c_1, c_2) = \\ln(c_1) + \\beta \\ln(c_2) $$\n",
    "    - $\\beta$: Subjective discount factor ($0 < \\beta \\le 1$). It reflects how much the individual values future consumption relative to present consumption. $\\beta=1$ means no subjective discounting, $\\beta<1$ means future consumption is valued less.\n",
    "    * Indifference curves represent combinations of $(c_1, c_2)$ yielding the same utility level. They are convex due to diminishing marginal utility."
   ]
  },
  {
   "cell_type": "markdown",
   "id": "d2b3c191",
   "metadata": {},
   "source": [
    "# ✨ Optimal Choice: Euler Equation & Graphical Solution\n",
    "\n",
    "The optimal consumption bundle $(c_1^*, c_2^*)$ maximizes utility subject to the budget constraint. This occurs where the **indifference curve is tangent to the budget line**.\n",
    "\n",
    "**Optimality Condition (Tangency):**\n",
    "$$ MRS = 1 + r $$\n",
    "Where MRS is the Marginal Rate of Substitution between $c_1$ and $c_2$. For the utility function $U = \\ln(c_1) + \\beta \\ln(c_2)$:\n",
    "$$ MRS = \\frac{\\partial U / \\partial c_1}{\\partial U / \\partial c_2} = \\frac{1/c_1}{\\beta (1/c_2)} = \\frac{c_2}{\\beta c_1} $$\n",
    "Setting MRS equal to $(1+r)$:\n",
    "$$ \\frac{c_2}{\\beta c_1} = 1 + r $$\n",
    "$$ c_2 = \\beta (1 + r) c_1 $$\n",
    "\n",
    "This last equation is the **Euler Equation** for this specific utility function. It describes the optimal relationship between consumption in the two periods. It states that consumption should grow at a rate determined by the interest rate $r$ and the discount factor $\\beta$.\n",
    "\n",
    "**Graphical Interpretation:**\n",
    "* **Budget Line:** Shows affordable consumption bundles.\n",
    "* **Indifference Curves:** Show preferences (higher curves = higher utility).\n",
    "* **Euler Line:** The line $c_2 = \\beta (1 + r) c_1$ passes through the origin and represents all points satisfying the MRS = (1+r) condition.\n",
    "* **Optimal Point $(c_1^*, c_2^*)$:** The single point where the Budget Line, the highest attainable Indifference Curve, and the Euler Line *all intersect*.\n",
    "\n",
    "The simulation plots these three lines/curves and identifies the optimal consumption bundle."
   ]
  },
  {
   "cell_type": "code",
   "execution_count": 2,
   "id": "5f0e518f",
   "metadata": {
    "tags": [
     "hide-input"
    ]
   },
   "outputs": [
    {
     "name": "stderr",
     "output_type": "stream",
     "text": [
      "<>:144: SyntaxWarning: invalid escape sequence '\\*'\n",
      "<>:144: SyntaxWarning: invalid escape sequence '\\*'\n",
      "<>:144: SyntaxWarning: invalid escape sequence '\\*'\n",
      "<>:144: SyntaxWarning: invalid escape sequence '\\*'\n",
      "<>:144: SyntaxWarning: invalid escape sequence '\\*'\n",
      "<>:144: SyntaxWarning: invalid escape sequence '\\*'\n",
      "<>:144: SyntaxWarning: invalid escape sequence '\\*'\n",
      "<>:144: SyntaxWarning: invalid escape sequence '\\*'\n",
      "/var/folders/kz/cc2y6j3953z1bgkfgj5xk9yc0000gn/T/ipykernel_87811/1551809298.py:144: SyntaxWarning: invalid escape sequence '\\*'\n",
      "  display(Markdown(results_md))\n",
      "/var/folders/kz/cc2y6j3953z1bgkfgj5xk9yc0000gn/T/ipykernel_87811/1551809298.py:144: SyntaxWarning: invalid escape sequence '\\*'\n",
      "  display(Markdown(results_md))\n",
      "/var/folders/kz/cc2y6j3953z1bgkfgj5xk9yc0000gn/T/ipykernel_87811/1551809298.py:144: SyntaxWarning: invalid escape sequence '\\*'\n",
      "  display(Markdown(results_md))\n",
      "/var/folders/kz/cc2y6j3953z1bgkfgj5xk9yc0000gn/T/ipykernel_87811/1551809298.py:144: SyntaxWarning: invalid escape sequence '\\*'\n",
      "  display(Markdown(results_md))\n"
     ]
    },
    {
     "data": {
      "application/vnd.jupyter.widget-view+json": {
       "model_id": "15071e3ba94948d7b11ef3ca78e15a07",
       "version_major": 2,
       "version_minor": 0
      },
      "text/plain": [
       "interactive(children=(FloatSlider(value=50.0, description='Income y1:', layout=Layout(width='95%'), max=150.0,…"
      ]
     },
     "metadata": {},
     "output_type": "display_data"
    }
   ],
   "source": [
    "# Import necessary libraries\n",
    "import numpy as np\n",
    "import matplotlib.pyplot as plt\n",
    "from ipywidgets import interact, FloatSlider, Dropdown, Layout\n",
    "from IPython.display import display, Markdown\n",
    "import warnings\n",
    "\n",
    "# Optional: Use a specific style\n",
    "try:\n",
    "    plt.style.use('seaborn-v0_8-whitegrid')\n",
    "except IOError:\n",
    "    pass # Use default if style not found\n",
    "\n",
    "def two_period_consumption_euler(y1=50.0, y2=50.0, r=0.05, beta=0.96, view_indiff=True):\n",
    "    \"\"\"\n",
    "    Calculates and plots the optimal two-period consumption choice,\n",
    "    highlighting the budget line, Euler line, and indifference curve.\n",
    "\n",
    "    Args:\n",
    "        y1 (float): Income in period 1.\n",
    "        y2 (float): Income in period 2.\n",
    "        r (float): Real interest rate.\n",
    "        beta (float): Subjective discount factor (0 < beta <= 1).\n",
    "        view_indiff (bool): Whether to plot indifference curves.\n",
    "    \"\"\"\n",
    "    # Input validation\n",
    "    y1 = max(y1, 0)\n",
    "    y2 = max(y2, 0)\n",
    "    r = max(r, -0.99) # Avoid r <= -1\n",
    "    beta = np.clip(beta, 0.01, 1.0) # Ensure beta is valid\n",
    "\n",
    "    # --- Calculations ---\n",
    "    # Present Value of Lifetime Income (Wealth W)\n",
    "    pv_income = y1 + y2 / (1 + r)\n",
    "\n",
    "    # Optimal Consumption (derived from budget and Euler eq)\n",
    "    # c1 + c2/(1+r) = W\n",
    "    # c2 = beta*(1+r)*c1\n",
    "    # c1 + beta*(1+r)*c1 / (1+r) = W\n",
    "    # c1 * (1 + beta) = W\n",
    "    if (1 + beta) < 1e-9: # Avoid division by zero if beta is somehow -1\n",
    "        c1_star = 1e-9\n",
    "    else:\n",
    "        c1_star = pv_income / (1 + beta)\n",
    "\n",
    "    # Ensure c1* is feasible (cannot exceed PV income) and non-negative\n",
    "    c1_star = np.clip(c1_star, 1e-9, pv_income - 1e-9 if pv_income > 1e-6 else 1e-9)\n",
    "    # Calculate c2* from Euler equation\n",
    "    c2_star = beta * (1 + r) * c1_star\n",
    "    c2_star = max(c2_star, 1e-9) # Ensure non-negative\n",
    "\n",
    "    # Saving in period 1\n",
    "    saving_s = y1 - c1_star\n",
    "\n",
    "    # Utility function (handle log(0))\n",
    "    def utility(c, l):\n",
    "        c_safe = np.maximum(c, 1e-9)\n",
    "        l_safe = np.maximum(l, 1e-9)\n",
    "        with warnings.catch_warnings():\n",
    "             warnings.simplefilter(\"ignore\", category=RuntimeWarning) # Ignore log(0) warnings\n",
    "             return np.log(c_safe) + beta * np.log(l_safe)\n",
    "\n",
    "    # Utility level at optimum\n",
    "    U_star = utility(c1_star, c2_star)\n",
    "\n",
    "    # --- Calculations for Plotting ---\n",
    "    # Define range for c1 (avoiding zero for logs/Euler line)\n",
    "    c1_max_possible = pv_income # Max c1 if c2=0\n",
    "    c1_vals = np.linspace(1e-3, c1_max_possible * 1.1, 400)\n",
    "\n",
    "    # 1. Budget Line: c2 = (W - c1) * (1 + r)\n",
    "    c2_budget = (pv_income - c1_vals) * (1 + r)\n",
    "    # Filter out negative c2 for plotting\n",
    "    c1_plot_budget = c1_vals[c2_budget >= 0]\n",
    "    c2_plot_budget = c2_budget[c2_budget >= 0]\n",
    "\n",
    "    # 2. Euler Line: c2 = beta * (1 + r) * c1\n",
    "    c2_euler = beta * (1 + r) * c1_vals\n",
    "\n",
    "    # 3. Indifference Curve at Optimum: c2 = exp( (U_star - log(c1)) / beta )\n",
    "    with np.errstate(invalid='ignore', divide='ignore'): # Ignore log(0) warnings\n",
    "        log_c1_vals = np.log(c1_vals)\n",
    "    log_c2_indiff = (U_star - log_c1_vals) / beta\n",
    "    # Clip to avoid extreme values before exponentiating\n",
    "    log_c2_indiff = np.clip(log_c2_indiff, -30, 30)\n",
    "    c2_indiff_star = np.exp(log_c2_indiff)\n",
    "\n",
    "\n",
    "    # --- Plotting ---\n",
    "    fig, ax = plt.subplots(figsize=(9, 7))\n",
    "\n",
    "    # Plot Budget Line\n",
    "    ax.plot(c1_plot_budget, c2_plot_budget, label=f'Budget Line (W={pv_income:.1f})', color='black', linewidth=2)\n",
    "\n",
    "    # Plot Euler Line\n",
    "    ax.plot(c1_vals, c2_euler, label=f'Euler Line (Slope={beta*(1+r):.2f})', color='blue', linestyle=':', linewidth=2)\n",
    "\n",
    "    # Plot Indifference Curve(s)\n",
    "    if view_indiff:\n",
    "        # Plot optimal indifference curve\n",
    "        ax.plot(c1_vals, c2_indiff_star, linestyle='--', color='red', alpha=0.8, label=f'Optimal Indiff. Curve (U≈{U_star:.2f})')\n",
    "        # Optionally plot nearby curves\n",
    "        for offset in [-0.4, 0.4]:\n",
    "             log_c2_nearby = (U_star + offset - log_c1_vals) / beta\n",
    "             log_c2_nearby = np.clip(log_c2_nearby, -30, 30)\n",
    "             c2_nearby = np.exp(log_c2_nearby)\n",
    "             ax.plot(c1_vals, c2_nearby, linestyle=':', color='grey', alpha=0.5)\n",
    "\n",
    "    # Plot Optimal Point (Intersection)\n",
    "    ax.scatter(c1_star, c2_star, color='red', s=120, zorder=5, label='Optimal Choice (c1*, c2*)')\n",
    "    ax.annotate(f\"Optimal\\nc1*={c1_star:.1f}\\nc2*={c2_star:.1f}\",\n",
    "                xy=(c1_star, c2_star), xytext=(20, 20), textcoords='offset points',\n",
    "                arrowprops=dict(arrowstyle='->', connectionstyle='arc3,rad=0.2'),\n",
    "                fontsize=10, bbox=dict(boxstyle='round,pad=0.3', fc='white', alpha=0.7))\n",
    "\n",
    "    # Plot Endowment Point\n",
    "    ax.scatter(y1, y2, color='green', marker='X', s=100, zorder=5, label=f'Endowment (y1={y1:.0f}, y2={y2:.0f})')\n",
    "\n",
    "\n",
    "    ax.set_xlabel(\"Consumption Period 1 (c1)\")\n",
    "    ax.set_ylabel(\"Consumption Period 2 (c2)\")\n",
    "    ax.set_title(\"Two-Period Consumption Model: Optimal Choice\")\n",
    "    # Dynamic limits based on relevant points\n",
    "    max_c1_axis = max(c1_max_possible, y1, c1_star) * 1.1\n",
    "    max_c2_axis = max(c2_budget.max() if len(c2_plot_budget)>0 else 0, y2, c2_star, c2_euler.max()) * 1.1\n",
    "    ax.set_xlim(0, max_c1_axis)\n",
    "    ax.set_ylim(0, max_c2_axis)\n",
    "    ax.legend(loc='best', fontsize='small')\n",
    "    ax.grid(True, linestyle='--', alpha=0.7)\n",
    "    plt.tight_layout()\n",
    "    plt.show()\n",
    "\n",
    "    # --- Display Results ---\n",
    "    saving_status = \"Saving\" if saving_s > 1e-6 else (\"Borrowing\" if saving_s < -1e-6 else \"Neither\")\n",
    "    results_md = f\"\"\"\n",
    "    ### 📊 Optimal Consumption & Saving:\n",
    "\n",
    "    * **Present Value of Income (W):** {pv_income:.2f}\n",
    "    * **Optimal Consumption (c1\\*):** {c1_star:.2f}\n",
    "    * **Optimal Consumption (c2\\*):** {c2_star:.2f}\n",
    "    * **Saving in Period 1 (s = y1 - c1\\*):** {saving_s:.2f} **({saving_status})**\n",
    "    * **Utility Level at Optimum (U\\*):** {U_star:.3f}\n",
    "    \"\"\"\n",
    "    display(Markdown(results_md))\n",
    "\n",
    "\n",
    "# --- Create Interactive Widgets ---\n",
    "style = {'description_width': 'initial'}\n",
    "layout = Layout(width='95%')\n",
    "\n",
    "interact(\n",
    "    two_period_consumption_euler,\n",
    "    y1=FloatSlider(value=50.0, min=0.0, max=150.0, step=2.0, description='Income y1:', style=style, layout=layout),\n",
    "    y2=FloatSlider(value=50.0, min=0.0, max=150.0, step=2.0, description='Income y2:', style=style, layout=layout),\n",
    "    r=FloatSlider(value=0.05, min=-0.1, max=0.25, step=0.01, description='Interest Rate (r):', style=style, layout=layout, readout_format='.1%'),\n",
    "    beta=FloatSlider(value=0.96, min=0.8, max=1.0, step=0.01, description='Discount Factor (beta β):', style=style, layout=layout, readout_format='.2f'),\n",
    "    view_indiff=Dropdown(options=[True, False], value=True, description='Show Indiff Curves:', style=style, layout=layout),\n",
    ");\n"
   ]
  }
 ],
 "metadata": {
  "kernelspec": {
   "display_name": "Python (solow-env)",
   "language": "python",
   "name": "solow-env"
  },
  "language_info": {
   "codemirror_mode": {
    "name": "ipython",
    "version": 3
   },
   "file_extension": ".py",
   "mimetype": "text/x-python",
   "name": "python",
   "nbconvert_exporter": "python",
   "pygments_lexer": "ipython3",
   "version": "3.13.3"
  },
  "tags": [
   "thebe-init"
  ]
 },
 "nbformat": 4,
 "nbformat_minor": 5
}
