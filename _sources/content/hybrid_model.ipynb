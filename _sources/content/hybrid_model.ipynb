{
 "cells": [
  {
   "cell_type": "code",
   "execution_count": null,
   "id": "beec5456",
   "metadata": {
    "tags": [
     "thebe-init",
     "hide-input"
    ]
   },
   "outputs": [],
   "source": [
    "from ipywidgets import interact, widgets\n",
    "interact(lambda x: x**2, x=widgets.IntSlider(min=0, max=10));"
   ]
  },
  {
   "cell_type": "code",
   "execution_count": null,
   "id": "8db9cbf9",
   "metadata": {
    "tags": [
     "hide-input"
    ]
   },
   "outputs": [
    {
     "data": {
      "application/vnd.jupyter.widget-view+json": {
       "model_id": "ded9cca7a38a4c72908f9dcb179667f6",
       "version_major": 2,
       "version_minor": 0
      },
      "text/plain": [
       "interactive(children=(FloatSlider(value=0.2, description='Savings Rate (s)', max=0.5, min=0.05, step=0.01), Fl…"
      ]
     },
     "metadata": {},
     "output_type": "display_data"
    }
   ],
   "source": [
    "import numpy as np\n",
    "import matplotlib.pyplot as plt\n",
    "from ipywidgets import interact, FloatSlider\n",
    "\n",
    "def solow_romer_model(s=0.2, delta_k=0.05, alpha=0.33, delta_A=0.1, l_A=0.2, L=100, A0=1, K0=10, T=50):\n",
    "    T = int(T)\n",
    "    A = np.zeros(T)\n",
    "    K = np.zeros(T)\n",
    "    Y = np.zeros(T)\n",
    "\n",
    "    A[0] = A0\n",
    "    K[0] = K0\n",
    "\n",
    "    L_A = l_A * L\n",
    "    L_Y = (1 - l_A) * L\n",
    "\n",
    "    for t in range(1, T):\n",
    "        A[t] = A[t-1] + delta_A * L_A * A[t-1]\n",
    "        Y[t-1] = K[t-1]**alpha * (A[t-1] * L_Y)**(1 - alpha)\n",
    "        K[t] = K[t-1] + s * Y[t-1] - delta_k * K[t-1]\n",
    "\n",
    "    Y[-1] = K[-1]**alpha * (A[-1] * L_Y)**(1 - alpha)\n",
    "\n",
    "    fig, axs = plt.subplots(1, 2, figsize=(14, 5))\n",
    "\n",
    "    axs[0].plot(K, label='Capital K(t)', color='blue')\n",
    "    axs[0].plot(A, label='Ideas A(t)', color='purple')\n",
    "    axs[0].set_title(\"Capital and Knowledge Over Time\")\n",
    "    axs[0].set_xlabel(\"Time\")\n",
    "    axs[0].legend()\n",
    "    axs[0].grid(True)\n",
    "\n",
    "    axs[1].plot(Y, label='Output Y(t)', color='green')\n",
    "    axs[1].set_title(\"Output Over Time\")\n",
    "    axs[1].set_xlabel(\"Time\")\n",
    "    axs[1].grid(True)\n",
    "    axs[1].legend()\n",
    "\n",
    "    plt.suptitle(\"🧬 Solow-Romer Hybrid Growth Model\", fontsize=14)\n",
    "    plt.tight_layout()\n",
    "    plt.show()\n",
    "\n",
    "interact(solow_romer_model,\n",
    "         s=FloatSlider(value=0.2, min=0.05, max=0.5, step=0.01, description='Savings Rate (s)'),\n",
    "         delta_k=FloatSlider(value=0.05, min=0.01, max=0.1, step=0.01, description='Depreciation (δₖ)'),\n",
    "         alpha=FloatSlider(value=0.33, min=0.2, max=0.6, step=0.01, description='α'),\n",
    "         delta_A=FloatSlider(value=0.1, min=0.01, max=0.3, step=0.01, description='Idea Growth Rate (δₐ)'),\n",
    "         l_A=FloatSlider(value=0.2, min=0.01, max=0.5, step=0.01, description='R&D Labor Share (lₐ)'),\n",
    "         L=FloatSlider(value=100, min=50, max=500, step=10, description='Total Labor (L)'),\n",
    "         A0=FloatSlider(value=1, min=0.1, max=5, step=0.1, description='Initial A₀'),\n",
    "         K0=FloatSlider(value=10, min=1, max=50, step=1, description='Initial K₀'),\n",
    "         T=FloatSlider(value=50, min=20, max=200, step=10, description='Time Steps'));"
   ]
  },
  {
   "cell_type": "markdown",
   "id": "cb3e18ba",
   "metadata": {},
   "source": [
    "# 🧬 Solow-Romer Hybrid Model\n",
    "\n",
    "This model combines:\n",
    "- Capital accumulation (from Solow)\n",
    "- Endogenous technology (from Romer)\n",
    "\n",
    "\n",
    "# Equations\n",
    "\n",
    "**Output:**\n",
    "\\[\n",
    "Y = K^\\alpha (A L_Y)^{1 - \\alpha}\n",
    "\\]\n",
    "\n",
    "**Capital accumulation:**\n",
    "\\[\n",
    "\\frac{dK}{dt} = s Y - \\delta K\n",
    "\\]\n",
    "\n",
    "**Ideas:**\n",
    "\\[\n",
    "\\frac{dA}{dt} = \\delta_A L_A A\n",
    "\\]\n",
    "\n",
    "Labor is split:\n",
    "- \\( L = L_Y + L_A \\)\n",
    "- Total labor grows exogenously at rate \\( n \\)\n",
    "\n",
    "\n",
    "# 🧠 Key Insight\n",
    "\n",
    "> In this model, **both A(t)** and **K(t)** grow — and so does Y(t).  \n",
    "> There is **no steady-state in levels** — the whole system grows over time.\n",
    "\n",
    "It captures:\n",
    "- **Transition** → Solow style\n",
    "- **Sustained growth** → Romer style"
   ]
  }
 ],
 "metadata": {
  "kernelspec": {
   "display_name": "Python (solow-env)",
   "language": "python",
   "name": "solow-env"
  },
  "language_info": {
   "codemirror_mode": {
    "name": "ipython",
    "version": 3
   },
   "file_extension": ".py",
   "mimetype": "text/x-python",
   "name": "python",
   "nbconvert_exporter": "python",
   "pygments_lexer": "ipython3",
   "version": "3.13.3"
  },
  "tags": [
   "thebe-init"
  ]
 },
 "nbformat": 4,
 "nbformat_minor": 5
}
