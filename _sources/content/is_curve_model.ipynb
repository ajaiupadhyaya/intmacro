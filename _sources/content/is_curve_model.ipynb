{
 "cells": [
  {
   "cell_type": "code",
   "execution_count": 1,
   "id": "6c552022",
   "metadata": {
    "tags": [
     "thebe-init",
     "hide-input"
    ]
   },
   "outputs": [
    {
     "data": {
      "application/vnd.jupyter.widget-view+json": {
       "model_id": "6c1a6d580dff4db793cb9444f7aa2676",
       "version_major": 2,
       "version_minor": 0
      },
      "text/plain": [
       "interactive(children=(IntSlider(value=0, description='x', max=10), Output()), _dom_classes=('widget-interact',…"
      ]
     },
     "metadata": {},
     "output_type": "display_data"
    }
   ],
   "source": [
    "from ipywidgets import interact, widgets\n",
    "interact(lambda x: x**2, x=widgets.IntSlider(min=0, max=10));"
   ]
  },
  {
   "cell_type": "markdown",
   "id": "49dfbd1b",
   "metadata": {},
   "source": [
    "# 📉 The IS Curve: Equilibrium in the Goods Market\n",
    "\n",
    "The **IS (Investment-Saving) curve** represents combinations of the real interest rate ($r$) and the level of output ($Y$) for which the **goods market is in equilibrium**. Equilibrium occurs when planned aggregate expenditure (total spending) equals actual output produced.\n",
    "\n",
    "This notebook derives and plots the IS curve based on a simple model of aggregate expenditure components."
   ]
  },
  {
   "cell_type": "markdown",
   "id": "dd4c4b72",
   "metadata": {},
   "source": [
    "# 🛒 Components of Aggregate Expenditure (AE)\n",
    "\n",
    "In a closed economy, planned aggregate expenditure ($AE$) is the sum of consumption ($C$), planned investment ($I$), and government purchases ($G$):\n",
    "\n",
    "$$AE = C + I + G$$\n",
    "\n",
    "We assume simple linear functions for consumption and investment:\n",
    "\n",
    "1.  **Consumption Function:** Consumption depends positively on disposable income ($Y - T$, where $T$ is taxes).\n",
    "    $$C = c_0 + c_1 (Y - T)$$\n",
    "    - $c_0$: Autonomous consumption (spending independent of disposable income).\n",
    "    - $c_1$: Marginal Propensity to Consume (MPC), the fraction of an extra dollar of disposable income that is spent ($0 < c_1 < 1$).\n",
    "    - $T$: Taxes (assumed lump-sum here).\n",
    "\n",
    "2.  **Investment Function:** Planned investment depends negatively on the real interest rate ($r$). A higher interest rate increases the cost of borrowing, making fewer investment projects profitable.\n",
    "    $$I = i_0 - i_1 r$$\n",
    "    - $i_0$: Autonomous investment (investment independent of the interest rate).\n",
    "    - $i_1$: Sensitivity of investment to the real interest rate ($i_1 > 0$).\n",
    "\n",
    "3.  **Government Purchases ($G$) and Taxes ($T$):** Assumed exogenous (determined outside the model)."
   ]
  },
  {
   "cell_type": "markdown",
   "id": "53c0c5af",
   "metadata": {},
   "source": [
    "# ⚖️ Goods Market Equilibrium & IS Curve Derivation\n",
    "\n",
    "Equilibrium in the goods market requires that **actual output (Y) equals planned aggregate expenditure (AE)**:\n",
    "\n",
    "$$Y = AE$$\n",
    "$$Y = C + I + G$$\n",
    "\n",
    "Substituting the behavioral equations for $C$ and $I$:\n",
    "\n",
    "$$Y = [c_0 + c_1 (Y - T)] + [i_0 - i_1 r] + G$$\n",
    "\n",
    "Now, we solve this equation for $Y$ to find the equilibrium output level for any given interest rate $r$. This relationship *is* the IS curve.\n",
    "\n",
    "$$Y = c_0 + c_1 Y - c_1 T + i_0 - i_1 r + G$$\n",
    "$$Y - c_1 Y = c_0 - c_1 T + i_0 + G - i_1 r$$\n",
    "$$Y (1 - c_1) = (c_0 - c_1 T + i_0 + G) - i_1 r$$\n",
    "\n",
    "Let $A_0 = c_0 - c_1 T + i_0 + G$ represent the **autonomous expenditure** (spending that doesn't depend on $Y$ or $r$). The term $(1 - c_1)$ is the Marginal Propensity to Save (MPS).\n",
    "\n",
    "$$Y = \\frac{1}{1 - c_1} (A_0 - i_1 r)$$\n",
    "\n",
    "This is the equation for the **IS Curve**. It shows a **negative relationship** between the real interest rate ($r$) and the equilibrium level of output ($Y$).\n",
    "\n",
    "* **Slope:** The IS curve slopes downward because a higher $r$ reduces investment ($I$), which lowers aggregate expenditure ($AE$) and thus reduces the equilibrium level of output ($Y$). The steepness depends on the MPC ($c_1$) and the interest sensitivity of investment ($i_1$). A larger $c_1$ or a larger $i_1$ makes the IS curve flatter.\n",
    "* **Shifts:** The IS curve shifts to the right if autonomous expenditure ($A_0$) increases (due to higher $c_0$, $i_0$, $G$, or lower $T$). It shifts left if $A_0$ decreases.\n",
    "\n",
    "The simulation below plots this IS curve and allows you to see how changes in the underlying parameters ($c_0, c_1, i_0, i_1, G, T$) affect its position and slope. You can also overlay shifted curves to visualize the impact of policy changes or shocks."
   ]
  },
  {
   "cell_type": "code",
   "execution_count": 2,
   "id": "f2ee9a8a",
   "metadata": {
    "tags": [
     "hide-input"
    ]
   },
   "outputs": [
    {
     "data": {
      "application/vnd.jupyter.widget-view+json": {
       "model_id": "b3b9d39cb1e54034bf21d48fd402f26c",
       "version_major": 2,
       "version_minor": 0
      },
      "text/plain": [
       "interactive(children=(FloatSlider(value=20.0, description='Autonomous C (c0):', layout=Layout(width='95%'), ma…"
      ]
     },
     "metadata": {},
     "output_type": "display_data"
    }
   ],
   "source": [
    "# Import necessary libraries\n",
    "import numpy as np\n",
    "import matplotlib.pyplot as plt\n",
    "from ipywidgets import interact, FloatSlider, IntSlider, Dropdown, Layout\n",
    "from IPython.display import display, Markdown\n",
    "import warnings\n",
    "\n",
    "# Optional: Use a specific style\n",
    "try:\n",
    "    plt.style.use('seaborn-v0_8-whitegrid')\n",
    "except IOError:\n",
    "    pass # Use default if style not found\n",
    "\n",
    "def plot_is_curve(c0=20.0, c1=0.7, i0=25.0, i1=50.0, G=50.0, T_tax=30.0, overlay='None'):\n",
    "    \"\"\"\n",
    "    Calculates and plots the IS curve based on aggregate expenditure components.\n",
    "\n",
    "    Args:\n",
    "        c0 (float): Autonomous consumption.\n",
    "        c1 (float): Marginal Propensity to Consume (MPC).\n",
    "        i0 (float): Autonomous investment.\n",
    "        i1 (float): Interest sensitivity of investment.\n",
    "        G (float): Government purchases.\n",
    "        T_tax (float): Lump-sum taxes.\n",
    "        overlay (str): Type of policy shift to overlay ('None', 'Higher G',\n",
    "                       'Lower T', 'Investment Shock').\n",
    "    \"\"\"\n",
    "    # Input validation\n",
    "    c1 = np.clip(c1, 0.01, 0.99) # MPC between 0 and 1\n",
    "    i1 = max(i1, 1e-6) # Ensure sensitivity is positive\n",
    "\n",
    "    # Define range for real interest rate (r)\n",
    "    r_vals = np.linspace(0.0, 0.25, 200) # Range from 0% to 25%\n",
    "\n",
    "    # Calculate Autonomous Expenditure (A0)\n",
    "    A0 = c0 - c1 * T_tax + i0 + G\n",
    "\n",
    "    # Calculate Multiplier (Keynesian multiplier)\n",
    "    multiplier = 1.0 / (1.0 - c1)\n",
    "\n",
    "    # Calculate IS curve: Y = multiplier * (A0 - i1*r)\n",
    "    Y_vals = multiplier * (A0 - i1 * r_vals)\n",
    "\n",
    "    # --- Plotting ---\n",
    "    fig, ax = plt.subplots(figsize=(10, 6))\n",
    "\n",
    "    # Plot the baseline IS curve\n",
    "    ax.plot(Y_vals, r_vals * 100, label='IS Curve', color='blue', linewidth=2.5) # Plot r on y-axis (conventional)\n",
    "\n",
    "    # --- Optional Overlays for Shifts ---\n",
    "    label_shift = \"\"\n",
    "    # Store original parameters for comparison text\n",
    "    params_orig = {'c0': c0, 'c1': c1, 'i0': i0, 'i1': i1, 'G': G, 'T_tax': T_tax}\n",
    "    params_shift = params_orig.copy()\n",
    "\n",
    "    if overlay == 'Higher G':\n",
    "        G_shift = G + 20\n",
    "        params_shift['G'] = G_shift\n",
    "        A0_shift = c0 - c1 * T_tax + i0 + G_shift\n",
    "        Y_shift = multiplier * (A0_shift - i1 * r_vals)\n",
    "        ax.plot(Y_shift, r_vals * 100, label=f'IS\\' (G = {G_shift:.0f})', linestyle='--', color='green', linewidth=2)\n",
    "        label_shift = f\"Higher G (+{G_shift-G:.0f})\"\n",
    "    elif overlay == 'Lower T':\n",
    "        T_shift = T_tax - 15\n",
    "        params_shift['T_tax'] = T_shift\n",
    "        A0_shift = c0 - c1 * T_shift + i0 + G\n",
    "        Y_shift = multiplier * (A0_shift - i1 * r_vals)\n",
    "        ax.plot(Y_shift, r_vals * 100, label=f'IS\\' (T = {T_shift:.0f})', linestyle='--', color='purple', linewidth=2)\n",
    "        label_shift = f\"Lower T (-{T_tax-T_shift:.0f})\"\n",
    "    elif overlay == 'Investment Shock': # Negative shock to autonomous investment\n",
    "        i0_shift = i0 - 15\n",
    "        params_shift['i0'] = i0_shift\n",
    "        A0_shift = c0 - c1 * T_tax + i0_shift + G\n",
    "        Y_shift = multiplier * (A0_shift - i1 * r_vals)\n",
    "        ax.plot(Y_shift, r_vals * 100, label=f'IS\\' (i0 = {i0_shift:.0f})', linestyle='--', color='red', linewidth=2)\n",
    "        label_shift = f\"Lower i0 (-{i0-i0_shift:.0f})\"\n",
    "\n",
    "    # Annotate an example point (e.g., at r = 5%)\n",
    "    r_example = 0.05\n",
    "    Y_example = multiplier * (A0 - i1 * r_example)\n",
    "    ax.scatter(Y_example, r_example * 100, color='black', s=80, zorder=5, label=f'Point at r={r_example:.0%}')\n",
    "    ax.annotate(f\" Y = {Y_example:.1f}\\n @ r = {r_example:.0%}\", xy=(Y_example, r_example * 100),\n",
    "                xytext=(15, -15), textcoords='offset points',\n",
    "                arrowprops=dict(arrowstyle='->', connectionstyle='arc3,rad=-0.2'),\n",
    "                fontsize=10, bbox=dict(boxstyle='round,pad=0.3', fc='white', alpha=0.7))\n",
    "\n",
    "    # Add annotation for shift if overlay is active\n",
    "    if overlay != 'None':\n",
    "         # Find a point on the shifted curve to annotate\n",
    "         Y_example_shift = multiplier * (A0_shift - i1 * r_example)\n",
    "         ax.scatter(Y_example_shift, r_example * 100, color='grey', s=60, zorder=4)\n",
    "         ax.annotate(f\"{label_shift}\\nY = {Y_example_shift:.1f}\", xy=(Y_example_shift, r_example * 100),\n",
    "                     xytext=(-30, 30), textcoords='offset points', ha='right',\n",
    "                     arrowprops=dict(arrowstyle='->', connectionstyle='arc3,rad=0.3', color='grey'),\n",
    "                     fontsize=9, bbox=dict(boxstyle='round,pad=0.3', fc='lightgrey', alpha=0.7))\n",
    "\n",
    "\n",
    "    ax.set_title(\"IS Curve: Goods Market Equilibrium (Y vs r)\")\n",
    "    ax.set_xlabel(\"Output (Y)\")\n",
    "    ax.set_ylabel(\"Real Interest Rate (r %)\")\n",
    "    ax.legend()\n",
    "    ax.grid(True, linestyle='--', alpha=0.7)\n",
    "    ax.yaxis.set_major_formatter(plt.FuncFormatter(lambda y, _: f'{y:.1f}%')) # Format r as percentage\n",
    "\n",
    "    # Set reasonable plot limits, ensuring origin is visible if appropriate\n",
    "    ax.set_xlim(left=max(0, Y_vals[r_vals<=0.2].min()*0.8) if Y_vals[r_vals<=0.2].min() > 0 else Y_vals[r_vals<=0.2].min()*1.1)\n",
    "    ax.set_ylim(bottom=-1) # Start slightly below 0%\n",
    "\n",
    "    plt.tight_layout()\n",
    "    plt.show()\n",
    "\n",
    "    # --- Display IS Equation and Multiplier ---\n",
    "    is_equation = f\"$Y = \\\\frac{{1}}{{1 - {c1:.2f}}} \\\\times ({A0:.1f} - {i1:.1f} r)$\"\n",
    "    is_simplified = f\"$Y = {multiplier:.2f} \\\\times ({A0:.1f} - {i1:.1f} r)$\"\n",
    "\n",
    "    results_md = f\"\"\"\n",
    "    ### ⚙️ IS Curve Details:\n",
    "\n",
    "    * **Autonomous Expenditure (A₀):** ${A0:.2f}$\n",
    "        * $(A₀ = c₀ - c₁T + i₀ + G)$\n",
    "    * **Multiplier (1 / (1 - c₁)):** ${multiplier:.2f}$\n",
    "    * **IS Curve Equation:** {is_equation}\n",
    "    * **Simplified:** {is_simplified}\n",
    "    * **Output at r = 5%:** ${Y_example:.2f}$\n",
    "    \"\"\"\n",
    "    if overlay != 'None':\n",
    "        Y_example_shift = multiplier * (A0_shift - i1 * r_example)\n",
    "        results_md += f\"* **Shifted Output at r = 5% ({label_shift}):** ${Y_example_shift:.2f}$\\n\"\n",
    "\n",
    "    display(Markdown(results_md))\n",
    "\n",
    "\n",
    "# --- Create Interactive Widgets ---\n",
    "style = {'description_width': 'initial'}\n",
    "layout = Layout(width='95%')\n",
    "\n",
    "interact(\n",
    "    plot_is_curve,\n",
    "    c0=FloatSlider(value=20.0, min=0, max=50, step=1, description='Autonomous C (c0):', style=style, layout=layout),\n",
    "    c1=FloatSlider(value=0.7, min=0.1, max=0.95, step=0.05, description='MPC (c1):', style=style, layout=layout, readout_format='.2f'),\n",
    "    i0=FloatSlider(value=25.0, min=0, max=50, step=1, description='Autonomous I (i0):', style=style, layout=layout),\n",
    "    i1=FloatSlider(value=50.0, min=10, max=200, step=5, description='Interest Sensitivity (i1):', style=style, layout=layout),\n",
    "    G=FloatSlider(value=50.0, min=0, max=100, step=5, description='Govt Spending (G):', style=style, layout=layout),\n",
    "    T_tax=FloatSlider(value=30.0, min=0, max=100, step=5, description='Taxes (T):', style=style, layout=layout),\n",
    "    overlay=Dropdown(options=['None', 'Higher G', 'Lower T', 'Investment Shock'], value='None', description='Overlay Shift:', style=style, layout=layout),\n",
    ");\n"
   ]
  }
 ],
 "metadata": {
  "kernelspec": {
   "display_name": "Python (solow-env)",
   "language": "python",
   "name": "solow-env"
  },
  "language_info": {
   "codemirror_mode": {
    "name": "ipython",
    "version": 3
   },
   "file_extension": ".py",
   "mimetype": "text/x-python",
   "name": "python",
   "nbconvert_exporter": "python",
   "pygments_lexer": "ipython3",
   "version": "3.13.3"
  },
  "tags": [
   "thebe-init"
  ]
 },
 "nbformat": 4,
 "nbformat_minor": 5
}
