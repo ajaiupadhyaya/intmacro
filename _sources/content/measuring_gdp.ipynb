{
 "cells": [
  {
   "cell_type": "markdown",
   "id": "72474f17",
   "metadata": {},
   "source": [
    "# 📘 Measuring GDP: The Expenditure Approach\n",
    "\n",
    "Gross Domestic Product (GDP) is the most widely used measure of a nation's total economic output. It represents the **market value of all final goods and services produced within a country's borders during a specific period** (usually a quarter or a year).\n",
    "\n",
    "One primary way to calculate GDP is the **expenditure approach**, which sums up the total spending on domestically produced final goods and services."
   ]
  },
  {
   "cell_type": "markdown",
   "id": "43c298dd",
   "metadata": {},
   "source": [
    "# 🛒 The Expenditure Formula: Y = C + I + G + NX\n",
    "\n",
    "The expenditure approach breaks down GDP ($Y$) into four main components:\n",
    "\n",
    "1.  **Consumption (C):** Spending by households on goods and services. This is typically the largest component of GDP in most developed economies. Examples include spending on food, clothing, rent, cars, haircuts, etc. *(Excludes purchases of new housing, which fall under Investment).*\n",
    "\n",
    "2.  **Investment (I):** Spending on capital goods, new housing, and inventories. This represents spending that increases the economy's future productive capacity.\n",
    "    * *Business Fixed Investment:* Purchases of new plant, equipment, and software by firms.\n",
    "    * *Residential Fixed Investment:* Purchases of new houses and apartment buildings by households and landlords.\n",
    "    * *Inventory Investment:* The change in firms' inventories of goods. *(Note: This simulation uses 'I' as a single input value).*\n",
    "\n",
    "3.  **Government Purchases (G):** Spending by federal, state, and local governments on goods and services (e.g., roads, schools, military equipment, government worker salaries). *(Excludes transfer payments like social security or unemployment benefits, as these are not payments for currently produced goods or services).*\n",
    "\n",
    "4.  **Net Exports (NX):** The value of exports (goods and services sold to other countries) minus the value of imports (goods and services purchased from other countries).\n",
    "    $$NX = \\text{Exports} - \\text{Imports}$$\n",
    "    * Exports are added because they represent domestic production purchased by foreigners.\n",
    "    * Imports are subtracted because C, I, and G include spending on imported goods, which are not part of *domestic* production. Subtracting imports corrects for this. NX can be positive (trade surplus) or negative (trade deficit).\n",
    "\n",
    "The fundamental national income accounting identity is:\n",
    "$$Y = C + I + G + NX$$\n",
    "This means all the final goods and services produced ($Y$) must be bought by someone (households, firms, government, or foreigners, accounting for imports)."
   ]
  },
  {
   "cell_type": "markdown",
   "id": "653ca39d",
   "metadata": {},
   "source": [
    "# 📊 Interpreting GDP & Its Limitations\n",
    "\n",
    "GDP is a vital measure for tracking economic activity, business cycles, and comparing economic size across countries or time. However, it's important to understand its limitations:\n",
    "\n",
    "* **Nominal vs. Real:** The calculation here represents *Nominal GDP* if the C, I, G, NX values are in current prices. To compare output over time, we need *Real GDP*, which adjusts for inflation (as explored in other notebooks).\n",
    "* **What's Excluded:** GDP doesn't capture all aspects of economic well-being. It excludes:\n",
    "    * *Non-market activities:* Household production (cooking, cleaning, childcare), volunteer work.\n",
    "    * *Leisure:* The value of time spent not working.\n",
    "    * *Underground economy:* Illegal activities or unreported cash transactions.\n",
    "    * *Environmental quality:* Costs of pollution or resource depletion are often not subtracted.\n",
    "    * *Distribution of income:* GDP doesn't tell us how income is shared among the population.\n",
    "\n",
    "Despite these limitations, GDP remains a crucial indicator of the scale of market-based economic activity. The simulation below visualizes the contribution of each expenditure component to the total GDP value."
   ]
  },
  {
   "cell_type": "markdown",
   "id": "b7f8af61",
   "metadata": {},
   "source": [
    "# 📘 Measuring GDP: Expenditure View\n",
    "\n",
    "GDP, or Gross Domestic Product, is the market value of all **final goods and services** produced within a country in a given period.\n",
    "\n",
    "# Expenditure Formula\n",
    "We calculate GDP by adding all spending on final goods:\n",
    "\\[\n",
    "Y = C + I + G + NX\n",
    "\\]\n",
    "- \\( C \\): Consumption (households)\n",
    "- \\( I \\): Investment (business capital, housing)\n",
    "- \\( G \\): Government purchases\n",
    "- \\( NX \\): Net exports = Exports – Imports\n",
    "\n",
    "\n",
    "\n",
    "# 📊 Interpreting GDP\n",
    "- **Nominal GDP**: measured in current prices  \n",
    "- **Real GDP**: adjusted for inflation (we’ll return to this next module)\n",
    "\n",
    "> GDP is a measure of market transactions — it doesn’t include:\n",
    "> - Household labor (e.g., cooking, parenting)\n",
    "> - Underground economy\n",
    "> - Happiness or sustainability\n",
    "\n",
    "\n",
    "\n",
    "# 🔍 Why this matters\n",
    "- Used to compare countries and time periods\n",
    "- Forms the **core variable** in macro models like IS curve, Solow, etc."
   ]
  },
  {
   "cell_type": "code",
   "execution_count": 1,
   "id": "4f78a1a0",
   "metadata": {
    "tags": [
     "thebe-init",
     "hide-input"
    ]
   },
   "outputs": [
    {
     "data": {
      "application/vnd.jupyter.widget-view+json": {
       "model_id": "b8fce7597c8e4b97beb4f02a242b6f60",
       "version_major": 2,
       "version_minor": 0
      },
      "text/plain": [
       "interactive(children=(IntSlider(value=0, description='x', max=10), Output()), _dom_classes=('widget-interact',…"
      ]
     },
     "metadata": {},
     "output_type": "display_data"
    }
   ],
   "source": [
    "from ipywidgets import interact, widgets\n",
    "interact(lambda x: x**2, x=widgets.IntSlider(min=0, max=10));"
   ]
  },
  {
   "cell_type": "code",
   "execution_count": 2,
   "id": "c0631bb4",
   "metadata": {
    "tags": [
     "hide-input"
    ]
   },
   "outputs": [
    {
     "data": {
      "application/vnd.jupyter.widget-view+json": {
       "model_id": "1772bb24102c48518da0ebf07150bf48",
       "version_major": 2,
       "version_minor": 0
      },
      "text/plain": [
       "interactive(children=(FloatSlider(value=2000.0, description='Consumption (C):', max=5000.0, readout_format=',.…"
      ]
     },
     "metadata": {},
     "output_type": "display_data"
    }
   ],
   "source": [
    "# Import necessary libraries\n",
    "import numpy as np\n",
    "import matplotlib.pyplot as plt\n",
    "from ipywidgets import interact, FloatSlider, Layout\n",
    "from IPython.display import display, Markdown\n",
    "import warnings\n",
    "\n",
    "# Optional: Use a specific style\n",
    "try:\n",
    "    plt.style.use('seaborn-v0_8-whitegrid')\n",
    "except IOError:\n",
    "    pass # Use default if style not found\n",
    "\n",
    "def gdp_components_visualizer(C=2000.0, I=500.0, G=1000.0, NX=-200.0):\n",
    "    \"\"\"\n",
    "    Calculates GDP using the expenditure approach (Y = C + I + G + NX)\n",
    "    and visualizes the components.\n",
    "\n",
    "    Args:\n",
    "        C (float): Consumption spending.\n",
    "        I (float): Investment spending.\n",
    "        G (float): Government purchases.\n",
    "        NX (float): Net Exports (Exports - Imports).\n",
    "    \"\"\"\n",
    "    # Calculate total GDP\n",
    "    Y = C + I + G + NX\n",
    "\n",
    "    # Prepare data for plotting\n",
    "    labels = ['Consumption (C)', 'Investment (I)', 'Government (G)', 'Net Exports (NX)']\n",
    "    values = np.array([C, I, G, NX]) # Use numpy array for easier calculations\n",
    "\n",
    "    # Calculate shares (handle potential division by zero if Y=0)\n",
    "    if abs(Y) > 1e-9:\n",
    "        shares = (values / Y) * 100 # Shares as percentages\n",
    "    else:\n",
    "        shares = np.zeros_like(values) # Assign zero shares if Y is zero\n",
    "\n",
    "    colors = ['#5DADE2', '#48C9B0', '#F5B041', '#A569BD'] # Example colors\n",
    "\n",
    "    # --- Plotting ---\n",
    "    fig, axes = plt.subplots(1, 2, figsize=(14, 6)) # 1 row, 2 columns\n",
    "\n",
    "    # Plot 1: Bar Chart of Component Values\n",
    "    bars = axes[0].bar(labels, values, color=colors, edgecolor='black')\n",
    "    # Add text labels above/below bars\n",
    "    for bar in bars:\n",
    "        yval = bar.get_height()\n",
    "        position = yval + (0.02 * Y if Y > 0 else -50) # Offset label slightly\n",
    "        va = 'bottom' if yval >= 0 else 'top'\n",
    "        axes[0].text(bar.get_x() + bar.get_width()/2.0, position, f'${yval:,.0f}', ha='center', va=va, fontsize=10)\n",
    "\n",
    "    axes[0].axhline(0, color='black', linewidth=0.7) # Emphasize zero line\n",
    "    axes[0].set_title(f'GDP Components (Total Y = ${Y:,.0f})')\n",
    "    axes[0].set_ylabel('Billions of Dollars (Example Units)')\n",
    "    axes[0].grid(axis='y', linestyle='--', alpha=0.7)\n",
    "    # Rotate x-labels if they overlap\n",
    "    plt.setp(axes[0].get_xticklabels(), rotation=15, ha=\"right\")\n",
    "\n",
    "\n",
    "    # Plot 2: Pie Chart of Component Shares (only if Y > 0)\n",
    "    # Filter out negative components for standard pie chart representation\n",
    "    positive_values = np.maximum(values, 0)\n",
    "    positive_labels = [f\"{l}\\n({s:.1f}%)\" for l, s, v in zip(labels, shares, values) if v > 0]\n",
    "    positive_colors = [c for c, v in zip(colors, values) if v > 0]\n",
    "\n",
    "    if Y > 0 and positive_values.sum() > 0:\n",
    "         # Explode slices slightly for better visibility if needed\n",
    "         # explode = [0.01] * len(positive_values)\n",
    "         axes[1].pie(positive_values[positive_values > 0], labels=positive_labels, colors=positive_colors,\n",
    "                     autopct='%1.1f%%', startangle=90, pctdistance=0.85,\n",
    "                     wedgeprops={'edgecolor': 'black', 'linewidth': 0.5})\n",
    "         # Draw circle for donut chart look (optional)\n",
    "         # centre_circle = plt.Circle((0,0),0.70,fc='white')\n",
    "         # fig.gca().add_artist(centre_circle)\n",
    "         axes[1].set_title('Share of GDP (Positive Components)')\n",
    "         axes[1].axis('equal') # Equal aspect ratio ensures that pie is drawn as a circle.\n",
    "\n",
    "    elif Y <= 0 :\n",
    "         axes[1].text(0.5, 0.5, f\"Total GDP = ${Y:,.0f}\\n(Pie chart not shown)\",\n",
    "                      ha='center', va='center', fontsize=12, wrap=True)\n",
    "         axes[1].set_title('Share of GDP')\n",
    "         axes[1].axis('off')\n",
    "    else: # Case where Y > 0 but all components are <= 0 (unlikely)\n",
    "         axes[1].text(0.5, 0.5, \"No positive components\\nto show in pie chart\",\n",
    "                      ha='center', va='center', fontsize=12, wrap=True)\n",
    "         axes[1].set_title('Share of GDP')\n",
    "         axes[1].axis('off')\n",
    "\n",
    "\n",
    "    fig.suptitle(\"GDP Measurement: Expenditure Approach\", fontsize=16, y=1.0)\n",
    "    plt.tight_layout(rect=[0, 0, 1, 0.96])\n",
    "    plt.show()\n",
    "\n",
    "    # --- Display Summary ---\n",
    "    summary_md = f\"\"\"\n",
    "    ### 📊 GDP Calculation Summary:\n",
    "\n",
    "    * **Consumption (C):** ${C:,.0f}$ ({shares[0]:.1f}% of GDP)\n",
    "    * **Investment (I):** ${I:,.0f}$ ({shares[1]:.1f}% of GDP)\n",
    "    * **Government Purchases (G):** ${G:,.0f}$ ({shares[2]:.1f}% of GDP)\n",
    "    * **Net Exports (NX):** ${NX:,.0f}$ ({shares[3]:.1f}% of GDP)\n",
    "    * **Total GDP (Y = C+I+G+NX):** **${Y:,.0f}$** (100.0% of GDP)\n",
    "    \"\"\"\n",
    "    display(Markdown(summary_md))\n",
    "\n",
    "\n",
    "# --- Create Interactive Widgets ---\n",
    "style = {'description_width': 'initial'}\n",
    "interact(gdp_components_visualizer,\n",
    "         C=FloatSlider(value=2000.0, min=0, max=5000, step=100, description='Consumption (C):', style=style, readout_format=',.0f'),\n",
    "         I=FloatSlider(value=500.0, min=-500, max=2000, step=50, description='Investment (I):', style=style, readout_format=',.0f'),\n",
    "         G=FloatSlider(value=1000.0, min=0, max=3000, step=100, description='Government (G):', style=style, readout_format=',.0f'),\n",
    "         NX=FloatSlider(value=-200.0, min=-1000, max=1000, step=50, description='Net Exports (NX):', style=style, readout_format=',.0f')\n",
    "        );\n"
   ]
  }
 ],
 "metadata": {
  "kernelspec": {
   "display_name": "Python (solow-env)",
   "language": "python",
   "name": "solow-env"
  },
  "language_info": {
   "codemirror_mode": {
    "name": "ipython",
    "version": 3
   },
   "file_extension": ".py",
   "mimetype": "text/x-python",
   "name": "python",
   "nbconvert_exporter": "python",
   "pygments_lexer": "ipython3",
   "version": "3.13.3"
  },
  "tags": [
   "thebe-init"
  ]
 },
 "nbformat": 4,
 "nbformat_minor": 5
}
