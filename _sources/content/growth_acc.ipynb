{
 "cells": [
  {
   "cell_type": "code",
   "execution_count": 1,
   "id": "65a9d06b",
   "metadata": {
    "tags": [
     "thebe-init",
     "hide-input"
    ]
   },
   "outputs": [
    {
     "data": {
      "application/vnd.jupyter.widget-view+json": {
       "model_id": "806acb1de6b54f1994c1372cc29d10fd",
       "version_major": 2,
       "version_minor": 0
      },
      "text/plain": [
       "interactive(children=(IntSlider(value=0, description='x', max=10), Output()), _dom_classes=('widget-interact',…"
      ]
     },
     "metadata": {},
     "output_type": "display_data"
    }
   ],
   "source": [
    "from ipywidgets import interact, widgets\n",
    "interact(lambda x: x**2, x=widgets.IntSlider(min=0, max=10));"
   ]
  },
  {
   "cell_type": "markdown",
   "id": "8dad57ca",
   "metadata": {},
   "source": [
    "# 📊 Growth Accounting: Decomposing Output Growth\n",
    "\n",
    "Growth accounting provides a framework for understanding the sources of economic growth. It allows us to break down the growth rate of total output ($g_Y$) into contributions from the growth in inputs (capital $g_K$ and labor $g_L$) and the growth in overall efficiency or technology, known as Total Factor Productivity ($g_A$).\n",
    "\n",
    "Assuming a standard Cobb-Douglas production function with constant returns to scale ($Y = A K^{\\alpha} L^{1 - \\alpha}$), the fundamental growth accounting equation is:\n",
    "\n",
    "$$g_Y \\approx \\alpha g_K + (1 - \\alpha) g_L + g_A$$\n",
    "\n",
    "Where:\n",
    "- $g_Y$: Growth rate of output ($Y$)\n",
    "- $g_K$: Growth rate of capital ($K$)\n",
    "- $g_L$: Growth rate of labor ($L$)\n",
    "- $g_A$: Growth rate of Total Factor Productivity (TFP, $A$)\n",
    "- $\\alpha$: Capital's share of income (output elasticity of capital)\n",
    "- $(1-\\alpha)$: Labor's share of income (output elasticity of labor)\n",
    "\n",
    "This equation states that output growth is approximately the sum of TFP growth and the weighted sum of input growth rates, where the weights are the respective income shares. TFP growth ($g_A$) captures the residual part of output growth that cannot be explained by the growth in measured inputs (K and L)."
   ]
  },
  {
   "cell_type": "markdown",
   "id": "4591a6dc",
   "metadata": {},
   "source": [
    "# 💡 Interpreting the Decomposition\n",
    "\n",
    "The interactive simulation below calculates the total output growth ($g_Y$) based on the input growth rates ($g_K, g_L, g_A$) and the capital share ($\\alpha$) provided via the sliders.\n",
    "\n",
    "It then visualizes the decomposition in two ways:\n",
    "\n",
    "1.  **Bar Chart:** Shows the absolute contribution of each component ($g_A$, $\\alpha g_K$, and $(1-\\alpha) g_L$) to the total output growth rate ($g_Y$).\n",
    "2.  **Pie Chart:** Shows the *percentage share* of total output growth ($g_Y$) that is attributable to TFP growth, capital growth, and labor growth, respectively. This helps visualize the relative importance of each source.\n",
    "\n",
    "By adjusting the sliders, you can explore scenarios such as:\n",
    "* Growth driven primarily by TFP (technological progress).\n",
    "* Growth driven by capital accumulation (investment).\n",
    "* Growth driven by increases in the labor force.\n",
    "* How changes in capital's share ($\\alpha$) affect the contributions of capital and labor."
   ]
  },
  {
   "cell_type": "code",
   "execution_count": 2,
   "id": "70b6df98",
   "metadata": {
    "tags": [
     "hide-input"
    ]
   },
   "outputs": [
    {
     "data": {
      "application/vnd.jupyter.widget-view+json": {
       "model_id": "7cf5ff8fb6464227b9b4d18257dab095",
       "version_major": 2,
       "version_minor": 0
      },
      "text/plain": [
       "interactive(children=(FloatSlider(value=0.33, description='Capital Share (alpha α):', max=0.9, min=0.1, step=0…"
      ]
     },
     "metadata": {},
     "output_type": "display_data"
    }
   ],
   "source": [
    "# Import necessary libraries\n",
    "import numpy as np\n",
    "import matplotlib.pyplot as plt\n",
    "from ipywidgets import interact, FloatSlider\n",
    "from IPython.display import display, Markdown\n",
    "import warnings\n",
    "\n",
    "# Optional: Use a specific style\n",
    "try:\n",
    "    plt.style.use('seaborn-v0_8-whitegrid')\n",
    "except IOError:\n",
    "    pass # Use default if style not found\n",
    "\n",
    "def growth_accounting_decomposition(alpha=0.33, gA=0.02, gK=0.04, gL=0.01):\n",
    "    \"\"\"\n",
    "    Calculates and visualizes the growth accounting decomposition.\n",
    "\n",
    "    Args:\n",
    "        alpha (float): Capital share (0 < alpha < 1).\n",
    "        gA (float): Growth rate of TFP (A).\n",
    "        gK (float): Growth rate of Capital (K).\n",
    "        gL (float): Growth rate of Labor (L).\n",
    "    \"\"\"\n",
    "    # Input validation\n",
    "    alpha = np.clip(alpha, 0.01, 0.99)\n",
    "\n",
    "    # Calculate contributions\n",
    "    contrib_A = gA\n",
    "    contrib_K = alpha * gK\n",
    "    contrib_L = (1 - alpha) * gL\n",
    "\n",
    "    # Calculate total output growth\n",
    "    gY = contrib_A + contrib_K + contrib_L\n",
    "\n",
    "    # Prepare data for plots\n",
    "    components = ['TFP (gA)', 'Capital (alpha*gK)', 'Labor ((1-alpha)*gL)']\n",
    "    values = [contrib_A, contrib_K, contrib_L]\n",
    "    # Ensure values are non-negative for pie chart representation if gY is positive\n",
    "    # (Handle negative growth cases gracefully for pie chart)\n",
    "    pie_values = np.maximum(values, 0) if gY > 0 else [1, 1, 1] # Avoid errors in pie chart for negative gY\n",
    "    pie_labels = [f\"{comp}\\n({val/gY:.1%})\" if gY > 1e-9 else comp for comp, val in zip(components, values)] # Show percentages if gY > 0\n",
    "    colors = ['sandybrown', 'cornflowerblue', 'mediumseagreen'] # Matched colors from previous notebook\n",
    "\n",
    "    # --- Plotting ---\n",
    "    fig, axes = plt.subplots(1, 2, figsize=(14, 6)) # 1 row, 2 columns\n",
    "\n",
    "    # Plot 1: Bar Chart of Contributions\n",
    "    bars = axes[0].bar(components, values, color=colors, edgecolor='black')\n",
    "    axes[0].axhline(gY, linestyle='--', color='black', label=f'Total Growth gY = {gY:.2%}')\n",
    "    axes[0].set_ylabel(\"Contribution to Growth Rate\")\n",
    "    axes[0].set_title(\"Growth Accounting: Absolute Contributions\")\n",
    "    axes[0].legend()\n",
    "    axes[0].grid(axis='y', linestyle='--', alpha=0.7)\n",
    "    # Add text labels to bars\n",
    "    for bar in bars:\n",
    "        yval = bar.get_height()\n",
    "        axes[0].text(bar.get_x() + bar.get_width()/2.0, yval, f'{yval:.2%}', va='bottom' if yval >= 0 else 'top', ha='center', fontsize=10)\n",
    "    # Format y-axis as percentage\n",
    "    axes[0].yaxis.set_major_formatter(plt.FuncFormatter(lambda y, _: f'{y:.1f}%'))\n",
    "\n",
    "\n",
    "    # Plot 2: Pie Chart of Shares (only meaningful if gY > 0)\n",
    "    if gY > 1e-9:\n",
    "        axes[1].pie(pie_values, labels=pie_labels, colors=colors, autopct='%1.1f%%',\n",
    "                    startangle=90, wedgeprops={'edgecolor': 'black'})\n",
    "        axes[1].set_title(f\"Share of Total Growth (gY = {gY:.2%})\")\n",
    "    else:\n",
    "        axes[1].text(0.5, 0.5, f\"Total Growth gY = {gY:.2%}\\n(Pie chart not meaningful)\",\n",
    "                     ha='center', va='center', fontsize=12)\n",
    "        axes[1].set_title(\"Share of Total Growth\")\n",
    "        axes[1].set_xticks([])\n",
    "        axes[1].set_yticks([])\n",
    "\n",
    "\n",
    "    fig.suptitle(\"Growth Accounting Decomposition\", fontsize=16, y=1.02)\n",
    "    plt.tight_layout(rect=[0, 0, 1, 0.97])\n",
    "    plt.show()\n",
    "\n",
    "    # --- Display Summary Equation ---\n",
    "    summary_md = f\"\"\"\n",
    "    ### 🧮 Growth Decomposition Equation:\n",
    "\n",
    "    $g_Y \\\\approx g_A + \\\\alpha \\\\cdot g_K + (1 - \\\\alpha) \\\\cdot g_L$\n",
    "\n",
    "    ${gY:.3f} \\\\approx {gA:.3f} + ({alpha:.2f} \\\\times {gK:.3f}) + ({1 - alpha:.2f} \\\\times {gL:.3f})$\n",
    "\n",
    "    ${gY:.3f} \\\\approx {gA:.3f} + {contrib_K:.3f} + {contrib_L:.3f}$\n",
    "    \"\"\"\n",
    "    display(Markdown(summary_md))\n",
    "\n",
    "\n",
    "# --- Create Interactive Widgets ---\n",
    "style = {'description_width': 'initial'}\n",
    "interact(\n",
    "    growth_accounting_decomposition,\n",
    "    alpha=FloatSlider(value=0.33, min=0.1, max=0.9, step=0.01, description='Capital Share (alpha α):', style=style, readout_format='.2f'),\n",
    "    gA=FloatSlider(value=0.015, min=-0.01, max=0.05, step=0.001, description='TFP Growth (gA):', style=style, readout_format='.1%'),\n",
    "    gK=FloatSlider(value=0.04, min=0.0, max=0.1, step=0.005, description='Capital Growth (gK):', style=style, readout_format='.1%'),\n",
    "    gL=FloatSlider(value=0.01, min=-0.01, max=0.05, step=0.005, description='Labor Growth (gL):', style=style, readout_format='.1%')\n",
    ");\n"
   ]
  },
  {
   "cell_type": "markdown",
   "id": "96e19090",
   "metadata": {},
   "source": [
    "# 📘 Theory Summary\n",
    "\n",
    "The growth accounting equation:\n",
    "\\[\n",
    "g_Y = g_A + \\alpha \\cdot g_K + (1 - \\alpha) \\cdot g_L\n",
    "\\]\n",
    "\n",
    "- **gA**: Total Factor Productivity growth (technology)\n",
    "- **gK**: Capital stock growth\n",
    "- **gL**: Labor force growth\n",
    "- **α**: Capital share in output\n",
    "\n",
    "Use this model to explore whether a country’s growth is driven by:\n",
    "- TFP (innovation)\n",
    "- Capital deepening\n",
    "- Labor expansion\n",
    "\n",
    "**Sources**:\n",
    "- GrowthEcon Study Guide [Ch. 6](https://growthecon.com/StudyGuide/growth-accounting.html)\n",
    "- Charles I. Jones, *Macroeconomics*, Ch. 6"
   ]
  }
 ],
 "metadata": {
  "kernelspec": {
   "display_name": "Python (solow-env)",
   "language": "python",
   "name": "solow-env"
  },
  "language_info": {
   "codemirror_mode": {
    "name": "ipython",
    "version": 3
   },
   "file_extension": ".py",
   "mimetype": "text/x-python",
   "name": "python",
   "nbconvert_exporter": "python",
   "pygments_lexer": "ipython3",
   "version": "3.13.3"
  },
  "tags": [
   "thebe-init"
  ]
 },
 "nbformat": 4,
 "nbformat_minor": 5
}
