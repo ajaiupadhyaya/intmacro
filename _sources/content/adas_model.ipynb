{
 "cells": [
  {
   "cell_type": "code",
   "execution_count": 7,
   "id": "6ee5fa9d",
   "metadata": {
    "tags": [
     "thebe-init",
     "hide-input"
    ]
   },
   "outputs": [
    {
     "data": {
      "application/vnd.jupyter.widget-view+json": {
       "model_id": "65c58919ccbd4102a05df5caf0531daf",
       "version_major": 2,
       "version_minor": 0
      },
      "text/plain": [
       "interactive(children=(IntSlider(value=0, description='x', max=10), Output()), _dom_classes=('widget-interact',…"
      ]
     },
     "metadata": {},
     "output_type": "display_data"
    }
   ],
   "source": [
    "from ipywidgets import interact, widgets\n",
    "interact(lambda x: x**2, x=widgets.IntSlider(min=0, max=10));"
   ]
  },
  {
   "cell_type": "markdown",
   "id": "2012bc21",
   "metadata": {},
   "source": [
    "# 📈 The Aggregate Demand - Aggregate Supply (AD-AS) Model: A Dynamic View\n",
    "\n",
    "The AD-AS model is a cornerstone of macroeconomics, providing a framework to analyze fluctuations in overall economic activity (Real GDP, $Y$) and the aggregate price level ($P$). It helps us understand how shocks to the economy (like changes in government spending, monetary policy, or supply costs) affect output and inflation in the short run and how the economy adjusts back towards its long-run potential over time.\n",
    "\n",
    "This interactive simulation focuses on the **dynamic adjustment** process. We'll see how output and prices evolve period by period when the economy starts away from its long-run equilibrium, driven by the interplay of aggregate demand and the gradual adjustment of prices described by the aggregate supply relationship."
   ]
  },
  {
   "cell_type": "markdown",
   "id": "043e6408",
   "metadata": {},
   "source": [
    "# 📉 Aggregate Demand (AD)\n",
    "\n",
    "The Aggregate Demand (AD) curve shows the relationship between the overall price level ($P$) and the total quantity of goods and services demanded in an economy (Real GDP, $Y$). It typically slopes downward.\n",
    "\n",
    "In this simplified model, we represent the AD curve with a linear equation:\n",
    "\n",
    "$$Y = a - bP$$\n",
    "\n",
    "- $Y$: Real GDP (Output)\n",
    "- $P$: Aggregate Price Level\n",
    "- $a$: Autonomous spending component (AD Intercept). This captures factors affecting demand other than the price level (e.g., consumer confidence, government spending, investment sentiment, net exports, money supply effects). A higher $a$ shifts the AD curve to the right.\n",
    "- $b$: Sensitivity of demand to the price level (determines the slope). A larger $b$ means demand is more sensitive to price changes, making the AD curve flatter. This sensitivity arises from effects like:\n",
    "    - **Wealth Effect:** Higher prices reduce the real value of wealth, dampening consumption.\n",
    "    - **Interest Rate Effect:** Higher prices can lead to higher interest rates (if money supply is fixed), reducing investment and consumption.\n",
    "    - **Exchange Rate Effect:** Higher domestic prices can make exports more expensive and imports cheaper, reducing net exports.\n",
    "\n",
    "Use the sliders for $a$ and $b$ to see how changes in autonomous spending or price sensitivity affect the simulation."
   ]
  },
  {
   "cell_type": "markdown",
   "id": "d914999a",
   "metadata": {},
   "source": [
    "# ⏳ Aggregate Supply (AS) and Price Adjustment Dynamics\n",
    "\n",
    "The Aggregate Supply (AS) side describes the relationship between the price level ($P$) and the quantity of goods and services firms are willing to supply ($Y$). In the long run, output is determined by the economy's productive capacity (potential output, $Y_{\\text{bar}}$), represented by a vertical Long-Run Aggregate Supply (LRAS) curve.\n",
    "\n",
    "In the short run, however, prices may not adjust instantly. Firms might adjust prices based on the state of the economy relative to its potential. This simulation models a gradual price adjustment process often linked to Phillips Curve concepts: prices tend to rise when output is above potential ($Y > Y_{\\text{bar}}$) and fall when output is below potential ($Y < Y_{\\text{bar}}$).\n",
    "\n",
    "The specific dynamic rule used here is:\n",
    "\n",
    "$$P_t = P_{t-1} + \\lambda (Y_{t-1} - Y_{\\text{bar}})$$\n",
    "\n",
    "- $P_t$: Price level in the current period $t$.\n",
    "- $P_{t-1}$: Price level in the previous period $t-1$.\n",
    "- $Y_{t-1}$: Output in the previous period $t-1$.\n",
    "- $Y_{\\text{bar}}$: Potential Output (Long-Run Equilibrium Output). This is the level of output sustainable in the long run given the economy's resources and technology.\n",
    "- $\\lambda$: Price adjustment speed parameter. It determines how quickly prices respond to output gaps ($Y - Y_{\\text{bar}}$).\n",
    "\n",
    "In our simulation code, we link the slider parameter $c$ (labeled 'Price Adj. Inertia') inversely to this adjustment speed: $\\lambda = 1/c$.\n",
    "- A **smaller $c$** means a **larger $\\lambda$**, implying **faster** price adjustments (a steeper short-run AS relationship conceptually).\n",
    "- A **larger $c$** means a **smaller $\\lambda$**, implying **slower** price adjustments (a flatter short-run AS relationship conceptually).\n",
    "\n",
    "The simulation starts with an initial price level $P_0$. The interaction between the AD curve and this price adjustment rule drives the economy's path over time."
   ]
  },
  {
   "cell_type": "markdown",
   "id": "bc3189e7",
   "metadata": {},
   "source": [
    "# 🏁 Conclusion & Interpretation\n",
    "\n",
    "This simulation demonstrates how the interaction between aggregate demand and a gradual price adjustment mechanism can generate **business cycle dynamics**.\n",
    "\n",
    "Here's a breakdown of the key takeaways:\n",
    "\n",
    "* **Shocks:** Changes in the AD parameters ($a$, $b$) or deviations of the initial price level ($P_0$) from the long-run equilibrium price ($P^*$) act as **economic shocks**. These shocks initially move the economy *away* from its potential output ($Y_{\\text{bar}}$).\n",
    "\n",
    "* **Adjustment Mechanism:** The economy doesn't stay shocked forever. It gradually adjusts back towards $Y_{\\text{bar}}$ through the following process:\n",
    "    1.  An **output gap** ($Y_{t-1} - Y_{\\text{bar}}$) exists.\n",
    "    2.  This gap causes the **price level to change** in the next period ($P_t \\neq P_{t-1}$) according to the AS dynamics ($\\lambda = 1/c$).\n",
    "    3.  The change in the price level then affects **aggregate demand** in that period ($Y_t = a - bP_t$).\n",
    "    4.  This continues until the output gap closes and prices stabilize.\n",
    "\n",
    "* **Adjustment Speed ($c$):** The parameter $c$ (representing price adjustment *inertia*, where $\\lambda = 1/c$ is the *speed*) is crucial.\n",
    "    * A **smaller $c$** (faster adjustment, higher $\\lambda$) leads to a quicker return to $Y_{\\text{bar}}$.\n",
    "    * A **larger $c$** (slower adjustment, lower $\\lambda$) implies more persistent deviations of output from potential – the business cycle fluctuations last longer.\n",
    "\n",
    "Experiment with the sliders to explore these dynamics! Observe how different parameter values influence:\n",
    "\n",
    "* The **path** of output and prices over time.\n",
    "* The **speed of convergence** back to the long-run equilibrium."
   ]
  },
  {
   "cell_type": "markdown",
   "id": "32a91f99",
   "metadata": {},
   "source": [
    "# ⏳ Aggregate Supply (AS) and Price Adjustment Dynamics\n",
    "\n",
    "The Aggregate Supply (AS) side describes the relationship between the price level ($P$) and the quantity of goods and services firms are willing to supply ($Y$). In the long run, output is determined by the economy's productive capacity (potential output, $Y_{\\text{bar}}$), represented by a vertical Long-Run Aggregate Supply (LRAS) curve.\n",
    "\n",
    "In the short run, however, prices may not adjust instantly. Firms might adjust prices based on the state of the economy relative to its potential. This simulation models a gradual price adjustment process often linked to Phillips Curve concepts: prices tend to rise when output is above potential ($Y > Y_{\\text{bar}}$) and fall when output is below potential ($Y < Y_{\\text{bar}}$).\n",
    "\n",
    "The specific dynamic rule used here is:\n",
    "\n",
    "$$P_t = P_{t-1} + \\lambda (Y_{t-1} - Y_{\\text{bar}})$$\n",
    "\n",
    "- $P_t$: Price level in the current period $t$.\n",
    "- $P_{t-1}$: Price level in the previous period $t-1$.\n",
    "- $Y_{t-1}$: Output in the previous period $t-1$.\n",
    "- $Y_{\\text{bar}}$: Potential Output (Long-Run Equilibrium Output). This is the level of output sustainable in the long run given the economy's resources and technology.\n",
    "- $\\lambda$: Price adjustment speed parameter. It determines how quickly prices respond to output gaps ($Y - Y_{\\text{bar}}$).\n",
    "\n",
    "In our simulation code, we link the slider parameter $c$ (labeled 'Price Adj. Inertia') inversely to this adjustment speed: $\\lambda = 1/c$.\n",
    "- A **smaller $c$** means a **larger $\\lambda$**, implying **faster** price adjustments (a steeper short-run AS relationship conceptually).\n",
    "- A **larger $c$** means a **smaller $\\lambda$**, implying **slower** price adjustments (a flatter short-run AS relationship conceptually).\n",
    "\n",
    "The simulation starts with an initial price level $P_0$. The interaction between the AD curve and this price adjustment rule drives the economy's path over time."
   ]
  },
  {
   "cell_type": "code",
   "execution_count": 8,
   "id": "2e5b55bc",
   "metadata": {
    "tags": [
     "hide-input"
    ]
   },
   "outputs": [
    {
     "data": {
      "application/vnd.jupyter.widget-view+json": {
       "model_id": "e3da052bfef74247a879b9a54d7d4e6b",
       "version_major": 2,
       "version_minor": 0
      },
      "text/plain": [
       "interactive(children=(FloatSlider(value=100.0, description='AD Intercept (a):', max=150.0, min=80.0, step=5.0,…"
      ]
     },
     "metadata": {},
     "output_type": "display_data"
    }
   ],
   "source": [
    "# Import necessary libraries\n",
    "import numpy as np\n",
    "import matplotlib.pyplot as plt\n",
    "from ipywidgets import interact, FloatSlider, IntSlider # Use IntSlider for T\n",
    "from IPython.display import display, Markdown\n",
    "import warnings # To suppress potential minor warnings if needed\n",
    "\n",
    "# Optional: Use a specific style\n",
    "try:\n",
    "    plt.style.use('seaborn-v0_8-whitegrid')\n",
    "except IOError:\n",
    "    pass # Use default if style not found\n",
    "\n",
    "def ad_as_dynamic_sim(a=100, b=10, Y_bar=100, c=5, P0=1.0, T=15):\n",
    "    \"\"\"\n",
    "    Simulates the dynamic adjustment of Output (Y) and Price Level (P)\n",
    "    in a simple AD-AS framework over T periods.\n",
    "\n",
    "    Args:\n",
    "        a (float): AD Intercept (autonomous spending component).\n",
    "        b (float): AD Slope parameter (sensitivity of Y to P). Must be > 0.\n",
    "        Y_bar (float): Potential Output (Long-Run Equilibrium Y).\n",
    "        c (float): Inverse of price adjustment speed (lambda = 1/c). Must be > 0.\n",
    "                   Smaller c means faster price adjustment.\n",
    "        P0 (float): Initial Price Level P(0).\n",
    "        T (int): Time Horizon (number of periods to simulate).\n",
    "    \"\"\"\n",
    "    # Input validation and ensuring T is integer\n",
    "    T = int(T)\n",
    "    b = max(b, 1e-6) # Ensure b is positive\n",
    "    c = max(c, 1e-6) # Ensure c is positive\n",
    "    lambda_adjust = 1.0 / c # Price adjustment speed\n",
    "\n",
    "    # Arrays to store results\n",
    "    Y = np.zeros(T)\n",
    "    P = np.zeros(T)\n",
    "\n",
    "    # --- Initial Period (t=0) ---\n",
    "    P[0] = P0\n",
    "    # Calculate initial Y based on initial P and AD curve\n",
    "    Y[0] = a - b * P[0]\n",
    "\n",
    "    # --- Simulation Loop (t=1 to T-1) ---\n",
    "    for t in range(1, T):\n",
    "        # Price level adjusts based on the *previous* period's output gap\n",
    "        P[t] = P[t-1] + lambda_adjust * (Y[t-1] - Y_bar)\n",
    "        P[t] = max(P[t], 1e-6) # Ensure price level doesn't go non-positive\n",
    "\n",
    "        # Output is determined by the AD curve given the *new* price level P[t]\n",
    "        Y[t] = a - b * P[t]\n",
    "\n",
    "    # --- Plotting ---\n",
    "    fig, axes = plt.subplots(1, 3, figsize=(18, 5.5)) # Increased figure width for 3 plots\n",
    "\n",
    "    # Plot 1: Output Over Time\n",
    "    axes[0].plot(range(T), Y, marker='o', linestyle='-', label='Output Y(t)', color='blue', markersize=5)\n",
    "    axes[0].axhline(Y_bar, linestyle='--', color='gray', label=f'Potential Output Y_bar = {Y_bar:.1f}')\n",
    "    axes[0].set_title(\"Output (Y) Over Time\")\n",
    "    axes[0].set_xlabel(\"Time Period (t)\")\n",
    "    axes[0].set_ylabel(\"Output (Y)\")\n",
    "    axes[0].grid(True, alpha=0.6)\n",
    "    axes[0].legend()\n",
    "    axes[0].set_ylim(min(Y.min(), Y_bar) * 0.95, max(Y.max(), Y_bar) * 1.05) # Dynamic Y limits\n",
    "\n",
    "    # Plot 2: Price Level Over Time\n",
    "    axes[1].plot(range(T), P, marker='o', linestyle='-', color='darkgreen', label='Price Level P(t)', markersize=5)\n",
    "    # Calculate approximate long-run equilibrium price P_star\n",
    "    P_star = (a - Y_bar) / b if b > 1e-6 else P0 # P where AD intersects LRAS (Y=Y_bar)\n",
    "    axes[1].axhline(P_star, linestyle='--', color='gray', label=f'Long-Run Price P* ≈ {P_star:.2f}')\n",
    "    axes[1].set_title(\"Price Level (P) Over Time\")\n",
    "    axes[1].set_xlabel(\"Time Period (t)\")\n",
    "    axes[1].set_ylabel(\"Price Level (P)\")\n",
    "    axes[1].grid(True, alpha=0.6)\n",
    "    axes[1].legend()\n",
    "    axes[1].set_ylim(P.min() * 0.95, max(P.max(), P_star) * 1.05) # Dynamic P limits\n",
    "\n",
    "    # Plot 3: Path in AD-AS (Y-P) Space\n",
    "    # Plot LRAS\n",
    "    axes[2].axvline(Y_bar, linestyle='--', color='gray', label=f'LRAS (Y_bar = {Y_bar:.1f})')\n",
    "    # Plot AD Curve\n",
    "    p_vals_ad = np.linspace(P.min() * 0.9, max(P.max(), P_star) * 1.1, 100)\n",
    "    y_vals_ad = a - b * p_vals_ad\n",
    "    axes[2].plot(y_vals_ad, p_vals_ad, color='skyblue', label=f'AD: Y = {a:.0f} - {b:.1f}P')\n",
    "    # Plot the dynamic path\n",
    "    axes[2].plot(Y, P, marker='.', linestyle='-', color='red', label='Dynamic Path (Y(t), P(t))')\n",
    "    axes[2].scatter(Y[0], P[0], color='red', s=100, zorder=5, label=f'Start (Y₀, P₀)')\n",
    "    axes[2].scatter(Y[-1], P[-1], color='black', marker='X', s=100, zorder=5, label=f'End (Y_{T-1}, P_{T-1})')\n",
    "    axes[2].set_title(\"Path in Output-Price Space\")\n",
    "    axes[2].set_xlabel(\"Output (Y)\")\n",
    "    axes[2].set_ylabel(\"Price Level (P)\")\n",
    "    axes[2].grid(True, alpha=0.6)\n",
    "    axes[2].legend(fontsize='small')\n",
    "    # Set limits based on simulation range and potential output/price\n",
    "    axes[2].set_xlim(min(Y.min(), Y_bar) * 0.95, max(Y.max(), Y_bar) * 1.05)\n",
    "    axes[2].set_ylim(P.min() * 0.95, max(P.max(), P_star) * 1.05)\n",
    "\n",
    "\n",
    "    fig.suptitle(\"Dynamic AD–AS Adjustment Simulation\", fontsize=16, y=1.02)\n",
    "    plt.tight_layout()\n",
    "    plt.show()\n",
    "\n",
    "    # --- Display Final Values and Equilibrium Info ---\n",
    "    results_md = f\"\"\"\n",
    "    ### 📊 Simulation Results (After T={T} periods)\n",
    "\n",
    "    * **Final Output Y({T-1}):** {Y[-1]:.2f} (Potential Y_bar = {Y_bar:.1f})\n",
    "    * **Final Price Level P({T-1}):** {P[-1]:.2f}\n",
    "    * **Long-Run Equilibrium:** (Y*, P*) ≈ ({Y_bar:.1f}, {P_star:.2f})\n",
    "        * *Note: The economy may not fully reach equilibrium within T periods.*\n",
    "    * **Price Adjustment Speed (λ = 1/c):** {lambda_adjust:.3f} (using c={c:.1f})\n",
    "    \"\"\"\n",
    "    display(Markdown(results_md))\n",
    "\n",
    "\n",
    "# --- Create Interactive Widgets ---\n",
    "style = {'description_width': 'initial'} # Allow longer descriptions\n",
    "interact(\n",
    "    ad_as_dynamic_sim,\n",
    "    a=FloatSlider(value=100, min=80, max=150, step=5, description='AD Intercept (a):', style=style),\n",
    "    b=FloatSlider(value=10, min=1, max=30, step=1, description='AD Slope Param (b):', style=style),\n",
    "    Y_bar=FloatSlider(value=100, min=80, max=120, step=1, description='Potential Output (Y_bar):', style=style),\n",
    "    c=FloatSlider(value=5, min=0.5, max=20, step=0.5, description='Price Adj. Inertia (c=1/λ):', style=style), # Changed description\n",
    "    P0=FloatSlider(value=1.0, min=0.5, max=2.0, step=0.05, description='Initial Price Level (P0):', style=style),\n",
    "    T=IntSlider(value=15, min=5, max=50, step=1, description='Time Horizon (T):', style=style, readout_format='d'), # Changed to IntSlider\n",
    ");\n"
   ]
  }
 ],
 "metadata": {
  "kernelspec": {
   "display_name": "Python (solow-env)",
   "language": "python",
   "name": "solow-env"
  },
  "language_info": {
   "codemirror_mode": {
    "name": "ipython",
    "version": 3
   },
   "file_extension": ".py",
   "mimetype": "text/x-python",
   "name": "python",
   "nbconvert_exporter": "python",
   "pygments_lexer": "ipython3",
   "version": "3.13.3"
  },
  "tags": [
   "thebe-init"
  ]
 },
 "nbformat": 4,
 "nbformat_minor": 5
}
