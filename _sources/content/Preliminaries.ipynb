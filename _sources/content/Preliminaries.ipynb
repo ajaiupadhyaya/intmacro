{
 "cells": [
  {
   "cell_type": "code",
   "execution_count": 1,
   "id": "19ca0708",
   "metadata": {
    "tags": [
     "thebe-init",
     "hide-input"
    ]
   },
   "outputs": [
    {
     "data": {
      "application/vnd.jupyter.widget-view+json": {
       "model_id": "02cbc89befaf44c2af024a62d7050dcb",
       "version_major": 2,
       "version_minor": 0
      },
      "text/plain": [
       "interactive(children=(IntSlider(value=0, description='x', max=10), Output()), _dom_classes=('widget-interact',…"
      ]
     },
     "metadata": {},
     "output_type": "display_data"
    }
   ],
   "source": [
    "from ipywidgets import interact, widgets\n",
    "interact(lambda x: x**2, x=widgets.IntSlider(min=0, max=10));"
   ]
  },
  {
   "cell_type": "markdown",
   "id": "1a273a1e",
   "metadata": {},
   "source": [
    "# 📘 Preliminaries: The Mathematics of Economic Growth\n",
    "\n",
    "Understanding economic growth requires familiarity with a few key mathematical concepts, particularly how to measure and manipulate growth rates.\n",
    "\n",
    "We often want to know:\n",
    "1.  How much did a variable (like GDP per capita) change between two points in time?\n",
    "2.  What was the average annual rate of change over a longer period?\n",
    "3.  How can we simplify calculations involving growth rates?"
   ]
  },
  {
   "cell_type": "markdown",
   "id": "25b1977e",
   "metadata": {},
   "source": [
    "### 📈 Percent Changes and Growth Rates\n",
    "\n",
    "- **Percent Change:**  \n",
    "  The fundamental measure of change relative to an initial value:\n",
    "  \n",
    "  $$\n",
    "  \\text{Percent Change} = \\frac{\\text{New Value} - \\text{Old Value}}{\\text{Old Value}} \\times 100\\%\n",
    "  $$\n",
    "  \n",
    "  or equivalently:\n",
    "  \n",
    "  $$\n",
    "  \\text{Percent Change} = \\left( \\frac{Y_{t+1} - Y_t}{Y_t} \\right) \\times 100\\%\n",
    "  $$\n",
    "\n",
    "- **Growth Rate (g):**  \n",
    "  This usually refers to the percent change expressed as a decimal (i.e., divided by 100). It represents the factor by which a variable changes per period:\n",
    "  \n",
    "  $$\n",
    "  g = \\frac{Y_{t+1} - Y_t}{Y_t}\n",
    "  $$\n",
    "  \n",
    "  This implies:\n",
    "  \n",
    "  $$\n",
    "  Y_{t+1} = Y_t + g Y_t = Y_t (1 + g)\n",
    "  $$\n",
    "\n",
    "- **Calculating Level after Growth:**  \n",
    "  If a variable $begin:math:text$ Y_0 $end:math:text$ grows at a constant rate $begin:math:text$ g $end:math:text$ for $begin:math:text$ T $end:math:text$ periods, its value at time $begin:math:text$ T $end:math:text$ is:\n",
    "  \n",
    "  $$\n",
    "  Y_T = Y_0 (1 + g)^T\n",
    "  $$"
   ]
  },
  {
   "cell_type": "markdown",
   "id": "2c490269",
   "metadata": {},
   "source": [
    "# 🗓️ Annualized Growth Rates\n",
    "\n",
    "Often, we know the value of a variable at two points in time far apart (e.g., GDP in 1980 and 2020) and want to find the *average annual growth rate* ($g$) that would connect them.\n",
    "\n",
    "We rearrange the formula $Y_T = Y_0 (1 + g)^T$:\n",
    "$$ \\frac{Y_T}{Y_0} = (1 + g)^T $$\n",
    "$$ \\left( \\frac{Y_T}{Y_0} \\right)^{1/T} = 1 + g $$\n",
    "$$ g_{\\text{annualized}} = \\left( \\frac{Y_T}{Y_0} \\right)^{1/T} - 1 $$\n",
    "Where $T$ is the number of years between the measurement of $Y_0$ and $Y_T$."
   ]
  },
  {
   "cell_type": "markdown",
   "id": "843fcd4f",
   "metadata": {},
   "source": [
    "# 🪵 Using Logarithms (A Useful Approximation)\n",
    "\n",
    "Natural logarithms (ln) are extremely useful in growth economics because the change in the log of a variable is approximately equal to its percentage change (or growth rate) when the change is small:\n",
    "\n",
    "$$ g = \\frac{Y_{t+1} - Y_t}{Y_t} \\approx \\ln(Y_{t+1}) - \\ln(Y_t) = \\Delta \\ln(Y_{t+1}) $$\n",
    "*Why? Because $\\ln(Y_{t+1}) = \\ln(Y_t(1+g)) = \\ln(Y_t) + \\ln(1+g)$, and for small $g$, $\\ln(1+g) \\approx g$.*\n",
    "\n",
    "This approximation simplifies calculating **average annualized growth rates**:\n",
    "$$ g_{\\text{annualized}} = \\left( \\frac{Y_T}{Y_0} \\right)^{1/T} - 1 \\approx \\frac{\\ln(Y_T) - \\ln(Y_0)}{T} $$\n",
    "The log approximation is very accurate for small growth rates (e.g., typical annual GDP growth) and makes many derivations easier.\n",
    "\n",
    "**Other Useful Log Rules:**\n",
    "* $\\ln(x \\cdot y) = \\ln(x) + \\ln(y)$  (Growth rate of a product ≈ sum of growth rates)\n",
    "* $\\ln(x / y) = \\ln(x) - \\ln(y)$  (Growth rate of a ratio ≈ difference of growth rates)\n",
    "* $\\ln(x^a) = a \\ln(x)$ (Used in deriving the Cobb-Douglas growth accounting equation)\n",
    "\n",
    "The simulation below calculates the exact annualized growth rate and the log approximation. Notice how close they are for typical economic growth rates."
   ]
  },
  {
   "cell_type": "code",
   "execution_count": 2,
   "id": "111be5a0",
   "metadata": {
    "tags": [
     "hide-input"
    ]
   },
   "outputs": [
    {
     "data": {
      "application/vnd.jupyter.widget-view+json": {
       "model_id": "886d1c1444c84967b8247d91c1175f98",
       "version_major": 2,
       "version_minor": 0
      },
      "text/plain": [
       "interactive(children=(FloatSlider(value=100.0, description='Initial Value (Y0):', layout=Layout(width='95%'), …"
      ]
     },
     "metadata": {},
     "output_type": "display_data"
    }
   ],
   "source": [
    "# Import necessary libraries\n",
    "import numpy as np\n",
    "import matplotlib.pyplot as plt\n",
    "from ipywidgets import interact, FloatSlider, IntSlider, Layout\n",
    "from IPython.display import display, Markdown\n",
    "import warnings\n",
    "\n",
    "def calculate_annualized_growth(Y0=100.0, YT=200.0, T=20):\n",
    "    \"\"\"\n",
    "    Calculates the exact and log-approximated average annual growth rate\n",
    "    between an initial value (Y0) and a final value (YT) over T years.\n",
    "\n",
    "    Args:\n",
    "        Y0 (float): Initial value (at time t=0).\n",
    "        YT (float): Final value (at time t=T).\n",
    "        T (int): Number of years between Y0 and YT.\n",
    "    \"\"\"\n",
    "    # Input validation\n",
    "    Y0 = max(Y0, 1e-9) # Avoid log(0) or division by zero\n",
    "    YT = max(YT, 1e-9)\n",
    "    T = int(T)\n",
    "    if T < 1:\n",
    "        display(Markdown(\"⚠️ Number of years (T) must be at least 1.\"))\n",
    "        return\n",
    "\n",
    "    # --- Calculations ---\n",
    "    # Exact Annualized Growth Rate\n",
    "    # g = (YT / Y0)**(1/T) - 1\n",
    "    try:\n",
    "        exact_g = (YT / Y0)**(1.0 / T) - 1.0\n",
    "    except (ValueError, OverflowError):\n",
    "        exact_g = np.nan # Handle potential errors if Y0/YT are extreme\n",
    "\n",
    "    # Log Approximation Growth Rate\n",
    "    # g_approx = (ln(YT) - ln(Y0)) / T\n",
    "    try:\n",
    "        log_approx_g = (np.log(YT) - np.log(Y0)) / T\n",
    "    except (ValueError, OverflowError):\n",
    "        log_approx_g = np.nan\n",
    "\n",
    "    # Calculate difference\n",
    "    if not (np.isnan(exact_g) or np.isnan(log_approx_g)):\n",
    "        difference = abs(exact_g - log_approx_g)\n",
    "        percent_diff = (difference / abs(exact_g)) * 100 if abs(exact_g) > 1e-9 else 0\n",
    "    else:\n",
    "        difference = np.nan\n",
    "        percent_diff = np.nan\n",
    "\n",
    "    # --- Display Results ---\n",
    "    results_md = f\"\"\"\n",
    "    ### 📈 Annualized Growth Rate Calculation:\n",
    "\n",
    "    * **Initial Value (Y₀):** {Y0:,.2f}\n",
    "    * **Final Value (Y<0xE1><0xB5><0x8_>):** {YT:,.2f}\n",
    "    * **Number of Years (T):** {T}\n",
    "\n",
    "    * **Exact Annualized Growth Rate (g):** {exact_g:.4%}\n",
    "        * *Calculated as: $g = (Y_T / Y_0)^{{1/T}} - 1$*\n",
    "    * **Log Approximation Growth Rate (g_approx):** {log_approx_g:.4%}\n",
    "        * *Calculated as: $g \\\\approx [\\\\ln(Y_T) - \\\\ln(Y_0)] / T$*\n",
    "\n",
    "    * **Difference (Exact - Approx):** {difference:.6f}\n",
    "    * **Approximation Error:** {percent_diff:.2f}% of exact rate\n",
    "        * *(Note: The log approximation is more accurate for smaller growth rates)*\n",
    "    \"\"\"\n",
    "    display(Markdown(results_md))\n",
    "\n",
    "    # --- Optional Plot: Value over Time ---\n",
    "    # Show how the value grows at the calculated exact rate\n",
    "    years_plot = np.arange(T + 1)\n",
    "    Y_path = Y0 * (1 + exact_g)**years_plot\n",
    "\n",
    "    fig, ax = plt.subplots(figsize=(8, 4))\n",
    "    ax.plot(years_plot, Y_path, marker='.', linestyle='-', color='teal')\n",
    "    ax.set_xlabel(\"Years Elapsed\")\n",
    "    ax.set_ylabel(\"Value (Y)\")\n",
    "    ax.set_title(f\"Growth Path at {exact_g:.2%} Average Annual Rate\")\n",
    "    ax.scatter([0, T], [Y0, YT], color='red', s=50, zorder=5, label='Start/End Points')\n",
    "    ax.legend()\n",
    "    ax.grid(True, linestyle='--', alpha=0.7)\n",
    "    plt.tight_layout()\n",
    "    plt.show()\n",
    "\n",
    "\n",
    "# --- Create Interactive Widgets ---\n",
    "style = {'description_width': 'initial'}\n",
    "layout = Layout(width='95%')\n",
    "\n",
    "interact(\n",
    "    calculate_annualized_growth,\n",
    "    Y0=FloatSlider(value=100.0, min=1, max=10000, step=10, description='Initial Value (Y0):', style=style, layout=layout, readout_format=',.0f'),\n",
    "    YT=FloatSlider(value=200.0, min=1, max=20000, step=10, description='Final Value (YT):', style=style, layout=layout, readout_format=',.0f'),\n",
    "    T=IntSlider(value=20, min=1, max=100, step=1, description='Number of Years (T):', style=style, layout=layout)\n",
    ");\n"
   ]
  },
  {
   "cell_type": "markdown",
   "id": "c06bb9e7",
   "metadata": {},
   "source": [
    "# 📘 Introduction to Growth Theory\n",
    "\n",
    "Growth theory tries to explain two central things:\n",
    "1. **Why are some countries richer than others?** (GDP per capita levels)\n",
    "2. **Why do some countries grow faster than others?** (GDP per capita growth rates)\n",
    "\n",
    "We distinguish:\n",
    "- **Level** of GDP per capita: how rich a country is now\n",
    "- **Growth rate** of GDP per capita: how fast it’s getting richer\n",
    "\n",
    "💡 These two are **not the same** — and often **negatively correlated**:\n",
    "- Poor countries can grow faster (convergence)\n",
    "- Rich countries often have slow, steady growth\n",
    "\n",
    "🔍 Example:\n",
    "- The US has ~1.8% annual GDP/capita growth for 150+ years\n",
    "- China grew at 5–10% for decades — but only recently became rich\n",
    "\n",
    "\n",
    "# 📘 Preliminaries: Growth Math, Percent Changes, and Logs\n",
    "\n",
    "We need tools to talk about growth:\n",
    "- **Percent change** is the basis of the growth rate:\n",
    "  \\[ g = \\frac{Y_{t+1} - Y_t}{Y_t} \\]\n",
    "\n",
    "- A **growth rate** is just a percent change written as a decimal:\n",
    "  \\[ g = 0.05 = 5\\% \\]\n",
    "\n",
    "- **Annualized growth rates** give the average yearly rate over many years:\n",
    "  \\[ g_{Y,t\\to s} = \\left(\\frac{Y_s}{Y_t}\\right)^{1/(s-t)} - 1 \\]\n",
    "\n",
    "- Using **logs** makes this easier:\n",
    "  \\[ g \\approx \\frac{\\ln Y_s - \\ln Y_t}{s - t} \\]\n",
    "\n",
    "\n",
    "# 🧪 Example: GDP Growth Table\n",
    "| Year | Level of GDP | Growth | Growth Rate |\n",
    "|------|---------------|--------|--------------|\n",
    "| 2018 | 100           | –      | –            |\n",
    "| 2019 | 104           | +4     | 4.00%        |\n",
    "| 2020 | 98            | –6     | –5.77%       |\n",
    "| 2021 | 103           | +5     | 5.10%        |\n",
    "| 2022 | 105           | +2     | 1.94%        |\n",
    "| 2023 | 107           | +2     | 1.90%        |\n",
    "| 2024 | 109           | +2     | 1.87%        |\n",
    "\n",
    "Notice how the same growth in **level** results in **declining growth rates** as the base (denominator) increases.\n",
    "\n",
    "\n",
    "# 📗 Quick Rules of Thumb\n",
    "- \\( \\ln(1 + x) \\approx x \\) when \\( x \\) is small\n",
    "- \\( \\ln(x^a) = a \\ln x \\)\n",
    "- \\( \\frac{d \\ln x}{dx} = \\frac{1}{x} \\)\n",
    "\n",
    "We’ll use logs often in macro to simplify percent change math.\n",
    "\n",
    "\n",
    "# Next: Measuring GDP — the components and flows of income/expenditure.\n"
   ]
  }
 ],
 "metadata": {
  "kernelspec": {
   "display_name": "Python (solow-env)",
   "language": "python",
   "name": "solow-env"
  },
  "language_info": {
   "codemirror_mode": {
    "name": "ipython",
    "version": 3
   },
   "file_extension": ".py",
   "mimetype": "text/x-python",
   "name": "python",
   "nbconvert_exporter": "python",
   "pygments_lexer": "ipython3",
   "version": "3.13.3"
  },
  "tags": [
   "thebe-init"
  ]
 },
 "nbformat": 4,
 "nbformat_minor": 5
}
