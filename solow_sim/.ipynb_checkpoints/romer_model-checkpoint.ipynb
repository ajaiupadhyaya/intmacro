{
 "cells": [
  {
   "cell_type": "code",
   "execution_count": 2,
   "id": "bd54ed9d-c1b7-431d-acde-9694f4fae673",
   "metadata": {},
   "outputs": [
    {
     "data": {
      "application/vnd.jupyter.widget-view+json": {
       "model_id": "be6c5058edca4ed5a78550cc5d488c4f",
       "version_major": 2,
       "version_minor": 0
      },
      "text/plain": [
       "interactive(children=(FloatSlider(value=0.05, description='δ (Idea Productivity)', max=0.15, min=0.01, step=0.…"
      ]
     },
     "metadata": {},
     "output_type": "display_data"
    }
   ],
   "source": [
    "import numpy as np\n",
    "import matplotlib.pyplot as plt\n",
    "from ipywidgets import interact, FloatSlider\n",
    "\n",
    "def romer_model(delta=0.05, L=100, lam=0.2, A0=1.0):\n",
    "    T = 100\n",
    "    A = np.zeros(T)\n",
    "    Y = np.zeros(T)\n",
    "\n",
    "    L_A = lam * L\n",
    "    L_Y = (1 - lam) * L\n",
    "\n",
    "    A[0] = A0\n",
    "    Y[0] = A0 * L_Y\n",
    "\n",
    "    for t in range(1, T):\n",
    "        A[t] = A[t-1] + delta * A[t-1] * L_A  # ΔA = δ * A * L_A\n",
    "        Y[t] = A[t] * L_Y\n",
    "\n",
    "    fig, (ax1, ax2) = plt.subplots(1, 2, figsize=(12, 5))\n",
    "\n",
    "    ax1.plot(range(T), A, label='Knowledge A(t)', color='blue')\n",
    "    ax1.set_title(\"Knowledge Over Time (A_t)\")\n",
    "    ax1.set_xlabel(\"Time\")\n",
    "    ax1.set_ylabel(\"A(t)\")\n",
    "    ax1.grid(True)\n",
    "\n",
    "    ax2.plot(range(T), Y, label='Output Y(t)', color='green')\n",
    "    ax2.set_title(\"Output Over Time (Y_t)\")\n",
    "    ax2.set_xlabel(\"Time\")\n",
    "    ax2.set_ylabel(\"Y(t)\")\n",
    "    ax2.grid(True)\n",
    "\n",
    "    plt.tight_layout()\n",
    "    plt.show()\n",
    "\n",
    "interact(\n",
    "    romer_model,\n",
    "    delta=FloatSlider(value=0.05, min=0.01, max=0.15, step=0.005, description='δ (Idea Productivity)'),\n",
    "    L=FloatSlider(value=100, min=10, max=300, step=10, description='Total Labor'),\n",
    "    lam=FloatSlider(value=0.2, min=0.05, max=0.9, step=0.05, description='λ R&D Share'),\n",
    "    A0=FloatSlider(value=1.0, min=0.1, max=5.0, step=0.1, description='A₀ Initial'),\n",
    ");"
   ]
  }
 ],
 "metadata": {
  "kernelspec": {
   "display_name": "Python (solow-env)",
   "language": "python",
   "name": "solow-env"
  },
  "language_info": {
   "codemirror_mode": {
    "name": "ipython",
    "version": 3
   },
   "file_extension": ".py",
   "mimetype": "text/x-python",
   "name": "python",
   "nbconvert_exporter": "python",
   "pygments_lexer": "ipython3",
   "version": "3.13.3"
  }
 },
 "nbformat": 4,
 "nbformat_minor": 5
}
