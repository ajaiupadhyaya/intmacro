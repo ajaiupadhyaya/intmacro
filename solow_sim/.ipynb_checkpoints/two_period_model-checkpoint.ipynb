{
 "cells": [
  {
   "cell_type": "code",
   "execution_count": 1,
   "id": "5f0e518f",
   "metadata": {},
   "outputs": [
    {
     "data": {
      "application/vnd.jupyter.widget-view+json": {
       "model_id": "14963e74dbc243938fb52d4e182c84e8",
       "version_major": 2,
       "version_minor": 0
      },
      "text/plain": [
       "interactive(children=(FloatSlider(value=15.0, description='Income y₁', max=50.0, step=1.0), FloatSlider(value=…"
      ]
     },
     "metadata": {},
     "output_type": "display_data"
    }
   ],
   "source": [
    "import numpy as np\n",
    "import matplotlib.pyplot as plt\n",
    "from ipywidgets import interact, FloatSlider\n",
    "\n",
    "def two_period_model(y1=15.0, y2=98.0, r=0.05, beta=1.0):\n",
    "    # Intertemporal budget constraint\n",
    "    present_value_income = y1 + y2 / (1 + r)\n",
    "\n",
    "    # Optimal consumption via Euler equation\n",
    "    c1 = present_value_income / (1 + beta)\n",
    "    c2 = beta * (1 + r) * c1\n",
    "\n",
    "    # Plotting the intertemporal budget line\n",
    "    c1_line = np.linspace(0.1, present_value_income, 100)\n",
    "    c2_line = (present_value_income - c1_line) * (1 + r)\n",
    "\n",
    "    plt.figure(figsize=(8,6))\n",
    "    plt.plot(c1_line, c2_line, label='Budget Line')\n",
    "    plt.scatter(c1, c2, color='red', s=100, label='Optimal (c₁, c₂)')\n",
    "    plt.xlabel('Consumption in Period 1 (c₁)')\n",
    "    plt.ylabel('Consumption in Period 2 (c₂)')\n",
    "    plt.title('Two-Period Consumption Choice')\n",
    "    plt.legend()\n",
    "    plt.grid(True)\n",
    "    plt.tight_layout()\n",
    "    plt.show()\n",
    "\n",
    "    print(f\"Present Value of Income: {present_value_income:.2f}\")\n",
    "    print(f\"Optimal c₁: {c1:.2f}\")\n",
    "    print(f\"Optimal c₂: {c2:.2f}\")\n",
    "\n",
    "interact(\n",
    "    two_period_model,\n",
    "    y1=FloatSlider(value=15.0, min=0.0, max=50.0, step=1.0, description='Income y₁'),\n",
    "    y2=FloatSlider(value=98.0, min=0.0, max=200.0, step=5.0, description='Income y₂'),\n",
    "    r=FloatSlider(value=0.05, min=0.0, max=0.2, step=0.01, description='Interest Rate r'),\n",
    "    beta=FloatSlider(value=1.0, min=0.1, max=2.0, step=0.1, description='Discount β'),\n",
    ");"
   ]
  }
 ],
 "metadata": {
  "kernelspec": {
   "display_name": "Python (solow-env)",
   "language": "python",
   "name": "solow-env"
  },
  "language_info": {
   "codemirror_mode": {
    "name": "ipython",
    "version": 3
   },
   "file_extension": ".py",
   "mimetype": "text/x-python",
   "name": "python",
   "nbconvert_exporter": "python",
   "pygments_lexer": "ipython3",
   "version": "3.13.3"
  }
 },
 "nbformat": 4,
 "nbformat_minor": 5
}
