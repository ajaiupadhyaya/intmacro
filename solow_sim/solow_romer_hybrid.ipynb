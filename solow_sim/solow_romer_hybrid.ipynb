{
 "cells": [
  {
   "cell_type": "code",
   "execution_count": null,
   "id": "a0ee6cbf",
   "metadata": {},
   "outputs": [
    {
     "data": {
      "application/vnd.jupyter.widget-view+json": {
       "model_id": "76ccaeddb788445fb3cac4b6a9eb206a",
       "version_major": 2,
       "version_minor": 0
      },
      "text/plain": [
       "interactive(children=(FloatSlider(value=0.3, description='Savings Rate s', max=0.9, min=0.05, step=0.01), Floa…"
      ]
     },
     "metadata": {},
     "output_type": "display_data"
    },
    {
     "data": {
      "text/plain": [
       "<function __main__.solow_romer_model(s=0.3, delta=0.05, alpha=0.3, omega=0.2, z=0.05, L=100, A0=1.0, K0=1.0, T=50)>"
      ]
     },
     "execution_count": 1,
     "metadata": {},
     "output_type": "execute_result"
    }
   ],
   "source": [
    "import numpy as np\n",
    "import matplotlib.pyplot as plt\n",
    "from ipywidgets import interact, FloatSlider\n",
    "\n",
    "def solow_romer_model(s=0.3, delta=0.05, alpha=0.3, omega=0.2, z=0.05, L=100, A0=1.0, K0=1.0, T=50):\n",
    "    T = int(T)\n",
    "    A = np.zeros(T)\n",
    "    K = np.zeros(T)\n",
    "    Y = np.zeros(T)\n",
    "    A[0] = A0\n",
    "    K[0] = K0\n",
    "\n",
    "    L_A = omega * L\n",
    "    L_Y = (1 - omega) * L\n",
    "\n",
    "    for t in range(1, T):\n",
    "        A[t] = A[t-1] + z * A[t-1] * L_A\n",
    "        Y[t-1] = A[t-1] * K[t-1]**alpha * L_Y**(1 - alpha)\n",
    "        K[t] = K[t-1] + s * Y[t-1] - delta * K[t-1]\n",
    "\n",
    "    Y[-1] = A[-1] * K[-1]**alpha * L_Y**(1 - alpha)\n",
    "\n",
    "    # Plot\n",
    "    fig, ax = plt.subplots(figsize=(10, 6))\n",
    "    ax.plot(range(T), A, label='Knowledge A(t)', color='blue')\n",
    "    ax.plot(range(T), K, label='Capital K(t)', color='orange')\n",
    "    ax.plot(range(T), Y, label='Output Y(t)', color='green')\n",
    "    ax.set_title(\"Solow–Romer Hybrid: Knowledge + Capital Accumulation\")\n",
    "    ax.set_xlabel(\"Time\")\n",
    "    ax.set_ylabel(\"Level\")\n",
    "    ax.legend()\n",
    "    ax.grid(True)\n",
    "    plt.tight_layout()\n",
    "    plt.show()\n",
    "\n",
    "    gA = z * L_A\n",
    "    print(\"📘 HYBRID MODEL RESULTS\")\n",
    "    print(f\"  Final A(T) = {A[-1]:.2f}, Final K(T) = {K[-1]:.2f}, Final Y(T) = {Y[-1]:.2f}\")\n",
    "    print(f\"  Idea growth rate gA = {gA:.3f}\")\n",
    "\n",
    "interact(\n",
    "    solow_romer_model,\n",
    "    s=FloatSlider(value=0.3, min=0.05, max=0.9, step=0.01, description='Savings Rate s'),\n",
    "    delta=FloatSlider(value=0.05, min=0.01, max=0.2, step=0.005, description='Depreciation δ'),\n",
    "    alpha=FloatSlider(value=0.3, min=0.1, max=0.7, step=0.05, description='Capital Share α'),\n",
    "    omega=FloatSlider(value=0.2, min=0.05, max=0.9, step=0.05, description='R&D Share ω'),\n",
    "    z=FloatSlider(value=0.05, min=0.01, max=0.2, step=0.005, description='Idea Productivity z'),\n",
    "    L=FloatSlider(value=100, min=10, max=500, step=10, description='Labor L'),\n",
    "    A0=FloatSlider(value=1.0, min=0.5, max=5.0, step=0.1, description='Initial A₀'),\n",
    "    K0=FloatSlider(value=1.0, min=0.5, max=10.0, step=0.1, description='Initial K₀'),\n",
    "    T=FloatSlider(value=50, min=10, max=100, step=5, description='Time Horizon T', readout_format='.0f')\n",
    ")"
   ]
  },
  {
   "cell_type": "markdown",
   "id": "8947619c",
   "metadata": {},
   "source": [
    "### 📘 Solow–Romer Hybrid Growth Model\n",
    "\n",
    "This model merges:\n",
    "- Capital accumulation (Solow)\n",
    "- Knowledge creation (Romer)\n",
    "\n",
    "\\[\n",
    "A_{t+1} = A_t + z A_t L_A\n",
    "\\quad\\quad\n",
    "K_{t+1} = K_t + sY_t - \\delta K_t\n",
    "\\quad\\quad\n",
    "Y_t = A_t K_t^\\alpha L_Y^{1-\\alpha}\n",
    "\\]\n",
    "\n",
    "Where:\n",
    "- \\( L_A = \\omega L \\): R&D labor\n",
    "- \\( L_Y = (1 - \\omega)L \\): production labor\n",
    "\n",
    "**Insight**: Both **savings** and **idea generation** fuel growth in Y.\n",
    "\n",
    "**Sources**:  \n",
    "- GrowthEcon [Ch. 8](https://growthecon.com/StudyGuide/hybrid.html)  \n",
    "- Charles Jones, *Macroeconomics*, Ch. 8"
   ]
  }
 ],
 "metadata": {
  "kernelspec": {
   "display_name": "Python (solow-env)",
   "language": "python",
   "name": "solow-env"
  },
  "language_info": {
   "codemirror_mode": {
    "name": "ipython",
    "version": 3
   },
   "file_extension": ".py",
   "mimetype": "text/x-python",
   "name": "python",
   "nbconvert_exporter": "python",
   "pygments_lexer": "ipython3",
   "version": "3.13.3"
  }
 },
 "nbformat": 4,
 "nbformat_minor": 5
}
