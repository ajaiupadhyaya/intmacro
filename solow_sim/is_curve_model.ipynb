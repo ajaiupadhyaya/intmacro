{
 "cells": [
  {
   "cell_type": "code",
   "execution_count": 1,
   "id": "f2ee9a8a",
   "metadata": {},
   "outputs": [
    {
     "data": {
      "application/vnd.jupyter.widget-view+json": {
       "model_id": "86f05b7161e14e7d979aac5d4485bfa6",
       "version_major": 2,
       "version_minor": 0
      },
      "text/plain": [
       "interactive(children=(FloatSlider(value=20.0, description='Autonomous C (c₀)', max=50.0, step=1.0), FloatSlide…"
      ]
     },
     "metadata": {},
     "output_type": "display_data"
    }
   ],
   "source": [
    "import numpy as np\n",
    "import matplotlib.pyplot as plt\n",
    "from ipywidgets import interact, FloatSlider\n",
    "\n",
    "def is_model(c0=20, c1=0.7, i0=25, i1=50, G=50, T=30):\n",
    "    r_vals = np.linspace(0.01, 0.2, 100)\n",
    "    Y_vals = []\n",
    "\n",
    "    for r in r_vals:\n",
    "        # Solve for Y in equilibrium:\n",
    "        # Y = c0 + c1(Y - T) + i0 - i1*r + G\n",
    "        # => Y = (c0 - c1*T + i0 - i1*r + G) / (1 - c1)\n",
    "        Y = (c0 - c1*T + i0 - i1*r + G) / (1 - c1)\n",
    "        Y_vals.append(Y)\n",
    "\n",
    "    plt.figure(figsize=(8,6))\n",
    "    plt.plot(r_vals, Y_vals, label=\"IS Curve\")\n",
    "    plt.xlabel(\"Interest Rate (r)\")\n",
    "    plt.ylabel(\"Output (Y)\")\n",
    "    plt.title(\"IS Curve: Output vs. Interest Rate\")\n",
    "    plt.grid(True)\n",
    "    plt.legend()\n",
    "    plt.tight_layout()\n",
    "    plt.show()\n",
    "\n",
    "    print(f\"At r = 5% ⇒ Y = {(c0 - c1*T + i0 - i1*0.05 + G) / (1 - c1):.2f}\")\n",
    "\n",
    "interact(\n",
    "    is_model,\n",
    "    c0=FloatSlider(value=20, min=0, max=50, step=1, description='Autonomous C (c₀)'),\n",
    "    c1=FloatSlider(value=0.7, min=0.1, max=0.95, step=0.05, description='MPC (c₁)'),\n",
    "    i0=FloatSlider(value=25, min=0, max=50, step=1, description='Autonomous I (i₀)'),\n",
    "    i1=FloatSlider(value=50, min=10, max=100, step=5, description='r sensitivity (i₁)'),\n",
    "    G=FloatSlider(value=50, min=0, max=100, step=5, description='Govt Spend (G)'),\n",
    "    T=FloatSlider(value=30, min=0, max=50, step=1, description='Taxes (T)'),\n",
    ");"
   ]
  },
  {
   "cell_type": "code",
   "execution_count": null,
   "id": "f4f24999-0a72-448b-bc17-678c7d0e7288",
   "metadata": {},
   "outputs": [],
   "source": []
  }
 ],
 "metadata": {
  "kernelspec": {
   "display_name": "Python (solow-env)",
   "language": "python",
   "name": "solow-env"
  },
  "language_info": {
   "codemirror_mode": {
    "name": "ipython",
    "version": 3
   },
   "file_extension": ".py",
   "mimetype": "text/x-python",
   "name": "python",
   "nbconvert_exporter": "python",
   "pygments_lexer": "ipython3",
   "version": "3.13.3"
  }
 },
 "nbformat": 4,
 "nbformat_minor": 5
}
