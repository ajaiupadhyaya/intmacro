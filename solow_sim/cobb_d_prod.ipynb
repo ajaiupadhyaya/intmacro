{
 "cells": [
  {
   "cell_type": "code",
   "execution_count": 1,
   "id": "98f0b6db",
   "metadata": {},
   "outputs": [
    {
     "data": {
      "application/vnd.jupyter.widget-view+json": {
       "model_id": "aeab41f44a84489fbefe0c45bf83f0a8",
       "version_major": 2,
       "version_minor": 0
      },
      "text/plain": [
       "interactive(children=(FloatSlider(value=1.0, description='Ā', max=3.0, min=0.5), FloatSlider(value=100.0, des…"
      ]
     },
     "metadata": {},
     "output_type": "display_data"
    },
    {
     "data": {
      "text/plain": [
       "<function __main__.cobb_douglas_model(A=1.0, K=100, L=100, alpha=0.3, scale=1.0)>"
      ]
     },
     "execution_count": 1,
     "metadata": {},
     "output_type": "execute_result"
    }
   ],
   "source": [
    "# Vuoksi Macro Lab: Cobb-Douglas Production (GrowthEcon Ch. 3, CJ Ch. 4)\n",
    "\n",
    "import numpy as np\n",
    "import matplotlib.pyplot as plt\n",
    "from ipywidgets import interact, FloatSlider\n",
    "\n",
    "plt.rcParams['axes.titlesize'] = 14\n",
    "plt.rcParams['axes.labelsize'] = 12\n",
    "plt.rcParams['legend.fontsize'] = 11\n",
    "plt.rcParams['figure.facecolor'] = 'white'\n",
    "plt.rcParams['axes.grid'] = True\n",
    "\n",
    "# --- Cobb-Douglas Production Function ---\n",
    "def cobb_douglas_model(A=1.0, K=100, L=100, alpha=0.3, scale=1.0):\n",
    "    Y = A * (K ** alpha) * (L ** (1 - alpha))\n",
    "    K_scaled = K * scale\n",
    "    L_scaled = L * scale\n",
    "    Y_scaled = A * (K_scaled ** alpha) * (L_scaled ** (1 - alpha))\n",
    "\n",
    "    k_vals = np.linspace(10, 300, 300)\n",
    "    y_vals = A * (k_vals ** alpha) * (L ** (1 - alpha))\n",
    "\n",
    "    fig, axs = plt.subplots(1, 2, figsize=(14, 5))\n",
    "\n",
    "    # Plot 1: Diminishing returns\n",
    "    axs[0].plot(k_vals, y_vals, label='Y = A·K^α·L^(1−α)', color='steelblue')\n",
    "    axs[0].axvline(K, linestyle='--', color='gray')\n",
    "    axs[0].axhline(Y, linestyle='--', color='gray')\n",
    "    axs[0].scatter(K, Y, color='red')\n",
    "    axs[0].set_title(\"Diminishing Returns to Capital (L fixed)\")\n",
    "    axs[0].set_xlabel(\"Capital (K)\")\n",
    "    axs[0].set_ylabel(\"Output (Y)\")\n",
    "    axs[0].legend()\n",
    "\n",
    "    # Plot 2: CRS scaling\n",
    "    axs[1].bar(['Original', 'Scaled (λK, λL)'], [Y, Y_scaled], color=['steelblue', 'seagreen'])\n",
    "    axs[1].set_title(\"Constant Returns to Scale (CRS)\")\n",
    "    axs[1].set_ylabel(\"Output (Y)\")\n",
    "    axs[1].text(0, Y + 2, f\"{Y:.1f}\", ha='center')\n",
    "    axs[1].text(1, Y_scaled + 2, f\"{Y_scaled:.1f}\", ha='center')\n",
    "\n",
    "    fig.suptitle(\"Cobb-Douglas Production Function\", fontsize=16)\n",
    "    plt.tight_layout()\n",
    "    plt.show()\n",
    "\n",
    "    print(\"\\033[1mOUTPUT RESULTS\\033[0m\")\n",
    "    print(f\"Y = A·K^α·L^(1−α) = {Y:.2f}\")\n",
    "    print(f\"Scaled Output with λ = {scale}: Y_scaled = {Y_scaled:.2f}\")\n",
    "    print(\"CRS: Output scales 1:1 with proportional increases in K and L\")\n",
    "\n",
    "interact(\n",
    "    cobb_douglas_model,\n",
    "    A=FloatSlider(value=1.0, min=0.5, max=3.0, step=0.1, description='Ā'),\n",
    "    K=FloatSlider(value=100, min=10, max=300, step=10, description='K'),\n",
    "    L=FloatSlider(value=100, min=10, max=300, step=10, description='L'),\n",
    "    alpha=FloatSlider(value=0.3, min=0.1, max=0.9, step=0.05, description='α'),\n",
    "    scale=FloatSlider(value=1.0, min=0.5, max=3.0, step=0.1, description='λ (Scale)')\n",
    ")\n"
   ]
  },
  {
   "cell_type": "markdown",
   "id": "33f2a7b8",
   "metadata": {},
   "source": [
    "### 📘 Theory Summary\n",
    "\n",
    "The Cobb-Douglas production function:\n",
    "\\[\n",
    "Y = \\bar{A} \\cdot K^\\alpha \\cdot L^{1 - \\alpha}\n",
    "\\]\n",
    "\n",
    "- **Constant Returns to Scale (CRS):**\n",
    "  Scaling both inputs by λ scales output by λ  \n",
    "  (i.e., doubling K and L doubles Y)\n",
    "\n",
    "- **Diminishing Returns to Capital:**\n",
    "  Holding L constant, increases in K result in smaller output gains\n",
    "\n",
    "**Sources**:\n",
    "- GrowthEcon Study Guide [Ch. 3](https://growthecon.com/StudyGuide/production.html)\n",
    "- Charles I. Jones, *Macroeconomics*, Ch. 4"
   ]
  }
 ],
 "metadata": {
  "kernelspec": {
   "display_name": "Python (solow-env)",
   "language": "python",
   "name": "solow-env"
  },
  "language_info": {
   "codemirror_mode": {
    "name": "ipython",
    "version": 3
   },
   "file_extension": ".py",
   "mimetype": "text/x-python",
   "name": "python",
   "nbconvert_exporter": "python",
   "pygments_lexer": "ipython3",
   "version": "3.13.3"
  }
 },
 "nbformat": 4,
 "nbformat_minor": 5
}
