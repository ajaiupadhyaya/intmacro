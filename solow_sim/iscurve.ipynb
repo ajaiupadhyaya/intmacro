{
 "cells": [
  {
   "cell_type": "code",
   "execution_count": 1,
   "id": "bf4ae9e5",
   "metadata": {},
   "outputs": [
    {
     "data": {
      "application/vnd.jupyter.widget-view+json": {
       "model_id": "9c3a1aa226b94d4a8009e2a3195d030f",
       "version_major": 2,
       "version_minor": 0
      },
      "text/plain": [
       "interactive(children=(FloatSlider(value=100.0, description='Income y₁', max=150.0, min=50.0, step=10.0), Float…"
      ]
     },
     "metadata": {},
     "output_type": "display_data"
    }
   ],
   "source": [
    "import numpy as np\n",
    "import matplotlib.pyplot as plt\n",
    "from ipywidgets import interact, FloatSlider\n",
    "from IPython.display import Markdown, display\n",
    "\n",
    "def is_curve_model(y1=100, y2=110, A=1, alpha=0.3, delta=0.05, G=50):\n",
    "    r_vals = np.linspace(0.01, 0.1, 100)\n",
    "    Y_vals = []\n",
    "    C_vals = []\n",
    "    I_vals = []\n",
    "\n",
    "    for r in r_vals:\n",
    "        C = (y1 + y2 / (1 + r)) / (1 + 1 / (1 + r))\n",
    "        MPK = alpha * A * (50)**(alpha - 1)\n",
    "        I = max(0, A * MPK - (r + delta)) * 10  # scalable q-style investment rule\n",
    "        Y = C + I + G\n",
    "        Y_vals.append(Y)\n",
    "        C_vals.append(C)\n",
    "        I_vals.append(I)\n",
    "\n",
    "    r0 = 0.05\n",
    "    C0 = (y1 + y2 / (1 + r0)) / (1 + 1 / (1 + r0))\n",
    "    MPK0 = alpha * A * (50)**(alpha - 1)\n",
    "    I0 = max(0, A * MPK0 - (r0 + delta)) * 10\n",
    "    Y0 = C0 + I0 + G\n",
    "\n",
    "    # IS Curve\n",
    "    plt.figure(figsize=(14,5))\n",
    "\n",
    "    plt.subplot(1,2,1)\n",
    "    plt.plot(r_vals, Y_vals, label='IS Curve', color='purple')\n",
    "    plt.axvline(r0, color='gray', linestyle='--', alpha=0.5)\n",
    "    plt.axhline(Y0, color='gray', linestyle='--', alpha=0.5)\n",
    "    plt.scatter(r0, Y0, color='crimson', zorder=5)\n",
    "    plt.xlabel('Interest Rate (r)')\n",
    "    plt.ylabel('Output (Y)')\n",
    "    plt.title('💡 IS Curve: Output vs Interest Rate')\n",
    "    plt.grid(True)\n",
    "    plt.legend()\n",
    "\n",
    "    # Bar chart of output components\n",
    "    plt.subplot(1,2,2)\n",
    "    plt.bar(['Consumption (C)', 'Investment (I)', 'Gov (G)'], [C0, I0, G],\n",
    "            color=['dodgerblue', 'orange', 'seagreen'])\n",
    "    plt.title(f'Demand Decomposition @ r = {r0:.2f}')\n",
    "    plt.ylabel('Billions ($)')\n",
    "    plt.grid(True, axis='y', linestyle='--', alpha=0.4)\n",
    "\n",
    "    plt.tight_layout()\n",
    "    plt.show()\n",
    "\n",
    "    # Markdown summary\n",
    "    eq = f\"\"\"\n",
    "### 📊 IS Summary (at r = {r0:.2f})\n",
    "\n",
    "- C = {C0:.2f}  \n",
    "- I = {I0:.2f}  \n",
    "- G = {G:.2f}  \n",
    "- **Y = {Y0:.2f}**\n",
    "\n",
    "**IS Equation:**  \n",
    "\\\\[\n",
    "Y = C(r) + I(r) + G\n",
    "\\\\]\n",
    "\"\"\"\n",
    "    display(Markdown(eq))\n",
    "\n",
    "interact(is_curve_model,\n",
    "         y1=FloatSlider(value=100, min=50, max=150, step=10, description='Income y₁'),\n",
    "         y2=FloatSlider(value=110, min=50, max=150, step=10, description='Income y₂'),\n",
    "         A=FloatSlider(value=1, min=0.5, max=2, step=0.1, description='Productivity A'),\n",
    "         alpha=FloatSlider(value=0.3, min=0.1, max=0.5, step=0.01, description='Capital Share α'),\n",
    "         delta=FloatSlider(value=0.05, min=0.0, max=0.2, step=0.01, description='Depreciation δ'),\n",
    "         G=FloatSlider(value=50, min=0, max=150, step=5, description='Gov Spending G'));"
   ]
  },
  {
   "cell_type": "markdown",
   "id": "bee9bf07",
   "metadata": {},
   "source": [
    "# 💡 IS Curve: Output and Interest Rates\n",
    "\n",
    "The **IS Curve** represents all combinations of output \\( Y \\) and real interest rate \\( r \\) where the goods market is in equilibrium:\n",
    "\n",
    "\\[\n",
    "Y = C(r) + I(r) + G\n",
    "\\]\n",
    "\n",
    "---\n",
    "\n",
    "### 🔑 How r Affects Y:\n",
    "- \\( C(r) \\): consumption falls when \\( r \\uparrow \\)\n",
    "- \\( I(r) \\): investment also falls when \\( r \\uparrow \\)\n",
    "- \\( G \\): fixed (exogenous)\n",
    "\n",
    "So, **higher interest rates reduce output**.  \n",
    "That’s why the **IS curve slopes downward**.\n",
    "\n",
    "---\n",
    "\n",
    "### 🧠 Model:\n",
    "We’ll use:\n",
    "- \\( C(r) = \\frac{y_1 + \\frac{y_2}{1 + r}}{1 + \\frac{1}{1 + r}} \\)\n",
    "- \\( I(r) = A \\cdot MPK - (r + \\delta) \\)\n",
    "- \\( Y = C + I + G \\)"
   ]
  }
 ],
 "metadata": {
  "kernelspec": {
   "display_name": "Python (solow-env)",
   "language": "python",
   "name": "solow-env"
  },
  "language_info": {
   "codemirror_mode": {
    "name": "ipython",
    "version": 3
   },
   "file_extension": ".py",
   "mimetype": "text/x-python",
   "name": "python",
   "nbconvert_exporter": "python",
   "pygments_lexer": "ipython3",
   "version": "3.13.3"
  }
 },
 "nbformat": 4,
 "nbformat_minor": 5
}
