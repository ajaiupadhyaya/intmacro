{
 "cells": [
  {
   "cell_type": "code",
   "execution_count": 1,
   "id": "37dd5994-ee8a-4048-9b04-80c3260b38cd",
   "metadata": {},
   "outputs": [
    {
     "ename": "ModuleNotFoundError",
     "evalue": "No module named 'numpy'",
     "output_type": "error",
     "traceback": [
      "\u001b[31m---------------------------------------------------------------------------\u001b[39m",
      "\u001b[31mModuleNotFoundError\u001b[39m                       Traceback (most recent call last)",
      "\u001b[36mCell\u001b[39m\u001b[36m \u001b[39m\u001b[32mIn[1]\u001b[39m\u001b[32m, line 1\u001b[39m\n\u001b[32m----> \u001b[39m\u001b[32m1\u001b[39m \u001b[38;5;28;01mimport\u001b[39;00m\u001b[38;5;250m \u001b[39m\u001b[34;01mnumpy\u001b[39;00m\u001b[38;5;250m \u001b[39m\u001b[38;5;28;01mas\u001b[39;00m\u001b[38;5;250m \u001b[39m\u001b[34;01mnp\u001b[39;00m\n\u001b[32m      2\u001b[39m \u001b[38;5;28;01mimport\u001b[39;00m\u001b[38;5;250m \u001b[39m\u001b[34;01mmatplotlib\u001b[39;00m\u001b[34;01m.\u001b[39;00m\u001b[34;01mpyplot\u001b[39;00m\u001b[38;5;250m \u001b[39m\u001b[38;5;28;01mas\u001b[39;00m\u001b[38;5;250m \u001b[39m\u001b[34;01mplt\u001b[39;00m\n\u001b[32m      3\u001b[39m \u001b[38;5;28;01mfrom\u001b[39;00m\u001b[38;5;250m \u001b[39m\u001b[34;01mipywidgets\u001b[39;00m\u001b[38;5;250m \u001b[39m\u001b[38;5;28;01mimport\u001b[39;00m interact, FloatSlider\n",
      "\u001b[31mModuleNotFoundError\u001b[39m: No module named 'numpy'"
     ]
    }
   ],
   "source": [
    "import numpy as np\n",
    "import matplotlib.pyplot as plt\n",
    "from ipywidgets import interact, FloatSlider\n",
    "\n",
    "# Solow model function\n",
    "def solow_model(s=0.2, delta=0.05, alpha=0.3, n=0.01, g=0.02):\n",
    "    # Parameters\n",
    "    T = 100  # time horizon\n",
    "    k = np.zeros(T)\n",
    "    k[0] = 0.1  # initial capital per worker\n",
    "\n",
    "    # Dynamics\n",
    "    for t in range(1, T):\n",
    "        output = k[t-1]**alpha\n",
    "        investment = s * output\n",
    "        depreciation = (delta + n + g) * k[t-1]\n",
    "        k[t] = k[t-1] + investment - depreciation\n",
    "\n",
    "    # Steady-state capital\n",
    "    k_star = (s / (delta + n + g))**(1 / (1 - alpha))\n",
    "\n",
    "    # Plot\n",
    "    plt.figure(figsize=(10, 5))\n",
    "    plt.plot(k, label=\"Capital per Worker\")\n",
    "    plt.axhline(y=k_star, color='r', linestyle='--', label=\"Steady State k*\")\n",
    "    plt.title(\"Solow Model Simulation\")\n",
    "    plt.xlabel(\"Time\")\n",
    "    plt.ylabel(\"k (capital per worker)\")\n",
    "    plt.legend()\n",
    "    plt.grid(True)\n",
    "    plt.show()\n",
    "\n",
    "# Interactive sliders\n",
    "interact(\n",
    "    solow_model,\n",
    "    s=FloatSlider(value=0.2, min=0.01, max=0.9, step=0.01, description='Savings Rate'),\n",
    "    delta=FloatSlider(value=0.05, min=0.01, max=0.2, step=0.01, description='Depreciation'),\n",
    "    alpha=FloatSlider(value=0.3, min=0.1, max=0.7, step=0.01, description='Alpha'),\n",
    "    n=FloatSlider(value=0.01, min=0.0, max=0.05, step=0.005, description='Pop. Growth'),\n",
    "    g=FloatSlider(value=0.02, min=0.0, max=0.05, step=0.005, description='Tech Growth'),\n",
    ");"
   ]
  }
 ],
 "metadata": {
  "kernelspec": {
   "display_name": "Python (solow-env)",
   "language": "python",
   "name": "solow-env"
  },
  "language_info": {
   "codemirror_mode": {
    "name": "ipython",
    "version": 3
   },
   "file_extension": ".py",
   "mimetype": "text/x-python",
   "name": "python",
   "nbconvert_exporter": "python",
   "pygments_lexer": "ipython3",
   "version": "3.13.3"
  }
 },
 "nbformat": 4,
 "nbformat_minor": 5
}
