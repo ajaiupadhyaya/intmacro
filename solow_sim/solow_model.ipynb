{
 "cells": [
  {
   "cell_type": "code",
   "execution_count": 4,
   "id": "37dd5994-ee8a-4048-9b04-80c3260b38cd",
   "metadata": {},
   "outputs": [
    {
     "data": {
      "application/vnd.jupyter.widget-view+json": {
       "model_id": "52b37a63f95d4368a320017bd07b5c5f",
       "version_major": 2,
       "version_minor": 0
      },
      "text/plain": [
       "interactive(children=(FloatSlider(value=0.2, description='Savings Rate (s)', max=0.9, min=0.05, step=0.01), Fl…"
      ]
     },
     "metadata": {},
     "output_type": "display_data"
    }
   ],
   "source": [
    "# Vuoksi Macro Lab: Solow Growth Model (Jerome Powell Presentation Edition)\n",
    "\n",
    "import numpy as np\n",
    "import matplotlib.pyplot as plt\n",
    "from ipywidgets import interact, FloatSlider, Dropdown\n",
    "\n",
    "plt.rcParams['axes.titlesize'] = 14\n",
    "plt.rcParams['axes.labelsize'] = 12\n",
    "plt.rcParams['legend.fontsize'] = 11\n",
    "plt.rcParams['figure.facecolor'] = 'white'\n",
    "plt.rcParams['axes.grid'] = True\n",
    "\n",
    "# --- Solow Growth Model with Steady State & Transitional Dynamics ---\n",
    "def solow_upgraded(s=0.2, delta=0.05, alpha=0.3, n=0.01, g=0.02, k0=0.1, T=100, mode='Steady State'):\n",
    "    T = int(T)  # convert from float to int (because slider gives 100.0)\n",
    "\n",
    "    k = np.zeros(T)\n",
    "    y = np.zeros(T)\n",
    "    i = np.zeros(T)\n",
    "    dk = np.zeros(T)\n",
    "    k[0] = k0\n",
    "\n",
    "    for t in range(1, T):\n",
    "        y[t-1] = k[t-1] ** alpha\n",
    "        i[t-1] = s * y[t-1]\n",
    "        breakeven = (delta + n + g) * k[t-1]\n",
    "        dk[t-1] = i[t-1] - breakeven\n",
    "        k[t] = k[t-1] + dk[t-1]\n",
    "\n",
    "    y[-1] = k[-1] ** alpha\n",
    "    i[-1] = s * y[-1]\n",
    "    dk[-1] = i[-1] - (delta + n + g) * k[-1]\n",
    "\n",
    "    k_star = (s / (delta + n + g)) ** (1 / (1 - alpha))\n",
    "    y_star = k_star ** alpha\n",
    "\n",
    "    fig, ax = plt.subplots(1, 1, figsize=(10, 6))\n",
    "\n",
    "    if mode == 'Steady State':\n",
    "        k_vals = np.linspace(0.01, 3 * k_star, 300)\n",
    "        output = k_vals ** alpha\n",
    "        invest = s * output\n",
    "        breakeven = (delta + n + g) * k_vals\n",
    "\n",
    "        ax.plot(k_vals, invest, label='Investment s·f(k)', color='blue')\n",
    "        ax.plot(k_vals, breakeven, label='Break-even (δ+n+g)·k', color='red')\n",
    "        ax.axvline(x=k_star, linestyle='--', color='gray')\n",
    "        ax.axhline(y=y_star * s, linestyle='--', color='gray')\n",
    "        ax.set_title(\"Solow Model: Steady State Visualization\")\n",
    "        ax.set_xlabel(\"Capital per Worker (k)\")\n",
    "        ax.set_ylabel(\"Investment / Break-even\")\n",
    "        ax.legend()\n",
    "    else:\n",
    "        ax.plot(range(T), k, label='k(t)', color='blue')\n",
    "        ax.plot(range(T), y, label='y(t)', color='green')\n",
    "        ax.plot(range(T), dk, label='Δk(t)', color='orange')\n",
    "        ax.axhline(y=k_star, linestyle='--', color='gray', label='Steady State k*')\n",
    "        ax.set_title(\"Solow Model: Transitional Dynamics\")\n",
    "        ax.set_xlabel(\"Time\")\n",
    "        ax.set_ylabel(\"Value\")\n",
    "        ax.legend()\n",
    "\n",
    "    plt.tight_layout()\n",
    "    plt.show()\n",
    "\n",
    "    print(f\"Steady State k* = {k_star:.4f}, y* = {y_star:.4f}\")\n",
    "    print(f\"Final k(T) = {k[-1]:.4f}, Final y(T) = {y[-1]:.4f}, Final Δk(T) = {dk[-1]:.4f}\")\n",
    "\n",
    "interact(\n",
    "    solow_upgraded,\n",
    "    s=FloatSlider(value=0.2, min=0.05, max=0.9, step=0.01, description='Savings Rate (s)'),\n",
    "    delta=FloatSlider(value=0.05, min=0.01, max=0.15, step=0.005, description='Depreciation (δ)'),\n",
    "    alpha=FloatSlider(value=0.3, min=0.1, max=0.7, step=0.01, description='Capital Share (α)'),\n",
    "    n=FloatSlider(value=0.01, min=0.0, max=0.05, step=0.005, description='Pop Growth (n)'),\n",
    "    g=FloatSlider(value=0.02, min=0.0, max=0.05, step=0.005, description='Tech Growth (g)'),\n",
    "    k0=FloatSlider(value=0.1, min=0.01, max=1.0, step=0.01, description='Initial k₀'),\n",
    "    T=FloatSlider(value=100, min=20, max=300, step=10, description='Time Steps', readout_format='.0f'),\n",
    "    mode=Dropdown(options=['Steady State', 'Transitional Dynamics'], value='Steady State', description='View Mode'),\n",
    ");"
   ]
  }
 ],
 "metadata": {
  "kernelspec": {
   "display_name": "Python (solow-env)",
   "language": "python",
   "name": "solow-env"
  },
  "language_info": {
   "codemirror_mode": {
    "name": "ipython",
    "version": 3
   },
   "file_extension": ".py",
   "mimetype": "text/x-python",
   "name": "python",
   "nbconvert_exporter": "python",
   "pygments_lexer": "ipython3",
   "version": "3.13.3"
  }
 },
 "nbformat": 4,
 "nbformat_minor": 5
}
