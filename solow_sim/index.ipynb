# index.ipynb - a launchpad for your macro models

import ipywidgets as widgets
from IPython.display import display, Markdown

display(Markdown("# 📈 Vuoksi Capital — Macro Models"))

display(Markdown("""
Welcome! Click on a model below to explore interactive economic simulations based on Charles Jones’s *Intermediate Macroeconomics* and the GrowthEcon Study Guide.

---

## 📊 Model List

- [Cobb-Douglas Production](./cobb_d_prod.ipynb)
- [Solow Model](./solow_model.ipynb)
- [Romer Model](./romer_model.ipynb)
- [Two-Period Consumption](./two_period_model.ipynb)
- [Investment Theory](./investment_theory.ipynb)
- [AD-AS Model](./adas_model.ipynb)
"""))
