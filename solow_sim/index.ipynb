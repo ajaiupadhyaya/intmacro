# 📘 Intermediate Macroeconomics Simulator

Built by Ajai Upadhyaya  
Based on *Intermediate Macroeconomics* by Charles I. Jones  
Enriched with visual insights from GrowthEcon.com

---

## 🔗 Explore Models

- [Cobb-Douglas Production](cobb_douglas.ipynb)
- [Solow Model](solow_model.ipynb)
- [Romer Model](romer_model.ipynb)
- [Two-Period Consumption](2_period_consump.ipynb)
- [AD-AS](adas_model.ipynb)
- [Growth Accounting](growth_acc.ipynb)
- [Human Capital](human_capital.ipynb)
- [Robots and the Future of Work](robots.ipynb)
- [Why Growth is Slowing](slowinggrowth.ipynb)

---

Click any model to open a full simulation.
