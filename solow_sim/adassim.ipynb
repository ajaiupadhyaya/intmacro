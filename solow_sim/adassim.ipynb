{
 "cells": [
  {
   "cell_type": "code",
   "execution_count": 1,
   "id": "4e6baf59",
   "metadata": {},
   "outputs": [
    {
     "data": {
      "application/vnd.jupyter.widget-view+json": {
       "model_id": "32b11f011ff84004876e66af3495b60e",
       "version_major": 2,
       "version_minor": 0
      },
      "text/plain": [
       "interactive(children=(FloatSlider(value=2.0, description='πᵉ (Expectations)', max=5.0), FloatSlider(value=2.0,…"
      ]
     },
     "metadata": {},
     "output_type": "display_data"
    }
   ],
   "source": [
    "import numpy as np\n",
    "import matplotlib.pyplot as plt\n",
    "from ipywidgets import interact, FloatSlider\n",
    "\n",
    "def ad_as_sim(pi_e=2.0, pi_star=2.0, Y_bar=100, r_bar=2.0, phi_pi=1.5, lamb=0.2, T=15):\n",
    "    T = int(T)\n",
    "    pi = np.zeros(T)\n",
    "    Y = np.zeros(T)\n",
    "    r = np.zeros(T)\n",
    "\n",
    "    # Initial values\n",
    "    pi[0] = pi_e\n",
    "    Y[0] = Y_bar\n",
    "\n",
    "    for t in range(1, T):\n",
    "        # Policy rule\n",
    "        r[t] = r_bar + phi_pi * (pi[t-1] - pi_star)\n",
    "        \n",
    "        # IS curve (inverse relation between r and Y)\n",
    "        Y[t] = Y_bar - 5 * (r[t] - r_bar)\n",
    "\n",
    "        # AS curve (expectations-based Phillips curve)\n",
    "        pi[t] = pi_e + lamb * (Y[t] - Y_bar)\n",
    "\n",
    "    # Plotting\n",
    "    fig, axs = plt.subplots(1, 2, figsize=(13, 5))\n",
    "\n",
    "    axs[0].plot(range(T), Y, label='Output (Y)', color='dodgerblue')\n",
    "    axs[0].axhline(Y_bar, color='gray', linestyle='--', label='Ȳ (Natural Output)')\n",
    "    axs[0].set_title('Output Over Time')\n",
    "    axs[0].set_xlabel('Time')\n",
    "    axs[0].set_ylabel('Y')\n",
    "    axs[0].legend()\n",
    "    axs[0].grid(True)\n",
    "\n",
    "    axs[1].plot(range(T), pi, label='Inflation (π)', color='crimson')\n",
    "    axs[1].axhline(pi_star, color='gray', linestyle='--', label='π* (Target)')\n",
    "    axs[1].set_title('Inflation Over Time')\n",
    "    axs[1].set_xlabel('Time')\n",
    "    axs[1].set_ylabel('π')\n",
    "    axs[1].legend()\n",
    "    axs[1].grid(True)\n",
    "\n",
    "    plt.suptitle('🔄 AD-AS Dynamics with Expectations & Taylor Rule')\n",
    "    plt.tight_layout()\n",
    "    plt.show()\n",
    "\n",
    "interact(ad_as_sim,\n",
    "         pi_e=FloatSlider(value=2.0, min=0, max=5, step=0.1, description='πᵉ (Expectations)'),\n",
    "         pi_star=FloatSlider(value=2.0, min=0, max=5, step=0.1, description='π* (Target)'),\n",
    "         Y_bar=FloatSlider(value=100, min=80, max=120, step=1, description='Ȳ'),\n",
    "         r_bar=FloatSlider(value=2.0, min=0, max=5, step=0.1, description='r̄'),\n",
    "         phi_pi=FloatSlider(value=1.5, min=0, max=3, step=0.1, description='ϕ_π'),\n",
    "         lamb=FloatSlider(value=0.2, min=0.05, max=1.0, step=0.05, description='λ'),\n",
    "         T=FloatSlider(value=15, min=5, max=50, step=1, description='Time Horizon'));"
   ]
  },
  {
   "cell_type": "markdown",
   "id": "fac5c838",
   "metadata": {},
   "source": [
    "# 🔄 Dynamic AD-AS Simulator\n",
    "\n",
    "This simulator shows how inflation and output adjust in the short run.\n",
    "\n",
    "---\n",
    "\n",
    "### 📉 IS Curve (Demand Side):\n",
    "Determined by investment, consumption, and policy interest rates.\n",
    "\n",
    "---\n",
    "\n",
    "### 📈 AS Curve (Supply Side):\n",
    "\\[\n",
    "\\pi_t = \\pi^e + \\lambda (Y - \\bar{Y})\n",
    "\\]\n",
    "\n",
    "Firms adjust prices based on:\n",
    "- Inflation expectations \\( \\pi^e \\)\n",
    "- Output gap \\( (Y - \\bar{Y}) \\)\n",
    "\n",
    "---\n",
    "\n",
    "### 🧮 Taylor Rule (Monetary Policy):\n",
    "\\[\n",
    "r = \\bar{r} + \\phi_\\pi (\\pi - \\pi^*)\n",
    "\\]\n",
    "\n",
    "- Higher inflation → higher interest rates → lower Y → stabilizes prices\n",
    "\n",
    "---\n",
    "\n",
    "### 🔁 Dynamics:\n",
    "We simulate how \\( Y \\) and \\( \\pi \\) evolve over time."
   ]
  }
 ],
 "metadata": {
  "kernelspec": {
   "display_name": "Python (solow-env)",
   "language": "python",
   "name": "solow-env"
  },
  "language_info": {
   "codemirror_mode": {
    "name": "ipython",
    "version": 3
   },
   "file_extension": ".py",
   "mimetype": "text/x-python",
   "name": "python",
   "nbconvert_exporter": "python",
   "pygments_lexer": "ipython3",
   "version": "3.13.3"
  }
 },
 "nbformat": 4,
 "nbformat_minor": 5
}
