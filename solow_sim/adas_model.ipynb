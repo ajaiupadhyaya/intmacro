{
 "cells": [
  {
   "cell_type": "code",
   "execution_count": 1,
   "id": "2e5b55bc",
   "metadata": {},
   "outputs": [
    {
     "data": {
      "application/vnd.jupyter.widget-view+json": {
       "model_id": "2ac225286e3249d5b0907092f53a422e",
       "version_major": 2,
       "version_minor": 0
      },
      "text/plain": [
       "interactive(children=(FloatSlider(value=100.0, description='AD Intercept (a)', max=150.0, min=80.0, step=5.0),…"
      ]
     },
     "metadata": {},
     "output_type": "display_data"
    }
   ],
   "source": [
    "import numpy as np\n",
    "import matplotlib.pyplot as plt\n",
    "from ipywidgets import interact, FloatSlider\n",
    "\n",
    "def ad_as_dynamic_sim(a=100, b=10, Y_bar=100, c=5, P_e0=1.0, T=15):\n",
    "    T = int(T)  # ensure T is an integer\n",
    "    Y = np.zeros(T)\n",
    "    P = np.zeros(T)\n",
    "\n",
    "    # Initial values\n",
    "    P[0] = P_e0\n",
    "    for t in range(1, T):\n",
    "        Y[t] = a - b * P[t-1]                           # AD: Y = a - bP\n",
    "        P[t] = P[t-1] + 0.2 * (Y[t] - Y_bar)           # AS: price level adjusts if Y ≠ Ȳ\n",
    "\n",
    "    # Plot output and price level over time\n",
    "    fig, ax = plt.subplots(1, 2, figsize=(12, 5))\n",
    "\n",
    "    ax[0].plot(range(T), Y, marker='o', label='Output Y(t)', color='blue')\n",
    "    ax[0].axhline(Y_bar, linestyle='--', color='gray', label='Potential Output Ȳ')\n",
    "    ax[0].set_title(\"Output Over Time\")\n",
    "    ax[0].set_xlabel(\"Time\")\n",
    "    ax[0].set_ylabel(\"Y\")\n",
    "    ax[0].grid(True)\n",
    "    ax[0].legend()\n",
    "\n",
    "    ax[1].plot(range(T), P, marker='o', color='darkgreen', label='Price P(t)')\n",
    "    ax[1].set_title(\"Price Level Over Time\")\n",
    "    ax[1].set_xlabel(\"Time\")\n",
    "    ax[1].set_ylabel(\"P\")\n",
    "    ax[1].grid(True)\n",
    "    ax[1].legend()\n",
    "\n",
    "    plt.suptitle(\"Dynamic AD–AS Adjustment Simulation\", fontsize=14)\n",
    "    plt.tight_layout()\n",
    "    plt.show()\n",
    "\n",
    "    print(f\"Final Output Y(T): {Y[-1]:.2f}\")\n",
    "    print(f\"Final Price Level P(T): {P[-1]:.2f}\")\n",
    "\n",
    "interact(\n",
    "    ad_as_dynamic_sim,\n",
    "    a=FloatSlider(value=100, min=80, max=150, step=5, description='AD Intercept (a)'),\n",
    "    b=FloatSlider(value=10, min=5, max=30, step=1, description='AD Slope (b)'),\n",
    "    Y_bar=FloatSlider(value=100, min=80, max=120, step=1, description='Ȳ (Potential Y)'),\n",
    "    c=FloatSlider(value=5, min=1, max=10, step=1, description='AS Slope (c)'),\n",
    "    P_e0=FloatSlider(value=1.0, min=0.5, max=2.0, step=0.05, description='Initial Pₑ'),\n",
    "    T=FloatSlider(value=15, min=5, max=30, step=1, description='Time Horizon', readout_format='.0f'),\n",
    ");"
   ]
  }
 ],
 "metadata": {
  "kernelspec": {
   "display_name": "Python (solow-env)",
   "language": "python",
   "name": "solow-env"
  },
  "language_info": {
   "codemirror_mode": {
    "name": "ipython",
    "version": 3
   },
   "file_extension": ".py",
   "mimetype": "text/x-python",
   "name": "python",
   "nbconvert_exporter": "python",
   "pygments_lexer": "ipython3",
   "version": "3.13.3"
  }
 },
 "nbformat": 4,
 "nbformat_minor": 5
}
