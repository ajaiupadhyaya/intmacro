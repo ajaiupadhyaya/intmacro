{
 "cells": [
  {
   "cell_type": "code",
   "execution_count": 1,
   "id": "e75aa275",
   "metadata": {},
   "outputs": [
    {
     "data": {
      "application/vnd.jupyter.widget-view+json": {
       "model_id": "048be7a710374811a33c287fcef9d7e2",
       "version_major": 2,
       "version_minor": 0
      },
      "text/plain": [
       "interactive(children=(FloatSlider(value=10.0, description='Wage (w)', max=50.0, min=1.0, step=1.0), FloatSlide…"
      ]
     },
     "metadata": {},
     "output_type": "display_data"
    }
   ],
   "source": [
    "import numpy as np\n",
    "import matplotlib.pyplot as plt\n",
    "from ipywidgets import interact, FloatSlider\n",
    "\n",
    "def labor_leisure_model(w=10, T=24, theta=1):\n",
    "    # Optimal leisure from utility maximization\n",
    "    ℓ_star = theta / (1 + theta) * T\n",
    "    L_star = T - ℓ_star\n",
    "    c_star = w * L_star\n",
    "\n",
    "    # Budget line\n",
    "    ℓ_vals = np.linspace(0.1, T, 100)\n",
    "    c_vals = w * (T - ℓ_vals)\n",
    "\n",
    "    # Plot\n",
    "    plt.figure(figsize=(8,6))\n",
    "    plt.plot(ℓ_vals, c_vals, label=\"Budget Line\")\n",
    "    plt.scatter(ℓ_star, c_star, color='red', s=100, label='Optimal Choice')\n",
    "    plt.xlabel(\"Leisure (ℓ)\")\n",
    "    plt.ylabel(\"Consumption (c)\")\n",
    "    plt.title(\"Labor–Leisure Tradeoff\")\n",
    "    plt.grid(True)\n",
    "    plt.legend()\n",
    "    plt.tight_layout()\n",
    "    plt.show()\n",
    "\n",
    "    print(f\"Optimal Leisure ℓ*: {ℓ_star:.2f} hours\")\n",
    "    print(f\"Optimal Labor L*: {L_star:.2f} hours\")\n",
    "    print(f\"Consumption c*: ${c_star:.2f}\")\n",
    "\n",
    "interact(\n",
    "    labor_leisure_model,\n",
    "    w=FloatSlider(value=10, min=1, max=50, step=1, description='Wage (w)'),\n",
    "    T=FloatSlider(value=24, min=8, max=24, step=1, description='Time (T)'),\n",
    "    theta=FloatSlider(value=1, min=0.1, max=5, step=0.1, description='θ (pref. for leisure)'),\n",
    ");"
   ]
  },
  {
   "cell_type": "code",
   "execution_count": null,
   "id": "9cdcfead-8dbf-4f3b-8831-3037351b6659",
   "metadata": {},
   "outputs": [],
   "source": []
  }
 ],
 "metadata": {
  "kernelspec": {
   "display_name": "Python 3 (ipykernel)",
   "language": "python",
   "name": "python3"
  },
  "language_info": {
   "codemirror_mode": {
    "name": "ipython",
    "version": 3
   },
   "file_extension": ".py",
   "mimetype": "text/x-python",
   "name": "python",
   "nbconvert_exporter": "python",
   "pygments_lexer": "ipython3",
   "version": "3.13.3"
  }
 },
 "nbformat": 4,
 "nbformat_minor": 5
}
