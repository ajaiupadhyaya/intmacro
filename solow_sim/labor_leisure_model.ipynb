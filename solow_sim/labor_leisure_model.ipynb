{
 "cells": [
  {
   "cell_type": "code",
   "execution_count": null,
   "id": "e75aa275",
   "metadata": {},
   "outputs": [
    {
     "data": {
      "application/vnd.jupyter.widget-view+json": {
       "model_id": "03a3659c91194e559eb5d93e9b8ba07c",
       "version_major": 2,
       "version_minor": 0
      },
      "text/plain": [
       "interactive(children=(FloatSlider(value=10.0, description='Wage (w)', max=50.0, min=1.0, step=1.0), FloatSlide…"
      ]
     },
     "metadata": {},
     "output_type": "display_data"
    }
   ],
   "source": [
    "# Vuoksi Macro Lab: Labor–Leisure Tradeoff Supreme™ (Charles Jones+ Edition)\n",
    "\n",
    "import numpy as np\n",
    "import matplotlib.pyplot as plt\n",
    "from ipywidgets import interact, FloatSlider\n",
    "\n",
    "plt.rcParams['axes.titlesize'] = 15\n",
    "plt.rcParams['axes.labelsize'] = 13\n",
    "plt.rcParams['legend.fontsize'] = 11\n",
    "plt.rcParams['figure.facecolor'] = 'white'\n",
    "plt.rcParams['axes.grid'] = True\n",
    "plt.rcParams['axes.edgecolor'] = 'gray'\n",
    "\n",
    "# --- Fully Enhanced Labor-Leisure Tradeoff Model ---\n",
    "def labor_leisure_goated(w=10, T=24, theta=1.0):\n",
    "    ℓ_star = theta / (1 + theta) * T\n",
    "    L_star = T - ℓ_star\n",
    "    c_star = w * L_star\n",
    "\n",
    "    ℓ_vals = np.linspace(0.1, T-0.1, 500)\n",
    "    c_vals = w * (T - ℓ_vals)\n",
    "\n",
    "    def utility(c, ℓ):\n",
    "        return np.log(c) + theta * np.log(ℓ)\n",
    "\n",
    "    U_star = utility(c_star, ℓ_star)\n",
    "    U_levels = [U_star - 0.5, U_star, U_star + 0.5]\n",
    "\n",
    "    fig, ax = plt.subplots(figsize=(10, 7))\n",
    "\n",
    "    # Budget Line\n",
    "    ax.plot(ℓ_vals, c_vals, label='Budget Line: $c = w(T - ℓ)$', color='black', linewidth=2)\n",
    "\n",
    "    # Indifference Curves\n",
    "    for i, U in enumerate(U_levels):\n",
    "        C = np.exp(U - theta * np.log(ℓ_vals))\n",
    "        label = f\"U = {U:.2f}\" if i == 1 else None\n",
    "        ax.plot(ℓ_vals, C, linestyle='--', color='gray', alpha=0.6, label=label)\n",
    "\n",
    "    # Optimal Point\n",
    "    ax.scatter(ℓ_star, c_star, color='red', s=100, label='Optimal Bundle')\n",
    "    ax.annotate(f\"(ℓ* = {ℓ_star:.1f}, c* = {c_star:.1f})\", xy=(ℓ_star, c_star),\n",
    "                xytext=(ℓ_star + 1, c_star + 5), arrowprops=dict(arrowstyle='->'), fontsize=12)\n",
    "\n",
    "    # Tangency Condition Text\n",
    "    ax.text(0.05 * T, 0.95 * max(c_vals), \"At optimum: MRS = w\",\n",
    "            fontsize=12, bbox=dict(boxstyle='round,pad=0.3', fc='lightyellow', ec='gray'))\n",
    "\n",
    "    ax.set_xlabel(\"Leisure (ℓ)\")\n",
    "    ax.set_ylabel(\"Consumption (c)\")\n",
    "    ax.set_title(\"Labor–Leisure Tradeoff with Indifference Curves and Tangency\")\n",
    "    ax.set_xlim(0, T)\n",
    "    ax.set_ylim(0, max(c_vals) * 1.1)\n",
    "    ax.legend()\n",
    "    ax.grid(True)\n",
    "    plt.tight_layout()\n",
    "    plt.show()\n",
    "\n",
    "    print(\"\\033[1mRESULTS:\\033[0m\")\n",
    "    print(f\"Optimal Leisure ℓ*: {ℓ_star:.2f} hrs\")\n",
    "    print(f\"Optimal Labor L*: {L_star:.2f} hrs\")\n",
    "    print(f\"Consumption c*: ${c_star:.2f}\")\n",
    "    print(f\"Utility U(c, ℓ): {U_star:.3f}\")\n",
    "    print(\"Condition: Marginal Rate of Substitution (MRS) = Wage (w)\")\n",
    "\n",
    "interact(\n",
    "    labor_leisure_goated,\n",
    "    w=FloatSlider(value=10, min=1, max=50, step=1, description='Wage (w)'),\n",
    "    T=FloatSlider(value=24, min=8, max=24, step=1, description='Time Endowment (T)'),\n",
    "    theta=FloatSlider(value=1.0, min=0.1, max=5.0, step=0.1, description='Pref. Leisure (θ)'),\n",
    ");\n"
   ]
  }
 ],
 "metadata": {
  "kernelspec": {
   "display_name": "Python (solow-env)",
   "language": "python",
   "name": "solow-env"
  },
  "language_info": {
   "codemirror_mode": {
    "name": "ipython",
    "version": 3
   },
   "file_extension": ".py",
   "mimetype": "text/x-python",
   "name": "python",
   "nbconvert_exporter": "python",
   "pygments_lexer": "ipython3",
   "version": "3.13.3"
  }
 },
 "nbformat": 4,
 "nbformat_minor": 5
}
