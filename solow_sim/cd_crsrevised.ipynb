{
 "cells": [
  {
   "cell_type": "code",
   "execution_count": null,
   "id": "0d6351e4",
   "metadata": {},
   "outputs": [
    {
     "data": {
      "application/vnd.jupyter.widget-view+json": {
       "model_id": "427bddfe602546c696bcb06da0002bb1",
       "version_major": 2,
       "version_minor": 0
      },
      "text/plain": [
       "interactive(children=(FloatSlider(value=1.0, description='TFP (A)', max=2.0, min=0.5), FloatSlider(value=0.33,…"
      ]
     },
     "metadata": {},
     "output_type": "display_data"
    },
    {
     "data": {
      "text/plain": [
       "<function __main__.cobb_douglas_model(A=1.0, alpha=0.33, K_max=100)>"
      ]
     },
     "execution_count": 3,
     "metadata": {},
     "output_type": "execute_result"
    }
   ],
   "source": [
    "import numpy as np\n",
    "import matplotlib.pyplot as plt\n",
    "from ipywidgets import interact, FloatSlider\n",
    "\n",
    "def cobb_douglas_model(A=1.0, alpha=0.33, K_max=100):\n",
    "    K = np.linspace(1, K_max, 100)\n",
    "    L = 100  # Fixed labor\n",
    "    Y = A * (K**alpha) * (L**(1 - alpha))\n",
    "\n",
    "    plt.figure(figsize=(8, 5))\n",
    "    plt.plot(K, Y, label=f\"Y = A * K^{alpha} * L^{1 - alpha}\", lw=2)\n",
    "    plt.title(\"Cobb-Douglas Production Function (Constant L)\")\n",
    "    plt.xlabel(\"Capital (K)\")\n",
    "    plt.ylabel(\"Output (Y)\")\n",
    "    plt.grid(True)\n",
    "    plt.legend()\n",
    "    plt.tight_layout()\n",
    "    plt.show()\n",
    "\n",
    "interact(\n",
    "    cobb_douglas_model,\n",
    "    A=FloatSlider(value=1.0, min=0.5, max=2.0, step=0.1, description='TFP (A)'),\n",
    "    alpha=FloatSlider(value=0.33, min=0.1, max=0.9, step=0.01, description='Alpha'),\n",
    "    K_max=FloatSlider(value=100, min=20, max=200, step=10, description='K Max')\n",
    ")"
   ]
  },
  {
   "cell_type": "markdown",
   "id": "7cc75090",
   "metadata": {},
   "source": [
    "### 📘 Cobb-Douglas Production Function\n",
    "\n",
    "This interactive notebook presents the **Cobb-Douglas production function** with **constant returns to scale**, using insights from both the *GrowthEcon Study Guide* and Charles I. Jones’s *Intermediate Macroeconomics*. We highlight how **output** depends on **capital** and **labor**, and how the production function's structure allows us to discuss **elasticities**, **cost shares**, and **balanced growth**.\n",
    "\n",
    "The general form of the function is:\n",
    "\n",
    "\\\\[\n",
    "Y = A K^{\\\\alpha} L^{1 - \\\\alpha}\n",
    "\\\\]\n",
    "\n",
    "- \\\\( Y \\\\): output (GDP)  \n",
    "- \\\\( A \\\\): total factor productivity (TFP)  \n",
    "- \\\\( K \\\\): physical capital  \n",
    "- \\\\( L \\\\): labor  \n",
    "- \\\\( \\\\alpha \\\\): output elasticity of capital, where \\\\( 0 < \\\\alpha < 1 \\\\)\n",
    "\n",
    "This model assumes **constant returns to scale**, meaning that doubling both capital and labor results in a doubling of output. It's a powerful framework for understanding economic growth, capital accumulation, and labor productivity."
   ]
  }
 ],
 "metadata": {
  "kernelspec": {
   "display_name": "Python (solow-env)",
   "language": "python",
   "name": "solow-env"
  },
  "language_info": {
   "codemirror_mode": {
    "name": "ipython",
    "version": 3
   },
   "file_extension": ".py",
   "mimetype": "text/x-python",
   "name": "python",
   "nbconvert_exporter": "python",
   "pygments_lexer": "ipython3",
   "version": "3.13.3"
  }
 },
 "nbformat": 4,
 "nbformat_minor": 5
}
