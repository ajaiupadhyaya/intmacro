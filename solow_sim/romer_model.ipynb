{
 "cells": [
  {
   "cell_type": "code",
   "execution_count": 1,
   "id": "bd54ed9d-c1b7-431d-acde-9694f4fae673",
   "metadata": {},
   "outputs": [
    {
     "data": {
      "application/vnd.jupyter.widget-view+json": {
       "model_id": "fb430f977df9423caf466a073e422e29",
       "version_major": 2,
       "version_minor": 0
      },
      "text/plain": [
       "interactive(children=(FloatSlider(value=0.05, description='Idea Productivity (δ)', max=0.15, min=0.01, step=0.…"
      ]
     },
     "metadata": {},
     "output_type": "display_data"
    }
   ],
   "source": [
    "# Vuoksi Macro Lab: Romer Model (Endogenous Growth, Powell Edition)\n",
    "\n",
    "import numpy as np\n",
    "import matplotlib.pyplot as plt\n",
    "from ipywidgets import interact, FloatSlider, Dropdown\n",
    "\n",
    "plt.rcParams['axes.titlesize'] = 14\n",
    "plt.rcParams['axes.labelsize'] = 12\n",
    "plt.rcParams['legend.fontsize'] = 11\n",
    "plt.rcParams['figure.facecolor'] = 'white'\n",
    "plt.rcParams['axes.grid'] = True\n",
    "\n",
    "# --- Romer Model with Dynamic Growth Paths and Log Visualization ---\n",
    "def romer_upgraded(delta=0.05, L=100, lam=0.2, A0=1.0, T=100, view='Growth Path'):\n",
    "    T = int(T)\n",
    "    L_A = lam * L\n",
    "    L_Y = (1 - lam) * L\n",
    "\n",
    "    A = np.zeros(T)\n",
    "    Y = np.zeros(T)\n",
    "    A[0] = A0\n",
    "    Y[0] = A0 * L_Y\n",
    "\n",
    "    for t in range(1, T):\n",
    "        A[t] = A[t-1] + delta * A[t-1] * L_A\n",
    "        Y[t] = A[t] * L_Y\n",
    "\n",
    "    g_A = delta * L_A\n",
    "    g_Y = g_A  # same growth rate in basic Romer model\n",
    "\n",
    "    fig, ax = plt.subplots(1, 1, figsize=(10, 6))\n",
    "\n",
    "    if view == 'Growth Path':\n",
    "        ax.plot(range(T), A, label='Knowledge A(t)', color='blue')\n",
    "        ax.plot(range(T), Y, label='Output Y(t)', color='green')\n",
    "        ax.set_title(\"Romer Model: Growth Over Time\")\n",
    "        ax.set_ylabel(\"Level\")\n",
    "    else:\n",
    "        ax.plot(range(T), np.log(A), label='log A(t)', color='blue')\n",
    "        ax.plot(range(T), np.log(Y), label='log Y(t)', color='green')\n",
    "        ax.set_title(\"Romer Model: Log-Scale Growth (Exponential Clarity)\")\n",
    "        ax.set_ylabel(\"Log Level\")\n",
    "\n",
    "    ax.set_xlabel(\"Time\")\n",
    "    ax.grid(True)\n",
    "    ax.legend()\n",
    "\n",
    "    plt.suptitle(\"Endogenous Growth via Knowledge Accumulation\", fontsize=14)\n",
    "    plt.tight_layout()\n",
    "    plt.show()\n",
    "\n",
    "    print(f\"Knowledge Growth Rate g_A: {g_A:.3f}\")\n",
    "    print(f\"Output Growth Rate g_Y: {g_Y:.3f}\")\n",
    "    print(f\"Final A(T): {A[-1]:.2f}, Final Y(T): {Y[-1]:.2f}\")\n",
    "\n",
    "interact(\n",
    "    romer_upgraded,\n",
    "    delta=FloatSlider(value=0.05, min=0.01, max=0.15, step=0.005, description='Idea Productivity (δ)'),\n",
    "    L=FloatSlider(value=100, min=10, max=300, step=10, description='Total Labor (L)'),\n",
    "    lam=FloatSlider(value=0.2, min=0.05, max=0.9, step=0.05, description='R&D Share (λ)'),\n",
    "    A0=FloatSlider(value=1.0, min=0.5, max=5.0, step=0.1, description='Initial A₀'),\n",
    "    T=FloatSlider(value=100, min=20, max=300, step=10, description='Time Horizon', readout_format='.0f'),\n",
    "    view=Dropdown(options=['Growth Path', 'Log Scale'], value='Growth Path', description='View Mode'),\n",
    ");\n"
   ]
  },
  {
   "cell_type": "code",
   "execution_count": null,
   "id": "627c92de-bbf4-45aa-a61f-4cb216ebcde3",
   "metadata": {},
   "outputs": [],
   "source": []
  }
 ],
 "metadata": {
  "kernelspec": {
   "display_name": "Python (solow-env)",
   "language": "python",
   "name": "solow-env"
  },
  "language_info": {
   "codemirror_mode": {
    "name": "ipython",
    "version": 3
   },
   "file_extension": ".py",
   "mimetype": "text/x-python",
   "name": "python",
   "nbconvert_exporter": "python",
   "pygments_lexer": "ipython3",
   "version": "3.13.3"
  }
 },
 "nbformat": 4,
 "nbformat_minor": 5
}
