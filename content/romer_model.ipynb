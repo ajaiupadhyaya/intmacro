{
 "cells": [
  {
   "cell_type": "code",
   "execution_count": 1,
   "id": "04f83418",
   "metadata": {
    "tags": [
     "thebe-init",
     "hide-input"
    ]
   },
   "outputs": [
    {
     "data": {
      "application/vnd.jupyter.widget-view+json": {
       "model_id": "760472d86a7149f098b98949586278b3",
       "version_major": 2,
       "version_minor": 0
      },
      "text/plain": [
       "interactive(children=(IntSlider(value=0, description='x', max=10), Output()), _dom_classes=('widget-interact',…"
      ]
     },
     "metadata": {},
     "output_type": "display_data"
    }
   ],
   "source": [
    "from ipywidgets import interact, widgets\n",
    "interact(lambda x: x**2, x=widgets.IntSlider(min=0, max=10));"
   ]
  },
  {
   "cell_type": "markdown",
   "id": "e7a25f8d",
   "metadata": {},
   "source": [
    "# 💡 Romer Model of Endogenous Growth\n",
    "\n",
    "The Romer model marked a significant step in growth theory by providing a framework where **long-run economic growth is endogenous**, driven by intentional activities like research and development (R&D) that create new **ideas (technology, knowledge, $A$)**. This contrasts with the Solow model, where long-run growth relies on exogenous technological progress.\n",
    "\n",
    "The core insight is that ideas are **non-rival** – once created, they can be used by many people simultaneously without being depleted. This property leads to increasing returns to scale and allows for sustained per capita income growth."
   ]
  },
  {
   "cell_type": "markdown",
   "id": "298b787e",
   "metadata": {},
   "source": [
    "# ⚙️ Key Equations\n",
    "\n",
    "A simplified version of the Romer model uses the following key equations:\n",
    "\n",
    "1.  **Idea Production Function:** New ideas ($\\dot{A}$ or $\\Delta A$) are produced using R&D labor ($L_A$) and the existing stock of ideas ($A$). A common specification leading to constant growth is:\n",
    "    $$ \\dot{A} = \\delta_A L_A A $$\n",
    "    - $\\delta_A$: Productivity parameter for R&D workers.\n",
    "    - $L_A$: Number of workers engaged in R&D.\n",
    "    - $A$: Existing stock of ideas/knowledge.\n",
    "    * This implies the *growth rate* of ideas is $g_A = \\dot{A}/A = \\delta_A L_A$.\n",
    "\n",
    "2.  **Output Production Function:** Output ($Y$) is produced using ideas ($A$) and labor allocated to producing goods ($L_Y$). A simple form highlighting the role of non-rival ideas is:\n",
    "    $$ Y = A L_Y $$\n",
    "    *(Note: This assumes each worker in the goods sector can use the entire stock of ideas $A$.)*\n",
    "\n",
    "3.  **Labor Allocation:** The total labor force ($L$) grows at rate $n$ and is split between goods production ($L_Y$) and R&D ($L_A$) with a constant fraction $\\omega$ (omega) in R&D:\n",
    "    $$ L_A = \\omega L $$\n",
    "    $$ L_Y = (1 - \\omega) L $$\n",
    "    $$ L_{t+1} = L_t (1 + n) $$"
   ]
  },
  {
   "cell_type": "markdown",
   "id": "7eb5bfd9",
   "metadata": {},
   "source": [
    "# 📈 Balanced Growth Path (BGP) & Scale Effects\n",
    "\n",
    "On a Balanced Growth Path (BGP), variables grow at constant rates. In this specific Romer model:\n",
    "\n",
    "* **Growth Rate of Technology ($g_A$):**\n",
    "    $$ g_A = \\delta_A L_A = \\delta_A \\omega L $$\n",
    "    If the labor force $L$ is growing (i.e., $n > 0$), then $L_A$ also grows, and the growth rate of technology *accelerates* over time. This is the strong **scale effect**: a larger population leads to faster technological growth.\n",
    "* **Growth Rate of Output per Capita ($g_{Y/L}$):**\n",
    "    Output per capita is $Y/L = A L_Y / L = A (1-\\omega)$. The growth rate is:\n",
    "    $$ g_{Y/L} = g_A $$\n",
    "    So, output per capita growth also accelerates if $n>0$.\n",
    "\n",
    "To achieve a *constant* BGP growth rate in this model structure, we often assume **zero population growth ($n=0$)**. In this case:\n",
    "* $L$ and $L_A$ are constant.\n",
    "* $g_A = \\delta_A \\omega L_0$ (constant).\n",
    "* $g_{Y/L} = g_A$ (constant).\n",
    "* $g_Y = g_A$ (constant, since $g_L=n=0$).\n",
    "\n",
    "*(Note: More advanced Romer models modify the idea production function (e.g., $\\dot{A} = \\delta_A L_A A^{\\phi}$ with $\\phi<1$) to allow for constant BGP growth even with population growth, mitigating the strong scale effect.)*\n",
    "\n",
    "The simulation plots levels and growth rates, allowing exploration of these dynamics."
   ]
  },
  {
   "cell_type": "code",
   "execution_count": 2,
   "id": "bd54ed9d-c1b7-431d-acde-9694f4fae673",
   "metadata": {
    "tags": [
     "hide-input"
    ]
   },
   "outputs": [
    {
     "data": {
      "application/vnd.jupyter.widget-view+json": {
       "model_id": "94bbdec663ee44499c25571066c004b4",
       "version_major": 2,
       "version_minor": 0
      },
      "text/plain": [
       "interactive(children=(FloatSlider(value=0.0005, description='R&D Productivity (delta_A δA):', layout=Layout(wi…"
      ]
     },
     "metadata": {},
     "output_type": "display_data"
    }
   ],
   "source": [
    "# Import necessary libraries\n",
    "import numpy as np\n",
    "import matplotlib.pyplot as plt\n",
    "from ipywidgets import interact, FloatSlider, IntSlider, Layout\n",
    "from IPython.display import display, Markdown\n",
    "import warnings\n",
    "\n",
    "# Optional: Use a specific style\n",
    "try:\n",
    "    plt.style.use('seaborn-v0_8-whitegrid')\n",
    "except IOError:\n",
    "    pass # Use default if style not found\n",
    "\n",
    "def romer_model_simulator(delta_A=0.0005, L0=100.0, n=0.01, omega=0.1, A0=1.0, T=100):\n",
    "    \"\"\"\n",
    "    Simulates a basic Romer model of endogenous growth.\n",
    "    Y = A * L_Y\n",
    "    A_dot/A = delta_A * L_A = delta_A * omega * L\n",
    "    L grows at rate n.\n",
    "\n",
    "    Args:\n",
    "        delta_A (float): Productivity of R&D workers (z or delta_A in notes).\n",
    "        L0 (float): Initial total labor force.\n",
    "        n (float): Growth rate of the total labor force L.\n",
    "        omega (float): Fraction of labor force in R&D (0 < omega < 1).\n",
    "        A0 (float): Initial level of technology/ideas.\n",
    "        T (int): Time Horizon (number of periods).\n",
    "    \"\"\"\n",
    "    # Ensure T is an integer\n",
    "    T = int(T)\n",
    "    if T < 2: T = 2 # Need at least 2 periods for growth calc\n",
    "\n",
    "    # Input validation\n",
    "    omega = np.clip(omega, 0.01, 0.99)\n",
    "    delta_A = max(delta_A, 0)\n",
    "    n = max(n, 0) # Allow zero population growth\n",
    "    L0 = max(L0, 1)\n",
    "    A0 = max(A0, 0.1)\n",
    "\n",
    "    # Arrays to store results (size T+1 for levels)\n",
    "    time = np.arange(T + 1)\n",
    "    A = np.zeros(T + 1)\n",
    "    L = np.zeros(T + 1)\n",
    "    L_A = np.zeros(T + 1) # Labor in R&D\n",
    "    L_Y = np.zeros(T + 1) # Labor in Goods Production\n",
    "    Y = np.zeros(T + 1) # Total Output\n",
    "    Y_per_L = np.zeros(T + 1) # Output per worker\n",
    "    g_A = np.zeros(T)     # Growth rate of A (length T)\n",
    "    g_L = np.zeros(T)     # Growth rate of L\n",
    "    g_Y = np.zeros(T)     # Growth rate of Y\n",
    "    g_Y_per_L = np.zeros(T) # Growth rate of Y/L\n",
    "\n",
    "    # Initial conditions\n",
    "    A[0] = A0\n",
    "    L[0] = L0\n",
    "\n",
    "    # --- Simulation Loop (t=0 to T-1 to calculate state for t+1) ---\n",
    "    for t in range(T):\n",
    "        # Labor allocation for period t\n",
    "        L_A[t] = omega * L[t]\n",
    "        L_Y[t] = (1 - omega) * L[t]\n",
    "\n",
    "        # Production in period t\n",
    "        Y[t] = A[t] * L_Y[t]\n",
    "        Y_per_L[t] = A[t] * (1 - omega) # Y/L = A * L_Y / L\n",
    "\n",
    "        # Calculate next period's state variables\n",
    "        # Technology growth: A_dot/A = delta_A * L_A => A_t+1 = A_t * (1 + delta_A * L_A_t)\n",
    "        current_g_A = delta_A * L_A[t]\n",
    "        A[t+1] = A[t] * (1 + current_g_A)\n",
    "\n",
    "        # Labor force growth\n",
    "        L[t+1] = L[t] * (1 + n)\n",
    "\n",
    "        # Store growth rates (from t to t+1)\n",
    "        g_A[t] = current_g_A\n",
    "        g_L[t] = n # Labor growth rate is constant\n",
    "\n",
    "        # Calculate Y[T] and Y_per_L[T] for the last period\n",
    "        if t == T-1:\n",
    "            L_A[T] = omega * L[T]\n",
    "            L_Y[T] = (1 - omega) * L[T]\n",
    "            Y[T] = A[T] * L_Y[T]\n",
    "            Y_per_L[T] = A[T] * (1 - omega)\n",
    "\n",
    "        # Growth rate of Y and Y/L (handle division by zero)\n",
    "        if Y[t] > 1e-9: g_Y[t] = (Y[t+1] / Y[t]) - 1\n",
    "        else: g_Y[t] = 0\n",
    "        if Y_per_L[t] > 1e-9: g_Y_per_L[t] = (Y_per_L[t+1] / Y_per_L[t]) - 1\n",
    "        else: g_Y_per_L[t] = 0\n",
    "\n",
    "    # --- Plotting ---\n",
    "    fig, axes = plt.subplots(2, 2, figsize=(14, 10))\n",
    "    axes = axes.ravel()\n",
    "\n",
    "    # Plot 0: Levels (Log Scale) - A, L\n",
    "    axes[0].plot(time, A, label='Technology (A)', color='red', lw=2)\n",
    "    axes[0].plot(time, L, label=f'Labor (L, n={n:.1%})', color='green', lw=2, linestyle=':')\n",
    "    axes[0].set_yscale('log')\n",
    "    axes[0].set_title('Technology & Labor Levels (Log Scale)')\n",
    "    axes[0].set_xlabel(\"Time (t)\")\n",
    "    axes[0].set_ylabel(\"Level (Log Scale)\")\n",
    "    axes[0].legend(fontsize='small')\n",
    "    axes[0].grid(True, which='both', linestyle='--', alpha=0.6)\n",
    "\n",
    "    # Plot 1: Output Levels (Log Scale) - Y, Y/L\n",
    "    axes[1].plot(time, Y, label='Total Output (Y)', color='black', lw=2)\n",
    "    axes[1].plot(time, Y_per_L, label='Output per Worker (Y/L)', color='purple', lw=2, linestyle='--')\n",
    "    axes[1].set_yscale('log')\n",
    "    axes[1].set_title('Output Levels (Log Scale)')\n",
    "    axes[1].set_xlabel(\"Time (t)\")\n",
    "    axes[1].set_ylabel(\"Output (Log Scale)\")\n",
    "    axes[1].legend(fontsize='small')\n",
    "    axes[1].grid(True, which='both', linestyle='--', alpha=0.6)\n",
    "\n",
    "    # Plot 2: Growth Rates - gA, g(Y/L), gY, n\n",
    "    plot_time_g = time[:-1] # Time for growth rates (length T)\n",
    "    axes[2].plot(plot_time_g, g_A*100, label='Tech. Growth (gA)', color='red', lw=2)\n",
    "    axes[2].plot(plot_time_g, g_Y_per_L*100, label='Output per Worker Growth (g(Y/L))', color='purple', lw=2, linestyle='--')\n",
    "    axes[2].plot(plot_time_g, g_Y*100, label='Total Output Growth (gY)', color='black', lw=1.5, alpha=0.7)\n",
    "    axes[2].axhline(n*100, color='green', linestyle=':', label=f'Labor Growth (n={n:.1%})')\n",
    "    axes[2].set_title('Growth Rates')\n",
    "    axes[2].set_xlabel(\"Time (t)\")\n",
    "    axes[2].set_ylabel(\"Growth Rate (%)\")\n",
    "    axes[2].yaxis.set_major_formatter(plt.FuncFormatter(lambda y, _: f'{y:.2f}%'))\n",
    "    axes[2].legend(fontsize='small')\n",
    "    axes[2].grid(True, linestyle='--', alpha=0.6)\n",
    "    # Dynamic ylim for growth rates\n",
    "    all_growth = np.concatenate([g_A, g_Y_per_L, g_Y, [n]]) * 100\n",
    "    g_min = min(all_growth.min(), 0)\n",
    "    g_max = max(all_growth.max(), 0)\n",
    "    g_range = max(g_max - g_min, 0.1)\n",
    "    axes[2].set_ylim(g_min - g_range*0.1 - 0.1 , g_max + g_range*0.1 + 0.1)\n",
    "\n",
    "\n",
    "    # Plot 3: R&D Labor (LA)\n",
    "    axes[3].plot(time, L_A, label=f'R&D Labor (LA = omega*L)', color='blue', lw=2)\n",
    "    axes[3].set_title('Labor Allocation to R&D')\n",
    "    axes[3].set_xlabel(\"Time (t)\")\n",
    "    axes[3].set_ylabel(\"Number of R&D Workers (LA)\")\n",
    "    axes[3].legend(fontsize='small')\n",
    "    axes[3].grid(True, linestyle='--', alpha=0.6)\n",
    "    axes[3].set_ylim(bottom=0)\n",
    "\n",
    "\n",
    "    fig.suptitle(f\"Romer Endogenous Growth Model (gA = δA*ω*L)\", fontsize=16, y=1.03)\n",
    "    plt.tight_layout(rect=[0, 0, 1, 0.97])\n",
    "    plt.show()\n",
    "\n",
    "    # --- Display Final Growth Rates & BGP Info ---\n",
    "    final_gA = g_A[-1] if T > 0 else np.nan\n",
    "    final_gYperL = g_Y_per_L[-1] if T > 0 else np.nan\n",
    "    final_gY = g_Y[-1] if T > 0 else np.nan\n",
    "\n",
    "    # BGP growth rate depends on whether L is growing (scale effect)\n",
    "    bgp_gA_explanation = f\"δA * ω * L({T}) = {delta_A:.4f} * {omega:.2f} * {L[-1]:.1f} ≈ {final_gA:.3%}\" if T>0 else \"N/A\"\n",
    "    bgp_gYperL_explanation = f\"gA ≈ {final_gA:.3%}\" if T>0 else \"N/A\"\n",
    "    bgp_gY_explanation = f\"gA + n ≈ {final_gA + n:.3%}\" if T>0 else \"N/A\"\n",
    "\n",
    "\n",
    "    results_md = f\"\"\"\n",
    "    ### 📈 Growth Results (Approximate Final Rates at t={T-1}):\n",
    "\n",
    "    * **Technology Growth (gA):** {final_gA:.3%}\n",
    "    * **Output per Worker Growth (g(Y/L)):** {final_gYperL:.3%}\n",
    "    * **Total Output Growth (gY):** {final_gY:.3%}\n",
    "    * **Labor Growth (n):** {n:.3%}\n",
    "\n",
    "    **Balanced Growth Path (BGP) Predictions:**\n",
    "    * $g_A = \\\\delta_A \\\\omega L_t$. If $n>0$, $L_t$ grows, causing $g_A$ to accelerate (Scale Effect). If $n=0$, $g_A$ is constant.\n",
    "    * $g_{{Y/L}} = g_A$.\n",
    "    * $g_Y = g_A + n$.\n",
    "\n",
    "    * **Final Calculated gA:** {bgp_gA_explanation}\n",
    "    * **Final Calculated g(Y/L):** {bgp_gYperL_explanation}\n",
    "    * **Final Calculated gY:** {bgp_gY_explanation}\n",
    "    \"\"\"\n",
    "    display(Markdown(results_md))\n",
    "\n",
    "\n",
    "# --- Create Interactive Widgets ---\n",
    "style = {'description_width': 'initial'}\n",
    "layout = Layout(width='95%')\n",
    "\n",
    "interact(\n",
    "    romer_model_simulator,\n",
    "    delta_A=FloatSlider(value=0.0005, min=0.0, max=0.005, step=0.0001, description='R&D Productivity (delta_A δA):', style=style, layout=layout, readout_format='.4f'),\n",
    "    L0=FloatSlider(value=100.0, min=10, max=1000, step=10, description='Initial Labor (L0):', style=style, layout=layout, readout_format='.0f'),\n",
    "    n=FloatSlider(value=0.01, min=0.0, max=0.05, step=0.002, description='Labor Growth (n):', style=style, layout=layout, readout_format='.1%'),\n",
    "    omega=FloatSlider(value=0.1, min=0.01, max=0.5, step=0.01, description='R&D Share (omega ω):', style=style, layout=layout, readout_format='.2f'),\n",
    "    A0=FloatSlider(value=1.0, min=0.1, max=10.0, step=0.1, description='Initial Tech (A0):', style=style, layout=layout, readout_format='.1f'),\n",
    "    T=IntSlider(value=100, min=10, max=200, step=5, description='Time Periods (T):', style=style, layout=layout)\n",
    ");\n"
   ]
  },
  {
   "cell_type": "markdown",
   "id": "8298d63b",
   "metadata": {},
   "source": [
    "# 📈 The Romer Growth Model\n",
    "# Ideas, Innovation, and Endogenous Growth\n",
    "\n",
    "In the Romer model, **economic growth** is driven by the creation of new ideas.  \n",
    "Unlike the Solow model, where long-run growth is exogenous, Romer shows how human capital and R&D efforts endogenously determine growth rates.\n",
    "\n",
    "> *\"Ideas are different. They are nonrival and can be used by many people at the same time.\"* – Paul Romer\n",
    "\n",
    "This simulation shows how parameters like the productivity of researchers, the fraction of labor allocated to R&D, and the size of the workforce drive **idea growth** and hence **output per person**."
   ]
  },
  {
   "cell_type": "code",
   "execution_count": 3,
   "id": "7b608944",
   "metadata": {
    "tags": [
     "thebe-init",
     "hide-input"
    ]
   },
   "outputs": [],
   "source": [
    "import numpy as np\n",
    "import matplotlib.pyplot as plt\n",
    "from ipywidgets import interact, FloatSlider, IntSlider\n",
    "import matplotlib.ticker as mtick\n",
    "\n",
    "plt.rcParams['axes.titlesize'] = 16\n",
    "plt.rcParams['axes.labelsize'] = 14\n",
    "plt.rcParams['figure.figsize'] = (10, 6)"
   ]
  },
  {
   "cell_type": "code",
   "execution_count": 4,
   "id": "a5cbaac1",
   "metadata": {
    "tags": [
     "thebe-init",
     "hide-input"
    ]
   },
   "outputs": [],
   "source": [
    "def romer_growth_model(L=100, l=0.2, phi=0.5, A0=1, z=0.05, T=50):\n",
    "    A = [A0]\n",
    "    Y = []\n",
    "\n",
    "    for t in range(T):\n",
    "        A_next = A[-1] * (1 + z * phi * l * L)\n",
    "        A.append(A_next)\n",
    "        Y.append((1 - l) * L * A[-1])  # Output = non-R&D labor × idea stock\n",
    "\n",
    "    t_vals = list(range(T))\n",
    "\n",
    "    fig, ax = plt.subplots()\n",
    "    ax.plot(t_vals, Y, label='Output per Person', color=\"mediumblue\")\n",
    "    ax.plot(t_vals, A[:-1], '--', label='Ideas (A)', color=\"gray\")\n",
    "    ax.set_title('Romer Model: Endogenous Growth Over Time')\n",
    "    ax.set_xlabel('Time (Years)')\n",
    "    ax.set_ylabel('Level')\n",
    "    ax.legend()\n",
    "    ax.grid(True)\n",
    "    ax.yaxis.set_major_formatter(mtick.StrMethodFormatter('{x:,.0f}'))\n",
    "    plt.tight_layout()\n",
    "    plt.show()"
   ]
  },
  {
   "cell_type": "code",
   "execution_count": 5,
   "id": "72bfe8ab",
   "metadata": {
    "tags": [
     "thebe-init",
     "hide-input"
    ]
   },
   "outputs": [
    {
     "data": {
      "application/vnd.jupyter.widget-view+json": {
       "model_id": "bec1c8fdbfe6440ca0c36d68f2e080d1",
       "version_major": 2,
       "version_minor": 0
      },
      "text/plain": [
       "interactive(children=(IntSlider(value=100, description='Labor (L)', max=200, min=50, step=10), FloatSlider(val…"
      ]
     },
     "metadata": {},
     "output_type": "display_data"
    },
    {
     "data": {
      "text/plain": [
       "<function __main__.romer_growth_model(L=100, l=0.2, phi=0.5, A0=1, z=0.05, T=50)>"
      ]
     },
     "execution_count": 5,
     "metadata": {},
     "output_type": "execute_result"
    }
   ],
   "source": [
    "interact(\n",
    "    romer_growth_model,\n",
    "    L=IntSlider(value=100, min=50, max=200, step=10, description='Labor (L)'),\n",
    "    l=FloatSlider(value=0.2, min=0.05, max=0.5, step=0.01, description='R&D share (l)'),\n",
    "    phi=FloatSlider(value=0.5, min=0.1, max=1.0, step=0.05, description='Productivity (φ)'),\n",
    "    A0=FloatSlider(value=1.0, min=0.1, max=5.0, step=0.1, description='Initial A'),\n",
    "    z=FloatSlider(value=0.05, min=0.01, max=0.1, step=0.005, description='Scaling z'),\n",
    "    T=IntSlider(value=50, min=20, max=100, step=5, description='Time Horizon'),\n",
    ")"
   ]
  },
  {
   "cell_type": "markdown",
   "id": "de037637",
   "metadata": {},
   "source": [
    "# 📌 Core Equation\n",
    "\n",
    "The production of new ideas follows:\n",
    "\n",
    "$$\n",
    "\\Delta A = z \\\\cdot \\phi \\\\cdot l \\\\cdot L \\\\cdot A\n",
    "$$\n",
    "\n",
    "This exponential dynamic implies that with **more people working in R&D**, **higher productivity**, or **larger initial knowledge**, growth accelerates.\n",
    "\n",
    "\n",
    "This model shows why **population size** and **research incentives** matter enormously for long-run prosperity.\n",
    "\n",
    "*Explore how different parameters change the pace of innovation and output per person.*"
   ]
  }
 ],
 "metadata": {
  "kernelspec": {
   "display_name": "Python (solow-env)",
   "language": "python",
   "name": "solow-env"
  },
  "language_info": {
   "codemirror_mode": {
    "name": "ipython",
    "version": 3
   },
   "file_extension": ".py",
   "mimetype": "text/x-python",
   "name": "python",
   "nbconvert_exporter": "python",
   "pygments_lexer": "ipython3",
   "version": "3.13.3"
  },
  "tags": [
   "thebe-init"
  ]
 },
 "nbformat": 4,
 "nbformat_minor": 5
}
