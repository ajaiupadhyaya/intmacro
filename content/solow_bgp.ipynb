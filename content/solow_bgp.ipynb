{
 "cells": [
  {
   "cell_type": "code",
   "execution_count": 1,
   "id": "ef2f6de3",
   "metadata": {
    "tags": [
     "thebe-init",
     "hide-input"
    ]
   },
   "outputs": [
    {
     "data": {
      "application/vnd.jupyter.widget-view+json": {
       "model_id": "8ae6e1488c024904911bee6f231dcdbb",
       "version_major": 2,
       "version_minor": 0
      },
      "text/plain": [
       "interactive(children=(IntSlider(value=0, description='x', max=10), Output()), _dom_classes=('widget-interact',…"
      ]
     },
     "metadata": {},
     "output_type": "display_data"
    }
   ],
   "source": [
    "from ipywidgets import interact, widgets\n",
    "interact(lambda x: x**2, x=widgets.IntSlider(min=0, max=10));"
   ]
  },
  {
   "cell_type": "markdown",
   "id": "42b7951e",
   "metadata": {},
   "source": [
    "# 📈 The Solow Growth Model\n",
    "\n",
    "The Solow growth model, developed by Robert Solow, is a foundational model in macroeconomics used to explain long-run economic growth. It describes how capital accumulation, population growth, and technological progress interact to determine an economy's output level and growth path over time.\n",
    "\n",
    "The model uses a standard aggregate production function, typically Cobb-Douglas with constant returns to scale:\n",
    "$$Y = K^{\\alpha} (AL)^{1 - \\alpha}$$\n",
    "- $Y$: Total output\n",
    "- $K$: Physical capital stock\n",
    "- $L$: Labor force\n",
    "- $A$: Level of technology (labor-augmenting)\n",
    "- $\\alpha$: Capital's share of income ($0 < \\alpha < 1$)\n",
    "\n",
    "The term $AL$ represents **effective labor**. The model analyzes the economy's dynamics by focusing on capital accumulation **per effective worker**."
   ]
  },
  {
   "cell_type": "markdown",
   "id": "a6970f8f",
   "metadata": {},
   "source": [
    "# ⚙️ Dynamics in Intensive Form & Steady State\n",
    "\n",
    "To analyze convergence, we look at variables per effective worker:\n",
    "- $k = K / (AL)$: Capital per effective worker\n",
    "- $y = Y / (AL)$: Output per effective worker ($y = k^{\\alpha}$)\n",
    "\n",
    "The core dynamic equation describes the change in capital per effective worker ($\\dot{k}$ or $\\Delta k$):\n",
    "$$ \\dot{k} = s y - (\\delta + n + g) k $$\n",
    "$$ \\dot{k} = s k^{\\alpha} - (\\delta + n + g) k $$\n",
    "*(Discrete time approx: $k_{t+1} - k_t \\approx s k_t^{\\alpha} - (\\delta + n + g) k_t$)*\n",
    "\n",
    "Where:\n",
    "- $s$: Savings rate (fraction of output invested)\n",
    "- $\\delta$: Depreciation rate of capital\n",
    "- $n$: Growth rate of the labor force ($L$)\n",
    "- $g$: Growth rate of technology ($A$)\n",
    "\n",
    "**Interpretation:**\n",
    "- $s k^{\\alpha}$: Actual investment per effective worker.\n",
    "- $(\\delta + n + g) k$: \"Breakeven investment\" per effective worker – the amount needed to keep $k$ constant. Capital must be replaced due to depreciation ($\\delta k$), equipped for new workers ($nk$), and keep up with technology ($gk$).\n",
    "\n",
    "**Steady State ($k^*$):** The economy converges to a steady state where $k$ is constant ($\\dot{k} = 0$). This occurs when actual investment equals breakeven investment:\n",
    "$$ s (k^*)^{\\alpha} = (\\delta + n + g) k^* $$\n",
    "Solving for $k^*$:\n",
    "$$ k^* = \\left( \\frac{s}{\\delta + n + g} \\right)^{\\frac{1}{1-\\alpha}} $$\n",
    "The steady-state output per effective worker is $y^* = (k^*)^{\\alpha}$.\n",
    "\n",
    "**Special Case (No Growth in A or L):** If $n=0$ and $g=0$, the model describes capital per *worker* ($K/L$) converging to $k^* = (sA / \\delta)^{1/(1-\\alpha)}$. In this case, output per worker ($Y/L$) also converges to a constant steady-state level, and there is no long-run growth in living standards."
   ]
  },
  {
   "cell_type": "markdown",
   "id": "4d181170",
   "metadata": {},
   "source": [
    "# 📊 Balanced Growth Path (BGP)\n",
    "\n",
    "When $g > 0$ (positive technological progress), the economy reaches a **Balanced Growth Path (BGP)**, characterized by:\n",
    "\n",
    "1.  **Constant $k$ and $y$:** Capital per *effective* worker ($k=K/AL$) and output per *effective* worker ($y=Y/AL$) converge to their constant steady-state values ($k^*, y^*$).\n",
    "2.  **Constant Growth in Per Capita Variables:** Capital per *worker* ($K/L = k \\times A$) and output per *worker* ($Y/L = y \\times A$) grow at the rate of technological progress, $g$. This implies sustained growth in living standards.\n",
    "3.  **Constant Growth in Aggregate Variables:** Total capital ($K = k \\times A \\times L$) and total output ($Y = y \\times A \\times L$) grow at the rate $n+g$.\n",
    "4.  **Constant Capital-Output Ratio:** The ratio $K/Y = k/y = (k^*)^{1-\\alpha}$ is constant in the steady state.\n",
    "\n",
    "The key prediction is that **sustained long-run growth in output per worker (living standards) is driven solely by technological progress ($g$)**. Changes in the savings rate ($s$) or population growth ($n$) affect the *level* of the BGP ($k^*$ and $y^*$) but not its long-run *growth rate*.\n",
    "\n",
    "The simulation below plots the transition of $k$ and $y$ towards their steady states, and also shows the growth path of output per worker ($Y/L$) on the BGP."
   ]
  },
  {
   "cell_type": "code",
   "execution_count": 2,
   "id": "2ffc305a",
   "metadata": {
    "tags": [
     "hide-input"
    ]
   },
   "outputs": [
    {
     "name": "stderr",
     "output_type": "stream",
     "text": [
      "<>:136: SyntaxWarning: invalid escape sequence '\\*'\n",
      "<>:134: SyntaxWarning: invalid escape sequence '\\*'\n",
      "<>:136: SyntaxWarning: invalid escape sequence '\\*'\n",
      "<>:134: SyntaxWarning: invalid escape sequence '\\*'\n",
      "/var/folders/kz/cc2y6j3953z1bgkfgj5xk9yc0000gn/T/ipykernel_87520/2052404946.py:136: SyntaxWarning: invalid escape sequence '\\*'\n",
      "  \n",
      "/var/folders/kz/cc2y6j3953z1bgkfgj5xk9yc0000gn/T/ipykernel_87520/2052404946.py:134: SyntaxWarning: invalid escape sequence '\\*'\n",
      "  display(Markdown(steady_state_md))\n"
     ]
    },
    {
     "data": {
      "application/vnd.jupyter.widget-view+json": {
       "model_id": "e65e0b8c46014d66b9ceed6370d11b88",
       "version_major": 2,
       "version_minor": 0
      },
      "text/plain": [
       "interactive(children=(FloatSlider(value=0.25, description='Savings Rate (s):', layout=Layout(width='95%'), max…"
      ]
     },
     "metadata": {},
     "output_type": "display_data"
    }
   ],
   "source": [
    "# Import necessary libraries\n",
    "import numpy as np\n",
    "import matplotlib.pyplot as plt\n",
    "from ipywidgets import interact, FloatSlider, IntSlider, Layout\n",
    "from IPython.display import display, Markdown\n",
    "import warnings\n",
    "\n",
    "# Optional: Use a specific style\n",
    "try:\n",
    "    plt.style.use('seaborn-v0_8-whitegrid')\n",
    "except IOError:\n",
    "    pass # Use default if style not found\n",
    "\n",
    "def solow_growth_simulator(\n",
    "    s=0.25, delta=0.05, alpha=0.33, n=0.01, g=0.02, A0=1.0, k0=1.0, T=150\n",
    "    ):\n",
    "    \"\"\"\n",
    "    Simulates the Solow Growth Model with population growth (n) and\n",
    "    technological progress (g), showing convergence to the Balanced Growth Path (BGP).\n",
    "\n",
    "    Args:\n",
    "        s (float): Savings rate.\n",
    "        delta (float): Depreciation rate.\n",
    "        alpha (float): Capital share (output elasticity of capital).\n",
    "        n (float): Population / Labor force growth rate.\n",
    "        g (float): Technological progress growth rate (labor-augmenting).\n",
    "        A0 (float): Initial level of technology.\n",
    "        k0 (float): Initial capital per effective worker (K0 / (A0*L0)).\n",
    "        T (int): Time Horizon (number of periods).\n",
    "    \"\"\"\n",
    "    # Ensure T is an integer\n",
    "    T = int(T)\n",
    "    if T < 5: T = 5\n",
    "\n",
    "    # Input validation\n",
    "    alpha = np.clip(alpha, 0.01, 0.99)\n",
    "    s = np.clip(s, 0.01, 0.99)\n",
    "    delta = max(delta, 0)\n",
    "    n = max(n, 0)\n",
    "    g = max(g, 0)\n",
    "    k0 = max(k0, 0.01) # Start k slightly above zero\n",
    "    A0 = max(A0, 0.1)\n",
    "\n",
    "    # Calculate steady state (per effective worker)\n",
    "    break_even_rate = delta + n + g\n",
    "    k_star = np.nan\n",
    "    y_star = np.nan\n",
    "    if break_even_rate > 1e-9 and s > 0 : # Ensure valid calculation\n",
    "        try:\n",
    "            # k* = (s / (delta + n + g))**(1 / (1 - alpha))\n",
    "            exponent = 1.0 / (1.0 - alpha)\n",
    "            base = s / break_even_rate\n",
    "            log_k_star = exponent * np.log(base)\n",
    "            # Set a reasonable upper bound to prevent extreme values in plots\n",
    "            log_k_star = min(log_k_star, 20) # Corresponds to k_star ~ 5e8\n",
    "            k_star = np.exp(log_k_star)\n",
    "            y_star = k_star**alpha\n",
    "        except (ValueError, OverflowError):\n",
    "            warnings.warn(\"Could not calculate steady state - parameters might lead to extreme values.\")\n",
    "            k_star, y_star = np.nan, np.nan\n",
    "\n",
    "\n",
    "    # --- Simulation ---\n",
    "    k = np.zeros(T + 1) # Capital per effective worker K/(AL)\n",
    "    A = A0 * (1 + g)**np.arange(T + 1) # Technology level\n",
    "    # L is not explicitly needed for k dynamics, but needed for Y/L\n",
    "\n",
    "    k[0] = k0\n",
    "    for t in range(T):\n",
    "        y_t = k[t]**alpha # Output per effective worker\n",
    "        investment = s * y_t\n",
    "        break_even_investment = break_even_rate * k[t]\n",
    "        # Change in k = investment - break_even_investment\n",
    "        delta_k = investment - break_even_investment\n",
    "        k[t+1] = k[t] + delta_k\n",
    "        # Ensure k doesn't go below a small positive value\n",
    "        k[t+1] = max(k[t+1], 1e-9)\n",
    "\n",
    "    # Calculate derived variables\n",
    "    y = k**alpha # Output per effective worker y = Y/(AL)\n",
    "    y_per_worker = y * A # Output per worker Y/L = y * A\n",
    "\n",
    "    # --- Plotting ---\n",
    "    fig, axes = plt.subplots(1, 2, figsize=(16, 6))\n",
    "    time = np.arange(T + 1)\n",
    "\n",
    "    # Plot 1: Per Effective Worker Variables (Convergence to Steady State)\n",
    "    axes[0].plot(time, k, label='k(t) = K/(AL)', color='navy', lw=2)\n",
    "    axes[0].plot(time, y, label='y(t) = Y/(AL)', color='forestgreen', lw=2, linestyle='--')\n",
    "    if not np.isnan(k_star):\n",
    "        axes[0].axhline(k_star, color='red', linestyle=':', lw=1.5, label=f'Steady State k* ≈ {k_star:.2f}')\n",
    "    if not np.isnan(y_star):\n",
    "        axes[0].axhline(y_star, color='orange', linestyle=':', lw=1.5, label=f'Steady State y* ≈ {y_star:.2f}')\n",
    "    axes[0].set_title(\"Convergence per Effective Worker\")\n",
    "    axes[0].set_xlabel(\"Time (t)\")\n",
    "    axes[0].set_ylabel(\"Level per Effective Worker\")\n",
    "    axes[0].legend()\n",
    "    axes[0].grid(True, linestyle='--', alpha=0.7)\n",
    "    # Dynamic Y limits for k/y plot\n",
    "    k_plot_max = max(k.max(), k_star if not np.isnan(k_star) else k.max())\n",
    "    y_plot_max = max(y.max(), y_star if not np.isnan(y_star) else y.max())\n",
    "    axes[0].set_ylim(0, max(k_plot_max, y_plot_max) * 1.1)\n",
    "    axes[0].set_xlim(0, T)\n",
    "\n",
    "\n",
    "    # Plot 2: Per Worker Variables (Balanced Growth Path - Log Scale)\n",
    "    axes[1].plot(time, y_per_worker, label='Output per Worker (Y/L = y*A)', color='purple', lw=2)\n",
    "    # Optional: Plot K/L = k*A\n",
    "    # k_per_worker = k * A\n",
    "    # axes[1].plot(time, k_per_worker, label='Capital per Worker (K/L = k*A)', color='deepskyblue', lw=2, linestyle='--')\n",
    "    axes[1].set_yscale('log') # Log scale shows constant growth as straight line\n",
    "    axes[1].set_title(f\"Balanced Growth Path (Log Scale, Growth ≈ g={g:.1%})\")\n",
    "    axes[1].set_xlabel(\"Time (t)\")\n",
    "    axes[1].set_ylabel(\"Level per Worker (Log Scale)\")\n",
    "    axes[1].legend()\n",
    "    axes[1].grid(True, which='both', linestyle='--', alpha=0.7) # Grid on log scale\n",
    "    axes[1].set_xlim(0, T)\n",
    "\n",
    "    fig.suptitle(f\"Solow Growth Model Simulation (s={s:.2f}, δ={delta:.2f}, n={n:.1%}, g={g:.1%}, α={alpha:.2f})\", fontsize=14, y=1.02)\n",
    "    plt.tight_layout(rect=[0, 0, 1, 0.96])\n",
    "    plt.show()\n",
    "\n",
    "    # --- Display Steady State Info ---\n",
    "    steady_state_md = f\"\"\"\n",
    "    ### ⚖️ Steady State & BGP Summary:\n",
    "\n",
    "    * **Steady-State Capital per Effective Worker (k\\*):** {k_star:.3f}\n",
    "    * **Steady-State Output per Effective Worker (y\\*):** {y_star:.3f}\n",
    "        * *(Variables per effective worker become constant)*\n",
    "    * **BGP Growth Rate of Output per Worker (g(Y/L)):** {g:.2%}\n",
    "    * **BGP Growth Rate of Total Output (gY):** {n + g:.2%}\n",
    "        * *(Per worker variables grow at rate g, Total variables grow at rate n+g)*\n",
    "    \"\"\"\n",
    "    display(Markdown(steady_state_md))\n",
    "\n",
    "\n",
    "# --- Create Interactive Widgets ---\n",
    "style = {'description_width': 'initial'}\n",
    "layout = Layout(width='95%')\n",
    "\n",
    "interact(\n",
    "    solow_growth_simulator,\n",
    "    s=FloatSlider(value=0.25, min=0.05, max=0.6, step=0.01, description='Savings Rate (s):', style=style, layout=layout, readout_format='.2f'),\n",
    "    delta=FloatSlider(value=0.05, min=0.01, max=0.15, step=0.005, description='Depreciation (delta δ):', style=style, layout=layout, readout_format='.3f'),\n",
    "    alpha=FloatSlider(value=0.33, min=0.1, max=0.8, step=0.01, description='Capital Share (alpha α):', style=style, layout=layout, readout_format='.2f'),\n",
    "    n=FloatSlider(value=0.01, min=0.0, max=0.05, step=0.002, description='Pop. Growth (n):', style=style, layout=layout, readout_format='.1%'),\n",
    "    g=FloatSlider(value=0.02, min=0.0, max=0.05, step=0.002, description='Tech Growth (g):', style=style, layout=layout, readout_format='.1%'),\n",
    "    A0=FloatSlider(value=1.0, min=0.5, max=3.0, step=0.1, description='Initial Tech (A0):', style=style, layout=layout),\n",
    "    k0=FloatSlider(value=1.0, min=0.1, max=20.0, step=0.1, description='Initial k (k0=K0/A0L0):', style=style, layout=layout, readout_format='.1f'),\n",
    "    T=IntSlider(value=150, min=20, max=500, step=10, description='Time Periods (T):', style=style, layout=layout)\n",
    ");\n"
   ]
  }
 ],
 "metadata": {
  "kernelspec": {
   "display_name": "Python (solow-env)",
   "language": "python",
   "name": "solow-env"
  },
  "language_info": {
   "codemirror_mode": {
    "name": "ipython",
    "version": 3
   },
   "file_extension": ".py",
   "mimetype": "text/x-python",
   "name": "python",
   "nbconvert_exporter": "python",
   "pygments_lexer": "ipython3",
   "version": "3.13.3"
  },
  "tags": [
   "thebe-init"
  ]
 },
 "nbformat": 4,
 "nbformat_minor": 5
}
