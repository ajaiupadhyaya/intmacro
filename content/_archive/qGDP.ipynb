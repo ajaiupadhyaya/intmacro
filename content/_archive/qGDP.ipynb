{
 "cells": [
  {
   "cell_type": "code",
   "execution_count": 1,
   "id": "069bfb16",
   "metadata": {
    "tags": [
     "thebe-init",
     "hide-input"
    ]
   },
   "outputs": [
    {
     "data": {
      "application/vnd.jupyter.widget-view+json": {
       "model_id": "0d3cff349bf545f8989eedbb3679823c",
       "version_major": 2,
       "version_minor": 0
      },
      "text/plain": [
       "interactive(children=(IntSlider(value=0, description='x', max=10), Output()), _dom_classes=('widget-interact',…"
      ]
     },
     "metadata": {},
     "output_type": "display_data"
    }
   ],
   "source": [
    "from ipywidgets import interact, widgets\n",
    "interact(lambda x: x**2, x=widgets.IntSlider(min=0, max=10));"
   ]
  },
  {
   "cell_type": "markdown",
   "id": "7c2f7907",
   "metadata": {},
   "source": [
    "# 🗓️ Quarterly GDP Data and Growth Rates\n",
    "\n",
    "Most major economies report Gross Domestic Product (GDP) data every three months, or **quarterly**. Analyzing this high-frequency data is crucial for tracking the current state of the economy and identifying turning points in the business cycle.\n",
    "\n",
    "However, reporting quarterly *changes* requires careful interpretation, especially regarding growth rates."
   ]
  },
  {
   "cell_type": "markdown",
   "id": "5372c58b",
   "metadata": {},
   "source": [
    "# 📈 Annualized Growth Rates from Quarterly Data\n",
    "\n",
    "A key convention when reporting GDP growth is **annualizing** the quarterly growth rate. This answers the question: \"If the economy continued growing at this *quarterly* rate for a full year, what would the total *annual* growth be?\"\n",
    "\n",
    "* **Quarterly Growth Rate ($g_q$):** The percentage change from one quarter to the next.\n",
    "    $$ g_q = \\frac{GDP_t - GDP_{t-1}}{GDP_{t-1}} $$\n",
    "\n",
    "* **Annualized Growth Rate ($g_a$):** Compounding the quarterly growth rate over four quarters.\n",
    "    $$ 1 + g_a = (1 + g_q)^4 $$\n",
    "    $$ g_a = (1 + g_q)^4 - 1 $$\n",
    "\n",
    "**Why Annualize?** It allows for easier comparison with annual historical data and makes quarterly changes appear more significant (or volatile).\n",
    "\n",
    "**Important Note:** A small quarterly change results in a much larger annualized rate. For example, a 1% quarterly growth ($g_q = 0.01$) corresponds to an annualized growth rate of $(1.01)^4 - 1 \\approx 0.0406$ or 4.06%.\n",
    "\n",
    "**Seasonal Adjustment:** Official quarterly GDP data is almost always **seasonally adjusted**. This statistical process removes predictable seasonal patterns (e.g., higher spending in Q4 due to holidays, lower activity in Q1 due to winter weather) to make underlying trends easier to see. The simulation below uses hypothetical non-seasonally adjusted levels for simplicity but calculates growth rates as is typically done with adjusted data."
   ]
  },
  {
   "cell_type": "markdown",
   "id": "5296795f",
   "metadata": {},
   "source": []
  },
  {
   "cell_type": "code",
   "execution_count": 2,
   "id": "bb9e4180",
   "metadata": {
    "tags": [
     "hide-input"
    ]
   },
   "outputs": [
    {
     "data": {
      "application/vnd.jupyter.widget-view+json": {
       "model_id": "88da65cd3e854a9b85b173703ef41be2",
       "version_major": 2,
       "version_minor": 0
      },
      "text/plain": [
       "interactive(children=(FloatSlider(value=5000.0, description='Q1 GDP:', layout=Layout(width='95%'), max=10000.0…"
      ]
     },
     "metadata": {},
     "output_type": "display_data"
    }
   ],
   "source": [
    "# Import necessary libraries\n",
    "import numpy as np\n",
    "import matplotlib.pyplot as plt\n",
    "from ipywidgets import interact, FloatSlider, Layout\n",
    "from IPython.display import display, Markdown\n",
    "import warnings\n",
    "\n",
    "# Optional: Use a specific style\n",
    "try:\n",
    "    plt.style.use('seaborn-v0_8-whitegrid')\n",
    "except IOError:\n",
    "    pass # Use default if style not found\n",
    "\n",
    "def quarterly_gdp_growth_simulator(q1_gdp=5000.0, q2_gdp=5100.0, q3_gdp=5200.0, q4_gdp=5300.0):\n",
    "    \"\"\"\n",
    "    Calculates and visualizes quarterly GDP levels, quarter-over-quarter growth,\n",
    "    and annualized growth rates.\n",
    "\n",
    "    Args:\n",
    "        q1_gdp, q2_gdp, q3_gdp, q4_gdp (float): GDP levels for the four quarters.\n",
    "    \"\"\"\n",
    "    # Store GDP levels\n",
    "    gdp_levels = np.array([q1_gdp, q2_gdp, q3_gdp, q4_gdp])\n",
    "    quarters = ['Q1', 'Q2', 'Q3', 'Q4']\n",
    "\n",
    "    # Calculate Quarter-over-Quarter (QoQ) Growth Rates\n",
    "    # g_q = (GDP_t / GDP_{t-1}) - 1\n",
    "    gdp_prev = gdp_levels[:-1]\n",
    "    gdp_curr = gdp_levels[1:]\n",
    "    # Handle potential division by zero if previous quarter GDP is zero\n",
    "    qoq_growth = np.full(4, np.nan) # Initialize with NaN\n",
    "    valid_idx = gdp_prev > 1e-9\n",
    "    qoq_growth[1:][valid_idx] = (gdp_curr[valid_idx] / gdp_prev[valid_idx]) - 1.0\n",
    "\n",
    "    # Calculate Annualized Growth Rates from QoQ rates\n",
    "    # g_a = (1 + g_q)^4 - 1\n",
    "    annualized_growth = np.full(4, np.nan)\n",
    "    valid_idx_gq = ~np.isnan(qoq_growth) & (1 + qoq_growth > 0) # Ensure base is positive for power\n",
    "    annualized_growth[valid_idx_gq] = ((1 + qoq_growth[valid_idx_gq])**4) - 1.0\n",
    "\n",
    "    # --- Plotting ---\n",
    "    fig, ax1 = plt.subplots(figsize=(10, 6))\n",
    "\n",
    "    # Plot GDP Levels (Bar Chart)\n",
    "    color_level = 'lightblue'\n",
    "    bars = ax1.bar(quarters, gdp_levels, alpha=0.7, color=color_level, label='GDP Level', edgecolor='black')\n",
    "    ax1.set_xlabel(\"Quarter\")\n",
    "    ax1.set_ylabel(\"GDP Level ($ Billions, Example)\", color='black')\n",
    "    ax1.tick_params(axis='y', labelcolor='black')\n",
    "    ax1.set_ylim(bottom=0, top=max(gdp_levels.max() * 1.1, 1)) # Ensure non-zero ylim top\n",
    "    # Add labels to bars\n",
    "    for bar in bars:\n",
    "        yval = bar.get_height()\n",
    "        ax1.text(bar.get_x() + bar.get_width()/2.0, yval, f'{yval:,.0f}', ha='center', va='bottom', fontsize=9)\n",
    "\n",
    "    # Create secondary axis for growth rates\n",
    "    ax2 = ax1.twinx()\n",
    "    color_ann = 'darkgreen'\n",
    "    color_qoq = 'darkorange'\n",
    "\n",
    "    # Plot Annualized Growth Rate (Line Chart)\n",
    "    line_ann = ax2.plot(quarters, annualized_growth * 100, marker='o', color=color_ann, label='Annualized Growth Rate', linewidth=2.5, markersize=7)\n",
    "    # Plot Quarter-over-Quarter Growth Rate (Line Chart)\n",
    "    line_qoq = ax2.plot(quarters, qoq_growth * 100, marker='s', color=color_qoq, label='Quarterly Growth Rate', linewidth=1.5, linestyle='--', markersize=5, alpha=0.8)\n",
    "\n",
    "    ax2.set_ylabel(\"Growth Rate (%)\", color='black')\n",
    "    ax2.tick_params(axis='y', labelcolor='black')\n",
    "    # Format y-axis as percentage\n",
    "    ax2.yaxis.set_major_formatter(plt.FuncFormatter(lambda y, _: f'{y:.1f}%'))\n",
    "    # Dynamic ylim for growth rates\n",
    "    valid_growth = np.concatenate([annualized_growth[~np.isnan(annualized_growth)], qoq_growth[~np.isnan(qoq_growth)]]) * 100\n",
    "    if len(valid_growth) > 0:\n",
    "         g_min = min(valid_growth.min(), 0)\n",
    "         g_max = max(valid_growth.max(), 0)\n",
    "         g_range = max(g_max - g_min, 1) # Avoid zero range\n",
    "         ax2.set_ylim(g_min - g_range*0.1 - 1, g_max + g_range*0.1 + 1)\n",
    "    else:\n",
    "         ax2.set_ylim(-5, 5) # Default range if no valid growth\n",
    "\n",
    "\n",
    "    ax1.set_title('Quarterly GDP Levels and Growth Rates')\n",
    "    ax1.grid(True, axis='y', linestyle='--', alpha=0.5)\n",
    "\n",
    "    # Combine legends\n",
    "    lines = bars.patches + line_ann + line_qoq\n",
    "    labels = [l.get_label() for l in lines]\n",
    "    # Place legend carefully\n",
    "    fig.legend(lines, labels, loc='upper center', bbox_to_anchor=(0.5, 0.03), ncol=3, fontsize='small')\n",
    "\n",
    "    fig.tight_layout(rect=[0, 0.05, 1, 1]) # Adjust layout to make space for legend\n",
    "    plt.show()\n",
    "\n",
    "    # --- Display Growth Table ---\n",
    "    table_md = \"### 📈 Growth Rate Summary:\\n\\n\"\n",
    "    table_md += \"| Quarter | GDP Level | Quarterly Growth (QoQ) | Annualized Growth |\\n\"\n",
    "    table_md += \"|---|---|---|---|\\n\"\n",
    "    for i in range(4):\n",
    "        qg_str = f\"{qoq_growth[i]:.2%}\" if not np.isnan(qoq_growth[i]) else \"---\"\n",
    "        ag_str = f\"{annualized_growth[i]:.2%}\" if not np.isnan(annualized_growth[i]) else \"---\"\n",
    "        table_md += f\"| {quarters[i]} | ${gdp_levels[i]:,.0f} | {qg_str} | {ag_str} |\\n\"\n",
    "    display(Markdown(table_md))\n",
    "\n",
    "\n",
    "# --- Create Interactive Widgets ---\n",
    "style = {'description_width': 'initial'}\n",
    "layout = Layout(width='95%')\n",
    "\n",
    "interact(quarterly_gdp_growth_simulator,\n",
    "         q1_gdp=FloatSlider(value=5000.0, min=1000, max=10000, step=100, description='Q1 GDP:', style=style, layout=layout, readout_format=',.0f'),\n",
    "         q2_gdp=FloatSlider(value=5100.0, min=1000, max=10000, step=100, description='Q2 GDP:', style=style, layout=layout, readout_format=',.0f'),\n",
    "         q3_gdp=FloatSlider(value=5200.0, min=1000, max=10000, step=100, description='Q3 GDP:', style=style, layout=layout, readout_format=',.0f'),\n",
    "         q4_gdp=FloatSlider(value=5300.0, min=1000, max=10000, step=100, description='Q4 GDP:', style=style, layout=layout, readout_format=',.0f')\n",
    "        );\n"
   ]
  },
  {
   "cell_type": "markdown",
   "id": "1f39d6b7",
   "metadata": {},
   "source": [
    "# 🗓️ Quarterly GDP and Growth Rates\n",
    "\n",
    "Most countries report GDP **quarterly**.\n",
    "\n",
    "But there's a twist:\n",
    "- A 1% increase this quarter → **4.06% annualized** growth!\n",
    "\\[\n",
    "g_{\\text{annual}} = (1 + g_{\\text{quarter}})^4 - 1\n",
    "\\]\n",
    "\n",
    "\n",
    "# 🔄 Seasonal Adjustment\n",
    "\n",
    "Some quarters always have more spending:\n",
    "- 🎄 Q4 = holiday boom\n",
    "- 🏖️ Q2 = summer tourism\n",
    "\n",
    "We use **seasonal adjustment** to smooth the series.\n",
    "\n",
    "\n",
    "# 📊 How Growth is Reported\n",
    "\n",
    "| Quarter | GDP ($B) | Quarterly Growth | Annualized Growth |\n",
    "|---------|----------|------------------|-------------------|\n",
    "| Q1      | 5,000    | —                | —                 |\n",
    "| Q2      | 5,100    | 2.00%            | 8.24%             |\n",
    "| Q3      | 5,200    | 1.96%            | 8.16%             |\n",
    "\n",
    "> Watch out: **small quarterly changes** look huge when annualized!"
   ]
  }
 ],
 "metadata": {
  "kernelspec": {
   "display_name": "Python (solow-env)",
   "language": "python",
   "name": "solow-env"
  },
  "language_info": {
   "codemirror_mode": {
    "name": "ipython",
    "version": 3
   },
   "file_extension": ".py",
   "mimetype": "text/x-python",
   "name": "python",
   "nbconvert_exporter": "python",
   "pygments_lexer": "ipython3",
   "version": "3.13.3"
  },
  "tags": [
   "thebe-init"
  ]
 },
 "nbformat": 4,
 "nbformat_minor": 5
}
