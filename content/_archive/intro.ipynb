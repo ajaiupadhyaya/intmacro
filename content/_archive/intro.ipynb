{
 "cells": [
  {
   "cell_type": "code",
   "execution_count": null,
   "id": "653d9361-8c01-4220-b160-ebc87db410e9",
   "metadata": {},
   "outputs": [],
   "source": [
    "# Welcome to Intermediate Macroeconomics\n",
    "This is your interactive and visual guide to models, theory, and intuition.\n",
    "\n",
    "---\n",
    "\n",
    "**Modules included**:\n",
    "- Solow Growth Model\n",
    "- Romer Model\n",
    "- Two-Period Consumption\n",
    "- IS Curve\n",
    "- AD-AS Simulator\n",
    "- Financial Markets\n",
    "- and more..."
   ]
  }
 ],
 "metadata": {
  "kernelspec": {
   "display_name": "Python 3 (ipykernel)",
   "language": "python",
   "name": "python3"
  },
  "language_info": {
   "codemirror_mode": {
    "name": "ipython",
    "version": 3
   },
   "file_extension": ".py",
   "mimetype": "text/x-python",
   "name": "python",
   "nbconvert_exporter": "python",
   "pygments_lexer": "ipython3",
   "version": "3.13.3"
  }
 },
 "nbformat": 4,
 "nbformat_minor": 5
}
