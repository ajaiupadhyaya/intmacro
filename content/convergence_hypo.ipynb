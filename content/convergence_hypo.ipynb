{
 "cells": [
  {
   "cell_type": "code",
   "execution_count": 1,
   "id": "3d736d38",
   "metadata": {
    "tags": [
     "thebe-init",
     "hide-input"
    ]
   },
   "outputs": [
    {
     "data": {
      "application/vnd.jupyter.widget-view+json": {
       "model_id": "fcae219995df4732a82871e6f990cfac",
       "version_major": 2,
       "version_minor": 0
      },
      "text/plain": [
       "interactive(children=(IntSlider(value=0, description='x', max=10), Output()), _dom_classes=('widget-interact',…"
      ]
     },
     "metadata": {},
     "output_type": "display_data"
    }
   ],
   "source": [
    "from ipywidgets import interact, widgets\n",
    "interact(lambda x: x**2, x=widgets.IntSlider(min=0, max=10));"
   ]
  },
  {
   "cell_type": "markdown",
   "id": "7aa7e57c",
   "metadata": {},
   "source": [
    "# 📉 Convergence Hypothesis: Do Poor Countries Catch Up?\n",
    "\n",
    "A fundamental question in economic growth is whether poorer countries tend to grow faster than richer countries, leading to a narrowing of income gaps over time. This idea is known as the **convergence hypothesis**.\n",
    "\n",
    "The standard **Solow growth model**, due to diminishing returns to capital, predicts **conditional convergence**: countries with similar underlying characteristics (like saving rates, population growth rates, and technology levels - i.e., converging to the same steady state) should exhibit convergence. Poorer countries (further below their steady state) will grow faster than richer countries (closer to their steady state).\n",
    "\n",
    "Testing **unconditional convergence** (simply looking if initially poor countries grow faster than initially rich ones, without controlling for other factors) often yields mixed results globally. However, it's a useful starting point to examine the predictions of the basic model.\n",
    "\n",
    "This simulation generates artificial data for a set of countries to visually test for unconditional convergence by plotting average growth rates against initial income levels."
   ]
  },
  {
   "cell_type": "markdown",
   "id": "4f3bcec8",
   "metadata": {},
   "source": [
    "# ⚙️ Simulation Setup\n",
    "\n",
    "We simulate data for $N$ countries over $T$ years:\n",
    "\n",
    "1.  **Initial Income ($Y_0$):** Each country $i$ starts with a randomly assigned initial log income per capita, $\\log(Y_{i0})$, drawn from a uniform distribution. This creates a range of initially rich and poor countries.\n",
    "    $$ \\log(Y_{i0}) \\sim U(\\text{min\\_logY, max\\_logY}) $$\n",
    "\n",
    "2.  **Generating Growth Rates ($g_i$):** The core idea is to generate average annual growth rates ($g_i$) that depend *negatively* on the initial income level, plus some random noise, consistent with the convergence hypothesis.\n",
    "    $$ g_i = \\text{constant} + \\beta \\log(Y_{i0}) + \\epsilon_i $$\n",
    "    - $\\beta$: The \"true\" convergence parameter. If $\\beta < 0$, poorer countries (lower $\\log(Y_{i0})$) tend to have higher growth $g_i$. This is the parameter we control with the `True Slope β` slider.\n",
    "    - $\\epsilon_i$: A random noise term ($\\epsilon_i \\sim N(0, \\sigma^2_{\\text{noise}})$) representing country-specific factors, shocks, or measurement error affecting growth, controlled by the `Noise Level` slider.\n",
    "    * *(Note: The simulation code uses a simplified direct generation: `g = beta_true * log_Y0 + noise`)*\n",
    "\n",
    "3.  **Final Income ($Y_T$):** Final income after $T$ years is calculated assuming growth was constant at the generated average rate $g_i$.\n",
    "    $$ Y_{iT} = Y_{i0} e^{g_i T} $$\n",
    "\n",
    "4.  **Realized Average Growth:** We calculate the *realized* average annual growth rate from the simulated $Y_0$ and $Y_T$.\n",
    "    $$ g_{\\text{avg}, i} = \\frac{\\log(Y_{iT}) - \\log(Y_{i0})}{T} $$\n",
    "    *(Note: Due to the noise term $\\epsilon_i$, this $g_{\\text{avg}, i}$ will be close to, but not exactly identical to, the $g_i$ generated in step 2).*"
   ]
  },
  {
   "cell_type": "markdown",
   "id": "f0dab869",
   "metadata": {},
   "source": [
    "# 📊 Testing for Convergence: Regression Analysis\n",
    "\n",
    "To test for convergence in our simulated data, we perform a simple linear regression:\n",
    "\n",
    "$$g_{\\text{avg}, i} = \\text{Intercept} + \\beta_{\\text{estimated}} \\log(Y_{i0}) + \\text{error}_i$$\n",
    "\n",
    "We plot the average growth rate ($g_{\\text{avg}, i}$) against the log of initial income ($\\log(Y_{i0})$) for all $N$ countries and fit a regression line.\n",
    "\n",
    "**Interpretation:**\n",
    "\n",
    "* **Estimated Slope ($\\beta_{\\text{estimated}}$):**\n",
    "    * If $\\beta_{\\text{estimated}} < 0$ and is statistically significant (low p-value), it supports the unconditional convergence hypothesis within this simulated dataset. This means, on average, countries that started poorer grew faster.\n",
    "    * If $\\beta_{\\text{estimated}} \\ge 0$ or is not statistically significant, we find no evidence for unconditional convergence in the sample.\n",
    "* **R-squared ($R^2$):** Measures the proportion of the variation in growth rates explained by the initial income level. A higher $R^2$ means initial income is a stronger predictor of growth in this sample.\n",
    "* **Noise:** The `Noise Level` slider controls the variance of $\\epsilon_i$. Higher noise makes the relationship between initial income and growth weaker, potentially obscuring convergence (lower $R^2$, higher p-value, $\\beta_{\\text{estimated}}$ closer to zero) even if the true $\\beta$ is negative.\n",
    "\n",
    "Experiment with the sliders (`True Slope β`, `Noise Level`, `Number of Countries`, `Years`) to see how they affect the visual pattern and the regression results."
   ]
  },
  {
   "cell_type": "code",
   "execution_count": 2,
   "id": "c59142eb",
   "metadata": {
    "tags": [
     "hide-input"
    ]
   },
   "outputs": [
    {
     "data": {
      "application/vnd.jupyter.widget-view+json": {
       "model_id": "4e90dbfc5efd43c99fb97208443c03b3",
       "version_major": 2,
       "version_minor": 0
      },
      "text/plain": [
       "interactive(children=(IntSlider(value=30, description='Number of Countries (N):', max=200, min=10, step=5, sty…"
      ]
     },
     "metadata": {},
     "output_type": "display_data"
    }
   ],
   "source": [
    "# Import necessary libraries\n",
    "import numpy as np\n",
    "import matplotlib.pyplot as plt\n",
    "from ipywidgets import interact, FloatSlider, IntSlider # Use IntSlider for N, T\n",
    "from scipy.stats import linregress # For linear regression\n",
    "from IPython.display import display, Markdown\n",
    "import warnings\n",
    "\n",
    "# Optional: Use a specific style\n",
    "try:\n",
    "    plt.style.use('seaborn-v0_8-whitegrid')\n",
    "except IOError:\n",
    "    pass # Use default if style not found\n",
    "\n",
    "def convergence_simulation_plotter(N=30, T=20, growth_noise_std=0.01, beta_true=-0.02, log_y0_mean=8.0, log_y0_range=4.0):\n",
    "    \"\"\"\n",
    "    Simulates cross-country data and tests the convergence hypothesis.\n",
    "\n",
    "    Args:\n",
    "        N (int): Number of countries to simulate.\n",
    "        T (int): Time horizon in years.\n",
    "        growth_noise_std (float): Standard deviation of the noise term added to growth rates.\n",
    "        beta_true (float): The true underlying convergence parameter (slope).\n",
    "        log_y0_mean (float): Mean for generating initial log GDP per capita.\n",
    "        log_y0_range (float): Range (max-min) for generating initial log GDP per capita.\n",
    "    \"\"\"\n",
    "    # Ensure integer inputs where needed\n",
    "    N = int(N)\n",
    "    T = int(T)\n",
    "    if N < 5 or T < 1:\n",
    "        print(\"Warning: N must be >= 5 and T >= 1.\")\n",
    "        return # Avoid running with invalid inputs\n",
    "\n",
    "    # Set a seed for reproducibility\n",
    "    np.random.seed(42)\n",
    "\n",
    "    # Generate initial log GDP per capita from a uniform distribution\n",
    "    log_y0_min = log_y0_mean - log_y0_range / 2\n",
    "    log_y0_max = log_y0_mean + log_y0_range / 2\n",
    "    log_Y0 = np.random.uniform(log_y0_min, log_y0_max, N)\n",
    "    Y0 = np.exp(log_Y0) # Initial GDP levels\n",
    "\n",
    "    # Generate underlying average growth rates based on convergence hypothesis + noise\n",
    "    # g_i = constant + beta * log(Y0_i) + noise_i\n",
    "    # We simplify by setting the constant implicitly such that mean growth is reasonable\n",
    "    # A simple way is g_i = mean_growth + beta * (log(Y0_i) - mean(log(Y0))) + noise_i\n",
    "    # Or even simpler as used here: g_i = some_base + beta*log(Y0_i) + noise\n",
    "    # Let's center the deterministic part around 0 and add a base growth\n",
    "    base_growth = 0.02 # Average growth around which deviations occur\n",
    "    growth_deterministic = beta_true * (log_Y0 - log_y0_mean)\n",
    "    growth_stochastic = np.random.normal(0, growth_noise_std, N)\n",
    "    g_latent = base_growth + growth_deterministic + growth_stochastic\n",
    "\n",
    "    # Calculate final income levels\n",
    "    # YT = Y0 * exp(g*T)\n",
    "    YT = Y0 * np.exp(g_latent * T)\n",
    "    log_YT = np.log(YT)\n",
    "\n",
    "    # Calculate realized average annual growth rate\n",
    "    g_avg = (log_YT - log_Y0) / T\n",
    "\n",
    "    # Perform linear regression: g_avg = intercept + slope * log_Y0\n",
    "    try:\n",
    "        # Use warnings context manager if scipy gives harmless warnings\n",
    "        with warnings.catch_warnings():\n",
    "            warnings.simplefilter(\"ignore\", category=RuntimeWarning)\n",
    "            slope, intercept, r_value, p_value, std_err = linregress(log_Y0, g_avg)\n",
    "        regression_successful = True\n",
    "    except ValueError as e:\n",
    "        print(f\"Regression failed: {e}\")\n",
    "        slope, intercept, r_value, p_value, std_err = np.nan, np.nan, np.nan, np.nan, np.nan\n",
    "        regression_successful = False\n",
    "\n",
    "    # --- Plotting ---\n",
    "    fig, ax = plt.subplots(figsize=(9, 6))\n",
    "\n",
    "    # Scatter plot\n",
    "    ax.scatter(log_Y0, g_avg * 100, s=60, color='darkorange', alpha=0.7, edgecolors='black', linewidth=0.5, label='Simulated Countries') # Plot growth in %\n",
    "\n",
    "    # Regression line\n",
    "    if regression_successful:\n",
    "        x_line = np.array([log_Y0.min(), log_Y0.max()])\n",
    "        y_line = (intercept + slope * x_line) * 100 # Convert growth to %\n",
    "        ax.plot(x_line, y_line, color='black', linestyle='--', linewidth=2, label=f'Regression Line (β_est = {slope:.3f})')\n",
    "\n",
    "    ax.set_title(\"Convergence Hypothesis Test (Simulated Data)\")\n",
    "    ax.set_xlabel(\"Log Initial GDP per capita (log Y₀)\")\n",
    "    ax.set_ylabel(\"Average Annual Growth Rate (g %)\")\n",
    "    ax.grid(True, linestyle='--', alpha=0.6)\n",
    "    # Format y-axis as percentage\n",
    "    ax.yaxis.set_major_formatter(plt.FuncFormatter(lambda y, _: f'{y:.1f}%'))\n",
    "\n",
    "    ax.legend()\n",
    "    plt.tight_layout()\n",
    "    plt.show()\n",
    "\n",
    "    # --- Display Regression Results ---\n",
    "    if regression_successful:\n",
    "        r_squared = r_value**2\n",
    "        # Interpretation based on results\n",
    "        if slope < 0 and p_value < 0.05:\n",
    "            conclusion = f\"✅ Supports convergence (p={p_value:.3g}). Poorer countries tend to grow faster in this simulation.\"\n",
    "        elif slope < 0 and p_value >= 0.05:\n",
    "            conclusion = f\"⚠️ Negative slope, but not statistically significant (p={p_value:.3g}). Weak/no evidence for convergence.\"\n",
    "        else:\n",
    "            conclusion = f\"❌ No convergence evidence (Slope ≥ 0 or insignificant, p={p_value:.3g}).\"\n",
    "\n",
    "        results_md = f\"\"\"\n",
    "        ### 📈 Regression Results: `Growth ~ Log Initial GDP`\n",
    "\n",
    "        * **Estimated Slope (β_est):** {slope:.4f} (Std. Err: {std_err:.4f})\n",
    "        * **Intercept:** {intercept*100:.2f}%\n",
    "        * **P-value (for slope):** {p_value:.4g}\n",
    "        * **R-squared:** {r_squared:.3f}\n",
    "        * **Conclusion:** {conclusion}\n",
    "            * *(Note: True underlying slope β was set to {beta_true:.3f})*\n",
    "        \"\"\"\n",
    "    else:\n",
    "        results_md = \"### 📈 Regression Results:\\n\\n* Regression failed. Unable to estimate parameters.\"\n",
    "\n",
    "    display(Markdown(results_md))\n",
    "\n",
    "\n",
    "# --- Create Interactive Widgets ---\n",
    "style = {'description_width': 'initial'} # Allow longer descriptions\n",
    "interact(convergence_simulation_plotter,\n",
    "         N=IntSlider(value=30, min=10, max=200, step=5, description='Number of Countries (N):', style=style),\n",
    "         T=IntSlider(value=20, min=5, max=50, step=1, description='Years (T):', style=style),\n",
    "         growth_noise_std=FloatSlider(value=0.01, min=0.0, max=0.05, step=0.002, description='Growth Noise (Std Dev):', readout_format='.3f', style=style),\n",
    "         beta_true=FloatSlider(value=-0.02, min=-0.05, max=0.01, step=0.002, description='True Slope (β):', readout_format='.3f', style=style),\n",
    "         log_y0_mean=FloatSlider(value=8.0, min=6.0, max=10.0, step=0.1, description='Mean log(Y₀):', readout_format='.1f', style=style),\n",
    "         log_y0_range=FloatSlider(value=4.0, min=1.0, max=6.0, step=0.2, description='Range log(Y₀):', readout_format='.1f', style=style)\n",
    "        );"
   ]
  },
  {
   "cell_type": "markdown",
   "id": "9b302468",
   "metadata": {},
   "source": [
    "# 🏁 Conclusion\n",
    "\n",
    "This simulation illustrates the concept of economic convergence.\n",
    "\n",
    "* When the **True Slope $\\beta$** is negative, the underlying tendency is for initially poorer countries (low $\\log Y_0$) to grow faster.\n",
    "* The **regression analysis** attempts to recover this underlying relationship from the simulated data.\n",
    "* **Noise** in growth rates can obscure the true relationship, making it harder to detect convergence statistically (i.e., leading to a higher p-value or an estimated slope closer to zero), especially with a small number of countries ($N$).\n",
    "* Real-world tests of unconditional convergence often find weak or no evidence, suggesting that factors *other* than just the initial income level (differences in saving, education, institutions, etc., leading to different steady states) are crucial determinants of growth - motivating the concept of **conditional convergence**."
   ]
  },
  {
   "cell_type": "markdown",
   "id": "5f3f3f35",
   "metadata": {},
   "source": [
    "# 📘 Convergence Hypothesis\n",
    "\n",
    "This model tests if poorer countries grow faster — a key prediction of the Solow model with diminishing returns.\n",
    "\n",
    "We simulate:\n",
    "\\[\n",
    "g = \\frac{1}{T} \\log\\left(\\frac{Y_T}{Y_0}\\right)\n",
    "\\quad \\text{vs.} \\quad \\log(Y_0)\n",
    "\\]\n",
    "\n",
    "- A **negative slope** in the regression suggests **convergence**\n",
    "- A flat or positive slope suggests **divergence**\n",
    "\n",
    "**Sources**:  \n",
    "- GrowthEcon [Ch. 6](https://growthecon.com/StudyGuide/convergence.html)  \n",
    "- Charles Jones, *Macroeconomics*, Ch. 6"
   ]
  }
 ],
 "metadata": {
  "kernelspec": {
   "display_name": "Python (solow-env)",
   "language": "python",
   "name": "solow-env"
  },
  "language_info": {
   "codemirror_mode": {
    "name": "ipython",
    "version": 3
   },
   "file_extension": ".py",
   "mimetype": "text/x-python",
   "name": "python",
   "nbconvert_exporter": "python",
   "pygments_lexer": "ipython3",
   "version": "3.13.3"
  },
  "tags": [
   "thebe-init"
  ]
 },
 "nbformat": 4,
 "nbformat_minor": 5
}
