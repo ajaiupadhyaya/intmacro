{
 "cells": [
  {
   "cell_type": "code",
   "execution_count": 1,
   "id": "cfb97fc6",
   "metadata": {
    "tags": [
     "thebe-init",
     "hide-input"
    ]
   },
   "outputs": [
    {
     "data": {
      "application/vnd.jupyter.widget-view+json": {
       "model_id": "bfa86ade93784922bccc523b3ed80e19",
       "version_major": 2,
       "version_minor": 0
      },
      "text/plain": [
       "interactive(children=(IntSlider(value=0, description='x', max=10), Output()), _dom_classes=('widget-interact',…"
      ]
     },
     "metadata": {},
     "output_type": "display_data"
    }
   ],
   "source": [
    "from ipywidgets import interact, widgets\n",
    "interact(lambda x: x**2, x=widgets.IntSlider(min=0, max=10));"
   ]
  },
  {
   "cell_type": "markdown",
   "id": "2dc2c656",
   "metadata": {},
   "source": [
    "# 💰 Nominal vs. Real GDP: Measuring What Matters\n",
    "\n",
    "Gross Domestic Product (GDP) is a primary measure of a nation's economic output. However, simply looking at the total dollar value of goods and services produced (Nominal GDP) can be misleading because it's influenced by both changes in the *quantity* of goods produced and changes in their *prices*.\n",
    "\n",
    "To understand the true change in economic output – the actual \"stuff\" being produced – we need to adjust for inflation. This gives us **Real GDP**.\n",
    "\n",
    "This simulation visually demonstrates how Nominal GDP and Real GDP can diverge over time when there is inflation, even if the underlying growth in the money supply (which often drives nominal growth) is constant."
   ]
  },
  {
   "cell_type": "markdown",
   "id": "fd32c2b3",
   "metadata": {},
   "source": [
    "# 💵 Nominal GDP vs. 🧺 Real GDP\n",
    "\n",
    "- **Nominal GDP:** Measures the value of goods and services produced using **current year prices**.\n",
    "    - Formula (Conceptual): Nominal GDP = Current Prices × Current Quantities\n",
    "    - It increases if either prices go up or quantities go up (or both).\n",
    "    - Think of it as the total amount of \"cash\" changing hands for final goods and services.\n",
    "\n",
    "- **Real GDP:** Measures the value of goods and services produced using **constant base-year prices**.\n",
    "    - Formula (Conceptual): Real GDP = Base-Year Prices × Current Quantities\n",
    "    - It increases *only* if the quantity of goods and services produced increases.\n",
    "    - This measure isolates changes in actual *physical output* by removing the effect of price changes (inflation or deflation).\n",
    "    - Think of it as the actual amount of \"stuff\" the economy produces.\n",
    "\n",
    "**Why the difference matters:** We are usually more interested in Real GDP growth because it reflects changes in the standard of living and the economy's productive capacity. High nominal GDP growth driven purely by high inflation doesn't mean people are better off."
   ]
  },
  {
   "cell_type": "markdown",
   "id": "f91453b6",
   "metadata": {},
   "source": [
    "# 🧮 Simulation Logic & Calculation\n",
    "\n",
    "This simulation uses a simplified approach:\n",
    "\n",
    "1.  **Nominal GDP Growth:** We assume Nominal GDP grows at a constant rate equal to the specified `money_growth` rate. This is a simplification often related to the Quantity Theory of Money ($MV=PY$), where if velocity ($V$) and real output ($Y$) were constant, money supply growth ($M$) would directly translate to nominal GDP ($PY$) growth. In reality, the link is more complex.\n",
    "    $$ \\text{Nominal GDP}_t = \\text{Nominal GDP}_0 \\times (1 + \\text{money\\_growth})^t $$\n",
    "\n",
    "2.  **Inflation:** We assume a constant `inflation` rate ($\\pi$) over the period.\n",
    "\n",
    "3.  **Real GDP Calculation:** Real GDP is calculated by deflating Nominal GDP using the assumed inflation rate. Essentially, we are adjusting the nominal value back to what it would be worth in \"base year\" (year 0 in this sim) dollars.\n",
    "    $$ \\text{Real GDP}_t = \\frac{\\text{Nominal GDP}_t}{(1 + \\text{inflation})^t} $$\n",
    "\n",
    "4.  **Implied Real Growth:** The simulation implicitly determines the real GDP growth rate ($g$) based on the difference between nominal growth and inflation:\n",
    "    $$ (1 + g) \\approx \\frac{(1 + \\text{money\\_growth})}{(1 + \\text{inflation})} $$\n",
    "    So, $g \\approx \\text{money\\_growth} - \\text{inflation}$. The simulation calculates and displays this implied real growth rate.\n",
    "\n",
    "The plot shows how the gap between Nominal GDP (the yellow line) and Real GDP (the green line) widens over time due to the cumulative effect of inflation. The shaded area represents the portion of nominal GDP growth attributable purely to price increases."
   ]
  },
  {
   "cell_type": "code",
   "execution_count": 2,
   "id": "3b807d22",
   "metadata": {
    "tags": [
     "hide-input"
    ]
   },
   "outputs": [
    {
     "data": {
      "application/vnd.jupyter.widget-view+json": {
       "model_id": "f3fe9f1a0da0461d9faf99f8e9901e8b",
       "version_major": 2,
       "version_minor": 0
      },
      "text/plain": [
       "interactive(children=(FloatSlider(value=0.05, description='Nominal Growth Rate:', max=0.15, min=-0.05, readout…"
      ]
     },
     "metadata": {},
     "output_type": "display_data"
    }
   ],
   "source": [
    "# Import necessary libraries\n",
    "import numpy as np\n",
    "import matplotlib.pyplot as plt\n",
    "from ipywidgets import interact, FloatSlider, IntSlider # Use IntSlider for T\n",
    "from IPython.display import display, Markdown\n",
    "import warnings\n",
    "\n",
    "# Optional: Use a specific style\n",
    "try:\n",
    "    plt.style.use('seaborn-v0_8-whitegrid')\n",
    "except IOError:\n",
    "    pass # Use default if style not found\n",
    "\n",
    "def gdp_money_sim(nominal_growth=0.05, inflation=0.03, T=10, initial_gdp=1000):\n",
    "    \"\"\"\n",
    "    Simulates and plots the divergence of Nominal and Real GDP over time\n",
    "    given constant nominal growth and inflation rates.\n",
    "\n",
    "    Args:\n",
    "        nominal_growth (float): Assumed constant growth rate of Nominal GDP (e.g., 0.05 for 5%).\n",
    "                                (Simplified proxy for money growth effects).\n",
    "        inflation (float): Assumed constant inflation rate (e.g., 0.03 for 3%).\n",
    "        T (int): Time Horizon in years.\n",
    "        initial_gdp (float): Starting level of Nominal GDP (and Real GDP) at t=0.\n",
    "    \"\"\"\n",
    "    # Ensure T is an integer\n",
    "    T = int(T)\n",
    "    if T < 1: T = 1 # Need at least 1 year\n",
    "\n",
    "    # Create time arrays\n",
    "    years_relative = np.arange(T) # Time steps 0, 1, ..., T-1\n",
    "    years_actual = np.arange(2024, 2024 + T) # Example actual years\n",
    "\n",
    "    # Calculate Nominal GDP path\n",
    "    # Nominal_GDP(t) = Initial_GDP * (1 + nominal_growth)^t\n",
    "    nominal_gdp = initial_gdp * (1 + nominal_growth)**years_relative\n",
    "\n",
    "    # Calculate Real GDP path\n",
    "    # Real_GDP(t) = Nominal_GDP(t) / (1 + inflation)^t\n",
    "    # Or Real_GDP(t) = Initial_GDP * [(1 + nominal_growth) / (1 + inflation)]^t\n",
    "    real_gdp = nominal_gdp / (1 + inflation)**years_relative\n",
    "\n",
    "    # Calculate the implied constant real growth rate\n",
    "    # (1 + real_growth) = (1 + nominal_growth) / (1 + inflation)\n",
    "    if abs(1 + inflation) < 1e-9: # Avoid division by zero if inflation is -100%\n",
    "        real_growth = -1.0 if nominal_growth > -1 else 0 # Or handle as appropriate\n",
    "    else:\n",
    "        real_growth = (1 + nominal_growth) / (1 + inflation) - 1\n",
    "\n",
    "    # --- Plotting ---\n",
    "    fig, ax = plt.subplots(figsize=(10, 6))\n",
    "\n",
    "    # Plot Nominal GDP\n",
    "    ax.plot(years_actual, nominal_gdp, label=f'Nominal GDP (g={nominal_growth:.1%})', linewidth=2.5, color='gold', marker='o', markersize=4)\n",
    "\n",
    "    # Plot Real GDP\n",
    "    ax.plot(years_actual, real_gdp, label=f'Real GDP (g≈{real_growth:.1%})', linewidth=2.5, color='seagreen', marker='s', markersize=4)\n",
    "\n",
    "    # Fill the gap representing inflation effect\n",
    "    ax.fill_between(years_actual, real_gdp, nominal_gdp, color='lightgray', alpha=0.5, label='Inflation Effect')\n",
    "\n",
    "    # Add annotations for final values\n",
    "    ax.text(years_actual[-1], nominal_gdp[-1], f' ${nominal_gdp[-1]:,.0f}', color='darkgoldenrod', va='center', ha='left', fontsize=9)\n",
    "    ax.text(years_actual[-1], real_gdp[-1], f' ${real_gdp[-1]:,.0f}', color='darkgreen', va='center', ha='left', fontsize=9)\n",
    "\n",
    "\n",
    "    ax.set_title(\"💵 Nominal vs. Real GDP Over Time 🧺\")\n",
    "    ax.set_xlabel(\"Year\")\n",
    "    ax.set_ylabel(f\"GDP (Base Year = {years_actual[0]})\")\n",
    "    ax.grid(True, linestyle='--', alpha=0.6)\n",
    "    ax.legend()\n",
    "    # Format y-axis as currency/plain number\n",
    "    try:\n",
    "        # Use FuncFormatter for better control if needed, basic formatting here\n",
    "        ax.get_yaxis().set_major_formatter(plt.FuncFormatter(lambda x, p: format(int(x), ',')))\n",
    "    except Exception:\n",
    "        pass # Ignore formatting errors if they occur\n",
    "\n",
    "    plt.tight_layout()\n",
    "    plt.show()\n",
    "\n",
    "    # --- Display Growth Rates ---\n",
    "    results_md = f\"\"\"\n",
    "    ### 📈 Growth Rate Summary:\n",
    "\n",
    "    * **Assumed Nominal GDP Growth:** {nominal_growth:.2%} per year\n",
    "    * **Assumed Inflation Rate:** {inflation:.2%} per year\n",
    "    * **Implied Real GDP Growth:** {real_growth:.2%} per year\n",
    "        * *(Approximation: Nominal Growth - Inflation = {nominal_growth - inflation:.2%})*\n",
    "    \"\"\"\n",
    "    display(Markdown(results_md))\n",
    "\n",
    "\n",
    "# --- Create Interactive Widgets ---\n",
    "style = {'description_width': 'initial'} # Allow longer descriptions\n",
    "interact(gdp_money_sim,\n",
    "         nominal_growth=FloatSlider(value=0.05, min=-0.05, max=0.15, step=0.005, description='Nominal Growth Rate:', readout_format='.1%', style=style),\n",
    "         inflation=FloatSlider(value=0.03, min=-0.05, max=0.15, step=0.005, description='Inflation Rate:', readout_format='.1%', style=style),\n",
    "         T=IntSlider(value=10, min=3, max=40, step=1, description='Years (T):', style=style),\n",
    "         initial_gdp=FloatSlider(value=1000, min=100, max=10000, step=100, description='Initial GDP ($):', style=style, readout_format=',.0f')\n",
    "        );"
   ]
  },
  {
   "cell_type": "markdown",
   "id": "25f15708",
   "metadata": {},
   "source": [
    "# 🔍 Key Insight\n",
    "\n",
    "The simulation clearly shows that **Nominal GDP growth is not the same as real economic growth**.\n",
    "\n",
    "> Nominal GDP reflects both changes in output and changes in prices.\n",
    "> Real GDP isolates the change in actual output, providing a better measure of economic progress and changes in the availability of goods and services.\n",
    "\n",
    "When analyzing economic data or news reports, always be mindful of whether figures are reported in nominal or real terms, especially during periods of significant inflation or deflation."
   ]
  },
  {
   "cell_type": "markdown",
   "id": "412a0eeb",
   "metadata": {},
   "source": [
    "# 💰 Cash Money and GDP\n",
    "\n",
    "More dollars **doesn’t always mean** more goods.\n",
    "\n",
    "When we look at GDP:\n",
    "- **Nominal GDP** = Prices × Quantities\n",
    "- **Real GDP** = **Quantities**, adjusted for inflation\n",
    "\n",
    "\n",
    "\n",
    "# 🛒 Metaphor:\n",
    "If you go shopping with $50 and buy:\n",
    "- 10 items at $5 each → real GDP = 10\n",
    "\n",
    "Now if prices rise to $10:\n",
    "- With $100, you still only get 10 items → real GDP unchanged\n",
    "\n",
    "But nominal GDP **doubled**.\n",
    "\n",
    "\n",
    "\n",
    "# 🔍 Key Insight:\n",
    "> **Nominal GDP growth ≠ real growth**  \n",
    "> We strip out inflation to understand **what’s really changing**."
   ]
  },
  {
   "cell_type": "markdown",
   "id": "3f1d80eb",
   "metadata": {},
   "source": [
    "# 📝 Guided Student Exercise: Nominal vs. Real GDP\n",
    "Apply your understanding!\n",
    "\n",
    "1. **Suppose Nominal GDP grows at 8% per year and inflation is 5%.**\n",
    "    - What is the implied real GDP growth rate?\n",
    "    - Use the interactive plot above to check your answer over a 10-year period.\n",
    "\n",
    "2. **Experiment:**\n",
    "    - Set inflation higher than nominal GDP growth. What happens to real GDP?\n",
    "    - Try negative inflation (deflation). How does this affect the gap between nominal and real GDP?\n",
    "\n",
    "3. **Challenge:**\n",
    "    - If initial GDP is $2,000, nominal growth is 4%, and inflation is 2%, what is real GDP after 5 years?\n",
    "\n",
    "---\n",
    "# 🌍 Real-World Data Extension: U.S. Nominal and Real GDP\n",
    "Let's see how this works in the real world. We'll plot U.S. Nominal and Real GDP using FRED data.\n",
    "\n",
    "```python\n",
    "import pandas as pd\n",
    "import plotly.graph_objects as go\n",
    "nom_url = 'https://fred.stlouisfed.org/graph/fredgraph.csv?id=GDP'\n",
    "real_url = 'https://fred.stlouisfed.org/graph/fredgraph.csv?id=GDPC1'\n",
    "nom = pd.read_csv(nom_url)\n",
    "real = pd.read_csv(real_url)\n",
    "nom['DATE'] = pd.to_datetime(nom['DATE'])\n",
    "real['DATE'] = pd.to_datetime(real['DATE'])\n",
    "fig = go.Figure()\n",
    "fig.add_trace(go.Scatter(x=nom['DATE'], y=nom['GDP'], name='Nominal GDP ($ Billions)', yaxis='y1'))\n",
    "fig.add_trace(go.Scatter(x=real['DATE'], y=real['GDPC1'], name='Real GDP (2012$ Billions)', yaxis='y2'))\n",
    "fig.update_layout(title='U.S. Nominal vs. Real GDP', xaxis_title='Year', yaxis=dict(title='Nominal GDP', side='left'), yaxis2=dict(title='Real GDP', overlaying='y', side='right'))\n",
    "fig.show()\n",
    "```\n",
    "\n",
    "- What do you notice about the gap between nominal and real GDP over time?\n",
    "- How do recessions and inflationary periods show up in the data?\n",
    "\n",
    "---\n",
    "# 📚 Further Reading & Resources\n",
    "- [Mankiw, N. G. (2021). *Macroeconomics* (11th Edition), Chapter 2: Measuring the Economy.](https://www.macmillanlearning.com/college/us/product/Macroeconomics/p/1319243584)\n",
    "- [FRED: Nominal GDP (GDP)](https://fred.stlouisfed.org/series/GDP)\n",
    "- [FRED: Real GDP (GDPC1)](https://fred.stlouisfed.org/series/GDPC1)\n",
    "- [Marginal Revolution University: GDP and Price Indices](https://mru.org/courses/principles-economics-macroeconomics/gdp-and-price-indices)\n",
    "\n",
    "---\n",
    "# 🎨 Tips for Visual Exploration\n",
    "- Use the interactive plot to try different growth and inflation rates.\n",
    "- Discuss with classmates: Why is real GDP a better measure of living standards than nominal GDP?\n",
    "- How might the model change if velocity or output growth is not constant?\n",
    "\n",
    "---\n",
    "# 🚀 Next Steps\n",
    "- Continue to the next notebook to explore inflation, money, and the Quantity Theory in more depth!"
   ]
  }
 ],
 "metadata": {
  "kernelspec": {
   "display_name": "Python (solow-env)",
   "language": "python",
   "name": "solow-env"
  },
  "language_info": {
   "codemirror_mode": {
    "name": "ipython",
    "version": 3
   },
   "file_extension": ".py",
   "mimetype": "text/x-python",
   "name": "python",
   "nbconvert_exporter": "python",
   "pygments_lexer": "ipython3",
   "version": "3.13.3"
  },
  "tags": [
   "thebe-init"
  ]
 },
 "nbformat": 4,
 "nbformat_minor": 5
}
