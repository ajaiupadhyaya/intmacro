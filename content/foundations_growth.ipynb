{
 "cells": [
  {
   "cell_type": "code",
   "execution_count": 1,
   "id": "f1f7bb1d",
   "metadata": {
    "tags": [
     "thebe-init",
     "hide-input"
    ]
   },
   "outputs": [
    {
     "data": {
      "application/vnd.jupyter.widget-view+json": {
       "model_id": "c6ddd757b7b445bd9ef9610ffae9f1f0",
       "version_major": 2,
       "version_minor": 0
      },
      "text/plain": [
       "interactive(children=(IntSlider(value=0, description='x', max=10), Output()), _dom_classes=('widget-interact',…"
      ]
     },
     "metadata": {},
     "output_type": "display_data"
    }
   ],
   "source": [
    "from ipywidgets import interact, widgets\n",
    "interact(lambda x: x**2, x=widgets.IntSlider(min=0, max=10));"
   ]
  },
  {
   "cell_type": "markdown",
   "id": "e58b279c",
   "metadata": {},
   "source": [
    "# 📘 Foundations of Growth: Levels vs. Growth Rates\n",
    "\n",
    "A crucial distinction in economic growth analysis is between the **level** of an economic variable (like GDP per capita) and its **growth rate**.\n",
    "\n",
    "* **Level:** Represents the value of the variable at a specific point in time (e.g., how rich a country is *now*).\n",
    "* **Growth Rate:** Represents how quickly the variable is changing over time (e.g., how fast a country's income is *increasing*).\n",
    "\n",
    "It's possible for something to have a high level but a low (or zero) growth rate, and vice versa. Understanding this difference is key to interpreting economic data and the predictions of growth models.\n",
    "\n",
    "This notebook uses a simple analogy of child vs. adult height to illustrate this concept."
   ]
  },
  {
   "cell_type": "markdown",
   "id": "f2b21588",
   "metadata": {},
   "source": [
    "# 🌱 Analogy: Child vs. Adult Height\n",
    "\n",
    "Imagine tracking the height of a child and an adult over time:\n",
    "\n",
    "* **Child:** Starts at a *low level* (short) but has a *high growth rate* (grows quickly each year).\n",
    "* **Adult:** Is at a *high level* (tall) but has a *zero growth rate* (stops growing).\n",
    "\n",
    "The simulation below plots these two paths. Notice how the child's height increases rapidly due to the positive growth rate, while the adult's height remains constant despite being at a higher initial level.\n",
    "\n",
    "This illustrates that a high current level doesn't necessarily imply high future growth, and a low current level doesn't preclude rapid growth. In economics, poor countries *can* grow much faster than rich countries if conditions are right (this relates back to the convergence hypothesis)."
   ]
  },
  {
   "cell_type": "code",
   "execution_count": 2,
   "id": "0732288a",
   "metadata": {
    "tags": [
     "hide-input"
    ]
   },
   "outputs": [
    {
     "data": {
      "application/vnd.jupyter.widget-view+json": {
       "model_id": "eb2d13c248ed436fb0a0291f38d6fbce",
       "version_major": 2,
       "version_minor": 0
      },
      "text/plain": [
       "interactive(children=(FloatSlider(value=2.0, description='Start Level (A):', max=10.0, min=1.0, readout_format…"
      ]
     },
     "metadata": {},
     "output_type": "display_data"
    }
   ],
   "source": [
    "# Import necessary libraries\n",
    "import numpy as np\n",
    "import matplotlib.pyplot as plt\n",
    "from ipywidgets import interact, FloatSlider, IntSlider # Use IntSlider for T\n",
    "from IPython.display import display, Markdown\n",
    "import warnings\n",
    "\n",
    "# Optional: Use a specific style\n",
    "try:\n",
    "    plt.style.use('seaborn-v0_8-whitegrid')\n",
    "except IOError:\n",
    "    pass # Use default if style not found\n",
    "\n",
    "def plot_level_vs_growth(initial_level_A=2.0, growth_rate_A=0.2,\n",
    "                         initial_level_B=6.0, growth_rate_B=0.0,\n",
    "                         T=10):\n",
    "    \"\"\"\n",
    "    Plots two time series with different initial levels and growth rates\n",
    "    to illustrate the distinction between level and growth rate.\n",
    "\n",
    "    Args:\n",
    "        initial_level_A (float): Starting level for series A.\n",
    "        growth_rate_A (float): Constant annual growth rate for series A (e.g., 0.2 for 20%).\n",
    "        initial_level_B (float): Starting level for series B.\n",
    "        growth_rate_B (float): Constant annual growth rate for series B.\n",
    "        T (int): Time Horizon in years.\n",
    "    \"\"\"\n",
    "    # Ensure T is an integer\n",
    "    T = int(T)\n",
    "    if T < 1: T = 1\n",
    "\n",
    "    # Time array\n",
    "    years = np.arange(T + 1) # Include year 0 up to year T\n",
    "\n",
    "    # Calculate paths\n",
    "    path_A = initial_level_A * (1 + growth_rate_A)**years\n",
    "    path_B = initial_level_B * (1 + growth_rate_B)**years\n",
    "\n",
    "    # --- Plotting ---\n",
    "    fig, ax = plt.subplots(figsize=(9, 5))\n",
    "\n",
    "    ax.plot(years, path_A, label=f'Series A (Start={initial_level_A:.1f}, g={growth_rate_A:.1%})', linewidth=2.5, marker='o', markersize=5, color='deepskyblue')\n",
    "    ax.plot(years, path_B, label=f'Series B (Start={initial_level_B:.1f}, g={growth_rate_B:.1%})', linewidth=2.5, marker='s', markersize=5, color='salmon', linestyle='--')\n",
    "\n",
    "    # Add annotations for final values\n",
    "    ax.text(years[-1], path_A[-1], f' {path_A[-1]:.1f}', color='blue', va='center', ha='left', fontsize=9)\n",
    "    ax.text(years[-1], path_B[-1], f' {path_B[-1]:.1f}', color='red', va='center', ha='left', fontsize=9)\n",
    "\n",
    "    ax.set_title(\"Level vs. Growth Rate Demonstration\")\n",
    "    ax.set_xlabel(\"Time (Years)\")\n",
    "    ax.set_ylabel(\"Level of Variable\")\n",
    "    ax.legend()\n",
    "    ax.grid(True, linestyle='--', alpha=0.6)\n",
    "    ax.set_xlim(left=-0.5, right=T+0.5) # Adjust x-axis limits\n",
    "    ax.set_ylim(bottom=0) # Start y-axis at 0\n",
    "\n",
    "    plt.tight_layout()\n",
    "    plt.show()\n",
    "\n",
    "    # --- Display Summary ---\n",
    "    results_md = f\"\"\"\n",
    "    ### 📊 Summary after {T} years:\n",
    "\n",
    "    * **Series A:** Started at {initial_level_A:.1f}, grew at {growth_rate_A:.1%}/year, ended at **{path_A[-1]:.1f}**.\n",
    "    * **Series B:** Started at {initial_level_B:.1f}, grew at {growth_rate_B:.1%}/year, ended at **{path_B[-1]:.1f}**.\n",
    "\n",
    "    *Key takeaway: Initial level and growth rate are distinct concepts.*\n",
    "    \"\"\"\n",
    "    display(Markdown(results_md))\n",
    "\n",
    "\n",
    "# --- Create Interactive Widgets ---\n",
    "style = {'description_width': 'initial'} # Allow longer descriptions\n",
    "interact(plot_level_vs_growth,\n",
    "         initial_level_A=FloatSlider(value=2.0, min=1.0, max=10.0, step=0.5, description=\"Start Level (A):\", style=style, readout_format='.1f'),\n",
    "         growth_rate_A=FloatSlider(value=0.2, min=-0.1, max=0.5, step=0.01, description=\"Growth Rate (A):\", style=style, readout_format='.1%'),\n",
    "         initial_level_B=FloatSlider(value=6.0, min=1.0, max=10.0, step=0.5, description=\"Start Level (B):\", style=style, readout_format='.1f'),\n",
    "         growth_rate_B=FloatSlider(value=0.0, min=-0.1, max=0.5, step=0.01, description=\"Growth Rate (B):\", style=style, readout_format='.1%'),\n",
    "         T=IntSlider(value=10, min=1, max=30, step=1, description='Years (T):', style=style)\n",
    "        );\n"
   ]
  },
  {
   "cell_type": "markdown",
   "id": "8a41de06",
   "metadata": {},
   "source": [
    "# 📘 Introduction to Growth Theory\n",
    "\n",
    "Growth theory tries to explain two central things:\n",
    "1. **Why are some countries richer than others?** (GDP per capita levels)\n",
    "2. **Why do some countries grow faster than others?** (GDP per capita growth rates)\n",
    "\n",
    "# We distinguish:\n",
    "- **Level** of GDP per capita: how rich a country is now\n",
    "- **Growth rate** of GDP per capita: how fast it’s getting richer\n",
    "\n",
    "# 💡 These two are **not the same** — and often **negatively correlated**:\n",
    "- Poor countries can grow faster (convergence)\n",
    "- Rich countries often have slow, steady growth\n",
    "\n",
    "# 🔍 Example:\n",
    "- The US has ~1.8% annual GDP/capita growth for 150+ years\n",
    "- China grew at 5–10% for decades — but only recently became rich\n",
    "\n",
    "\n",
    "## Next: Preliminaries (Growth Math, Logs, and Rules of Thumb)\n"
   ]
  }
 ],
 "metadata": {
  "kernelspec": {
   "display_name": "Python (solow-env)",
   "language": "python",
   "name": "solow-env"
  },
  "language_info": {
   "codemirror_mode": {
    "name": "ipython",
    "version": 3
   },
   "file_extension": ".py",
   "mimetype": "text/x-python",
   "name": "python",
   "nbconvert_exporter": "python",
   "pygments_lexer": "ipython3",
   "version": "3.13.3"
  },
  "tags": [
   "thebe-init"
  ]
 },
 "nbformat": 4,
 "nbformat_minor": 5
}
